{
 "cells": [
  {
   "cell_type": "markdown",
   "id": "205c7539-715e-4dc7-bece-c17892633ee6",
   "metadata": {},
   "source": [
    "# 数值积分\n",
    "---\n",
    "\n",
    "相对微分而言，积分的难度要大得多。虽然有很多可以用解析方法来计算和的积分，大部分情况下，我们需要使用数值的方法。\n",
    "\n",
    "连续函数以及有限积分域的积分在单一维度上可以有效计算，但是对于带奇点或无限积分域的可积函数，即使是一维数值积分也很困难。二维积分和多重积分可以通过重复一维积分来进行计算，但是计算量会随着维度上升急剧增长。高维积分需要使用蒙特卡罗采样算法等技术。\n",
    "\n",
    "除了进行数值计算外，积分还有很多其他同途：\n",
    "1. [积分方程](https://zh.m.wikipedia.org/zh/积分方程)（含有未知函数的积分进行运算的方程）经常在科学和工程中使用。积分方程一般很难求解，通常可以将它们离散化，然后转换为线性方程组。\n",
    "2. [积分变换](https://zh.m.wikipedia.org/zh/积分变换)，可用于不同域之间的函数和方程变换，例如傅里叶变换。"
   ]
  },
  {
   "cell_type": "markdown",
   "id": "32066ab2-0fcd-4c6e-a4d9-3713f3316057",
   "metadata": {},
   "source": [
    "## 导入模块\n",
    "---\n",
    "\n",
    "本部分我们将主要使用SciPy的integrate模块进行数值积分。针对高精度浮点运算的需要，我们也会搭配使用SymPy和[mpmath](https://mpmath.org/)进行任意精度积分。"
   ]
  },
  {
   "cell_type": "code",
   "execution_count": 44,
   "id": "3f508d4b-ce00-4d1c-b4d3-736f4305b402",
   "metadata": {},
   "outputs": [],
   "source": [
    "import matplotlib.pyplot as plt\n",
    "import matplotlib as mpl\n",
    "\n",
    "import numpy as np\n",
    "from scipy import integrate\n",
    "import sympy\n",
    "import mpmath"
   ]
  },
  {
   "cell_type": "markdown",
   "id": "5f473e2c-b5e7-4902-ad8e-c365fd4ddadb",
   "metadata": {},
   "source": [
    "## 数值积分\n",
    "---\n",
    "\n",
    "我们将计算形式为$I(f) = \\int_a^b f(x) dx$的定积分，积分的上下限分别为a和b，区间可以是有限的、半无穷的和无穷的。\n",
    "\n",
    "积分$I(f)$可以理解为积分函数$f(x)$的曲线和x轴之间的面积。"
   ]
  },
  {
   "cell_type": "code",
   "execution_count": 45,
   "id": "df65becc-4295-4f59-9574-b7c4c5262df7",
   "metadata": {},
   "outputs": [
    {
     "data": {
      "text/plain": [
       "<matplotlib.collections.PolyCollection at 0x7f0b3468be20>"
      ]
     },
     "execution_count": 45,
     "metadata": {},
     "output_type": "execute_result"
    },
    {
     "data": {
      "image/png": "[encoded data removed]",
      "text/plain": [
       "<Figure size 432x288 with 1 Axes>"
      ]
     },
     "metadata": {
      "needs_background": "light"
     },
     "output_type": "display_data"
    }
   ],
   "source": [
    "x = np.linspace(0, 5, 100)\n",
    "plt.plot(x, np.sin(x))\n",
    "plt.fill_between(x[np.sin(x) > 0], 0, np.sin(x[np.sin(x) > 0]), alpha = 0.6)\n",
    "plt.fill_between(x[np.sin(x) < 0], 0, np.sin(x[np.sin(x) < 0]), alpha = 0.6)"
   ]
  },
  {
   "cell_type": "markdown",
   "id": "03bb5b5b-7430-471c-8198-6906631698ce",
   "metadata": {},
   "source": [
    "一种计算上述形式积分$I(f)$的策略是，将积分写成积分函数值的离散和：\n",
    "\n",
    "$$I(f) = \\sum_{i=1}^{n} w_i f(x_i)+r_n$$\n",
    "\n",
    "其中$w_i$是函数$f(x)$在点$x_i$处的权重，$r_n$是近似误差。\n",
    "\n",
    "$I(f)$这个求和公式被称为n点求积法则，其中n的选择、点的位置、权重因子都会对计算的准确性和复杂性产生影响。"
   ]
  },
  {
   "cell_type": "markdown",
   "id": "2faabe42-1a86-4648-b416-d49e4c990579",
   "metadata": {},
   "source": [
    "### 积分法则\n",
    "\n",
    "积分法则可以通过在区间[a, b]上对函数$f(x)$进行插值推导而来。如果$x_i$在区间[a, b]上是均匀间隔的，那么可以使用多项式插值，得到的公式被称为[牛顿-科特斯求积公式](https://zh.m.wikipedia.org/zh-hans/牛頓－寇次公式)。\n",
    "\n",
    "使用中间点的零阶多项式逼近$f(x)$，可以得到：\n",
    "$$\\int_a^b f(x) dx \\approx f(\\frac{a+b}{2}) \\int_a^b dx = (b-a)\\frac{a+b}{2}$$\n",
    "这被称为中点公式。\n",
    "\n",
    "使用一阶多项式（线性）逼近$f(x)$，可以得到：\n",
    "$$\\int_a^b f(x) dx \\approx  \\frac{b-a}{2}(f(a)+f(b))$$\n",
    "这被称为梯形公式公式。"
   ]
  },
  {
   "cell_type": "markdown",
   "id": "19d7fb3c-f32c-4d0f-b483-5376f2397f81",
   "metadata": {},
   "source": [
    "### 辛普森求积公式 Simpson's rule\n",
    "\n",
    "使用二阶插值多项式，将会得到辛普森公式：\n",
    "$$\\int_a^b f(x) dx \\approx  \\frac{b-a}{6}(f(a)+4f(\\frac{a+b}{2})+f(b))$$\n"
   ]
  },
  {
   "cell_type": "markdown",
   "id": "e02f08f3-495a-4650-9c36-e8dea924bd74",
   "metadata": {},
   "source": [
    "我们这里使用SymPy符号化推导该公式。"
   ]
  },
  {
   "cell_type": "code",
   "execution_count": 46,
   "id": "c6f888f7-978a-4781-b07c-af03448e2358",
   "metadata": {},
   "outputs": [],
   "source": [
    "a, b, X = sympy.symbols(\"a, b, x\")\n",
    "f = sympy.Function(\"f\")"
   ]
  },
  {
   "cell_type": "code",
   "execution_count": 47,
   "id": "2d41eff0-5f8b-4bab-80e3-8ce033d1119b",
   "metadata": {},
   "outputs": [],
   "source": [
    "x = a, (a+b)/2, b # simpson's rule\n",
    "w = [sympy.symbols(\"w_%d\" % i) for i in range(len(x))] "
   ]
  },
  {
   "cell_type": "code",
   "execution_count": 48,
   "id": "1a05e6de-3aa2-4574-80ca-90c1774b0ddd",
   "metadata": {},
   "outputs": [
    {
     "data": {
      "text/latex": [
       "$\\displaystyle w_{0} f{\\left(a \\right)} + w_{1} f{\\left(\\frac{a}{2} + \\frac{b}{2} \\right)} + w_{2} f{\\left(b \\right)}$"
      ],
      "text/plain": [
       "w_0*f(a) + w_1*f(a/2 + b/2) + w_2*f(b)"
      ]
     },
     "execution_count": 48,
     "metadata": {},
     "output_type": "execute_result"
    }
   ],
   "source": [
    "q_rule = sum([w[i] * f(x[i]) for i in range(len(x))])\n",
    "q_rule"
   ]
  },
  {
   "cell_type": "markdown",
   "id": "a08ad57c-5dea-4b23-aebe-dfdd1ddac7d8",
   "metadata": {},
   "source": [
    "为了得到适合权重因子$w_i$的值，我们使用多项式基函数$\\left\\{ \\phi_n(x)=x^n \\right\\}_{n=0}^2$对$f(x)$进行插值。"
   ]
  },
  {
   "cell_type": "code",
   "execution_count": 49,
   "id": "b344c7de-06af-40f4-9ba0-284c37cbfed0",
   "metadata": {},
   "outputs": [
    {
     "data": {
      "text/plain": [
       "[Lambda(x, 1), Lambda(_x, _x), Lambda(x, x**2)]"
      ]
     },
     "execution_count": 49,
     "metadata": {},
     "output_type": "execute_result"
    }
   ],
   "source": [
    "phi = [sympy.Lambda(X, X**n) for n in range(len(x))]\n",
    "phi"
   ]
  },
  {
   "cell_type": "markdown",
   "id": "e440cd4d-07a7-4933-a475-9e5aea75dc8e",
   "metadata": {},
   "source": [
    "将求和公式中的$f(x)$替换为基函数$\\phi_n(x)$，对权重因子进行解析求解：\n",
    "\n",
    "$$ \\sum_{i=1}^{2} w_i \\phi_n(x_i) = \\int_a^b \\phi_n(x) dx$$"
   ]
  },
  {
   "cell_type": "code",
   "execution_count": 50,
   "id": "c89dc52c-cd8f-4fdf-accc-444f0393fff4",
   "metadata": {},
   "outputs": [
    {
     "data": {
      "text/plain": [
       "[a - b + w_0 + w_1 + w_2,\n",
       " a**2/2 + a*w_0 - b**2/2 + b*w_2 + w_1*(a/2 + b/2),\n",
       " a**3/3 + a**2*w_0 - b**3/3 + b**2*w_2 + w_1*(a/2 + b/2)**2]"
      ]
     },
     "execution_count": 50,
     "metadata": {},
     "output_type": "execute_result"
    }
   ],
   "source": [
    "eqs = [q_rule.subs(f, phi[n]) - sympy.integrate(phi[n](X), (X, a, b)) for n in range(len(phi))]\n",
    "eqs"
   ]
  },
  {
   "cell_type": "markdown",
   "id": "1e08654d-03b9-41d4-84d0-5101205ee67a",
   "metadata": {},
   "source": [
    "通过求解该线性方程组可以得到权重因子的解析表达式。"
   ]
  },
  {
   "cell_type": "code",
   "execution_count": 51,
   "id": "25a7c428-30fa-473c-ba6a-58ab70a358c6",
   "metadata": {},
   "outputs": [
    {
     "data": {
      "text/plain": [
       "{w_0: -a/6 + b/6, w_1: -2*a/3 + 2*b/3, w_2: -a/6 + b/6}"
      ]
     },
     "execution_count": 51,
     "metadata": {},
     "output_type": "execute_result"
    }
   ],
   "source": [
    "w_sol = sympy.solve(eqs, w)\n",
    "w_sol"
   ]
  },
  {
   "cell_type": "markdown",
   "id": "56b3679a-3995-414d-8de5-3fff21e80236",
   "metadata": {},
   "source": [
    "得到辛普森求积公式的解析表达式。"
   ]
  },
  {
   "cell_type": "code",
   "execution_count": 9,
   "id": "e6d0d050-40f4-4d32-971a-e2ea0ce7c5a8",
   "metadata": {},
   "outputs": [
    {
     "data": {
      "text/latex": [
       "$\\displaystyle - \\frac{\\left(a - b\\right) \\left(f{\\left(a \\right)} + f{\\left(b \\right)} + 4 f{\\left(\\frac{a}{2} + \\frac{b}{2} \\right)}\\right)}{6}$"
      ],
      "text/plain": [
       "-(a - b)*(f(a) + f(b) + 4*f(a/2 + b/2))/6"
      ]
     },
     "execution_count": 9,
     "metadata": {},
     "output_type": "execute_result"
    }
   ],
   "source": [
    "q_rule.subs(w_sol).simplify()"
   ]
  },
  {
   "cell_type": "markdown",
   "id": "970d2fdb-1043-4677-923a-bd3e1007f969",
   "metadata": {},
   "source": [
    "### 高斯求积公式 Gaussian quadrature\n",
    "\n",
    "牛顿-科特斯求积公式的采样点在积分区间上是均匀分布的，对于非均匀分布采样，可以使用[高斯求积公式](https://zh.m.wikipedia.org/zh-hans/高斯求积)。\n",
    "\n",
    "我们可以把函数$f(x)$写作$ f(x) = W(x)g(x)$，其中$g(x)$是近似多项式， $W(x)$是已知的权重函数，这样我们就有\n",
    "\n",
    "$$ \\int _{-1}^{1}f(x)dx=\\int _{-1}^{1}W(x)g(x)dx\\approx \\sum _{i=1}^{n}w_{i}'g(x_{i})$$\n",
    "\n",
    "常见的权重函数有$W(x)=(1-x^{2})^{-1/2}$（高斯切比雪夫）、$W(x)=e^{{-x^{2}}}$（高斯埃米特）等。\n",
    "\n",
    "权重函数$W(x)=1$时，关联多项式为勒让得多项式$P_{n}(x)$，这种方法通常称为高斯勒让德求积。"
   ]
  },
  {
   "cell_type": "markdown",
   "id": "b7325b6b-55a4-4299-8841-7bf3a74dc43c",
   "metadata": {},
   "source": [
    "## 使用SciPy进行数值积分\n",
    "---\n",
    "\n",
    "SciPy的integrate模块中的数值求积函数可以分为两类：一类将被积函数作为Python函数传入，另一类将被积函数在给定点的样本值以数组的形式传入。第一类函数使用高斯求积法（[quad](https://docs.scipy.org/doc/scipy/reference/generated/scipy.integrate.quad.html)、[quadrature](https://docs.scipy.org/doc/scipy/reference/generated/scipy.integrate.quadrature.html)、[fixed_quad](https://docs.scipy.org/doc/scipy/reference/generated/scipy.integrate.fixed_quad.html)），第二类函数使用牛顿-科斯特求积法（[trapezoid](https://docs.scipy.org/doc/scipy/reference/generated/scipy.integrate.trapezoid.html)、[simpson](https://docs.scipy.org/doc/scipy/reference/generated/scipy.integrate.simpson.html)、[romb](https://docs.scipy.org/doc/scipy/reference/generated/scipy.integrate.romb.html)）。"
   ]
  },
  {
   "cell_type": "markdown",
   "id": "31e61c7f-1d42-4c65-be15-bc4a14def514",
   "metadata": {},
   "source": [
    "### 高斯积分\n",
    "\n",
    "`quadrature`函数是一个使用Python实现的自适应高斯求积程序。`quadrature`函数会重复调用`fixed_quad`函数，并不断增加多项式的次数，直到满足所需的精度。`quad`函数是对Fortran库QUADPACK的封装，有更好的性能。一般情况下优先使用`quad`函数。"
   ]
  },
  {
   "cell_type": "markdown",
   "id": "c6f5a682-054f-4a7e-9b06-2c459850b25c",
   "metadata": {},
   "source": [
    "考虑定积分$\\int _{-1}^{1}e^{-x^2}dx$"
   ]
  },
  {
   "cell_type": "code",
   "execution_count": 10,
   "id": "07a16299-650d-436d-ba46-a5b36485045f",
   "metadata": {},
   "outputs": [
    {
     "data": {
      "text/plain": [
       "(1.493648265624854, 1.6582826951881447e-14)"
      ]
     },
     "execution_count": 10,
     "metadata": {},
     "output_type": "execute_result"
    }
   ],
   "source": [
    "def f(x):\n",
    "    return np.exp(-x**2)\n",
    "\n",
    "val, err = integrate.quad(f, -1, 1)\n",
    "val, err"
   ]
  },
  {
   "cell_type": "markdown",
   "id": "5b35e1e2-ab22-41cd-8e5e-2f6f5e3b54d8",
   "metadata": {},
   "source": [
    "`quad`函数返回一个元组，包含积分的数值结果和绝对误差估计。可以使用参数epsabs和epsrel来设置绝对误差和相对误差的容忍度。\n",
    "\n",
    "`quad`函数的关键词参数args可以将函数的参数值传递给被积函数。"
   ]
  },
  {
   "cell_type": "markdown",
   "id": "7e0120e7-ebb6-41db-9001-50f0fa575b76",
   "metadata": {},
   "source": [
    "考虑含参数定积分$\\int _{-1}^{1}ae^{-(x-b)^2/c^2}dx$"
   ]
  },
  {
   "cell_type": "code",
   "execution_count": 11,
   "id": "fa64c59e-1771-45cf-b308-438db5594012",
   "metadata": {},
   "outputs": [
    {
     "data": {
      "text/plain": [
       "(1.2763068351022229, 1.4169852348169507e-14)"
      ]
     },
     "execution_count": 11,
     "metadata": {},
     "output_type": "execute_result"
    }
   ],
   "source": [
    "def f(x, a, b, c):\n",
    "    return a * np.exp(-((x-b)/c)**2)\n",
    "\n",
    "val, err = integrate.quad(f, -1, 1, args=(1, 2, 3))\n",
    "val, err"
   ]
  },
  {
   "cell_type": "markdown",
   "id": "0e481116-5a1a-476d-aecc-f789c82098bb",
   "metadata": {},
   "source": [
    "当被积分函数的变量不是第一个参数是，可以使用lambda函数来调整参数的顺序。\n",
    "\n",
    "例如我们使用`scipy.special`模块的jv函数计算0阶贝塞尔函数的积分，jv函数的第一个参数是贝塞尔函数的阶数，第二个参数是变量x。"
   ]
  },
  {
   "cell_type": "code",
   "execution_count": 12,
   "id": "f486bdb9-ff7a-46da-bb6e-2fe80a66ce3a",
   "metadata": {},
   "outputs": [
    {
     "data": {
      "text/plain": [
       "(0.7153119177847678, 2.47260738289741e-14)"
      ]
     },
     "execution_count": 12,
     "metadata": {},
     "output_type": "execute_result"
    }
   ],
   "source": [
    "from scipy.special import jv\n",
    "\n",
    "val, err = integrate.quad(lambda x: jv(0, x), 0, 5)\n",
    "val, err"
   ]
  },
  {
   "cell_type": "markdown",
   "id": "4f5267e2-c0c0-4407-94d9-8fddc72c05c7",
   "metadata": {},
   "source": [
    "#### 无穷积分\n",
    "\n",
    "`quad`函数支持无穷积分。浮点数中的无穷表达式可以使用`np.inf`获得。\n",
    "\n",
    "考虑使用`quad`函数计算$\\int _{-\\infty}^{\\infty}e^{-x^2}dx$"
   ]
  },
  {
   "cell_type": "code",
   "execution_count": 13,
   "id": "1c6da15f-9d44-46f7-a392-9f0d7b4b244f",
   "metadata": {},
   "outputs": [
    {
     "data": {
      "text/plain": [
       "(1.7724538509055159, 1.4202636780944923e-08)"
      ]
     },
     "execution_count": 13,
     "metadata": {},
     "output_type": "execute_result"
    }
   ],
   "source": [
    "f = lambda x: np.exp(-x**2)\n",
    "val, err = integrate.quad(f, -np.inf, np.inf)\n",
    "val, err"
   ]
  },
  {
   "cell_type": "markdown",
   "id": "cd73b7a5-fe15-4e18-bedb-452793ae8a01",
   "metadata": {},
   "source": [
    "#### 发散函数积分\n",
    "\n",
    "通过一些额外信息，`quad`函数也可以处理带可积奇点的函数。\n",
    "\n",
    "考虑积分$\\int _{-1}^{1} \\frac{1}{\\sqrt{|x|}}dx$，被积函数在$x=0$处是发散的。"
   ]
  },
  {
   "cell_type": "code",
   "execution_count": 14,
   "id": "d9fa1ea0-3918-4eb3-af48-3dc09d8b895f",
   "metadata": {},
   "outputs": [
    {
     "data": {
      "text/plain": [
       "(0.0, 25.0)"
      ]
     },
     "execution_count": 14,
     "metadata": {},
     "output_type": "execute_result"
    },
    {
     "data": {
      "image/png": "[encoded data removed]",
      "text/plain": [
       "<Figure size 576x216 with 1 Axes>"
      ]
     },
     "metadata": {
      "needs_background": "light"
     },
     "output_type": "display_data"
    }
   ],
   "source": [
    "f = lambda x: 1/np.sqrt(abs(x))\n",
    "\n",
    "fig, ax = plt.subplots(figsize=(8, 3))\n",
    "\n",
    "a, b = -1, 1\n",
    "x = np.linspace(a, b, 10000)\n",
    "ax.plot(x, f(x), lw=2)\n",
    "ax.fill_between(x, f(x), color='green', alpha=0.5)\n",
    "ax.set_xlabel(\"$x$\", fontsize=18)\n",
    "ax.set_ylabel(\"$f(x)$\", fontsize=18)\n",
    "ax.set_ylim(0, 25)"
   ]
  },
  {
   "cell_type": "code",
   "execution_count": 15,
   "id": "e8f0c6e8-e2a9-4ca5-be9b-cfc4d5ff54cd",
   "metadata": {},
   "outputs": [
    {
     "name": "stderr",
     "output_type": "stream",
     "text": [
      "/tmp/ipykernel_110080/3901929116.py:1: RuntimeWarning: divide by zero encountered in double_scalars\n",
      "  f = lambda x: 1/np.sqrt(abs(x))\n"
     ]
    },
    {
     "data": {
      "text/plain": [
       "(inf, inf)"
      ]
     },
     "execution_count": 15,
     "metadata": {},
     "output_type": "execute_result"
    }
   ],
   "source": [
    "integrate.quad(f, a, b) # 直接使用quad函数求积分，可能会失败"
   ]
  },
  {
   "cell_type": "code",
   "execution_count": 16,
   "id": "afea3b46-b533-4463-aab5-c9043af40146",
   "metadata": {},
   "outputs": [
    {
     "data": {
      "text/plain": [
       "(3.9999999999999813, 5.684341886080802e-14)"
      ]
     },
     "execution_count": 16,
     "metadata": {},
     "output_type": "execute_result"
    }
   ],
   "source": [
    "integrate.quad(f, a, b, points=[0])"
   ]
  },
  {
   "cell_type": "markdown",
   "id": "27cfaeb4-1d53-4696-aeed-0ffd7537ad97",
   "metadata": {},
   "source": [
    "`quad`函数的points参数可以设置需要绕过的点，从而正确地计算积分。"
   ]
  },
  {
   "cell_type": "markdown",
   "id": "b2c7aa0c-01c6-4e01-863c-d9e1689ea54a",
   "metadata": {},
   "source": [
    "### 列表积分\n",
    "\n",
    "`quad`函数只适合于被积函数可以被Python函数表示的积分。如果被积函数来自实验或者观察数据，其可能只可以在某些预先确定的点求值。这种情况下，可以使用牛顿-科特斯求积法，如之前介绍的中间点公式、梯形公式或辛普森公式。\n",
    "\n",
    "在SciPy的integrate模块中，`trapezoid`和`simpson`函数分别实现了复化梯形公式和辛普森公式。这些函数的第一个参数是数组y，第二个参数是采样点数组x或者采样点间隔dx。"
   ]
  },
  {
   "cell_type": "markdown",
   "id": "647f376f-fcdc-4dae-82ce-9282f5b6e27e",
   "metadata": {},
   "source": [
    "考虑积分$\\int _{0}^{2} \\sqrt{x} dx$，积分区间为[0, 2]，采样点数目25。"
   ]
  },
  {
   "cell_type": "code",
   "execution_count": 17,
   "id": "34a206c6-8765-437d-942e-5ce35377e140",
   "metadata": {},
   "outputs": [
    {
     "data": {
      "text/plain": [
       "Text(0, 0.5, '$f(x)$')"
      ]
     },
     "execution_count": 17,
     "metadata": {},
     "output_type": "execute_result"
    },
    {
     "data": {
      "image/png": "[encoded data removed]",
      "text/plain": [
       "<Figure size 576x216 with 1 Axes>"
      ]
     },
     "metadata": {
      "needs_background": "light"
     },
     "output_type": "display_data"
    }
   ],
   "source": [
    "f = lambda x: np.sqrt(x)\n",
    "a, b = 0, 2\n",
    "x = np.linspace(a, b, 25)\n",
    "y = f(x)\n",
    "\n",
    "fig, ax = plt.subplots(figsize=(8, 3))\n",
    "ax.plot(x, y, 'bo')\n",
    "xx = np.linspace(a, b, 500)\n",
    "ax.plot(xx, f(xx), 'b-')\n",
    "ax.fill_between(xx, f(xx), color='green', alpha=0.5)\n",
    "ax.set_xlabel(r\"$x$\", fontsize=18)\n",
    "ax.set_ylabel(r\"$f(x)$\", fontsize=18)"
   ]
  },
  {
   "cell_type": "markdown",
   "id": "14e515f4-2438-44c9-b7de-7c35ea751b3f",
   "metadata": {},
   "source": [
    "通过解析积分可以得到积分的精确值。"
   ]
  },
  {
   "cell_type": "code",
   "execution_count": 18,
   "id": "1647f052-bf76-45c8-964a-ede127cc7111",
   "metadata": {},
   "outputs": [
    {
     "data": {
      "text/plain": [
       "1.8856180831641267"
      ]
     },
     "execution_count": 18,
     "metadata": {},
     "output_type": "execute_result"
    }
   ],
   "source": [
    "val_exact = 2.0/3.0 * (b-a)**(3.0/2.0)\n",
    "val_exact"
   ]
  },
  {
   "cell_type": "markdown",
   "id": "a611da7a-c823-4616-b249-596d232d5042",
   "metadata": {},
   "source": [
    "要计算这个积分，将数组y和x传递给`trapezoid`函数或`simpson`函数。"
   ]
  },
  {
   "cell_type": "code",
   "execution_count": 19,
   "id": "8a2b9b96-91f4-44e0-b9d1-d2851f69259d",
   "metadata": {},
   "outputs": [
    {
     "data": {
      "text/plain": [
       "-4.796367113276245e-03"
      ]
     },
     "execution_count": 19,
     "metadata": {},
     "output_type": "execute_result"
    }
   ],
   "source": [
    "val_trapz = integrate.trapz(y, x)\n",
    "val_trapz - val_exact"
   ]
  },
  {
   "cell_type": "code",
   "execution_count": 20,
   "id": "392ea604-3bee-4210-9a78-ba769d430e1a",
   "metadata": {},
   "outputs": [
    {
     "data": {
      "text/plain": [
       "-0.001952980715411723"
      ]
     },
     "execution_count": 20,
     "metadata": {},
     "output_type": "execute_result"
    }
   ],
   "source": [
    "val_simps = integrate.simps(y, x)\n",
    "val_simps - val_exact"
   ]
  },
  {
   "cell_type": "markdown",
   "id": "a52a0b02-48b5-4b92-b23b-423bd98a8b83",
   "metadata": {},
   "source": [
    "`trapezoid`函数和`simpson`函数无法提供对误差的估计。提供准确度的方法是增加样品点的数量或者使用更高阶的方法。"
   ]
  },
  {
   "cell_type": "markdown",
   "id": "65505791-7365-4016-8d3a-46c549dff9c1",
   "metadata": {},
   "source": [
    "integrate模块中的`romb`函数实现了[Romberg方法](https://en.wikipedia.org/wiki/Romberg%27s_method)。这种方法使用均匀间隔的采样点（数目为$2^n+1$），同时使用Richardson外推算法来加速梯形法的收敛。"
   ]
  },
  {
   "cell_type": "code",
   "execution_count": 21,
   "id": "3563b495-007c-4a85-8068-efd252f33e9d",
   "metadata": {},
   "outputs": [
    {
     "data": {
      "text/plain": [
       "-0.00037879842291310695"
      ]
     },
     "execution_count": 21,
     "metadata": {},
     "output_type": "execute_result"
    }
   ],
   "source": [
    "x = np.linspace(a, b, 1 + 2**6)\n",
    "y = f(x)\n",
    "val_romb = integrate.romb(y, dx=(x[1]-x[0]))\n",
    "val_romb - val_exact"
   ]
  },
  {
   "cell_type": "markdown",
   "id": "0ba6afc8-2d8a-4013-a58f-4fd0cdd1845c",
   "metadata": {},
   "source": [
    "一般情况下，推荐使用`simpson`函数。"
   ]
  },
  {
   "cell_type": "markdown",
   "id": "6519d6e9-a595-4953-97c4-b156f38c8554",
   "metadata": {},
   "source": [
    "## 多重积分\n",
    "---\n",
    "\n",
    "多重积分，例如二重积分$\\int _{a}^{b}\\int _{c}^{d}f(x, y)dxdy$和三重积分$\\int _{a}^{b}\\int _{c}^{d}\\int _{e}^{f}f(x, y, z)dxdydz$，可以使用SciPy的integrate模块的`dblquad`和`tplquad`函数。n个变量的积分也可以使用`nquad`函数来计算。这些函数都是对单变量求积函数`quad`的封装，沿着被积函数每个维度重复调用quad函数。"
   ]
  },
  {
   "cell_type": "markdown",
   "id": "160eab1f-5fab-4d06-afee-982ca85198f0",
   "metadata": {},
   "source": [
    "考虑二重积分$\\int _{0}^{1}\\int _{0}^{1}e^{-x^2-y^2}dxdy$"
   ]
  },
  {
   "cell_type": "code",
   "execution_count": 22,
   "id": "c5b37eda-caac-4eb7-8969-0fa70066609b",
   "metadata": {},
   "outputs": [
    {
     "data": {
      "text/plain": [
       "Text(0, 0.5, '$y$')"
      ]
     },
     "execution_count": 22,
     "metadata": {},
     "output_type": "execute_result"
    },
    {
     "data": {
      "image/png": "[encoded data removed]",
      "text/plain": [
       "<Figure size 432x360 with 1 Axes>"
      ]
     },
     "metadata": {
      "needs_background": "light"
     },
     "output_type": "display_data"
    }
   ],
   "source": [
    "def f(x, y):\n",
    "    return np.exp(-x**2-y**2)\n",
    "\n",
    "fig, ax = plt.subplots(figsize=(6, 5))\n",
    "\n",
    "x = y = np.linspace(-1.25, 1.25, 75)\n",
    "X, Y = np.meshgrid(x, y)\n",
    "\n",
    "c = ax.contour(X, Y, f(X, Y), 15, cmap=mpl.cm.RdBu, vmin=-1, vmax=1)\n",
    "\n",
    "bound_rect = plt.Rectangle((0, 0), 1, 1,\n",
    "                           facecolor=\"grey\")\n",
    "ax.add_patch(bound_rect)\n",
    "\n",
    "ax.axis('tight')\n",
    "ax.set_xlabel('$x$', fontsize=18)\n",
    "ax.set_ylabel('$y$', fontsize=18)"
   ]
  },
  {
   "cell_type": "markdown",
   "id": "62304efc-1b44-4fa5-9b4d-43b4e18c6081",
   "metadata": {},
   "source": [
    "本例中，x和y的积分限都是固定的。`dblquad`函数要求y变量的积分限用变量为x的函数表示，因此我们需要定义两个函数$g(x)$和$h(x)$，二者返回常量。"
   ]
  },
  {
   "cell_type": "code",
   "execution_count": 23,
   "id": "81e51cba-0c7a-4962-8072-4d0e6cd8832f",
   "metadata": {},
   "outputs": [
    {
     "data": {
      "text/plain": [
       "(0.5577462853510337, 8.291374381535408e-15)"
      ]
     },
     "execution_count": 23,
     "metadata": {},
     "output_type": "execute_result"
    }
   ],
   "source": [
    "a, b = 0, 1\n",
    "\n",
    "g = lambda x: 0\n",
    "h = lambda x: 1\n",
    "\n",
    "val, err = integrate.dblquad(f, a, b, g, h)  # 参数g和h为函数\n",
    "val, err"
   ]
  },
  {
   "cell_type": "markdown",
   "id": "c21dd5d7-9068-40ac-9f5f-9c827afe2694",
   "metadata": {},
   "source": [
    "对于形如$\\int _{0}^{1}\\int _{0}^{1}\\int _{0}^{1}e^{-x^2-y^2-z^2}dxdydz$的三重积分，可以使用`nquad`函数计算。除了继续使用$g(x)$和$h(x)$表示y轴的积分限之外，我们需要额外提供两个函数$q(x, y)$和$r(x, y)$表示z轴的积分限。注意这里使用了x和y两个坐标。"
   ]
  },
  {
   "cell_type": "code",
   "execution_count": 24,
   "id": "ca3b2450-569a-495c-b97f-339da8b17759",
   "metadata": {},
   "outputs": [
    {
     "data": {
      "text/plain": [
       "(0.4165383858866382, 8.291335287314424e-15)"
      ]
     },
     "execution_count": 24,
     "metadata": {},
     "output_type": "execute_result"
    }
   ],
   "source": [
    "def f(x, y, z):\n",
    "    return np.exp(-x**2-y**2-z**2)\n",
    "\n",
    "val, err = integrate.tplquad(f, 0, 1, lambda x : 0, lambda x : 1, lambda x, y : 0, lambda x, y : 1)\n",
    "val, err"
   ]
  },
  {
   "cell_type": "markdown",
   "id": "7bad3970-39d9-46b2-aedf-d9b0e015e112",
   "metadata": {},
   "source": [
    "对于任意维度数目的积分，可以使用`nquad`函数。它的第二个参数是用于指定积分限的列表，列表里面包含每个积分变量的积分限元组，或者包含能够返回积分限的函数。"
   ]
  },
  {
   "cell_type": "code",
   "execution_count": 25,
   "id": "3d397838-311c-4df4-9e28-385abaa67ae2",
   "metadata": {},
   "outputs": [
    {
     "data": {
      "text/plain": [
       "(0.4165383858866382, 8.291335287314424e-15)"
      ]
     },
     "execution_count": 25,
     "metadata": {},
     "output_type": "execute_result"
    }
   ],
   "source": [
    "integrate.nquad(f, [(0, 1), (0, 1), (0, 1)])  # 元素相同的列表可以使用 [(0, 1)] * 3 生成"
   ]
  },
  {
   "cell_type": "markdown",
   "id": "7e0d631d-6b73-464f-be26-c6035d799849",
   "metadata": {},
   "source": [
    "### 维数灾难\n",
    "\n",
    "在数值积分中，多重积分的计算复杂度和维数成指数关系。"
   ]
  },
  {
   "cell_type": "code",
   "execution_count": 26,
   "id": "b7430dbf-beaa-46e8-b996-74b4020b66be",
   "metadata": {},
   "outputs": [
    {
     "name": "stdout",
     "output_type": "stream",
     "text": [
      "1\n",
      "CPU times: user 363 µs, sys: 0 ns, total: 363 µs\n",
      "Wall time: 370 µs\n",
      "2\n",
      "CPU times: user 3.94 ms, sys: 0 ns, total: 3.94 ms\n",
      "Wall time: 4.02 ms\n",
      "3\n",
      "CPU times: user 75.6 ms, sys: 939 µs, total: 76.5 ms\n",
      "Wall time: 75.9 ms\n",
      "4\n",
      "CPU times: user 1.61 s, sys: 0 ns, total: 1.61 s\n",
      "Wall time: 1.62 s\n"
     ]
    }
   ],
   "source": [
    "def f(*args):\n",
    "    return  np.exp(-np.sum(np.array(args)**2))\n",
    "\n",
    "for dim in range(1, 5):\n",
    "    print(dim)\n",
    "    %time integrate.nquad(f, [(0,1)] * dim)"
   ]
  },
  {
   "cell_type": "markdown",
   "id": "08c12900-e805-40c4-963a-db7f061b3809",
   "metadata": {},
   "source": [
    "随着维数增加，高维积分的直接求积方法变得不切实际。如果对计算精度要求不是非常高，可以使用蒙特卡罗积分。蒙特卡罗积分在维度上的扩展性非常好，对于高维积分是一种有效的工具。"
   ]
  },
  {
   "cell_type": "markdown",
   "id": "52363d6f-6528-4049-996b-f5133575a587",
   "metadata": {},
   "source": [
    "## 符号积分和任意精度积分\n",
    "\n",
    "在符号计算的章节，我们已经演示了使用SymPy的sympy.integrate函数来计算符号函数的有限积分和无限积分。\n",
    "\n",
    "例如，计算积分$\\int_{-1}^{1} 2 \\sqrt{1-x^2} dx$"
   ]
  },
  {
   "cell_type": "code",
   "execution_count": 27,
   "id": "03658248-f065-4d2b-849b-39b345b16145",
   "metadata": {},
   "outputs": [
    {
     "data": {
      "image/png": "[encoded data removed]",
      "text/plain": [
       "<Figure size 432x288 with 1 Axes>"
      ]
     },
     "metadata": {
      "needs_background": "light"
     },
     "output_type": "display_data"
    },
    {
     "data": {
      "text/plain": [
       "<sympy.plotting.plot.Plot at 0x7f0b36b8de20>"
      ]
     },
     "execution_count": 27,
     "metadata": {},
     "output_type": "execute_result"
    }
   ],
   "source": [
    "x = sympy.symbols(\"x\")\n",
    "f = 2 * sympy.sqrt(1-x**2)\n",
    "a, b = -1, 1\n",
    "sympy.plot(f, (x, -2, 2))"
   ]
  },
  {
   "cell_type": "code",
   "execution_count": 28,
   "id": "97b5ecb2-c45f-41f6-9f34-175e4b4be403",
   "metadata": {},
   "outputs": [
    {
     "data": {
      "text/latex": [
       "$\\displaystyle \\pi$"
      ],
      "text/plain": [
       "pi"
      ]
     },
     "execution_count": 28,
     "metadata": {},
     "output_type": "execute_result"
    }
   ],
   "source": [
    "val_sym = sympy.integrate(f, (x, a, b))\n",
    "val_sym"
   ]
  },
  {
   "cell_type": "markdown",
   "id": "70af1ca1-3624-4c56-9645-4d21231e1ac9",
   "metadata": {},
   "source": [
    "存在精确解析解的问题是一种特例。数值方法的精度受算法和浮点精度制约。mpmath库为任意精度计算提供了数值方法。为了按照给定的精度计算积分，可以使用`mpmath.quad`函数。为了设置精度，我们把变量mpmath.mp.dps设置为所需精度的小数位数。"
   ]
  },
  {
   "cell_type": "code",
   "execution_count": 29,
   "id": "edb53eff-703c-459b-9865-95784478e4d9",
   "metadata": {},
   "outputs": [],
   "source": [
    "mpmath.mp.dps = 75  # 75位小数的精度"
   ]
  },
  {
   "cell_type": "markdown",
   "id": "ca7ba7b8-89e9-46ed-9f21-1b0a264d4c4b",
   "metadata": {},
   "source": [
    "被积分的Python函数可以使用mpmath库中的数学函数。可以使用`sympy.lambdify`从一个SymPy表达式中创建这样的函数。"
   ]
  },
  {
   "cell_type": "code",
   "execution_count": 30,
   "id": "8a8f0be2-f842-4566-bc9d-121e810ecfaa",
   "metadata": {},
   "outputs": [
    {
     "data": {
      "text/plain": [
       "mpf('3.14159265358979323846264338327950288419716939937510582097494459230781640628613')"
      ]
     },
     "execution_count": 30,
     "metadata": {},
     "output_type": "execute_result"
    }
   ],
   "source": [
    "f_mpmath = sympy.lambdify(x, f, 'mpmath')\n",
    "val = mpmath.quad(f_mpmath, (a, b))\n",
    "val  # 返回的对象类型是高精度浮点数"
   ]
  },
  {
   "cell_type": "code",
   "execution_count": 31,
   "id": "469e0566-75d0-413b-92ae-741db2e51e00",
   "metadata": {},
   "outputs": [
    {
     "data": {
      "text/latex": [
       "$\\displaystyle 3.14159265358979323846264338327950288419716939937510582097494459230781640629$"
      ],
      "text/plain": [
       "3.14159265358979323846264338327950288419716939937510582097494459230781640629"
      ]
     },
     "execution_count": 31,
     "metadata": {},
     "output_type": "execute_result"
    }
   ],
   "source": [
    "sympy.sympify(val)"
   ]
  },
  {
   "cell_type": "markdown",
   "id": "95f17914-d608-44ca-97bb-a927fd4cb6c2",
   "metadata": {},
   "source": [
    "我们可以将这个结果与解析结果进行对比。"
   ]
  },
  {
   "cell_type": "code",
   "execution_count": 32,
   "id": "a97a639c-472c-41dc-ae47-27f2c56f90f8",
   "metadata": {},
   "outputs": [
    {
     "data": {
      "text/latex": [
       "$\\displaystyle 6.90893484407555570030908149024031965689280029154902510801896277613487344253 \\cdot 10^{-77}$"
      ],
      "text/plain": [
       "6.908934844075555700309081490240319656892800291549025108018962776134873442530e-77"
      ]
     },
     "execution_count": 32,
     "metadata": {},
     "output_type": "execute_result"
    }
   ],
   "source": [
    "sympy.N(val_sym, mpmath.mp.dps+1) - val"
   ]
  },
  {
   "cell_type": "markdown",
   "id": "b49657e9-1c90-40c6-81db-087083d63310",
   "metadata": {},
   "source": [
    "SciPy的integrate模块中的quad函数无法达到这样的精度，因为受浮点数精度的限制。"
   ]
  },
  {
   "cell_type": "markdown",
   "id": "927de344-591a-4123-9f27-db20e3c43529",
   "metadata": {},
   "source": [
    "### 多重积分\n",
    "\n",
    "mpmath库中的`quad`函数也可以用于计算多重积分。计算这样的积分，只需要把拥有多个变量参数的被积函数传给`quad`函数，并未每个积分变量传入积分限的元组。\n",
    "\n",
    "计算下面的双重积分 $\\int_{0}^{1} \\int_{0}^{1} \\cos(x) \\cos(y) e^{-x^2-y^2} dx$"
   ]
  },
  {
   "cell_type": "code",
   "execution_count": 33,
   "id": "63f7560a-36ac-49de-8db7-1f81f9a590c8",
   "metadata": {},
   "outputs": [
    {
     "data": {
      "text/plain": [
       "(0.4305647943060992, 7.28494733311039e-15)"
      ]
     },
     "execution_count": 33,
     "metadata": {},
     "output_type": "execute_result"
    }
   ],
   "source": [
    "def f2(x, y):\n",
    "    return np.cos(x)*np.cos(y)*np.exp(-x**2-y**2)\n",
    "\n",
    "integrate.dblquad(f2, 0, 1, lambda x : 0, lambda x : 1)"
   ]
  },
  {
   "cell_type": "code",
   "execution_count": 34,
   "id": "760006e8-0ede-4f34-8b68-29a1a9956913",
   "metadata": {},
   "outputs": [
    {
     "data": {
      "text/plain": [
       "mpf('0.430564794306099099242308990195783')"
      ]
     },
     "execution_count": 34,
     "metadata": {},
     "output_type": "execute_result"
    }
   ],
   "source": [
    "x, y, z = sympy.symbols(\"x, y, z\")\n",
    "f2 = sympy.cos(x)*sympy.cos(y)*sympy.exp(-x**2-y**2)\n",
    "\n",
    "f2_mpmath = sympy.lambdify((x, y), f2, 'mpmath')\n",
    "\n",
    "mpmath.mp.dps = 30  # 指定计算精度\n",
    "res = mpmath.quad(f2_mpmath, (0, 1), (0, 1))\n",
    "res"
   ]
  },
  {
   "cell_type": "markdown",
   "id": "ebc50c24-d8f5-4fac-8023-94ed3a6b6f76",
   "metadata": {},
   "source": [
    "由于高精度浮点运算是在CPU上模拟实现的，缺点是非常慢。"
   ]
  },
  {
   "cell_type": "markdown",
   "id": "f2b22b50-a604-4042-9377-6f85fea4fc0a",
   "metadata": {},
   "source": [
    "### 曲线积分\n",
    "\n",
    "SymPy可以使用line_integral函数来计算形如 $\\int_{C} f(x, y) ds$的曲线积分，其中C是x-y平面上的曲线。该函数的第一个参数是SymPy表示的被积函数，第二个参数是一个sympy.Curve实例，第三个参数是积分变量的列表。\n",
    "\n",
    "例如，创建Curve实例来表示单位圆的路径。"
   ]
  },
  {
   "cell_type": "code",
   "execution_count": 35,
   "id": "414d60fe-bd7d-441f-a0b1-617daa66936b",
   "metadata": {},
   "outputs": [],
   "source": [
    "t, x, y = sympy.symbols(\"t, x, y\")\n",
    "C = sympy.Curve([sympy.cos(t), sympy.sin(t)], (t, 0, 2 * sympy.pi))"
   ]
  },
  {
   "cell_type": "markdown",
   "id": "76a49003-431f-40bb-8585-ca8b097fd5f9",
   "metadata": {},
   "source": [
    "积分路径指定之后，我们对被积函数$f(x, y)=1$进行积分，积分结果就是圆的周长。"
   ]
  },
  {
   "cell_type": "code",
   "execution_count": 36,
   "id": "97e91da5-0a59-4476-9317-e18209ac2a05",
   "metadata": {},
   "outputs": [
    {
     "data": {
      "text/latex": [
       "$\\displaystyle 2 \\pi$"
      ],
      "text/plain": [
       "2*pi"
      ]
     },
     "execution_count": 36,
     "metadata": {},
     "output_type": "execute_result"
    }
   ],
   "source": [
    "sympy.line_integrate(1, C, [x, y])"
   ]
  },
  {
   "cell_type": "markdown",
   "id": "b683e2d7-353a-4975-a613-27236c1f2293",
   "metadata": {},
   "source": [
    "## 积分变换\n",
    "---\n",
    "\n",
    "积分变换是将一个函数作为输入，然后输出另有一个函数的过程。这里我们介绍使用SymPy支持的两种积分变换，[拉普拉斯变换](https://zh.wikipedia.org/wiki/拉普拉斯变换)和[傅里叶变换](https://zh.wikipedia.org/wiki/傅里叶变换)。这两种变换有很多应用，例如可以使用拉普拉斯变换将微分方程转换为代数方程，或者使用傅里叶变换将时域问题转换为频域问题。\n",
    "\n",
    "一般来说，函数$f(t)$的积分变换可以写为：\n",
    "\n",
    "$$T_f(u) = \\int_{t_1}^{t_2} K(t, u) f(t) dt$$\n",
    "\n",
    "其中$T_f(u)$是变换后的函数，$K(t, u)$是变换的核函数。\n",
    "\n",
    "积分变换的逆变换是：\n",
    "\n",
    "$$f(t) = \\int_{u_1}^{u_2} K^{-1}(t, u) T_f(u) du$$\n",
    "\n",
    "其中$K^{-1}(t, u)$是核函数的逆变换。"
   ]
  },
  {
   "cell_type": "markdown",
   "id": "3d718e52-db99-492f-bcff-260761aa2153",
   "metadata": {},
   "source": [
    "拉普拉斯变换\n",
    "$$F(s)=\\int _{0}^{\\infty }f(t)e^{-st}\\,\\mathrm {d} t $$\n",
    "及其逆变换\n",
    "$$f(t)={\\mathcal {L}}^{-1}\\{F\\}(t)={\\frac {1}{2\\pi i}}\\lim _{T\\to \\infty }\\int _{\\gamma -iT}^{\\gamma +iT}e^{st}F(s)\\,\\mathrm {d} s$$\n",
    "以及傅里叶变换\n",
    "$$\\hat{f}(\\xi) = \\int_{-\\infty}^\\infty f(x)\\ e^{- 2\\pi i x \\xi}\\,dx$$\n",
    "及其逆变换\n",
    "$$ f(x) = \\int_{-\\infty}^\\infty \\hat f(\\xi)\\ e^{2 \\pi i \\xi x}\\,d\\xi $$"
   ]
  },
  {
   "cell_type": "markdown",
   "id": "5ea9aaf3-f331-4cce-9ce1-5a2b94a7faa7",
   "metadata": {},
   "source": [
    "在SymPy中，拉普拉斯变换和傅里叶变换对应的函数为`sympy.laplace_transform`和`sympy.fourier_transform`，其逆变换为`sympy.inverse_laplace_transform`和`sympy.inverse_fourier_transform`。"
   ]
  },
  {
   "cell_type": "markdown",
   "id": "56c93072-4494-4aee-a941-7b42b51503bf",
   "metadata": {},
   "source": [
    "**示例** 计算函数$f(t) = \\sin(at)$的拉普拉斯变换"
   ]
  },
  {
   "cell_type": "code",
   "execution_count": 37,
   "id": "34a828be-25f0-4dc1-adb8-deceb797fd25",
   "metadata": {},
   "outputs": [],
   "source": [
    "s = sympy.symbols(\"s\")\n",
    "a, t = sympy.symbols(\"a, t\", positive=True)\n",
    "f = sympy.sin(a*t)"
   ]
  },
  {
   "cell_type": "code",
   "execution_count": 38,
   "id": "734b0843-7414-4c1b-8da8-1da5558e9295",
   "metadata": {},
   "outputs": [
    {
     "data": {
      "text/plain": [
       "(a/(a**2 + s**2), -oo, re(s) > 0)"
      ]
     },
     "execution_count": 38,
     "metadata": {},
     "output_type": "execute_result"
    }
   ],
   "source": [
    "sympy.laplace_transform(f, t, s)"
   ]
  },
  {
   "cell_type": "markdown",
   "id": "5f591414-4438-4af5-b0b1-cdd96ab3bdba",
   "metadata": {},
   "source": [
    "默认情况下，`laplace_transform`函数返回一个元组，包含转换结果和变换的收敛条件。如果只需要转换结果，可以使用参数noconds=True去除返回中的条件。"
   ]
  },
  {
   "cell_type": "code",
   "execution_count": 39,
   "id": "34173902-7b27-454c-90d6-e20fcd5ffc0b",
   "metadata": {},
   "outputs": [
    {
     "data": {
      "text/latex": [
       "$\\displaystyle \\frac{a}{a^{2} + s^{2}}$"
      ],
      "text/plain": [
       "a/(a**2 + s**2)"
      ]
     },
     "execution_count": 39,
     "metadata": {},
     "output_type": "execute_result"
    }
   ],
   "source": [
    "F = sympy.laplace_transform(f, t, s, noconds=True)\n",
    "F"
   ]
  },
  {
   "cell_type": "markdown",
   "id": "2d0a11ba-7e64-44ac-a438-e4f0661c6c55",
   "metadata": {},
   "source": [
    "逆变换将得到原始函数："
   ]
  },
  {
   "cell_type": "code",
   "execution_count": 40,
   "id": "70230d06-0411-431e-ac00-87f6dc6bd70b",
   "metadata": {},
   "outputs": [
    {
     "data": {
      "text/latex": [
       "$\\displaystyle \\sin{\\left(a t \\right)}$"
      ],
      "text/plain": [
       "sin(a*t)"
      ]
     },
     "execution_count": 40,
     "metadata": {},
     "output_type": "execute_result"
    }
   ],
   "source": [
    "sympy.inverse_laplace_transform(F, s, t, noconds=True)"
   ]
  },
  {
   "cell_type": "markdown",
   "id": "9171c36f-7100-458d-988a-37cf3a00a82c",
   "metadata": {},
   "source": [
    "我们将在微分方程章节中拉普拉斯变换的应用。"
   ]
  },
  {
   "cell_type": "markdown",
   "id": "8c547042-2627-4caf-9586-921d3ee874aa",
   "metadata": {},
   "source": [
    "**示例** 计算函数$f(t) = e^{-at^2}$的傅里叶变换"
   ]
  },
  {
   "cell_type": "code",
   "execution_count": 41,
   "id": "4f468341-c37f-4f79-a5a6-7f40b082cb97",
   "metadata": {},
   "outputs": [],
   "source": [
    "w = sympy.symbols(\"omega\")\n",
    "a, t = sympy.symbols(\"a, t\", positive=True)\n",
    "f = sympy.exp(-a*t**2)"
   ]
  },
  {
   "cell_type": "code",
   "execution_count": 42,
   "id": "2e557eee-b28f-400d-86b3-8f2820ff5e3a",
   "metadata": {},
   "outputs": [
    {
     "data": {
      "text/latex": [
       "$\\displaystyle \\frac{\\sqrt{\\pi} e^{- \\frac{\\pi^{2} \\omega^{2}}{a}}}{\\sqrt{a}}$"
      ],
      "text/plain": [
       "sqrt(pi)*exp(-pi**2*omega**2/a)/sqrt(a)"
      ]
     },
     "execution_count": 42,
     "metadata": {},
     "output_type": "execute_result"
    }
   ],
   "source": [
    "F = sympy.fourier_transform(f, t, w)\n",
    "F"
   ]
  },
  {
   "cell_type": "code",
   "execution_count": 43,
   "id": "634b976b-4f46-452e-9266-67a7367d36b1",
   "metadata": {},
   "outputs": [
    {
     "data": {
      "text/latex": [
       "$\\displaystyle e^{- a t^{2}}$"
      ],
      "text/plain": [
       "exp(-a*t**2)"
      ]
     },
     "execution_count": 43,
     "metadata": {},
     "output_type": "execute_result"
    }
   ],
   "source": [
    "sympy.inverse_fourier_transform(F, w, t)"
   ]
  },
  {
   "cell_type": "markdown",
   "id": "7fd1d043-9874-4508-bde6-43378402705f",
   "metadata": {},
   "source": [
    "我们在信号处理章节中演示了傅里叶变换在降噪中的应用。"
   ]
  },
  {
   "cell_type": "code",
   "execution_count": null,
   "id": "d947b7f9-15a2-4a42-9aa5-e8d43ffa9e0d",
   "metadata": {},
   "outputs": [],
   "source": []
  }
 ],
 "metadata": {
  "kernelspec": {
   "display_name": "Python 3 (ipykernel)",
   "language": "python",
   "name": "python3"
  },
  "language_info": {
   "codemirror_mode": {
    "name": "ipython",
    "version": 3
   },
   "file_extension": ".py",
   "mimetype": "text/x-python",
   "name": "python",
   "nbconvert_exporter": "python",
   "pygments_lexer": "ipython3",
   "version": "3.9.7"
  }
 },
 "nbformat": 4,
 "nbformat_minor": 5
}
