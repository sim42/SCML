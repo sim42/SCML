{
 "cells": [
  {
   "cell_type": "markdown",
   "id": "ee03d1ee-a4e0-4938-83d9-cbe1dc9ffbaf",
   "metadata": {
    "tags": []
   },
   "source": [
    "# Saddle Point Locator\n",
    "---\n",
    "\n",
    "[鞍点](https://zh.m.wikipedia.org/zh-hans/鞍點)是一种特殊的驻点。对于多变量函数，在鞍点位置，函数沿任意方向的导数都为0，但函数并不是最大值或者最小值。我们关注一类特殊的鞍点，在这个位置，函数在某一方向上是最大值，但是在剩余所有方向上是极小值。\n",
    "\n",
    "寻找鞍点在科学和工程研究中有很多应用。一个常用的例子是地形图，地势高度取决于水平坐标，因此这是一个双变量函数。假设在起伏的地势中有两个盆地（对应于函数的局部极小值）A和B。一个人想要从A出发到达B，在连接A和B的所有可能的路径中，哪一条路径走过的地势最高点最低？这个问题的实质就是寻找这个双变量函数的鞍点（或者一个更常见的名称，过渡态）。"
   ]
  },
  {
   "cell_type": "markdown",
   "id": "8a2315e3-f147-47da-985f-6223161fbc74",
   "metadata": {},
   "source": [
    "## 作业题目\n",
    "---\n",
    "\n",
    "考虑一个三变量函数（见下方代码），坐标区间为[-1, 1]。\n",
    "\n",
    "寻找这个函数的在(0.5, 0.5, 0.5)和(-0.5, -0.5, -0.5)附近的两个局部极小值，以及两个极小值之间路径上(-0.3, 0.3, 0.3)附近的鞍点。\n",
    "\n",
    "**要求**\n",
    "1. 数值结果误差小于1e-3。\n",
    "2. 不允许使用numpy和scipy之外的数学库，需手动实现算法。\n",
    "3. 不允许对提供的data的生成函数做符号分析（例如解析求导），data只能作为一个黑盒子使用。\n",
    "4. 为了模拟真实场景（data中数据点需要借助实验或者模拟仿真高成本获得），不允许对data进行遍历或暴力搜索。\n",
    "5. 代码优越性的评价取决于data中数据的读取次数，越低越好（读取次数越低，对应于真实场景中解决问题速度越快）。"
   ]
  },
  {
   "cell_type": "markdown",
   "id": "0ade9ecb-ef71-4788-9857-4838eb9199bf",
   "metadata": {},
   "source": [
    "为了方便大家对函数值的分布有直观认识，这里使用ipyvolume进行了3D可视化。"
   ]
  },
  {
   "cell_type": "code",
   "execution_count": 3,
   "id": "d56accb3-cce2-4e34-bcbc-829fd690ecd3",
   "metadata": {},
   "outputs": [
    {
     "data": {
      "application/vnd.jupyter.widget-view+json": {
       "model_id": "6629d47e4b1041b6a9f436bb76f73535",
       "version_major": 2,
       "version_minor": 0
      },
      "text/plain": [
       "VBox(children=(VBox(children=(HBox(children=(Label(value='levels:'), FloatSlider(value=0.1, max=1.0, step=0.00…"
      ]
     },
     "metadata": {},
     "output_type": "display_data"
    }
   ],
   "source": [
    "import numpy as np\n",
    "import ipyvolume as ipv\n",
    "\n",
    "x = np.linspace(-1, 1, 100)\n",
    "y = np.linspace(-1, 1, 100)\n",
    "z = np.linspace(-1, 1, 100)\n",
    "Y, Z, X = np.meshgrid(x, y, z) \n",
    "\n",
    "def gaussian(x0, y0, z0):\n",
    "    return np.exp(-(X - x0)**2 - (Y - y0)**2 - (Z - z0)**2)\n",
    "\n",
    "data = gaussian(0.1, -0.1, -0.1) - gaussian(-0.5, -0.5, -0.5) - gaussian(0.5, 0.5, 0.5)\n",
    "\n",
    "ipv.figure()\n",
    "ipv.volshow(data)\n",
    "ipv.view(-40)\n",
    "ipv.show()"
   ]
  },
  {
   "cell_type": "markdown",
   "id": "bc6b6ff3-e08c-4836-a8bd-ef5da273091b",
   "metadata": {},
   "source": [
    "借助IPython提供的交互控件，可以使用下方的拖动条查看data的在xy方向上的二维数据切片。"
   ]
  },
  {
   "cell_type": "code",
   "execution_count": 2,
   "id": "191489c8-2bdf-49da-86ce-29413e2ddb26",
   "metadata": {},
   "outputs": [
    {
     "data": {
      "application/vnd.jupyter.widget-view+json": {
       "model_id": "ef3d37c9b8da4d6c9ddb89710bd25554",
       "version_major": 2,
       "version_minor": 0
      },
      "text/plain": [
       "interactive(children=(IntSlider(value=49, description='i', max=99), Output()), _dom_classes=('widget-interact'…"
      ]
     },
     "metadata": {},
     "output_type": "display_data"
    }
   ],
   "source": [
    "from ipywidgets import interactive\n",
    "import matplotlib.pyplot as plt\n",
    "\n",
    "def slice_z(i):\n",
    "    fig, ax = plt.subplots(figsize=(8, 8))\n",
    "    im = ax.imshow(data[i,:,:], vmin=-1, vmax=1, cmap=plt.get_cmap('gist_rainbow'))\n",
    "    ct = ax.contour(data[i,:,:])\n",
    "    bar = plt.colorbar(im)\n",
    "    plt.show()\n",
    "\n",
    "interact_plot = interactive(slice_z, i=(0, 99))\n",
    "interact_plot"
   ]
  },
  {
   "cell_type": "markdown",
   "id": "eab25651-8a08-4a30-ae11-b276eb063f8e",
   "metadata": {},
   "source": [
    "## 提示\n",
    "---\n",
    "\n",
    "寻找过渡态的一个常用算法是微动弹性带（[Nudged Elastic Band](https://theory.cm.utexas.edu/henkelman/pubs/jonsson98_385.pdf)）。它的核心思想是，将初始坐标和终态坐标用若干个中间态（例如11个）连接起来，然后让这些中间态沿着函数梯度的反方向移动（类似于小球在地形图中沿着山坡向下移动）；为了避免这些中间态都收敛到附近的局部极小（类似于小球都落入了盆地），相邻中间态之间用一根虚拟的弹簧连接，从而迫使相邻中间态有一定的间距。当这个小球弹簧链（微动弹性带）移动停止时，其所在位置就是所谓的最低能量路径（minimal energy path），其中间函数值最大的位置就是鞍点或者过渡态。\n",
    "\n",
    "在迭代计算过程中，中间态的移动同时受*函数梯度*和*弹簧弹力*的调控。为了保持中间态的间距尽量不改变，以及虚拟弹簧不影响路径正确性，可以对*函数梯度*和*弹簧弹力*进行矢量分解。其中，*函数梯度*只保留垂直于路径的分量；*弹簧弹力*只保留沿着路径的分量。\n",
    "\n",
    "\n",
    "参考资料：[Nudged Elastic Band Method](https://fidimag.readthedocs.io/en/stable/nebm.html)\n",
    "\n",
    "![](https://fidimag.readthedocs.io/en/stable/_images/nebm.png)"
   ]
  },
  {
   "cell_type": "code",
   "execution_count": null,
   "id": "da76831b-eb93-487f-80c6-025c7ab93341",
   "metadata": {},
   "outputs": [],
   "source": []
  }
 ],
 "metadata": {
  "kernelspec": {
   "display_name": "Python 3 (ipykernel)",
   "language": "python",
   "name": "python3"
  },
  "language_info": {
   "codemirror_mode": {
    "name": "ipython",
    "version": 3
   },
   "file_extension": ".py",
   "mimetype": "text/x-python",
   "name": "python",
   "nbconvert_exporter": "python",
   "pygments_lexer": "ipython3",
   "version": "3.9.7"
  }
 },
 "nbformat": 4,
 "nbformat_minor": 5
}
