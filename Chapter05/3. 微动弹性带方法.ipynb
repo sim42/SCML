{
 "cells": [
  {
   "cell_type": "markdown",
   "id": "2ecd198d-b270-423b-8216-4b4135d014aa",
   "metadata": {},
   "source": [
    "# 鞍点\n",
    "---\n",
    "\n",
    "[鞍点](https://zh.m.wikipedia.org/zh-hans/鞍點)是一种特殊的驻点。对于多变量函数，在鞍点位置，函数沿任意方向的导数都为0，但函数并不是最大值或者最小值。我们关注一类特殊的鞍点，在这个位置，函数在某一方向上是最大值，但是在剩余所有方向上是极小值。\n",
    "\n",
    "寻找鞍点在科学和工程研究中有很多应用。一个常用的例子是地形图，地势高度取决于水平坐标，因此这是一个双变量函数。假设在起伏的地势中有两个盆地（对应于函数的局部极小值）A和B。一个人想要从A出发到达B，在连接A和B的所有可能的路径中，哪一条路径走过的地势最高点最低？这个问题的实质就是寻找这个双变量函数的鞍点（或者一个更常见的名称，过渡态）。"
   ]
  },
  {
   "cell_type": "markdown",
   "id": "2ce499b7-8e78-474f-941b-a36141db7bd4",
   "metadata": {},
   "source": [
    "## 微动弹性带方法\n",
    "---\n",
    "\n",
    "寻找过渡态的一个常用算法是微动弹性带（[Nudged Elastic Band](https://theory.cm.utexas.edu/henkelman/pubs/jonsson98_385.pdf)）。它的核心思想是，将初始坐标和终态坐标用若干个中间态（例如11个）连接起来，然后让这些中间态沿着函数梯度的反方向移动（类似于小球在地形图中沿着山坡向下移动）；为了避免这些中间态都收敛到附近的局部极小（类似于小球都落入了盆地），相邻中间态之间用一根虚拟的弹簧连接，从而迫使相邻中间态有一定的间距。当这个小球弹簧链（微动弹性带）移动停止时，其所在位置就是所谓的最低能量路径（minimal energy path），其中间函数值最大的位置就是鞍点或者过渡态。\n",
    "\n",
    "在迭代计算过程中，中间态的移动同时受*函数梯度*和*弹簧弹力*的调控。为了保持中间态的间距尽量不改变，以及虚拟弹簧不影响路径正确性，可以对*函数梯度*和*弹簧弹力*进行矢量分解。其中，*函数梯度*只保留垂直于路径的分量；*弹簧弹力*只保留沿着路径的分量。\n",
    "\n",
    "\n",
    "参考资料：[Nudged Elastic Band Method](https://fidimag.readthedocs.io/en/stable/nebm.html)\n",
    "\n",
    "![](https://fidimag.readthedocs.io/en/stable/_images/nebm.png)"
   ]
  },
  {
   "cell_type": "markdown",
   "id": "b8937e9f-581a-4267-812c-76753da3a7dc",
   "metadata": {},
   "source": [
    "## 例题\n",
    "---\n",
    "\n",
    "考虑一个三变量函数（见下方代码），坐标区间为[-1, 1]。\n",
    "\n",
    "寻找这个函数的在(0.5, 0.5, 0.5)和(-0.5, -0.5, -0.5)附近的两个局部极小值，以及两个极小值之间最低能量路径上的鞍点。"
   ]
  },
  {
   "cell_type": "code",
   "execution_count": 1,
   "id": "e9e44b41-11ae-46ad-87cb-e36cf0e2d805",
   "metadata": {},
   "outputs": [],
   "source": [
    "import numpy as np\n",
    "\n",
    "def gaussian(pos, pos0):\n",
    "    return np.exp(-np.sum((pos-pos0)**2))\n",
    "\n",
    "def data(pos):\n",
    "    return gaussian(pos, np.array([0.1, -0.1, -0.1])) - gaussian(pos, np.array([-0.5, -0.5, -0.5])) - gaussian(pos, np.array([0.5, 0.5, 0.5]))"
   ]
  },
  {
   "cell_type": "markdown",
   "id": "d6962fdf-14bd-4db0-bc48-783761d6635e",
   "metadata": {},
   "source": [
    "### SciPy求解最小值"
   ]
  },
  {
   "cell_type": "code",
   "execution_count": 2,
   "id": "c95bc0a4-bcd2-41bb-9f81-8624dac3dce2",
   "metadata": {},
   "outputs": [
    {
     "name": "stdout",
     "output_type": "stream",
     "text": [
      "      fun: -0.7158462204809235\n",
      " hess_inv: array([[ 0.66883531, -0.05979109, -0.05979235],\n",
      "       [-0.05979109,  0.74686378, -0.25313602],\n",
      "       [-0.05979235, -0.25313602,  0.74686419]])\n",
      "      jac: array([-6.92903996e-07, -1.15483999e-06, -1.15483999e-06])\n",
      "  message: 'Optimization terminated successfully.'\n",
      "     nfev: 24\n",
      "      nit: 4\n",
      "     njev: 6\n",
      "   status: 0\n",
      "  success: True\n",
      "        x: array([0.6052717 , 0.67115817, 0.67115817])\n",
      "      fun: -0.6482065514360187\n",
      " hess_inv: array([[ 0.59348921, -0.10876622, -0.10876622],\n",
      "       [-0.10876622,  0.82394631, -0.17605369],\n",
      "       [-0.10876622, -0.17605369,  0.82394631]])\n",
      "      jac: array([4.42564487e-06, 2.33203173e-06, 2.33203173e-06])\n",
      "  message: 'Optimization terminated successfully.'\n",
      "     nfev: 20\n",
      "      nit: 3\n",
      "     njev: 5\n",
      "   status: 0\n",
      "  success: True\n",
      "        x: array([-0.73110579, -0.64589743, -0.64589743])\n"
     ]
    }
   ],
   "source": [
    "from scipy import optimize\n",
    "\n",
    "pos = np.array([0.5, 0.5, 0.5])\n",
    "print(optimize.minimize(data, pos, method='BFGS'))\n",
    "\n",
    "pos = np.array([-0.5, -0.5, -0.5])\n",
    "print(optimize.minimize(data, pos, method='BFGS'))"
   ]
  },
  {
   "cell_type": "markdown",
   "id": "2bb71988-2a6d-4a41-9c3a-042e976e4ade",
   "metadata": {},
   "source": [
    "### IPyVolume可视化NumPy数组"
   ]
  },
  {
   "cell_type": "code",
   "execution_count": 3,
   "id": "5bfffee8-e632-401b-b131-16db0372252e",
   "metadata": {},
   "outputs": [
    {
     "name": "stdout",
     "output_type": "stream",
     "text": [
      "-7.157085848994317e-01\n"
     ]
    }
   ],
   "source": [
    "N = 50\n",
    "X = Y = Z = np.linspace(-1, 1, N)\n",
    "data_grid = np.zeros([N, N, N])\n",
    "\n",
    "for i in range(N):\n",
    "    for j in range(N):\n",
    "        for k in range(N):\n",
    "            data_grid[k, j, i] = data(np.array([X[i], Y[j], Z[k]]))\n",
    "\n",
    "print(np.min(data_grid))"
   ]
  },
  {
   "cell_type": "markdown",
   "id": "e30c181e-6562-4dd3-bf09-dbeea6ab2610",
   "metadata": {},
   "source": [
    "**3D Volume**"
   ]
  },
  {
   "cell_type": "code",
   "execution_count": 4,
   "id": "6145c8c7-91cc-4258-ae29-0b474bcde258",
   "metadata": {},
   "outputs": [
    {
     "name": "stderr",
     "output_type": "stream",
     "text": [
      "/opt/anaconda3/lib/python3.9/site-packages/scipy/stats/_ksstats.py:74: RuntimeWarning: invalid value encountered in ldexp\n",
      "  _EP128 = np.ldexp(np.longdouble(1), _E128)\n"
     ]
    },
    {
     "data": {
      "application/vnd.jupyter.widget-view+json": {
       "model_id": "1f107c160e564b67ad5be12cc5dd3ae2",
       "version_major": 2,
       "version_minor": 0
      },
      "text/plain": [
       "VBox(children=(VBox(children=(HBox(children=(Label(value='levels:'), FloatSlider(value=0.1, max=1.0, step=0.00…"
      ]
     },
     "metadata": {},
     "output_type": "display_data"
    }
   ],
   "source": [
    "import ipyvolume as ipv\n",
    "\n",
    "ipv.figure()\n",
    "ipv.volshow(data_grid)\n",
    "ipv.view(-40)\n",
    "ipv.show()"
   ]
  },
  {
   "cell_type": "markdown",
   "id": "ca81c2c3-d8a2-4910-8941-81d24cad50d1",
   "metadata": {},
   "source": [
    "**2D Slice**"
   ]
  },
  {
   "cell_type": "code",
   "execution_count": 5,
   "id": "f3fbc85b-94f2-42cc-95a8-7a397274f530",
   "metadata": {},
   "outputs": [
    {
     "data": {
      "application/vnd.jupyter.widget-view+json": {
       "model_id": "c8e92da007934bbdb4d36de0edff6ac3",
       "version_major": 2,
       "version_minor": 0
      },
      "text/plain": [
       "interactive(children=(IntSlider(value=24, description='i', max=49), Output()), _dom_classes=('widget-interact'…"
      ]
     },
     "metadata": {},
     "output_type": "display_data"
    }
   ],
   "source": [
    "from ipywidgets import interactive\n",
    "import matplotlib.pyplot as plt\n",
    "\n",
    "def slice_z(i):\n",
    "    fig, ax = plt.subplots(figsize=(8, 8))\n",
    "    im = ax.imshow(data_grid[i,:,:], vmin=-1, vmax=1, cmap=plt.get_cmap('gist_rainbow'))\n",
    "    ct = ax.contour(data_grid[i,:,:])\n",
    "    bar = plt.colorbar(im)\n",
    "    plt.show()\n",
    "\n",
    "interact_plot = interactive(slice_z, i=(0, 49))\n",
    "interact_plot"
   ]
  },
  {
   "cell_type": "markdown",
   "id": "5f1f226d-f90d-4833-81f3-be093f33e8fc",
   "metadata": {},
   "source": [
    "## 梯度\n",
    "---"
   ]
  },
  {
   "cell_type": "code",
   "execution_count": 6,
   "id": "52fa5fde-fa8b-44ab-a190-950984dccd70",
   "metadata": {},
   "outputs": [],
   "source": [
    "def gradient(pos, delta = 0.01):\n",
    "    gradient_x = (data(pos + np.array([delta, 0, 0])) - data(pos - np.array([delta, 0, 0]))) / 2 / delta\n",
    "    gradient_y = (data(pos + np.array([0, delta, 0])) - data(pos - np.array([0, delta, 0]))) / 2 / delta\n",
    "    gradient_z = (data(pos + np.array([0, 0, delta])) - data(pos - np.array([0, 0, delta]))) / 2 / delta\n",
    "    return np.array([gradient_x, gradient_y, gradient_z])"
   ]
  },
  {
   "cell_type": "markdown",
   "id": "88a79ecf-e52b-46fe-88ec-c334817d455c",
   "metadata": {},
   "source": [
    "## 寻找最小值\n",
    "---"
   ]
  },
  {
   "cell_type": "code",
   "execution_count": 7,
   "id": "8de47b09-6c23-43db-9e43-55c3f13ea541",
   "metadata": {},
   "outputs": [
    {
     "name": "stdout",
     "output_type": "stream",
     "text": [
      "[0.09762701 0.43037873 0.20552675]\n"
     ]
    }
   ],
   "source": [
    "np.random.seed(0)\n",
    "pos = np.random.rand(3) * 2 - 1\n",
    "print(pos)"
   ]
  },
  {
   "cell_type": "code",
   "execution_count": 8,
   "id": "6de412b8-5f04-4d37-9bfb-02a3cd838438",
   "metadata": {},
   "outputs": [
    {
     "data": {
      "text/plain": [
       "-2.6755032752980323e-01"
      ]
     },
     "execution_count": 8,
     "metadata": {},
     "output_type": "execute_result"
    }
   ],
   "source": [
    "data(pos)"
   ]
  },
  {
   "cell_type": "code",
   "execution_count": 9,
   "id": "26c0b0d8-7647-4815-b7cc-54a84d674f36",
   "metadata": {},
   "outputs": [
    {
     "data": {
      "text/plain": [
       "array([-0.40735044, -0.50428882, -0.62459762])"
      ]
     },
     "execution_count": 9,
     "metadata": {},
     "output_type": "execute_result"
    }
   ],
   "source": [
    "gradient(pos)"
   ]
  },
  {
   "cell_type": "code",
   "execution_count": 10,
   "id": "ce61e36d-d845-4fac-8e50-5fe0c19e3afe",
   "metadata": {},
   "outputs": [
    {
     "name": "stdout",
     "output_type": "stream",
     "text": [
      "[0.13836205 0.48080762 0.26798651]\n"
     ]
    }
   ],
   "source": [
    "rate = 0.1\n",
    "pos_new = pos - np.array(gradient(pos)) * rate\n",
    "print(pos_new)"
   ]
  },
  {
   "cell_type": "code",
   "execution_count": 11,
   "id": "9b25a322-afe2-4fd7-bd4f-10464b605a5c",
   "metadata": {},
   "outputs": [
    {
     "data": {
      "text/plain": [
       "-3.497101254662291e-01"
      ]
     },
     "execution_count": 11,
     "metadata": {},
     "output_type": "execute_result"
    }
   ],
   "source": [
    "data(pos_new)"
   ]
  },
  {
   "cell_type": "code",
   "execution_count": 12,
   "id": "25f60d09-6907-42dd-bfcb-b905f905c8b5",
   "metadata": {},
   "outputs": [],
   "source": [
    "def find_minimal(pos, rate, err):\n",
    "    pos_diff = 1\n",
    "    data_diff = 1\n",
    "    while np.abs(data_diff) > err:\n",
    "        pos_new = pos - np.array(gradient(pos)) * rate\n",
    "        data_diff = data(pos_new) - data(pos)\n",
    "        pos_diff = np.max(np.abs(np.array(gradient(pos)) * rate))\n",
    "        pos = pos_new\n",
    "    return pos"
   ]
  },
  {
   "cell_type": "code",
   "execution_count": 13,
   "id": "9fc5e100-fc5f-4521-831e-b3e82bc189bf",
   "metadata": {},
   "outputs": [
    {
     "name": "stdout",
     "output_type": "stream",
     "text": [
      "[0.60521457 0.6712003  0.67115785] -7.158462168871129e-01\n"
     ]
    }
   ],
   "source": [
    "pos = find_minimal(pos, 0.01,  1e-10)\n",
    "print(pos, data(pos))"
   ]
  },
  {
   "cell_type": "code",
   "execution_count": 14,
   "id": "1ec7652a-8aef-4863-8dce-547f385b264f",
   "metadata": {},
   "outputs": [
    {
     "name": "stdout",
     "output_type": "stream",
     "text": [
      "[0.60514377 0.67107422 0.67131902] -7.158461852845346e-01\n",
      "[0.60506853 0.6712022  0.67124055] -7.158461848975146e-01\n",
      "[0.60509107 0.67128799 0.67113957] -7.158461849825314e-01\n",
      "[0.60523928 0.67132575 0.67101812] -7.158461855861556e-01\n",
      "[-0.73119417 -0.64598256 -0.64568456] -6.482065124365426e-01\n"
     ]
    }
   ],
   "source": [
    "for i in range(5):\n",
    "    pos = np.random.rand(3) * 2 - 1\n",
    "    pos = find_minimal(pos, 0.001,  1e-10)\n",
    "    print(pos, data(pos))"
   ]
  },
  {
   "cell_type": "code",
   "execution_count": 15,
   "id": "9d73579a-4f45-45b7-91dd-d27934dd5f36",
   "metadata": {},
   "outputs": [],
   "source": [
    "pos_A = np.array([0.60486467, 0.67087103, 0.67164885])\n",
    "pos_B = np.array([-0.73136024, -0.64616776, -0.64521874])"
   ]
  },
  {
   "cell_type": "markdown",
   "id": "b680d408-0268-47c6-a46b-46495d81a574",
   "metadata": {},
   "source": [
    "## 寻找鞍点\n",
    "---"
   ]
  },
  {
   "cell_type": "code",
   "execution_count": 16,
   "id": "d19c9871-b56c-4dc7-804c-c127a960f7be",
   "metadata": {},
   "outputs": [
    {
     "name": "stdout",
     "output_type": "stream",
     "text": [
      "[[ 0.60486467  0.67087103  0.67164885]\n",
      " [ 0.47124218  0.53916715  0.53996209]\n",
      " [ 0.33761969  0.40746327  0.40827533]\n",
      " [ 0.2039972   0.27575939  0.27658857]\n",
      " [ 0.07037471  0.14405551  0.14490181]\n",
      " [-0.06324778  0.01235164  0.01321506]\n",
      " [-0.19687028 -0.11935224 -0.1184717 ]\n",
      " [-0.33049277 -0.25105612 -0.25015846]\n",
      " [-0.46411526 -0.38276    -0.38184522]\n",
      " [-0.59773775 -0.51446388 -0.51353198]\n",
      " [-0.73136024 -0.64616776 -0.64521874]]\n"
     ]
    }
   ],
   "source": [
    "n = 11\n",
    "images = np.zeros([n, 3])\n",
    "\n",
    "for i in range(n):\n",
    "    images[i] = (pos_B - pos_A)/(n - 1) * i + pos_A\n",
    "\n",
    "print(images)"
   ]
  },
  {
   "cell_type": "code",
   "execution_count": 17,
   "id": "ac663d5a-76df-45e7-a4d1-2394c57f037b",
   "metadata": {},
   "outputs": [
    {
     "data": {
      "application/vnd.jupyter.widget-view+json": {
       "model_id": "7e825243b94643128fef3b863997294c",
       "version_major": 2,
       "version_minor": 0
      },
      "text/plain": [
       "VBox(children=(Figure(camera=PerspectiveCamera(fov=45.0, position=(0.0, 0.0, 2.0), projectionMatrix=(1.0, 0.0,…"
      ]
     },
     "metadata": {},
     "output_type": "display_data"
    }
   ],
   "source": [
    "ipv.quickscatter(images[:,0], images[:,1], images[:,2], size=5, marker=\"sphere\")"
   ]
  },
  {
   "cell_type": "code",
   "execution_count": 18,
   "id": "e8b09c07-88f4-40e6-aedf-4ced821b1e2a",
   "metadata": {},
   "outputs": [],
   "source": [
    "dist_AB = np.sqrt(np.sum((pos_A - pos_B)**2))\n",
    "dist_image = dist_AB / (n - 1)\n",
    "\n",
    "def spring_force(image_before, image, image_next, k = 2.0):\n",
    "    dist_before = np.sqrt(np.sum((image - image_before)**2))\n",
    "    force_before = (dist_before - dist_image) * k \n",
    "    direction_before = (image - image_before)/dist_before\n",
    "\n",
    "    dist_next = np.sqrt(np.sum((image_next - image)**2))\n",
    "    force_next = (dist_image - dist_next) * k\n",
    "    direction_next = (image_next - image)/dist_next\n",
    "\n",
    "    force = force_before*direction_before + force_next*direction_next\n",
    "    direction = (image_next - image_before) / np.sqrt(np.sum((image_next - image_before)**2))\n",
    "    return force, direction"
   ]
  },
  {
   "cell_type": "code",
   "execution_count": 19,
   "id": "981425b4-68ea-4cf6-9045-640e97b88f6d",
   "metadata": {},
   "outputs": [
    {
     "name": "stdout",
     "output_type": "stream",
     "text": [
      "n_step     117\n",
      "idx_saddle 5\n",
      "images     [-0.59588091  0.28011966  0.2802159 ]\n",
      "data       -1.0501195335735386e-01\n"
     ]
    },
    {
     "data": {
      "application/vnd.jupyter.widget-view+json": {
       "model_id": "cdd3aa25df074a888a9cdfda827ceee7",
       "version_major": 2,
       "version_minor": 0
      },
      "text/plain": [
       "VBox(children=(Figure(camera=PerspectiveCamera(fov=45.0, position=(0.0, 0.0, 2.0), projectionMatrix=(1.0, 0.0,…"
      ]
     },
     "metadata": {},
     "output_type": "display_data"
    }
   ],
   "source": [
    "for i in range(n):\n",
    "    images[i] = (pos_B - pos_A)/(n - 1) * i + pos_A\n",
    "\n",
    "s_force = np.zeros_like(images)\n",
    "direction = np.zeros_like(images)\n",
    "g_force = np.zeros_like(images)\n",
    "\n",
    "rate = 0.1\n",
    "err = 1e-8\n",
    "\n",
    "def NEB(rate, err):\n",
    "    n_step = 0\n",
    "    pos_diff = 1\n",
    "    data_diff = 1\n",
    "    while pos_diff > err or data_diff > err:\n",
    "        old_pos = images\n",
    "        old_saddle = np.max([data(images[i]) for i in range(n)])\n",
    "        for i in range(1, n-1):\n",
    "            s_force[i], direction[i] = spring_force(images[i-1], images[i], images[i+1])\n",
    "            s_force[i] = np.dot(s_force[i], direction[i]) * direction[i]  # Vector decomposition\n",
    "            g_force[i] = gradient(images[i])\n",
    "            g_force[i] = g_force[i] - np.dot(g_force[i], direction[i]) * direction[i]  # Vector decomposition\n",
    "            images[i] -= (s_force[i]+g_force[i]) * rate\n",
    "        new_pos = images\n",
    "        new_saddle = np.max([data(images[i]) for i in range(n)]) \n",
    "        idx_saddle = np.argmax([data(images[i]) for i in range(n)])\n",
    "        pos_diff = np.max(np.abs(new_pos - old_pos))\n",
    "        data_diff = np.abs(new_saddle - old_saddle)\n",
    "        n_step += 1\n",
    "    return n_step, idx_saddle\n",
    "\n",
    "n_step, idx_saddle = NEB(rate, err)\n",
    "print(\"n_step    \", n_step)\n",
    "print(\"idx_saddle\", idx_saddle)\n",
    "print(\"images    \", images[idx_saddle])\n",
    "print(\"data      \", data(images[idx_saddle]))\n",
    "\n",
    "ipv.quickscatter(images[:,0], images[:,1], images[:,2], size=5, marker=\"sphere\")"
   ]
  },
  {
   "cell_type": "code",
   "execution_count": 20,
   "id": "ad19784c-c316-4ce7-bb06-3cbf4c6e37e6",
   "metadata": {},
   "outputs": [
    {
     "data": {
      "text/plain": [
       "array([-0.0127503 , -0.01332121, -0.013301  ])"
      ]
     },
     "execution_count": 20,
     "metadata": {},
     "output_type": "execute_result"
    }
   ],
   "source": [
    "gradient(images[idx_saddle])"
   ]
  },
  {
   "cell_type": "markdown",
   "id": "ad1baaa7-2290-4601-aee6-1dfd8657ac8f",
   "metadata": {},
   "source": [
    "中间构型仍然存在沿着最低能量路径方向的梯度，说明其并不在鞍点位置。我们需要进一步精修其位置。"
   ]
  },
  {
   "cell_type": "markdown",
   "id": "29f584e2-7bd8-433a-9d62-17c5312a800e",
   "metadata": {},
   "source": [
    "## Climbing Image Nudged Elastic Band\n",
    "---"
   ]
  },
  {
   "cell_type": "code",
   "execution_count": 21,
   "id": "c3976b94-8733-494f-b755-e753a27b0eba",
   "metadata": {},
   "outputs": [
    {
     "name": "stdout",
     "output_type": "stream",
     "text": [
      "[-0.60489894  0.27137495  0.27147216]\n",
      "[ 0.00059607 -0.00031757 -0.00029718]\n",
      "-1.0483808571206599e-01\n"
     ]
    }
   ],
   "source": [
    "def cNEB(image, direction):\n",
    "    g_force = 1\n",
    "    while np.max(np.abs(g_force)) > err:\n",
    "        g_force = gradient(image)\n",
    "        g_force = np.dot(g_force, direction) * direction\n",
    "        image += g_force * rate\n",
    "    return image\n",
    "\n",
    "saddle_direction = (images[idx_saddle+1] - images[idx_saddle-1]) / np.sqrt(np.sum((images[idx_saddle+1] - images[idx_saddle-1])**2))\n",
    "saddle_point = cNEB(images[idx_saddle], saddle_direction)\n",
    "\n",
    "print(saddle_point)\n",
    "print(gradient(saddle_point))\n",
    "print(data(saddle_point))"
   ]
  },
  {
   "cell_type": "code",
   "execution_count": null,
   "id": "fddef4ca-4494-4792-9912-103e34111b5d",
   "metadata": {},
   "outputs": [],
   "source": []
  }
 ],
 "metadata": {
  "kernelspec": {
   "display_name": "Python 3 (ipykernel)",
   "language": "python",
   "name": "python3"
  },
  "language_info": {
   "codemirror_mode": {
    "name": "ipython",
    "version": 3
   },
   "file_extension": ".py",
   "mimetype": "text/x-python",
   "name": "python",
   "nbconvert_exporter": "python",
   "pygments_lexer": "ipython3",
   "version": "3.9.7"
  }
 },
 "nbformat": 4,
 "nbformat_minor": 5
}
