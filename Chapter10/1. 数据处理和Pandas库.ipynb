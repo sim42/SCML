{
 "cells": [
  {
   "cell_type": "markdown",
   "id": "0e7ec724-c5dc-4efc-9a7e-0dd2de898841",
   "metadata": {},
   "source": [
    "# 数据处理和Pandas库\n",
    "---\n",
    "<img src=\"https://upload.wikimedia.org/wikipedia/commons/e/ed/Pandas_logo.svg\" style=\"width: 30%;\"/>\n",
    "\n",
    "[数据分析库Pandas](https://pandas.pydata.org/)是Python中执行高级数据处理的标准库。它为序列数据和表数据的存储提供了方便的数据结构，能够轻松进行数据的转换、拆分、合并和变换。\n",
    "\n",
    "在Numpy库的基础上，Pandas库补充了很多对数据处理很有用的功能，例如标签索引、分层索引、数据对齐、输出合并、丢失数据处理等。\n",
    "\n",
    "本章节也会介绍和使用基于matplotlib构建的统计可视化库Seaboen，它为通用的统计绘图提供了易用方法。"
   ]
  },
  {
   "cell_type": "markdown",
   "id": "50aed0fa-577f-42d8-a33e-db3754423d48",
   "metadata": {},
   "source": [
    "## 导入模块\n",
    "---"
   ]
  },
  {
   "cell_type": "code",
   "execution_count": 1,
   "id": "aef87fe6-ace7-4bed-b34c-d35abb890e9a",
   "metadata": {},
   "outputs": [],
   "source": [
    "import numpy as np\n",
    "import pandas as pd"
   ]
  },
  {
   "cell_type": "markdown",
   "id": "3263ddeb-a5b6-40fd-bccd-ceb64f55ea51",
   "metadata": {},
   "source": [
    "为了使Pandas库生成的图片更加美观，我们将使用函数`mpl.style.use`选择一种合适的绘图样式。"
   ]
  },
  {
   "cell_type": "code",
   "execution_count": 2,
   "id": "7bd96aa7-724b-4930-a4cd-52711439cd54",
   "metadata": {},
   "outputs": [],
   "source": [
    "import matplotlib as mpl\n",
    "import matplotlib.pyplot as plt\n",
    "mpl.style.use('ggplot')\n",
    "\n",
    "import seaborn as sns"
   ]
  },
  {
   "cell_type": "code",
   "execution_count": 3,
   "id": "5deb4884-4494-4e28-a033-2c98a0c0f335",
   "metadata": {},
   "outputs": [
    {
     "data": {
      "application/json": {
       "Software versions": [
        {
         "module": "Python",
         "version": "3.9.7 64bit [GCC 9.4.0]"
        },
        {
         "module": "IPython",
         "version": "8.0.0"
        },
        {
         "module": "OS",
         "version": "Linux 5.10.84 10.3.al8.x86_64 x86_64 with glibc2.32"
        },
        {
         "module": "numpy",
         "version": "1.21.2"
        },
        {
         "module": "matplotlib",
         "version": "3.5.1"
        },
        {
         "module": "scipy",
         "version": "1.5.3"
        },
        {
         "module": "sympy",
         "version": "1.9"
        },
        {
         "module": "bqplot",
         "version": "0.12.32"
        }
       ]
      },
      "text/html": [
       "<table><tr><th>Software</th><th>Version</th></tr><tr><td>Python</td><td>3.9.7 64bit [GCC 9.4.0]</td></tr><tr><td>IPython</td><td>8.0.0</td></tr><tr><td>OS</td><td>Linux 5.10.84 10.3.al8.x86\\_64 x86\\_64 with glibc2.32</td></tr><tr><td>numpy</td><td>1.21.2</td></tr><tr><td>matplotlib</td><td>3.5.1</td></tr><tr><td>scipy</td><td>1.5.3</td></tr><tr><td>sympy</td><td>1.9</td></tr><tr><td>bqplot</td><td>0.12.32</td></tr><tr><td colspan='2'>Fri May 27 03:36:44 2022 CST</td></tr></table>"
      ],
      "text/latex": [
       "\\begin{tabular}{|l|l|}\\hline\n",
       "{\\bf Software} & {\\bf Version} \\\\ \\hline\\hline\n",
       "Python & 3.9.7 64bit [GCC 9.4.0] \\\\ \\hline\n",
       "IPython & 8.0.0 \\\\ \\hline\n",
       "OS & Linux 5.10.84 10.3.al8.x86\\_64 x86\\_64 with glibc2.32 \\\\ \\hline\n",
       "numpy & 1.21.2 \\\\ \\hline\n",
       "matplotlib & 3.5.1 \\\\ \\hline\n",
       "scipy & 1.5.3 \\\\ \\hline\n",
       "sympy & 1.9 \\\\ \\hline\n",
       "bqplot & 0.12.32 \\\\ \\hline\n",
       "\\hline \\multicolumn{2}{|l|}{Fri May 27 03:36:44 2022 CST} \\\\ \\hline\n",
       "\\end{tabular}\n"
      ],
      "text/plain": [
       "Software versions\n",
       "Python 3.9.7 64bit [GCC 9.4.0]\n",
       "IPython 8.0.0\n",
       "OS Linux 5.10.84 10.3.al8.x86_64 x86_64 with glibc2.32\n",
       "numpy 1.21.2\n",
       "matplotlib 3.5.1\n",
       "scipy 1.5.3\n",
       "sympy 1.9\n",
       "bqplot 0.12.32\n",
       "Fri May 27 03:36:44 2022 CST"
      ]
     },
     "execution_count": 3,
     "metadata": {},
     "output_type": "execute_result"
    }
   ],
   "source": [
    "%reload_ext version_information\n",
    "%version_information numpy, matplotlib, scipy, sympy, bqplot"
   ]
  },
  {
   "cell_type": "markdown",
   "id": "b7017c70-efa1-40ab-8547-b2d356dcddcb",
   "metadata": {},
   "source": [
    "## Pandas\n",
    "---\n",
    "\n",
    "Pandas中的两个主要数据结构是Series和DataFrame对象，分别用于列表数据和表格数据。"
   ]
  },
  {
   "cell_type": "markdown",
   "id": "df2af3bc-bdbe-4fa7-8ae1-d2fb02a88a06",
   "metadata": {},
   "source": [
    "### Series对象\n",
    "\n",
    "#### 创建Series对象\n",
    "\n",
    "我们使用构造函数为一个整数列表创建一个Series对象："
   ]
  },
  {
   "cell_type": "code",
   "execution_count": 4,
   "id": "94986447-b0b8-46e2-8ffa-2bbb2ae65cdf",
   "metadata": {},
   "outputs": [
    {
     "data": {
      "text/plain": [
       "0     909976\n",
       "1    8615246\n",
       "2    2872086\n",
       "3    2273305\n",
       "dtype: int64"
      ]
     },
     "execution_count": 4,
     "metadata": {},
     "output_type": "execute_result"
    }
   ],
   "source": [
    "s = pd.Series([909976, 8615246, 2872086, 2273305])\n",
    "s"
   ]
  },
  {
   "cell_type": "markdown",
   "id": "b8ea486a-a222-4781-bd91-137f9895ce35",
   "metadata": {},
   "source": [
    "创建的Series对象中保存的是int64类型的数据，元素的的索引用整数表示。\n",
    "\n",
    "使用index和values属性，可以获取索引信息和数据的值。"
   ]
  },
  {
   "cell_type": "code",
   "execution_count": 5,
   "id": "415bdb04-c2ec-4ca6-a18b-4846509a7e02",
   "metadata": {},
   "outputs": [
    {
     "data": {
      "text/plain": [
       "RangeIndex(start=0, stop=4, step=1)"
      ]
     },
     "execution_count": 5,
     "metadata": {},
     "output_type": "execute_result"
    }
   ],
   "source": [
    "s.index"
   ]
  },
  {
   "cell_type": "code",
   "execution_count": 6,
   "id": "b2be6fe7-2617-43c2-b0f7-e1b262df406a",
   "metadata": {},
   "outputs": [
    {
     "data": {
      "text/plain": [
       "[0, 1, 2, 3]"
      ]
     },
     "execution_count": 6,
     "metadata": {},
     "output_type": "execute_result"
    }
   ],
   "source": [
    "list(s.index)"
   ]
  },
  {
   "cell_type": "code",
   "execution_count": 7,
   "id": "014860c1-7a3c-49e6-8e87-3000ac65a0ee",
   "metadata": {},
   "outputs": [
    {
     "data": {
      "text/plain": [
       "array([ 909976, 8615246, 2872086, 2273305])"
      ]
     },
     "execution_count": 7,
     "metadata": {},
     "output_type": "execute_result"
    }
   ],
   "source": [
    "s.values"
   ]
  },
  {
   "cell_type": "markdown",
   "id": "94de0220-d0e1-4be4-ab37-eae40d7a4a60",
   "metadata": {},
   "source": [
    "数字索引的缺点是不具有描述性。如果这组数据表示的是城市人口，很明显字符串索引会更方便。\n",
    "\n",
    "我们可以把一个新的索引列表赋值给Series对象的index属性，也可以给Series对象设置name属性。"
   ]
  },
  {
   "cell_type": "code",
   "execution_count": 8,
   "id": "5c15d0a2-a250-4964-8ace-04e220c4e802",
   "metadata": {},
   "outputs": [
    {
     "data": {
      "text/plain": [
       "Stockholm     909976\n",
       "London       8615246\n",
       "Rome         2872086\n",
       "Paris        2273305\n",
       "Name: Population, dtype: int64"
      ]
     },
     "execution_count": 8,
     "metadata": {},
     "output_type": "execute_result"
    }
   ],
   "source": [
    "s.index = [\"Stockholm\", \"London\", \"Rome\", \"Paris\"]\n",
    "s.name = \"Population\"\n",
    "s"
   ]
  },
  {
   "cell_type": "markdown",
   "id": "1d182909-ee2e-4959-a4b1-e29bd4c3e5c9",
   "metadata": {},
   "source": [
    "另外，我们也可以在创建Series对象时通过关键词参数设置索引和名称。"
   ]
  },
  {
   "cell_type": "code",
   "execution_count": 9,
   "id": "3fc2f2a6-cebc-4f44-a546-710942ca5504",
   "metadata": {},
   "outputs": [
    {
     "data": {
      "text/plain": [
       "Stockholm     909976\n",
       "London       8615246\n",
       "Rome         2872086\n",
       "Paris        2273305\n",
       "Name: Population, dtype: int64"
      ]
     },
     "execution_count": 9,
     "metadata": {},
     "output_type": "execute_result"
    }
   ],
   "source": [
    "s = pd.Series([909976, 8615246, 2872086, 2273305], \n",
    "              index=[\"Stockholm\", \"London\", \"Rome\", \"Paris\"], name=\"Population\")\n",
    "s"
   ]
  },
  {
   "cell_type": "markdown",
   "id": "be1c7f61-a9a0-491a-97d8-7cc250cfc298",
   "metadata": {
    "tags": []
   },
   "source": [
    "#### 索引Series对象\n",
    "\n",
    "我们可以将索引作为下标来访问数据，也可以直接访问与索引同名的属性。"
   ]
  },
  {
   "cell_type": "code",
   "execution_count": 10,
   "id": "57027153-1269-4454-9f64-b6c75de48d9b",
   "metadata": {},
   "outputs": [
    {
     "data": {
      "text/plain": [
       "8615246"
      ]
     },
     "execution_count": 10,
     "metadata": {},
     "output_type": "execute_result"
    }
   ],
   "source": [
    "s[1]"
   ]
  },
  {
   "cell_type": "code",
   "execution_count": 11,
   "id": "0d9c0c26-0cc7-4114-80da-6625ca3328d8",
   "metadata": {},
   "outputs": [
    {
     "data": {
      "text/plain": [
       "8615246"
      ]
     },
     "execution_count": 11,
     "metadata": {},
     "output_type": "execute_result"
    }
   ],
   "source": [
    "s[\"London\"]"
   ]
  },
  {
   "cell_type": "code",
   "execution_count": 12,
   "id": "d75d3aad-3b6b-465e-a36c-c7ce4ef39d02",
   "metadata": {},
   "outputs": [
    {
     "data": {
      "text/plain": [
       "8615246"
      ]
     },
     "execution_count": 12,
     "metadata": {},
     "output_type": "execute_result"
    }
   ],
   "source": [
    "s.London"
   ]
  },
  {
   "cell_type": "markdown",
   "id": "f3cc0fca-0804-4218-83be-48e4bab514f6",
   "metadata": {},
   "source": [
    "使用一个索引列表来访问Series对象，可以获得一个包含原始数据的子集的Series对象。"
   ]
  },
  {
   "cell_type": "code",
   "execution_count": 13,
   "id": "232c9944-cee0-4ecb-82cd-c59fa7dc0115",
   "metadata": {},
   "outputs": [
    {
     "data": {
      "text/plain": [
       "Paris    2273305\n",
       "Rome     2872086\n",
       "Name: Population, dtype: int64"
      ]
     },
     "execution_count": 13,
     "metadata": {},
     "output_type": "execute_result"
    }
   ],
   "source": [
    "s[[\"Paris\", \"Rome\"]]"
   ]
  },
  {
   "cell_type": "markdown",
   "id": "80914ff3-cc79-47e6-af85-a786cb7efaf1",
   "metadata": {},
   "source": [
    "#### 统计Series对象\n",
    "\n",
    "使用Series对象的方法，可以很方便计算统计信息。"
   ]
  },
  {
   "cell_type": "code",
   "execution_count": 14,
   "id": "ad0553f0-e64d-43af-9a50-f712ab584da6",
   "metadata": {},
   "outputs": [
    {
     "data": {
      "text/plain": [
       "4"
      ]
     },
     "execution_count": 14,
     "metadata": {},
     "output_type": "execute_result"
    }
   ],
   "source": [
    "'''计数'''\n",
    "s.count()"
   ]
  },
  {
   "cell_type": "code",
   "execution_count": 15,
   "id": "174378bf-de65-4969-bdf0-a44f2c64e5a9",
   "metadata": {},
   "outputs": [
    {
     "data": {
      "text/plain": [
       "(2572695.5, 3667653.25, 3399048.5005155364)"
      ]
     },
     "execution_count": 15,
     "metadata": {},
     "output_type": "execute_result"
    }
   ],
   "source": [
    "'''中位数、平均值和标准差'''\n",
    "s.median(), s.mean(), s.std()"
   ]
  },
  {
   "cell_type": "code",
   "execution_count": 16,
   "id": "516758f0-853a-4c56-be58-f72df526592d",
   "metadata": {},
   "outputs": [
    {
     "data": {
      "text/plain": [
       "(1932472.75, 2572695.5, 4307876.0)"
      ]
     },
     "execution_count": 16,
     "metadata": {},
     "output_type": "execute_result"
    }
   ],
   "source": [
    "'''分位数'''\n",
    "s.quantile(q=0.25), s.quantile(q=0.5), s.quantile(q=0.75)"
   ]
  },
  {
   "cell_type": "markdown",
   "id": "4a111971-5294-4a0e-8d70-784e35551531",
   "metadata": {},
   "source": [
    "上面的统计信息可以通过`describe`方法统一输出。"
   ]
  },
  {
   "cell_type": "code",
   "execution_count": 17,
   "id": "f2188d4b-df65-414d-ad9f-dffcf8daa31d",
   "metadata": {},
   "outputs": [
    {
     "data": {
      "text/plain": [
       "count    4.000000e+00\n",
       "mean     3.667653e+06\n",
       "std      3.399049e+06\n",
       "min      9.099760e+05\n",
       "25%      1.932473e+06\n",
       "50%      2.572696e+06\n",
       "75%      4.307876e+06\n",
       "max      8.615246e+06\n",
       "Name: Population, dtype: float64"
      ]
     },
     "execution_count": 17,
     "metadata": {},
     "output_type": "execute_result"
    }
   ],
   "source": [
    "s.describe()"
   ]
  },
  {
   "cell_type": "markdown",
   "id": "db84f6f9-29c5-4958-8501-7a0d57ce4a39",
   "metadata": {},
   "source": [
    "Series对象的plot方法，可以轻松对数据进行可视化。Pandas库使用matplotlib库绘图，可以通过ax参数把一个matplotlib Axes实例传递给plot方法。图形的类型可以使用kind参数进行指定。"
   ]
  },
  {
   "cell_type": "code",
   "execution_count": 18,
   "id": "4e6c1fd7-9b2d-4878-9344-2d93519e5456",
   "metadata": {},
   "outputs": [
    {
     "data": {
      "image/png": "[encoded data removed]",
      "text/plain": [
       "<Figure size 864x252 with 4 Axes>"
      ]
     },
     "metadata": {},
     "output_type": "display_data"
    }
   ],
   "source": [
    "fig, axes = plt.subplots(1, 4, figsize=(12, 3.5))\n",
    "\n",
    "s.plot(ax=axes[0], kind='line', title=\"line\")\n",
    "s.plot(ax=axes[1], kind='bar', title=\"bar\")\n",
    "s.plot(ax=axes[2], kind='box', title=\"box\")\n",
    "s.plot(ax=axes[3], kind='pie', title=\"pie\")\n",
    "\n",
    "fig.tight_layout()"
   ]
  },
  {
   "cell_type": "markdown",
   "id": "95d06740-f72f-436e-b69a-c5074e8f6d2a",
   "metadata": {},
   "source": [
    "### DataFrame对象\n",
    "\n",
    "对于二维维数据，Pandas库提供了对应的数据结构DataFrame，它可以看作具有公共索引的Series对象的集合。"
   ]
  },
  {
   "cell_type": "markdown",
   "id": "26971c59-2a19-445b-b92f-f391c2216196",
   "metadata": {},
   "source": [
    "#### 创建DataFrame对象\n",
    "\n",
    "创建DataFrame对象， 可以传递一个嵌套的Python列表或字典给DataFrame构造函数。"
   ]
  },
  {
   "cell_type": "code",
   "execution_count": 19,
   "id": "39406471-61aa-4a8e-9a22-df8d98bad556",
   "metadata": {},
   "outputs": [
    {
     "data": {
      "text/html": [
       "<div>\n",
       "<style scoped>\n",
       "    .dataframe tbody tr th:only-of-type {\n",
       "        vertical-align: middle;\n",
       "    }\n",
       "\n",
       "    .dataframe tbody tr th {\n",
       "        vertical-align: top;\n",
       "    }\n",
       "\n",
       "    .dataframe thead th {\n",
       "        text-align: right;\n",
       "    }\n",
       "</style>\n",
       "<table border=\"1\" class=\"dataframe\">\n",
       "  <thead>\n",
       "    <tr style=\"text-align: right;\">\n",
       "      <th></th>\n",
       "      <th>0</th>\n",
       "      <th>1</th>\n",
       "      <th>2</th>\n",
       "      <th>3</th>\n",
       "    </tr>\n",
       "  </thead>\n",
       "  <tbody>\n",
       "    <tr>\n",
       "      <th>0</th>\n",
       "      <td>909976</td>\n",
       "      <td>8615246</td>\n",
       "      <td>2872086</td>\n",
       "      <td>2273305</td>\n",
       "    </tr>\n",
       "    <tr>\n",
       "      <th>1</th>\n",
       "      <td>Sweden</td>\n",
       "      <td>United kingdom</td>\n",
       "      <td>Italy</td>\n",
       "      <td>France</td>\n",
       "    </tr>\n",
       "  </tbody>\n",
       "</table>\n",
       "</div>"
      ],
      "text/plain": [
       "        0               1        2        3\n",
       "0  909976         8615246  2872086  2273305\n",
       "1  Sweden  United kingdom    Italy   France"
      ]
     },
     "execution_count": 19,
     "metadata": {},
     "output_type": "execute_result"
    }
   ],
   "source": [
    "df = pd.DataFrame([[909976, 8615246, 2872086, 2273305],\n",
    "                   [\"Sweden\", \"United kingdom\", \"Italy\", \"France\"]])\n",
    "df"
   ]
  },
  {
   "cell_type": "code",
   "execution_count": 20,
   "id": "adfbd74b-4771-4256-9065-60fa212d52f6",
   "metadata": {},
   "outputs": [
    {
     "data": {
      "text/html": [
       "<div>\n",
       "<style scoped>\n",
       "    .dataframe tbody tr th:only-of-type {\n",
       "        vertical-align: middle;\n",
       "    }\n",
       "\n",
       "    .dataframe tbody tr th {\n",
       "        vertical-align: top;\n",
       "    }\n",
       "\n",
       "    .dataframe thead th {\n",
       "        text-align: right;\n",
       "    }\n",
       "</style>\n",
       "<table border=\"1\" class=\"dataframe\">\n",
       "  <thead>\n",
       "    <tr style=\"text-align: right;\">\n",
       "      <th></th>\n",
       "      <th>0</th>\n",
       "      <th>1</th>\n",
       "    </tr>\n",
       "  </thead>\n",
       "  <tbody>\n",
       "    <tr>\n",
       "      <th>0</th>\n",
       "      <td>909976</td>\n",
       "      <td>Sweden</td>\n",
       "    </tr>\n",
       "    <tr>\n",
       "      <th>1</th>\n",
       "      <td>8615246</td>\n",
       "      <td>United kingdom</td>\n",
       "    </tr>\n",
       "    <tr>\n",
       "      <th>2</th>\n",
       "      <td>2872086</td>\n",
       "      <td>Italy</td>\n",
       "    </tr>\n",
       "    <tr>\n",
       "      <th>3</th>\n",
       "      <td>2273305</td>\n",
       "      <td>France</td>\n",
       "    </tr>\n",
       "  </tbody>\n",
       "</table>\n",
       "</div>"
      ],
      "text/plain": [
       "         0               1\n",
       "0   909976          Sweden\n",
       "1  8615246  United kingdom\n",
       "2  2872086           Italy\n",
       "3  2273305          France"
      ]
     },
     "execution_count": 20,
     "metadata": {},
     "output_type": "execute_result"
    }
   ],
   "source": [
    "df = pd.DataFrame([[909976, \"Sweden\"],\n",
    "                   [8615246, \"United kingdom\"], \n",
    "                   [2872086, \"Italy\"],\n",
    "                   [2273305, \"France\"]])\n",
    "df"
   ]
  },
  {
   "cell_type": "markdown",
   "id": "ff484dc9-82e9-4483-b8fe-6916bde5aa56",
   "metadata": {},
   "source": [
    "返回的结果是一种带有行和列的表格类型的数据结构。\n",
    "\n",
    "类似于Series对象，可以将index属性赋值为标签列表为每行设置标签索引，也可以通过设置columns属性为每列设置标签。"
   ]
  },
  {
   "cell_type": "code",
   "execution_count": 21,
   "id": "c569050f-63d4-4d37-a11d-0ff9f1ec3e0e",
   "metadata": {},
   "outputs": [
    {
     "data": {
      "text/html": [
       "<div>\n",
       "<style scoped>\n",
       "    .dataframe tbody tr th:only-of-type {\n",
       "        vertical-align: middle;\n",
       "    }\n",
       "\n",
       "    .dataframe tbody tr th {\n",
       "        vertical-align: top;\n",
       "    }\n",
       "\n",
       "    .dataframe thead th {\n",
       "        text-align: right;\n",
       "    }\n",
       "</style>\n",
       "<table border=\"1\" class=\"dataframe\">\n",
       "  <thead>\n",
       "    <tr style=\"text-align: right;\">\n",
       "      <th></th>\n",
       "      <th>Population</th>\n",
       "      <th>State</th>\n",
       "    </tr>\n",
       "  </thead>\n",
       "  <tbody>\n",
       "    <tr>\n",
       "      <th>Stockholm</th>\n",
       "      <td>909976</td>\n",
       "      <td>Sweden</td>\n",
       "    </tr>\n",
       "    <tr>\n",
       "      <th>London</th>\n",
       "      <td>8615246</td>\n",
       "      <td>United kingdom</td>\n",
       "    </tr>\n",
       "    <tr>\n",
       "      <th>Rome</th>\n",
       "      <td>2872086</td>\n",
       "      <td>Italy</td>\n",
       "    </tr>\n",
       "    <tr>\n",
       "      <th>Paris</th>\n",
       "      <td>2273305</td>\n",
       "      <td>France</td>\n",
       "    </tr>\n",
       "  </tbody>\n",
       "</table>\n",
       "</div>"
      ],
      "text/plain": [
       "           Population           State\n",
       "Stockholm      909976          Sweden\n",
       "London        8615246  United kingdom\n",
       "Rome          2872086           Italy\n",
       "Paris         2273305          France"
      ]
     },
     "execution_count": 21,
     "metadata": {},
     "output_type": "execute_result"
    }
   ],
   "source": [
    "df.index = [\"Stockholm\", \"London\", \"Rome\", \"Paris\"]\n",
    "df.columns = [\"Population\", \"State\"]\n",
    "df"
   ]
  },
  {
   "cell_type": "markdown",
   "id": "de975f85-5f73-4689-9c73-a9afbd6b68f3",
   "metadata": {},
   "source": [
    "在创建DataFrame对象时，可以通过设置相应的关键词参数来设置index和columns对象。"
   ]
  },
  {
   "cell_type": "code",
   "execution_count": 22,
   "id": "95e1265e-c5a8-49ab-8e49-49ee58ff43ad",
   "metadata": {},
   "outputs": [
    {
     "data": {
      "text/html": [
       "<div>\n",
       "<style scoped>\n",
       "    .dataframe tbody tr th:only-of-type {\n",
       "        vertical-align: middle;\n",
       "    }\n",
       "\n",
       "    .dataframe tbody tr th {\n",
       "        vertical-align: top;\n",
       "    }\n",
       "\n",
       "    .dataframe thead th {\n",
       "        text-align: right;\n",
       "    }\n",
       "</style>\n",
       "<table border=\"1\" class=\"dataframe\">\n",
       "  <thead>\n",
       "    <tr style=\"text-align: right;\">\n",
       "      <th></th>\n",
       "      <th>Population</th>\n",
       "      <th>State</th>\n",
       "    </tr>\n",
       "  </thead>\n",
       "  <tbody>\n",
       "    <tr>\n",
       "      <th>Stockholm</th>\n",
       "      <td>909976</td>\n",
       "      <td>Sweden</td>\n",
       "    </tr>\n",
       "    <tr>\n",
       "      <th>London</th>\n",
       "      <td>8615246</td>\n",
       "      <td>United kingdom</td>\n",
       "    </tr>\n",
       "    <tr>\n",
       "      <th>Rome</th>\n",
       "      <td>2872086</td>\n",
       "      <td>Italy</td>\n",
       "    </tr>\n",
       "    <tr>\n",
       "      <th>Paris</th>\n",
       "      <td>2273305</td>\n",
       "      <td>France</td>\n",
       "    </tr>\n",
       "  </tbody>\n",
       "</table>\n",
       "</div>"
      ],
      "text/plain": [
       "           Population           State\n",
       "Stockholm      909976          Sweden\n",
       "London        8615246  United kingdom\n",
       "Rome          2872086           Italy\n",
       "Paris         2273305          France"
      ]
     },
     "execution_count": 22,
     "metadata": {},
     "output_type": "execute_result"
    }
   ],
   "source": [
    "df = pd.DataFrame([[909976, \"Sweden\"],\n",
    "                   [8615246, \"United kingdom\"], \n",
    "                   [2872086, \"Italy\"],\n",
    "                   [2273305, \"France\"]],\n",
    "                  index=[\"Stockholm\", \"London\", \"Rome\", \"Paris\"],\n",
    "                  columns=[\"Population\", \"State\"])\n",
    "df"
   ]
  },
  {
   "cell_type": "markdown",
   "id": "245ba454-fc70-42b1-a80f-0ffa365f068d",
   "metadata": {},
   "source": [
    "还有另外一种创建DataFrame对象的常用方法，给构造函数传入一个字典，列头是字典的键，每列的数据是字典的值。"
   ]
  },
  {
   "cell_type": "code",
   "execution_count": 23,
   "id": "6ac96726-fe74-4443-8369-6711d0194b52",
   "metadata": {},
   "outputs": [
    {
     "data": {
      "text/html": [
       "<div>\n",
       "<style scoped>\n",
       "    .dataframe tbody tr th:only-of-type {\n",
       "        vertical-align: middle;\n",
       "    }\n",
       "\n",
       "    .dataframe tbody tr th {\n",
       "        vertical-align: top;\n",
       "    }\n",
       "\n",
       "    .dataframe thead th {\n",
       "        text-align: right;\n",
       "    }\n",
       "</style>\n",
       "<table border=\"1\" class=\"dataframe\">\n",
       "  <thead>\n",
       "    <tr style=\"text-align: right;\">\n",
       "      <th></th>\n",
       "      <th>Population</th>\n",
       "      <th>State</th>\n",
       "    </tr>\n",
       "  </thead>\n",
       "  <tbody>\n",
       "    <tr>\n",
       "      <th>0</th>\n",
       "      <td>909976</td>\n",
       "      <td>Sweden</td>\n",
       "    </tr>\n",
       "    <tr>\n",
       "      <th>1</th>\n",
       "      <td>8615246</td>\n",
       "      <td>United kingdom</td>\n",
       "    </tr>\n",
       "    <tr>\n",
       "      <th>2</th>\n",
       "      <td>2872086</td>\n",
       "      <td>Italy</td>\n",
       "    </tr>\n",
       "    <tr>\n",
       "      <th>3</th>\n",
       "      <td>2273305</td>\n",
       "      <td>France</td>\n",
       "    </tr>\n",
       "  </tbody>\n",
       "</table>\n",
       "</div>"
      ],
      "text/plain": [
       "   Population           State\n",
       "0      909976          Sweden\n",
       "1     8615246  United kingdom\n",
       "2     2872086           Italy\n",
       "3     2273305          France"
      ]
     },
     "execution_count": 23,
     "metadata": {},
     "output_type": "execute_result"
    }
   ],
   "source": [
    "df = pd.DataFrame({\"Population\": [909976, 8615246, 2872086, 2273305],\n",
    "                   \"State\": [\"Sweden\", \"United kingdom\", \"Italy\", \"France\"]},)\n",
    "df"
   ]
  },
  {
   "cell_type": "code",
   "execution_count": 24,
   "id": "3b76f262-9ba9-4b91-99f1-fc126041aa21",
   "metadata": {},
   "outputs": [
    {
     "data": {
      "text/html": [
       "<div>\n",
       "<style scoped>\n",
       "    .dataframe tbody tr th:only-of-type {\n",
       "        vertical-align: middle;\n",
       "    }\n",
       "\n",
       "    .dataframe tbody tr th {\n",
       "        vertical-align: top;\n",
       "    }\n",
       "\n",
       "    .dataframe thead th {\n",
       "        text-align: right;\n",
       "    }\n",
       "</style>\n",
       "<table border=\"1\" class=\"dataframe\">\n",
       "  <thead>\n",
       "    <tr style=\"text-align: right;\">\n",
       "      <th></th>\n",
       "      <th>Population</th>\n",
       "      <th>State</th>\n",
       "    </tr>\n",
       "  </thead>\n",
       "  <tbody>\n",
       "    <tr>\n",
       "      <th>Stockholm</th>\n",
       "      <td>909976</td>\n",
       "      <td>Sweden</td>\n",
       "    </tr>\n",
       "    <tr>\n",
       "      <th>London</th>\n",
       "      <td>8615246</td>\n",
       "      <td>United kingdom</td>\n",
       "    </tr>\n",
       "    <tr>\n",
       "      <th>Rome</th>\n",
       "      <td>2872086</td>\n",
       "      <td>Italy</td>\n",
       "    </tr>\n",
       "    <tr>\n",
       "      <th>Paris</th>\n",
       "      <td>2273305</td>\n",
       "      <td>France</td>\n",
       "    </tr>\n",
       "  </tbody>\n",
       "</table>\n",
       "</div>"
      ],
      "text/plain": [
       "           Population           State\n",
       "Stockholm      909976          Sweden\n",
       "London        8615246  United kingdom\n",
       "Rome          2872086           Italy\n",
       "Paris         2273305          France"
      ]
     },
     "execution_count": 24,
     "metadata": {},
     "output_type": "execute_result"
    }
   ],
   "source": [
    "df.index=[\"Stockholm\", \"London\", \"Rome\", \"Paris\"]\n",
    "df"
   ]
  },
  {
   "cell_type": "markdown",
   "id": "e4323242-11f6-492d-b4a6-e1d3d1bc51a5",
   "metadata": {},
   "source": [
    "#### 索引DataFrame对象\n",
    "\n",
    "可以使用index和columns属性分别获取DataFrame对象中数据的索引和所有列。"
   ]
  },
  {
   "cell_type": "code",
   "execution_count": 25,
   "id": "1420cbc3-16c5-4327-a56c-74b5727cd856",
   "metadata": {},
   "outputs": [
    {
     "data": {
      "text/plain": [
       "Stockholm     909976\n",
       "London       8615246\n",
       "Rome         2872086\n",
       "Paris        2273305\n",
       "Name: Population, dtype: int64"
      ]
     },
     "execution_count": 25,
     "metadata": {},
     "output_type": "execute_result"
    }
   ],
   "source": [
    "df.Population"
   ]
  },
  {
   "cell_type": "code",
   "execution_count": 26,
   "id": "e4bf4816-c2a1-48a3-bf78-ea3ba4221a99",
   "metadata": {},
   "outputs": [
    {
     "data": {
      "text/plain": [
       "Stockholm     909976\n",
       "London       8615246\n",
       "Rome         2872086\n",
       "Paris        2273305\n",
       "Name: Population, dtype: int64"
      ]
     },
     "execution_count": 26,
     "metadata": {},
     "output_type": "execute_result"
    }
   ],
   "source": [
    "df[\"Population\"]"
   ]
  },
  {
   "cell_type": "markdown",
   "id": "2133f109-94c1-493c-98f3-bc77e2f22701",
   "metadata": {},
   "source": [
    "从DataFrame中提取了一列数据后，将返回一个Series对象。\n",
    "\n",
    "DataFrame的行可以使用loc索引器属性进行索引，同样也会返回一个Series对象。"
   ]
  },
  {
   "cell_type": "code",
   "execution_count": 27,
   "id": "e2764c7e-5ffe-4aef-b598-2039bf9b059e",
   "metadata": {},
   "outputs": [
    {
     "data": {
      "text/plain": [
       "Population    909976\n",
       "State         Sweden\n",
       "Name: Stockholm, dtype: object"
      ]
     },
     "execution_count": 27,
     "metadata": {},
     "output_type": "execute_result"
    }
   ],
   "source": [
    "df.loc[\"Stockholm\"]"
   ]
  },
  {
   "cell_type": "markdown",
   "id": "122f46e1-0c53-4e6a-a2dc-6fe81d361be7",
   "metadata": {},
   "source": [
    "给loc索引器传入一个标签列表，将返回一个新的DataFrame对象，内容是原始数据的子集。"
   ]
  },
  {
   "cell_type": "code",
   "execution_count": 28,
   "id": "66a71685-e02b-4053-9da6-7209b62da9c7",
   "metadata": {},
   "outputs": [
    {
     "data": {
      "text/html": [
       "<div>\n",
       "<style scoped>\n",
       "    .dataframe tbody tr th:only-of-type {\n",
       "        vertical-align: middle;\n",
       "    }\n",
       "\n",
       "    .dataframe tbody tr th {\n",
       "        vertical-align: top;\n",
       "    }\n",
       "\n",
       "    .dataframe thead th {\n",
       "        text-align: right;\n",
       "    }\n",
       "</style>\n",
       "<table border=\"1\" class=\"dataframe\">\n",
       "  <thead>\n",
       "    <tr style=\"text-align: right;\">\n",
       "      <th></th>\n",
       "      <th>Population</th>\n",
       "      <th>State</th>\n",
       "    </tr>\n",
       "  </thead>\n",
       "  <tbody>\n",
       "    <tr>\n",
       "      <th>Paris</th>\n",
       "      <td>2273305</td>\n",
       "      <td>France</td>\n",
       "    </tr>\n",
       "    <tr>\n",
       "      <th>Rome</th>\n",
       "      <td>2872086</td>\n",
       "      <td>Italy</td>\n",
       "    </tr>\n",
       "  </tbody>\n",
       "</table>\n",
       "</div>"
      ],
      "text/plain": [
       "       Population   State\n",
       "Paris     2273305  France\n",
       "Rome      2872086   Italy"
      ]
     },
     "execution_count": 28,
     "metadata": {},
     "output_type": "execute_result"
    }
   ],
   "source": [
    "df.loc[[\"Paris\", \"Rome\"]]"
   ]
  },
  {
   "cell_type": "markdown",
   "id": "5496f425-1a2e-483a-857e-669f51db6149",
   "metadata": {},
   "source": [
    "loc索引器也可以用来同时选择行和列。"
   ]
  },
  {
   "cell_type": "code",
   "execution_count": 29,
   "id": "97173012-ebad-43eb-b9e5-33f9097f3b81",
   "metadata": {},
   "outputs": [
    {
     "data": {
      "text/plain": [
       "Paris    2273305\n",
       "Rome     2872086\n",
       "Name: Population, dtype: int64"
      ]
     },
     "execution_count": 29,
     "metadata": {},
     "output_type": "execute_result"
    }
   ],
   "source": [
    "df.loc[[\"Paris\", \"Rome\"], \"Population\"]"
   ]
  },
  {
   "cell_type": "markdown",
   "id": "d2956591-8cac-406a-aa87-56564f08aed2",
   "metadata": {},
   "source": [
    "我们还可以使用head方法和tail方法查看表头和表尾数据。"
   ]
  },
  {
   "cell_type": "code",
   "execution_count": 30,
   "id": "f4529080-b6b2-4567-9f3b-59bf0d273c55",
   "metadata": {},
   "outputs": [
    {
     "data": {
      "text/html": [
       "<div>\n",
       "<style scoped>\n",
       "    .dataframe tbody tr th:only-of-type {\n",
       "        vertical-align: middle;\n",
       "    }\n",
       "\n",
       "    .dataframe tbody tr th {\n",
       "        vertical-align: top;\n",
       "    }\n",
       "\n",
       "    .dataframe thead th {\n",
       "        text-align: right;\n",
       "    }\n",
       "</style>\n",
       "<table border=\"1\" class=\"dataframe\">\n",
       "  <thead>\n",
       "    <tr style=\"text-align: right;\">\n",
       "      <th></th>\n",
       "      <th>Population</th>\n",
       "      <th>State</th>\n",
       "    </tr>\n",
       "  </thead>\n",
       "  <tbody>\n",
       "    <tr>\n",
       "      <th>Stockholm</th>\n",
       "      <td>909976</td>\n",
       "      <td>Sweden</td>\n",
       "    </tr>\n",
       "    <tr>\n",
       "      <th>London</th>\n",
       "      <td>8615246</td>\n",
       "      <td>United kingdom</td>\n",
       "    </tr>\n",
       "  </tbody>\n",
       "</table>\n",
       "</div>"
      ],
      "text/plain": [
       "           Population           State\n",
       "Stockholm      909976          Sweden\n",
       "London        8615246  United kingdom"
      ]
     },
     "execution_count": 30,
     "metadata": {},
     "output_type": "execute_result"
    }
   ],
   "source": [
    "df.head(2)"
   ]
  },
  {
   "cell_type": "markdown",
   "id": "11d2af3c-0869-48a4-a3a0-529a9ce41bfc",
   "metadata": {},
   "source": [
    "#### 统计DataFrame对象"
   ]
  },
  {
   "cell_type": "code",
   "execution_count": 31,
   "id": "17cf8618-983a-4a64-a603-7f6be1b022c4",
   "metadata": {},
   "outputs": [
    {
     "data": {
      "text/plain": [
       "3667653.25"
      ]
     },
     "execution_count": 31,
     "metadata": {},
     "output_type": "execute_result"
    }
   ],
   "source": [
    "df[\"Population\"].mean()"
   ]
  },
  {
   "cell_type": "code",
   "execution_count": 32,
   "id": "4633e198-8e4e-4199-bb8c-5da26a96c909",
   "metadata": {},
   "outputs": [
    {
     "data": {
      "text/plain": [
       "<bound method DataFrame.info of            Population           State\n",
       "Stockholm      909976          Sweden\n",
       "London        8615246  United kingdom\n",
       "Rome          2872086           Italy\n",
       "Paris         2273305          France>"
      ]
     },
     "execution_count": 32,
     "metadata": {},
     "output_type": "execute_result"
    }
   ],
   "source": [
    "df.info"
   ]
  },
  {
   "cell_type": "markdown",
   "id": "7e839aee-5810-4809-810e-f3f0aef8def8",
   "metadata": {},
   "source": [
    "### 文件IO\n",
    "\n",
    "Pandas库提供了多种从不同格式的文件[读取数据的方法](https://pandas.pydata.org/docs/user_guide/io.html)。\n",
    "\n",
    "[逗号分隔值CSV](https://zh.wikipedia.org/wiki/逗号分隔值)是一种常见的纯文本形式存储表格数据的文件格式。如果对文件的读取和存储有性能要求，可以使用[层级数据格式HDF](https://zh.m.wikipedia.org/zh-hans/HDF)。\n",
    "\n",
    "下面，我们将使用`read_csv`函数从csv文件中读取数据和创建DataFrame对象。所用数据集为[欧洲城市人口排名](https://en.wikipedia.org/wiki/List_of_cities_in_the_European_Union_by_population_within_city_limits)。"
   ]
  },
  {
   "cell_type": "code",
   "execution_count": 33,
   "id": "3647ee82-2e4b-4027-ac51-67b941245867",
   "metadata": {},
   "outputs": [
    {
     "name": "stdout",
     "output_type": "stream",
     "text": [
      "Rank,City,State,Population,Date of census\n",
      "1 ,Berlin ,Germany ,\"3,664,088\" ,31 December 2020\n",
      "2 ,Madrid ,Spain ,3305408 ,1 January 2021\n",
      "3 ,Rome ,Italy ,2770226 ,1 January 2021\n",
      "4 ,Bucharest ,Romania ,2161347 ,1 July 2021\n",
      "5 ,Paris ,France ,2139907 ,1 January 2022\n",
      "6 ,Vienna ,Austria ,1951354 ,1 April 2022\n",
      "7 ,Hamburg ,Germany ,1852478 ,31 December 2020\n",
      "8 ,Warsaw ,Poland ,1792718 ,30 June 2021\n",
      "9 ,Budapest ,Hungary ,1723836 ,1 January 2021\n"
     ]
    }
   ],
   "source": [
    "!head european_cities.csv"
   ]
  },
  {
   "cell_type": "markdown",
   "id": "d864195b-03ef-4978-8c1e-6d6360657451",
   "metadata": {},
   "source": [
    "注意，英文文本中较长的数字是使用逗号分隔的，导入文本数据时需要格外小心。"
   ]
  },
  {
   "cell_type": "code",
   "execution_count": 34,
   "id": "4d9cb296-f95c-4ad9-9a1d-57b5a7c0e288",
   "metadata": {},
   "outputs": [
    {
     "data": {
      "text/html": [
       "<div>\n",
       "<style scoped>\n",
       "    .dataframe tbody tr th:only-of-type {\n",
       "        vertical-align: middle;\n",
       "    }\n",
       "\n",
       "    .dataframe tbody tr th {\n",
       "        vertical-align: top;\n",
       "    }\n",
       "\n",
       "    .dataframe thead th {\n",
       "        text-align: right;\n",
       "    }\n",
       "</style>\n",
       "<table border=\"1\" class=\"dataframe\">\n",
       "  <thead>\n",
       "    <tr style=\"text-align: right;\">\n",
       "      <th></th>\n",
       "      <th>Rank</th>\n",
       "      <th>City</th>\n",
       "      <th>State</th>\n",
       "      <th>Population</th>\n",
       "      <th>Date of census</th>\n",
       "    </tr>\n",
       "  </thead>\n",
       "  <tbody>\n",
       "    <tr>\n",
       "      <th>0</th>\n",
       "      <td>1</td>\n",
       "      <td>Berlin</td>\n",
       "      <td>Germany</td>\n",
       "      <td>3,664,088</td>\n",
       "      <td>31 December 2020</td>\n",
       "    </tr>\n",
       "    <tr>\n",
       "      <th>1</th>\n",
       "      <td>2</td>\n",
       "      <td>Madrid</td>\n",
       "      <td>Spain</td>\n",
       "      <td>3305408</td>\n",
       "      <td>1 January 2021</td>\n",
       "    </tr>\n",
       "    <tr>\n",
       "      <th>2</th>\n",
       "      <td>3</td>\n",
       "      <td>Rome</td>\n",
       "      <td>Italy</td>\n",
       "      <td>2770226</td>\n",
       "      <td>1 January 2021</td>\n",
       "    </tr>\n",
       "    <tr>\n",
       "      <th>3</th>\n",
       "      <td>4</td>\n",
       "      <td>Bucharest</td>\n",
       "      <td>Romania</td>\n",
       "      <td>2161347</td>\n",
       "      <td>1 July 2021</td>\n",
       "    </tr>\n",
       "    <tr>\n",
       "      <th>4</th>\n",
       "      <td>5</td>\n",
       "      <td>Paris</td>\n",
       "      <td>France</td>\n",
       "      <td>2139907</td>\n",
       "      <td>1 January 2022</td>\n",
       "    </tr>\n",
       "  </tbody>\n",
       "</table>\n",
       "</div>"
      ],
      "text/plain": [
       "   Rank        City     State  Population    Date of census\n",
       "0     1     Berlin   Germany   3,664,088   31 December 2020\n",
       "1     2     Madrid     Spain     3305408     1 January 2021\n",
       "2     3       Rome     Italy     2770226     1 January 2021\n",
       "3     4  Bucharest   Romania     2161347        1 July 2021\n",
       "4     5      Paris    France     2139907     1 January 2022"
      ]
     },
     "execution_count": 34,
     "metadata": {},
     "output_type": "execute_result"
    }
   ],
   "source": [
    "df_pop = pd.read_csv(\"european_cities.csv\")\n",
    "df_pop.head()"
   ]
  },
  {
   "cell_type": "markdown",
   "id": "b6d720c5-5b88-4fd8-b245-908e089a9f6e",
   "metadata": {},
   "source": [
    "在进行下一步的数据分析之前，通过打印DataFrame中截取的部分数据，我们可以知道数据大概的样式。"
   ]
  },
  {
   "cell_type": "markdown",
   "id": "da24d20d-93bd-4805-a8a1-88dc231567b8",
   "metadata": {},
   "source": [
    "`read_csv`函数默认的delimiter是“,”，默认的header是第一行。这些参数也可以显示地写出来。"
   ]
  },
  {
   "cell_type": "code",
   "execution_count": 35,
   "id": "b4d04f34-355f-49c9-8596-2e8a884af9d6",
   "metadata": {},
   "outputs": [],
   "source": [
    "df_pop = pd.read_csv(\"european_cities.csv\", delimiter=\",\", encoding=\"utf-8\", header=0)"
   ]
  },
  {
   "cell_type": "markdown",
   "id": "95e4404a-18f8-43e1-9405-a23d3cad9b91",
   "metadata": {},
   "source": [
    "使用`info`方法查看数据集的概要。"
   ]
  },
  {
   "cell_type": "code",
   "execution_count": 36,
   "id": "00d1cd60-056b-4036-aae2-9d798bf1f793",
   "metadata": {},
   "outputs": [
    {
     "name": "stdout",
     "output_type": "stream",
     "text": [
      "<class 'pandas.core.frame.DataFrame'>\n",
      "RangeIndex: 50 entries, 0 to 49\n",
      "Data columns (total 5 columns):\n",
      " #   Column          Non-Null Count  Dtype \n",
      "---  ------          --------------  ----- \n",
      " 0   Rank            50 non-null     int64 \n",
      " 1   City            50 non-null     object\n",
      " 2   State           50 non-null     object\n",
      " 3   Population      50 non-null     object\n",
      " 4   Date of census  50 non-null     object\n",
      "dtypes: int64(1), object(4)\n",
      "memory usage: 2.1+ KB\n"
     ]
    }
   ],
   "source": [
    "df_pop.info()"
   ]
  },
  {
   "cell_type": "markdown",
   "id": "afb7d0f5-f0a7-471d-93a8-ad34afccb291",
   "metadata": {},
   "source": [
    "#### 数据格式处理\n",
    "\n",
    "在下面的例子中，我们将对DataFrame对象进行一些转换。\n",
    "\n",
    "apply方法是一个对列进行转换的强大工具。在把一个函数传给某列的apply方法之后，该函数将作用于该列中每个元素，生成一个新的Series对象并返回。\n",
    "\n",
    "这里我们将传递一个函数，去掉Population列字符串中的“,”，并将其类型转换为int。"
   ]
  },
  {
   "cell_type": "code",
   "execution_count": 37,
   "id": "0ffc642e-71a6-4152-873b-c1f320ff0ce0",
   "metadata": {},
   "outputs": [
    {
     "data": {
      "text/html": [
       "<div>\n",
       "<style scoped>\n",
       "    .dataframe tbody tr th:only-of-type {\n",
       "        vertical-align: middle;\n",
       "    }\n",
       "\n",
       "    .dataframe tbody tr th {\n",
       "        vertical-align: top;\n",
       "    }\n",
       "\n",
       "    .dataframe thead th {\n",
       "        text-align: right;\n",
       "    }\n",
       "</style>\n",
       "<table border=\"1\" class=\"dataframe\">\n",
       "  <thead>\n",
       "    <tr style=\"text-align: right;\">\n",
       "      <th></th>\n",
       "      <th>Rank</th>\n",
       "      <th>City</th>\n",
       "      <th>State</th>\n",
       "      <th>Population</th>\n",
       "      <th>Date of census</th>\n",
       "    </tr>\n",
       "  </thead>\n",
       "  <tbody>\n",
       "    <tr>\n",
       "      <th>0</th>\n",
       "      <td>1</td>\n",
       "      <td>Berlin</td>\n",
       "      <td>Germany</td>\n",
       "      <td>3664088</td>\n",
       "      <td>31 December 2020</td>\n",
       "    </tr>\n",
       "    <tr>\n",
       "      <th>1</th>\n",
       "      <td>2</td>\n",
       "      <td>Madrid</td>\n",
       "      <td>Spain</td>\n",
       "      <td>3305408</td>\n",
       "      <td>1 January 2021</td>\n",
       "    </tr>\n",
       "    <tr>\n",
       "      <th>2</th>\n",
       "      <td>3</td>\n",
       "      <td>Rome</td>\n",
       "      <td>Italy</td>\n",
       "      <td>2770226</td>\n",
       "      <td>1 January 2021</td>\n",
       "    </tr>\n",
       "    <tr>\n",
       "      <th>3</th>\n",
       "      <td>4</td>\n",
       "      <td>Bucharest</td>\n",
       "      <td>Romania</td>\n",
       "      <td>2161347</td>\n",
       "      <td>1 July 2021</td>\n",
       "    </tr>\n",
       "    <tr>\n",
       "      <th>4</th>\n",
       "      <td>5</td>\n",
       "      <td>Paris</td>\n",
       "      <td>France</td>\n",
       "      <td>2139907</td>\n",
       "      <td>1 January 2022</td>\n",
       "    </tr>\n",
       "  </tbody>\n",
       "</table>\n",
       "</div>"
      ],
      "text/plain": [
       "   Rank        City     State  Population    Date of census\n",
       "0     1     Berlin   Germany      3664088  31 December 2020\n",
       "1     2     Madrid     Spain      3305408    1 January 2021\n",
       "2     3       Rome     Italy      2770226    1 January 2021\n",
       "3     4  Bucharest   Romania      2161347       1 July 2021\n",
       "4     5      Paris    France      2139907    1 January 2022"
      ]
     },
     "execution_count": 37,
     "metadata": {},
     "output_type": "execute_result"
    }
   ],
   "source": [
    "def remove_comma(x):\n",
    "    if type(x) == str:\n",
    "        x = x.replace(\",\", \"\")\n",
    "    return int(x)\n",
    "\n",
    "df_pop[\"Population\"] = df_pop.Population.apply(remove_comma)\n",
    "df_pop.head()"
   ]
  },
  {
   "cell_type": "code",
   "execution_count": 38,
   "id": "3b6772e1-e952-4356-80a8-b612dcbe2290",
   "metadata": {},
   "outputs": [
    {
     "name": "stdout",
     "output_type": "stream",
     "text": [
      "<class 'pandas.core.frame.DataFrame'>\n",
      "RangeIndex: 50 entries, 0 to 49\n",
      "Data columns (total 5 columns):\n",
      " #   Column          Non-Null Count  Dtype \n",
      "---  ------          --------------  ----- \n",
      " 0   Rank            50 non-null     int64 \n",
      " 1   City            50 non-null     object\n",
      " 2   State           50 non-null     object\n",
      " 3   Population      50 non-null     int64 \n",
      " 4   Date of census  50 non-null     object\n",
      "dtypes: int64(2), object(3)\n",
      "memory usage: 2.1+ KB\n"
     ]
    }
   ],
   "source": [
    "df_pop.info()"
   ]
  },
  {
   "cell_type": "markdown",
   "id": "531c14a1-18b6-4bbb-b2c9-644c21912243",
   "metadata": {},
   "source": [
    "Polulation列转换为了整数类型。"
   ]
  },
  {
   "cell_type": "code",
   "execution_count": 39,
   "id": "1ef58bb2-1fe9-49aa-b120-9cfe0c607e12",
   "metadata": {},
   "outputs": [
    {
     "data": {
      "text/plain": [
       "'Italy '"
      ]
     },
     "execution_count": 39,
     "metadata": {},
     "output_type": "execute_result"
    }
   ],
   "source": [
    "df_pop[\"State\"][2]"
   ]
  },
  {
   "cell_type": "markdown",
   "id": "85210dbc-3e47-4dd8-84b2-24a16151b10f",
   "metadata": {},
   "source": [
    "我们还需要使用`strip`方法，去掉State和City列中每个元素末尾的空格。"
   ]
  },
  {
   "cell_type": "code",
   "execution_count": 40,
   "id": "b5ecb6a4-f5e5-4a79-8fe8-7d9e953b86f5",
   "metadata": {},
   "outputs": [
    {
     "data": {
      "text/plain": [
       "'Italy'"
      ]
     },
     "execution_count": 40,
     "metadata": {},
     "output_type": "execute_result"
    }
   ],
   "source": [
    "df_pop[\"State\"] = df_pop.State.apply(lambda x: x.strip())\n",
    "df_pop[\"City\"] = df_pop.City.apply(lambda x: x.strip())\n",
    "df_pop[\"State\"][2]"
   ]
  },
  {
   "cell_type": "markdown",
   "id": "a1422871-5915-48b8-9beb-b4440b155263",
   "metadata": {},
   "source": [
    "#### 数据索引和排序\n",
    "\n",
    "我们还可以将DataFrame中的数字索引改为其他的列。例如，我们使用City列作为索引。"
   ]
  },
  {
   "cell_type": "code",
   "execution_count": 41,
   "id": "517529bd-5ad9-4428-a01b-52315d274e76",
   "metadata": {},
   "outputs": [
    {
     "data": {
      "text/html": [
       "<div>\n",
       "<style scoped>\n",
       "    .dataframe tbody tr th:only-of-type {\n",
       "        vertical-align: middle;\n",
       "    }\n",
       "\n",
       "    .dataframe tbody tr th {\n",
       "        vertical-align: top;\n",
       "    }\n",
       "\n",
       "    .dataframe thead th {\n",
       "        text-align: right;\n",
       "    }\n",
       "</style>\n",
       "<table border=\"1\" class=\"dataframe\">\n",
       "  <thead>\n",
       "    <tr style=\"text-align: right;\">\n",
       "      <th></th>\n",
       "      <th>Rank</th>\n",
       "      <th>State</th>\n",
       "      <th>Population</th>\n",
       "      <th>Date of census</th>\n",
       "    </tr>\n",
       "    <tr>\n",
       "      <th>City</th>\n",
       "      <th></th>\n",
       "      <th></th>\n",
       "      <th></th>\n",
       "      <th></th>\n",
       "    </tr>\n",
       "  </thead>\n",
       "  <tbody>\n",
       "    <tr>\n",
       "      <th>Berlin</th>\n",
       "      <td>1</td>\n",
       "      <td>Germany</td>\n",
       "      <td>3664088</td>\n",
       "      <td>31 December 2020</td>\n",
       "    </tr>\n",
       "    <tr>\n",
       "      <th>Madrid</th>\n",
       "      <td>2</td>\n",
       "      <td>Spain</td>\n",
       "      <td>3305408</td>\n",
       "      <td>1 January 2021</td>\n",
       "    </tr>\n",
       "    <tr>\n",
       "      <th>Rome</th>\n",
       "      <td>3</td>\n",
       "      <td>Italy</td>\n",
       "      <td>2770226</td>\n",
       "      <td>1 January 2021</td>\n",
       "    </tr>\n",
       "    <tr>\n",
       "      <th>Bucharest</th>\n",
       "      <td>4</td>\n",
       "      <td>Romania</td>\n",
       "      <td>2161347</td>\n",
       "      <td>1 July 2021</td>\n",
       "    </tr>\n",
       "    <tr>\n",
       "      <th>Paris</th>\n",
       "      <td>5</td>\n",
       "      <td>France</td>\n",
       "      <td>2139907</td>\n",
       "      <td>1 January 2022</td>\n",
       "    </tr>\n",
       "  </tbody>\n",
       "</table>\n",
       "</div>"
      ],
      "text/plain": [
       "           Rank    State  Population    Date of census\n",
       "City                                                  \n",
       "Berlin        1  Germany     3664088  31 December 2020\n",
       "Madrid        2    Spain     3305408    1 January 2021\n",
       "Rome          3    Italy     2770226    1 January 2021\n",
       "Bucharest     4  Romania     2161347       1 July 2021\n",
       "Paris         5   France     2139907    1 January 2022"
      ]
     },
     "execution_count": 41,
     "metadata": {},
     "output_type": "execute_result"
    }
   ],
   "source": [
    "df_pop2 = df_pop.set_index(\"City\")\n",
    "df_pop2.head()"
   ]
  },
  {
   "cell_type": "markdown",
   "id": "a88e0ce9-9eec-42d1-8dc1-5cf5b15c6581",
   "metadata": {},
   "source": [
    "使用`sort_index`方法，可以将索引作为关键词对所有数据排序。"
   ]
  },
  {
   "cell_type": "code",
   "execution_count": 42,
   "id": "5e6c2461-eca3-449c-b1d3-a765d29e2a6e",
   "metadata": {},
   "outputs": [
    {
     "data": {
      "text/html": [
       "<div>\n",
       "<style scoped>\n",
       "    .dataframe tbody tr th:only-of-type {\n",
       "        vertical-align: middle;\n",
       "    }\n",
       "\n",
       "    .dataframe tbody tr th {\n",
       "        vertical-align: top;\n",
       "    }\n",
       "\n",
       "    .dataframe thead th {\n",
       "        text-align: right;\n",
       "    }\n",
       "</style>\n",
       "<table border=\"1\" class=\"dataframe\">\n",
       "  <thead>\n",
       "    <tr style=\"text-align: right;\">\n",
       "      <th></th>\n",
       "      <th>Rank</th>\n",
       "      <th>State</th>\n",
       "      <th>Population</th>\n",
       "      <th>Date of census</th>\n",
       "    </tr>\n",
       "    <tr>\n",
       "      <th>City</th>\n",
       "      <th></th>\n",
       "      <th></th>\n",
       "      <th></th>\n",
       "      <th></th>\n",
       "    </tr>\n",
       "  </thead>\n",
       "  <tbody>\n",
       "    <tr>\n",
       "      <th>Amsterdam</th>\n",
       "      <td>18</td>\n",
       "      <td>Netherlands</td>\n",
       "      <td>905234</td>\n",
       "      <td>31 January 2022</td>\n",
       "    </tr>\n",
       "    <tr>\n",
       "      <th>Antwerp</th>\n",
       "      <td>50</td>\n",
       "      <td>Belgium</td>\n",
       "      <td>528903</td>\n",
       "      <td>1 January 2022</td>\n",
       "    </tr>\n",
       "    <tr>\n",
       "      <th>Athens</th>\n",
       "      <td>28</td>\n",
       "      <td>Greece</td>\n",
       "      <td>664046</td>\n",
       "      <td>30 June 2011</td>\n",
       "    </tr>\n",
       "    <tr>\n",
       "      <th>Barcelona</th>\n",
       "      <td>10</td>\n",
       "      <td>Spain</td>\n",
       "      <td>1636732</td>\n",
       "      <td>1 January 2021</td>\n",
       "    </tr>\n",
       "    <tr>\n",
       "      <th>Berlin</th>\n",
       "      <td>1</td>\n",
       "      <td>Germany</td>\n",
       "      <td>3664088</td>\n",
       "      <td>31 December 2020</td>\n",
       "    </tr>\n",
       "  </tbody>\n",
       "</table>\n",
       "</div>"
      ],
      "text/plain": [
       "           Rank        State  Population    Date of census\n",
       "City                                                      \n",
       "Amsterdam    18  Netherlands      905234   31 January 2022\n",
       "Antwerp      50      Belgium      528903    1 January 2022\n",
       "Athens       28       Greece      664046      30 June 2011\n",
       "Barcelona    10        Spain     1636732    1 January 2021\n",
       "Berlin        1      Germany     3664088  31 December 2020"
      ]
     },
     "execution_count": 42,
     "metadata": {},
     "output_type": "execute_result"
    }
   ],
   "source": [
    "'''按字母排序'''\n",
    "df_pop2 = df_pop2.sort_index()\n",
    "df_pop2.head()"
   ]
  },
  {
   "cell_type": "markdown",
   "id": "b37fdd8c-c49b-47d9-9d10-cecbefdad090",
   "metadata": {},
   "source": [
    "如果为DataFrame设置了分层索引（hierarchical index），那么还可以将包含多个列名的列表传给`sort_index`方法。"
   ]
  },
  {
   "cell_type": "code",
   "execution_count": 43,
   "id": "35bf82e1-f92f-4d2e-95f3-ad70c5c3b3a0",
   "metadata": {},
   "outputs": [
    {
     "data": {
      "text/html": [
       "<div>\n",
       "<style scoped>\n",
       "    .dataframe tbody tr th:only-of-type {\n",
       "        vertical-align: middle;\n",
       "    }\n",
       "\n",
       "    .dataframe tbody tr th {\n",
       "        vertical-align: top;\n",
       "    }\n",
       "\n",
       "    .dataframe thead th {\n",
       "        text-align: right;\n",
       "    }\n",
       "</style>\n",
       "<table border=\"1\" class=\"dataframe\">\n",
       "  <thead>\n",
       "    <tr style=\"text-align: right;\">\n",
       "      <th></th>\n",
       "      <th></th>\n",
       "      <th>Rank</th>\n",
       "      <th>Population</th>\n",
       "      <th>Date of census</th>\n",
       "    </tr>\n",
       "    <tr>\n",
       "      <th>State</th>\n",
       "      <th>City</th>\n",
       "      <th></th>\n",
       "      <th></th>\n",
       "      <th></th>\n",
       "    </tr>\n",
       "  </thead>\n",
       "  <tbody>\n",
       "    <tr>\n",
       "      <th>Austria</th>\n",
       "      <th>Vienna</th>\n",
       "      <td>6</td>\n",
       "      <td>1951354</td>\n",
       "      <td>1 April 2022</td>\n",
       "    </tr>\n",
       "    <tr>\n",
       "      <th>Belgium</th>\n",
       "      <th>Antwerp</th>\n",
       "      <td>50</td>\n",
       "      <td>528903</td>\n",
       "      <td>1 January 2022</td>\n",
       "    </tr>\n",
       "    <tr>\n",
       "      <th>Bulgaria</th>\n",
       "      <th>Sofia</th>\n",
       "      <td>13</td>\n",
       "      <td>1308412</td>\n",
       "      <td>31 December 2020</td>\n",
       "    </tr>\n",
       "    <tr>\n",
       "      <th>Croatia</th>\n",
       "      <th>Zagreb</th>\n",
       "      <td>23</td>\n",
       "      <td>769944</td>\n",
       "      <td>31 August 2021</td>\n",
       "    </tr>\n",
       "    <tr>\n",
       "      <th>Czech Republic</th>\n",
       "      <th>Prague</th>\n",
       "      <td>14</td>\n",
       "      <td>1275406</td>\n",
       "      <td>1 January 2022</td>\n",
       "    </tr>\n",
       "  </tbody>\n",
       "</table>\n",
       "</div>"
      ],
      "text/plain": [
       "                        Rank  Population    Date of census\n",
       "State          City                                       \n",
       "Austria        Vienna      6     1951354      1 April 2022\n",
       "Belgium        Antwerp    50      528903    1 January 2022\n",
       "Bulgaria       Sofia      13     1308412  31 December 2020\n",
       "Croatia        Zagreb     23      769944    31 August 2021\n",
       "Czech Republic Prague     14     1275406    1 January 2022"
      ]
     },
     "execution_count": 43,
     "metadata": {},
     "output_type": "execute_result"
    }
   ],
   "source": [
    "df_pop3 = df_pop.set_index([\"State\", \"City\"]).sort_index(level=0)\n",
    "df_pop3.head()"
   ]
  },
  {
   "cell_type": "markdown",
   "id": "cfe39151-09d8-4ed5-89e9-888e5d535837",
   "metadata": {},
   "source": [
    "这里创建了基于State列和City列的多层索引，`sort_index`方法的参数level=0指定了按照第一个索引（State）排序。"
   ]
  },
  {
   "cell_type": "markdown",
   "id": "62330094-fa03-4080-9a0d-64ef7a98399b",
   "metadata": {},
   "source": [
    "对于有分层索引的DataFrame，可以仅使用第0层索引进行部分定位，也可以使用所有的索引的元组做完全定位。"
   ]
  },
  {
   "cell_type": "code",
   "execution_count": 44,
   "id": "bfc20b9a-a73c-4f25-9efc-1cb8849fd102",
   "metadata": {},
   "outputs": [
    {
     "data": {
      "text/html": [
       "<div>\n",
       "<style scoped>\n",
       "    .dataframe tbody tr th:only-of-type {\n",
       "        vertical-align: middle;\n",
       "    }\n",
       "\n",
       "    .dataframe tbody tr th {\n",
       "        vertical-align: top;\n",
       "    }\n",
       "\n",
       "    .dataframe thead th {\n",
       "        text-align: right;\n",
       "    }\n",
       "</style>\n",
       "<table border=\"1\" class=\"dataframe\">\n",
       "  <thead>\n",
       "    <tr style=\"text-align: right;\">\n",
       "      <th></th>\n",
       "      <th>Rank</th>\n",
       "      <th>Population</th>\n",
       "      <th>Date of census</th>\n",
       "    </tr>\n",
       "    <tr>\n",
       "      <th>City</th>\n",
       "      <th></th>\n",
       "      <th></th>\n",
       "      <th></th>\n",
       "    </tr>\n",
       "  </thead>\n",
       "  <tbody>\n",
       "    <tr>\n",
       "      <th>Gothenburg</th>\n",
       "      <td>39</td>\n",
       "      <td>587549</td>\n",
       "      <td>31 December 2021</td>\n",
       "    </tr>\n",
       "    <tr>\n",
       "      <th>Stockholm</th>\n",
       "      <td>16</td>\n",
       "      <td>978770</td>\n",
       "      <td>31 December 2021</td>\n",
       "    </tr>\n",
       "  </tbody>\n",
       "</table>\n",
       "</div>"
      ],
      "text/plain": [
       "            Rank  Population    Date of census\n",
       "City                                          \n",
       "Gothenburg    39      587549  31 December 2021\n",
       "Stockholm     16      978770  31 December 2021"
      ]
     },
     "execution_count": 44,
     "metadata": {},
     "output_type": "execute_result"
    }
   ],
   "source": [
    "df_pop3.loc[\"Sweden\"]"
   ]
  },
  {
   "cell_type": "code",
   "execution_count": 45,
   "id": "b769bc4b-e420-471a-9a29-2d9ca91e7923",
   "metadata": {},
   "outputs": [
    {
     "data": {
      "text/plain": [
       "Rank                            39\n",
       "Population                  587549\n",
       "Date of census    31 December 2021\n",
       "Name: (Sweden, Gothenburg), dtype: object"
      ]
     },
     "execution_count": 45,
     "metadata": {},
     "output_type": "execute_result"
    }
   ],
   "source": [
    "df_pop3.loc[(\"Sweden\", \"Gothenburg\")]"
   ]
  },
  {
   "cell_type": "markdown",
   "id": "bf2bf2ce-d2c0-48f0-89a6-8a98ec3b8e67",
   "metadata": {},
   "source": [
    "除了根据索引排序，我们还可以使用sort_values方法，根据某列的内容进行排序。\n",
    "\n",
    "该方法的参数是DataFrame中的一个列名或者包含多个列名的列表（多层排序）。另外还可以设置关键词参数ascending，取值是Boolean类型数据或者其列表，表示对应的列是使用升序还是降序。"
   ]
  },
  {
   "cell_type": "code",
   "execution_count": 46,
   "id": "88e39902-48d4-43d7-b04e-9affa6c026c2",
   "metadata": {},
   "outputs": [
    {
     "data": {
      "text/html": [
       "<div>\n",
       "<style scoped>\n",
       "    .dataframe tbody tr th:only-of-type {\n",
       "        vertical-align: middle;\n",
       "    }\n",
       "\n",
       "    .dataframe tbody tr th {\n",
       "        vertical-align: top;\n",
       "    }\n",
       "\n",
       "    .dataframe thead th {\n",
       "        text-align: right;\n",
       "    }\n",
       "</style>\n",
       "<table border=\"1\" class=\"dataframe\">\n",
       "  <thead>\n",
       "    <tr style=\"text-align: right;\">\n",
       "      <th></th>\n",
       "      <th>Rank</th>\n",
       "      <th>State</th>\n",
       "      <th>Population</th>\n",
       "      <th>Date of census</th>\n",
       "    </tr>\n",
       "    <tr>\n",
       "      <th>City</th>\n",
       "      <th></th>\n",
       "      <th></th>\n",
       "      <th></th>\n",
       "      <th></th>\n",
       "    </tr>\n",
       "  </thead>\n",
       "  <tbody>\n",
       "    <tr>\n",
       "      <th>Gothenburg</th>\n",
       "      <td>39</td>\n",
       "      <td>Sweden</td>\n",
       "      <td>587549</td>\n",
       "      <td>31 December 2021</td>\n",
       "    </tr>\n",
       "    <tr>\n",
       "      <th>Stockholm</th>\n",
       "      <td>16</td>\n",
       "      <td>Sweden</td>\n",
       "      <td>978770</td>\n",
       "      <td>31 December 2021</td>\n",
       "    </tr>\n",
       "    <tr>\n",
       "      <th>Málaga</th>\n",
       "      <td>41</td>\n",
       "      <td>Spain</td>\n",
       "      <td>577405</td>\n",
       "      <td>1 January 2021</td>\n",
       "    </tr>\n",
       "    <tr>\n",
       "      <th>Zaragoza</th>\n",
       "      <td>26</td>\n",
       "      <td>Spain</td>\n",
       "      <td>675301</td>\n",
       "      <td>1 January 2021</td>\n",
       "    </tr>\n",
       "    <tr>\n",
       "      <th>Seville</th>\n",
       "      <td>25</td>\n",
       "      <td>Spain</td>\n",
       "      <td>684234</td>\n",
       "      <td>1 January 2021</td>\n",
       "    </tr>\n",
       "    <tr>\n",
       "      <th>Valencia</th>\n",
       "      <td>21</td>\n",
       "      <td>Spain</td>\n",
       "      <td>789744</td>\n",
       "      <td>1 January 2021</td>\n",
       "    </tr>\n",
       "    <tr>\n",
       "      <th>Barcelona</th>\n",
       "      <td>10</td>\n",
       "      <td>Spain</td>\n",
       "      <td>1636732</td>\n",
       "      <td>1 January 2021</td>\n",
       "    </tr>\n",
       "    <tr>\n",
       "      <th>Madrid</th>\n",
       "      <td>2</td>\n",
       "      <td>Spain</td>\n",
       "      <td>3305408</td>\n",
       "      <td>1 January 2021</td>\n",
       "    </tr>\n",
       "    <tr>\n",
       "      <th>Bucharest</th>\n",
       "      <td>4</td>\n",
       "      <td>Romania</td>\n",
       "      <td>2161347</td>\n",
       "      <td>1 July 2021</td>\n",
       "    </tr>\n",
       "    <tr>\n",
       "      <th>Poznań</th>\n",
       "      <td>49</td>\n",
       "      <td>Poland</td>\n",
       "      <td>530464</td>\n",
       "      <td>30 June 2021</td>\n",
       "    </tr>\n",
       "  </tbody>\n",
       "</table>\n",
       "</div>"
      ],
      "text/plain": [
       "            Rank    State  Population    Date of census\n",
       "City                                                   \n",
       "Gothenburg    39   Sweden      587549  31 December 2021\n",
       "Stockholm     16   Sweden      978770  31 December 2021\n",
       "Málaga        41    Spain      577405    1 January 2021\n",
       "Zaragoza      26    Spain      675301    1 January 2021\n",
       "Seville       25    Spain      684234    1 January 2021\n",
       "Valencia      21    Spain      789744    1 January 2021\n",
       "Barcelona     10    Spain     1636732    1 January 2021\n",
       "Madrid         2    Spain     3305408    1 January 2021\n",
       "Bucharest      4  Romania     2161347       1 July 2021\n",
       "Poznań        49   Poland      530464      30 June 2021"
      ]
     },
     "execution_count": 46,
     "metadata": {},
     "output_type": "execute_result"
    }
   ],
   "source": [
    "df_pop.set_index(\"City\").sort_values([\"State\", \"Population\"], ascending=[False, True]).head(10)"
   ]
  },
  {
   "cell_type": "markdown",
   "id": "e6090bd0-71db-4db8-8eba-9d3ef1a9771e",
   "metadata": {},
   "source": [
    "#### 数据统计\n",
    "\n",
    "对于分类的数据，我们可以统计每个分类中数据的数目。例如，对State列进行计数，统计每个国家有多少个城市。"
   ]
  },
  {
   "cell_type": "code",
   "execution_count": 47,
   "id": "91726f92-6774-4593-b559-6e6b52b1565f",
   "metadata": {},
   "outputs": [
    {
     "data": {
      "text/plain": [
       "Germany        13\n",
       "Italy           6\n",
       "Spain           6\n",
       "Poland          5\n",
       "Netherlands     3\n",
       "Name: State, dtype: int64"
      ]
     },
     "execution_count": 47,
     "metadata": {},
     "output_type": "execute_result"
    }
   ],
   "source": [
    "city_counts = df_pop.State.value_counts()\n",
    "city_counts.head()"
   ]
  },
  {
   "cell_type": "markdown",
   "id": "11f5e46c-0ec9-4361-88d4-5eb3e7b61396",
   "metadata": {},
   "source": [
    "另一个相关问题，是统计每个国家所有城市的总人口。\n",
    "\n",
    "第一种方法，使用State和City创建分层索引，然后再某个索引上使用Sum函数。\n",
    "\n",
    "我们可以使用groupby方法根据给定列的值对DataFrame中的行进行分组，然后对返回的对象进行规约操作（例如sum、mean、min、max等）。"
   ]
  },
  {
   "cell_type": "code",
   "execution_count": 48,
   "id": "52383291-37df-4ccd-87dc-b59a89bca4f2",
   "metadata": {},
   "outputs": [
    {
     "data": {
      "text/html": [
       "<div>\n",
       "<style scoped>\n",
       "    .dataframe tbody tr th:only-of-type {\n",
       "        vertical-align: middle;\n",
       "    }\n",
       "\n",
       "    .dataframe tbody tr th {\n",
       "        vertical-align: top;\n",
       "    }\n",
       "\n",
       "    .dataframe thead th {\n",
       "        text-align: right;\n",
       "    }\n",
       "</style>\n",
       "<table border=\"1\" class=\"dataframe\">\n",
       "  <thead>\n",
       "    <tr style=\"text-align: right;\">\n",
       "      <th></th>\n",
       "      <th>Population</th>\n",
       "    </tr>\n",
       "    <tr>\n",
       "      <th>State</th>\n",
       "      <th></th>\n",
       "    </tr>\n",
       "  </thead>\n",
       "  <tbody>\n",
       "    <tr>\n",
       "      <th>Germany</th>\n",
       "      <td>13527651</td>\n",
       "    </tr>\n",
       "    <tr>\n",
       "      <th>Spain</th>\n",
       "      <td>7668824</td>\n",
       "    </tr>\n",
       "    <tr>\n",
       "      <th>Italy</th>\n",
       "      <td>7129402</td>\n",
       "    </tr>\n",
       "    <tr>\n",
       "      <th>Poland</th>\n",
       "      <td>4413102</td>\n",
       "    </tr>\n",
       "    <tr>\n",
       "      <th>France</th>\n",
       "      <td>3010638</td>\n",
       "    </tr>\n",
       "  </tbody>\n",
       "</table>\n",
       "</div>"
      ],
      "text/plain": [
       "         Population\n",
       "State              \n",
       "Germany    13527651\n",
       "Spain       7668824\n",
       "Italy       7129402\n",
       "Poland      4413102\n",
       "France      3010638"
      ]
     },
     "execution_count": 48,
     "metadata": {},
     "output_type": "execute_result"
    }
   ],
   "source": [
    "df_pop4 = df_pop.drop(\"Rank\", axis=1).groupby(\"State\").sum().sort_values(\"Population\", ascending=False)\n",
    "df_pop4.head()"
   ]
  },
  {
   "cell_type": "markdown",
   "id": "13b09f54-8ff0-4448-997a-4631e5f2617e",
   "metadata": {},
   "source": [
    "这里使用drop方法从DataFrame中删除了Rank列（axis=1表示列， axis=1表示行）。"
   ]
  },
  {
   "cell_type": "markdown",
   "id": "27064a37-fc8f-4dd6-892e-6faed56ec4cc",
   "metadata": {},
   "source": [
    "#### 画图\n",
    "\n",
    "为每个国家的城市数量及总人口绘制柱状图。"
   ]
  },
  {
   "cell_type": "code",
   "execution_count": 49,
   "id": "5eedc8e2-7e4a-41dc-8664-235882fe4f82",
   "metadata": {},
   "outputs": [
    {
     "data": {
      "image/png": "[encoded data removed]",
      "text/plain": [
       "<Figure size 864x288 with 2 Axes>"
      ]
     },
     "metadata": {},
     "output_type": "display_data"
    }
   ],
   "source": [
    "fig, (ax1, ax2) = plt.subplots(1, 2, figsize=(12, 4))\n",
    "\n",
    "city_counts.plot(kind='barh', ax=ax1)\n",
    "ax1.set_xlabel(\"N of cities in top 50\")\n",
    "df_pop4.Population.plot(kind='barh', ax=ax2)\n",
    "ax2.set_xlabel(\"Total pop. in top 50 cities\")\n",
    "\n",
    "fig.tight_layout()"
   ]
  },
  {
   "cell_type": "markdown",
   "id": "31decabb-9c54-49f0-a4ac-6ec2cbe00b76",
   "metadata": {},
   "source": [
    "### 时间序列\n",
    "\n",
    "时间序列是一种很常见的数据形式，数据带有规则或不规则间隔的时间戳，或者以固定或不固定的时间间隔进行排列。\n",
    "\n",
    "在Pandas中，有专门的数据结构保存此类数据。Series和DataFrame都可以包含时间戳以及时间间隔类型的数据列和索引。\n",
    "\n",
    "使用Pandas的时间索引DatatimeIndex和PeriodIndex，可以执行日期、时间、周期相关的很多操作。"
   ]
  },
  {
   "cell_type": "markdown",
   "id": "62d68f7b-082c-455b-ba88-403ed341cb02",
   "metadata": {},
   "source": [
    "#### DatatimeIndex类\n",
    "\n",
    "Pandas的`data_range`方法，可以生成用作索引的日期序列。第一个参数是起始日期，periods参数指定元素个数。"
   ]
  },
  {
   "cell_type": "code",
   "execution_count": 50,
   "id": "fe537a21-023a-4143-9ff1-58f2ea6ad56a",
   "metadata": {
    "tags": []
   },
   "outputs": [
    {
     "data": {
      "text/plain": [
       "DatetimeIndex(['2022-01-01', '2022-01-02', '2022-01-03', '2022-01-04',\n",
       "               '2022-01-05', '2022-01-06', '2022-01-07', '2022-01-08',\n",
       "               '2022-01-09', '2022-01-10', '2022-01-11', '2022-01-12',\n",
       "               '2022-01-13', '2022-01-14', '2022-01-15', '2022-01-16',\n",
       "               '2022-01-17', '2022-01-18', '2022-01-19', '2022-01-20',\n",
       "               '2022-01-21', '2022-01-22', '2022-01-23', '2022-01-24',\n",
       "               '2022-01-25', '2022-01-26', '2022-01-27', '2022-01-28',\n",
       "               '2022-01-29', '2022-01-30', '2022-01-31'],\n",
       "              dtype='datetime64[ns]', freq='D')"
      ]
     },
     "execution_count": 50,
     "metadata": {},
     "output_type": "execute_result"
    }
   ],
   "source": [
    "pd.date_range(\"2022-1-1\", periods=31)"
   ]
  },
  {
   "cell_type": "markdown",
   "id": "ab86257f-8e2a-4534-9c10-b9de4c400b45",
   "metadata": {},
   "source": [
    "还可以使用前两个参数指定开始和结束时间的字符串，freq参数指定时间间隔。"
   ]
  },
  {
   "cell_type": "code",
   "execution_count": 51,
   "id": "386ed567-0719-4535-8bc7-fd755da0a5b3",
   "metadata": {},
   "outputs": [
    {
     "data": {
      "text/plain": [
       "DatetimeIndex(['2022-01-01 00:00:00', '2022-01-01 01:00:00',\n",
       "               '2022-01-01 02:00:00', '2022-01-01 03:00:00',\n",
       "               '2022-01-01 04:00:00', '2022-01-01 05:00:00',\n",
       "               '2022-01-01 06:00:00', '2022-01-01 07:00:00',\n",
       "               '2022-01-01 08:00:00', '2022-01-01 09:00:00',\n",
       "               '2022-01-01 10:00:00', '2022-01-01 11:00:00',\n",
       "               '2022-01-01 12:00:00'],\n",
       "              dtype='datetime64[ns]', freq='H')"
      ]
     },
     "execution_count": 51,
     "metadata": {},
     "output_type": "execute_result"
    }
   ],
   "source": [
    "pd.date_range(\"2022-1-1 00:00\", \"2022-1-1 12:00\", freq=\"H\")"
   ]
  },
  {
   "cell_type": "markdown",
   "id": "0d9dccd7-11a5-4e57-a21f-da9f6ca9907a",
   "metadata": {},
   "source": [
    "`data_range`返回的DatetimeIndex实例，可以作为Series或DataFrame对象的索引。"
   ]
  },
  {
   "cell_type": "code",
   "execution_count": 52,
   "id": "15de7504-c625-4d88-9a93-bb61376b54bb",
   "metadata": {},
   "outputs": [
    {
     "data": {
      "text/plain": [
       "2022-01-01    0\n",
       "2022-01-02    1\n",
       "2022-01-03    2\n",
       "2022-01-04    3\n",
       "2022-01-05    4\n",
       "Freq: D, dtype: int64"
      ]
     },
     "execution_count": 52,
     "metadata": {},
     "output_type": "execute_result"
    }
   ],
   "source": [
    "ts1 = pd.Series(np.arange(31), index=pd.date_range(\"2022-1-1\", periods=31))\n",
    "ts1.head()"
   ]
  },
  {
   "cell_type": "markdown",
   "id": "6501a97b-ac43-431c-85e8-1203c26439c8",
   "metadata": {},
   "source": [
    "DatetimeIndex对象的元素可以通过表示日期和时间的字符串作为索引访问。DatetimeIndex对象的元素是Timestamp类型，而Timestamp是Pandas从Python标准库中集成的datetime对象。"
   ]
  },
  {
   "cell_type": "code",
   "execution_count": 53,
   "id": "2e7c4b97-c17f-4226-a47a-900458d84ae3",
   "metadata": {},
   "outputs": [
    {
     "data": {
      "text/plain": [
       "1"
      ]
     },
     "execution_count": 53,
     "metadata": {},
     "output_type": "execute_result"
    }
   ],
   "source": [
    "ts1[\"01-02-2022\"]"
   ]
  },
  {
   "cell_type": "markdown",
   "id": "64ae5e79-9a90-4395-aa07-b21ca5f8e781",
   "metadata": {},
   "source": [
    "Timestamp和datetime对象可以互相转化，两者最明显的区别是Timestamp最小时间戳为纳秒，datatime是毫秒。"
   ]
  },
  {
   "cell_type": "code",
   "execution_count": 54,
   "id": "6c21a87a-66ba-4f59-9e7c-76428c58fc7d",
   "metadata": {},
   "outputs": [
    {
     "data": {
      "text/plain": [
       "Timestamp('2022-01-02 00:00:00', freq='D')"
      ]
     },
     "execution_count": 54,
     "metadata": {},
     "output_type": "execute_result"
    }
   ],
   "source": [
    "ts1.index[1]"
   ]
  },
  {
   "cell_type": "markdown",
   "id": "7c3d8916-d922-4928-92a4-f47c0cd90b04",
   "metadata": {},
   "source": [
    "Timestamp类型有相关的属性获取年、月、日等字段。"
   ]
  },
  {
   "cell_type": "code",
   "execution_count": 55,
   "id": "e20fc018-f5ff-4982-80c4-7f1ffb69a988",
   "metadata": {},
   "outputs": [
    {
     "data": {
      "text/plain": [
       "(2022, 1, 2, 0)"
      ]
     },
     "execution_count": 55,
     "metadata": {},
     "output_type": "execute_result"
    }
   ],
   "source": [
    "ts1.index[1].year, ts1.index[1].month, ts1.index[1].day, ts1.index[1].nanosecond"
   ]
  },
  {
   "cell_type": "markdown",
   "id": "fc03be5f-eccf-4b41-8c65-37280fc296bf",
   "metadata": {},
   "source": [
    "也可以使用datetime对象的列表来创建Pandas时间序列："
   ]
  },
  {
   "cell_type": "code",
   "execution_count": 57,
   "id": "b96c733b-407b-4d97-8883-02b4a039355c",
   "metadata": {},
   "outputs": [
    {
     "data": {
      "text/plain": [
       "2015-01-01    0.383215\n",
       "2015-02-01    0.118578\n",
       "dtype: float64"
      ]
     },
     "execution_count": 57,
     "metadata": {},
     "output_type": "execute_result"
    }
   ],
   "source": [
    "import datetime\n",
    "\n",
    "ts2 = pd.Series(np.random.rand(2), \n",
    "                index=[datetime.datetime(2015, 1, 1), datetime.datetime(2015, 2, 1)])\n",
    "\n",
    "ts2"
   ]
  },
  {
   "cell_type": "markdown",
   "id": "fca07472-eaae-45bf-8871-10c105dd805d",
   "metadata": {},
   "source": [
    "#### PeriodIndex类\n",
    "\n",
    "以某个时间间隔序列定义的数据可以使用以PeriodIndex类进行索引的Series和DataFrame对象来表示。"
   ]
  },
  {
   "cell_type": "code",
   "execution_count": 58,
   "id": "641178b9-209c-4932-9663-d35e15a8e338",
   "metadata": {},
   "outputs": [
    {
     "data": {
      "text/plain": [
       "PeriodIndex(['2015-01', '2015-02', '2015-03'], dtype='period[M]')"
      ]
     },
     "execution_count": 58,
     "metadata": {},
     "output_type": "execute_result"
    }
   ],
   "source": [
    "periods = pd.PeriodIndex([pd.Period('2015-01'), pd.Period('2015-02'), pd.Period('2015-03')])\n",
    "periods"
   ]
  },
  {
   "cell_type": "code",
   "execution_count": 59,
   "id": "a0b004d8-5246-4614-9645-fdbc9e312156",
   "metadata": {},
   "outputs": [
    {
     "data": {
      "text/plain": [
       "2015-01    0.402887\n",
       "2015-02    0.630023\n",
       "2015-03    0.826975\n",
       "Freq: M, dtype: float64"
      ]
     },
     "execution_count": 59,
     "metadata": {},
     "output_type": "execute_result"
    }
   ],
   "source": [
    "ts3 = pd.Series(np.random.rand(3), periods)\n",
    "ts3"
   ]
  },
  {
   "cell_type": "markdown",
   "id": "43b41c16-dfc8-4c25-9cb1-84823516cca2",
   "metadata": {},
   "source": [
    "可以使用`to_period`方法将使用DatetimeIndex对象索引的Series或DataFrame对象转换成PeriodIndex对象："
   ]
  },
  {
   "cell_type": "code",
   "execution_count": 60,
   "id": "3e48cd96-9810-48b8-87b2-6b0d87ee7cd4",
   "metadata": {},
   "outputs": [
    {
     "data": {
      "text/plain": [
       "2015-01    0.383215\n",
       "2015-02    0.118578\n",
       "Freq: M, dtype: float64"
      ]
     },
     "execution_count": 60,
     "metadata": {},
     "output_type": "execute_result"
    }
   ],
   "source": [
    "ts2.to_period('M')"
   ]
  },
  {
   "cell_type": "code",
   "execution_count": 61,
   "id": "f0ae1664-5f17-4988-926d-f829d8e3e542",
   "metadata": {},
   "outputs": [
    {
     "data": {
      "text/plain": [
       "PeriodIndex(['2022-01', '2022-02', '2022-03', '2022-04', '2022-05', '2022-06',\n",
       "             '2022-07', '2022-08', '2022-09', '2022-10', '2022-11', '2022-12'],\n",
       "            dtype='period[M]')"
      ]
     },
     "execution_count": 61,
     "metadata": {},
     "output_type": "execute_result"
    }
   ],
   "source": [
    "pd.date_range(\"2022-1-1\", periods=12, freq=\"M\").to_period()"
   ]
  },
  {
   "cell_type": "markdown",
   "id": "6f255b2a-bd95-4889-9f83-35f365a5b43a",
   "metadata": {},
   "source": [
    "#### 温度时间序列示例\n",
    "\n",
    "我们这里有两个数据文件 temperature_indoor_2014.tsv 和 temperature_indoor_2014.tsv。TSV格式是CSV格式的一种变体，每列数据之间使用Tab符号分隔。"
   ]
  },
  {
   "cell_type": "code",
   "execution_count": 62,
   "id": "2b295823-32a3-4bf3-8c81-890d03764ff6",
   "metadata": {},
   "outputs": [
    {
     "name": "stdout",
     "output_type": "stream",
     "text": [
      "1388530986\t4.380000\n",
      "1388531586\t4.250000\n",
      "1388532187\t4.190000\n",
      "1388532787\t4.060000\n",
      "1388533388\t4.060000\n"
     ]
    }
   ],
   "source": [
    "!head -n 5 temperature_outdoor_2014.tsv"
   ]
  },
  {
   "cell_type": "markdown",
   "id": "57b9a284-10d9-49d8-964d-2025df40ef59",
   "metadata": {},
   "source": [
    "使用`read_csv`函数读取数据文件，需要指定列之间的分隔符为Tab符号。因为本例文件中数据没有列头，我们显式地设置name关键词参数来命名列。"
   ]
  },
  {
   "cell_type": "code",
   "execution_count": 63,
   "id": "9cfb9117-3ee0-4232-b58a-807e4143510f",
   "metadata": {},
   "outputs": [
    {
     "data": {
      "text/html": [
       "<div>\n",
       "<style scoped>\n",
       "    .dataframe tbody tr th:only-of-type {\n",
       "        vertical-align: middle;\n",
       "    }\n",
       "\n",
       "    .dataframe tbody tr th {\n",
       "        vertical-align: top;\n",
       "    }\n",
       "\n",
       "    .dataframe thead th {\n",
       "        text-align: right;\n",
       "    }\n",
       "</style>\n",
       "<table border=\"1\" class=\"dataframe\">\n",
       "  <thead>\n",
       "    <tr style=\"text-align: right;\">\n",
       "      <th></th>\n",
       "      <th>time</th>\n",
       "      <th>outdoor</th>\n",
       "    </tr>\n",
       "  </thead>\n",
       "  <tbody>\n",
       "    <tr>\n",
       "      <th>0</th>\n",
       "      <td>1388530986</td>\n",
       "      <td>4.38</td>\n",
       "    </tr>\n",
       "    <tr>\n",
       "      <th>1</th>\n",
       "      <td>1388531586</td>\n",
       "      <td>4.25</td>\n",
       "    </tr>\n",
       "    <tr>\n",
       "      <th>2</th>\n",
       "      <td>1388532187</td>\n",
       "      <td>4.19</td>\n",
       "    </tr>\n",
       "    <tr>\n",
       "      <th>3</th>\n",
       "      <td>1388532787</td>\n",
       "      <td>4.06</td>\n",
       "    </tr>\n",
       "    <tr>\n",
       "      <th>4</th>\n",
       "      <td>1388533388</td>\n",
       "      <td>4.06</td>\n",
       "    </tr>\n",
       "  </tbody>\n",
       "</table>\n",
       "</div>"
      ],
      "text/plain": [
       "         time  outdoor\n",
       "0  1388530986     4.38\n",
       "1  1388531586     4.25\n",
       "2  1388532187     4.19\n",
       "3  1388532787     4.06\n",
       "4  1388533388     4.06"
      ]
     },
     "execution_count": 63,
     "metadata": {},
     "output_type": "execute_result"
    }
   ],
   "source": [
    "df1 = pd.read_csv('temperature_outdoor_2014.tsv', delimiter=\"\\t\", names=[\"time\", \"outdoor\"])\n",
    "df1.head()"
   ]
  },
  {
   "cell_type": "code",
   "execution_count": 64,
   "id": "c24ebe50-d609-4cd2-a343-070f1b0fa8a5",
   "metadata": {},
   "outputs": [
    {
     "data": {
      "text/html": [
       "<div>\n",
       "<style scoped>\n",
       "    .dataframe tbody tr th:only-of-type {\n",
       "        vertical-align: middle;\n",
       "    }\n",
       "\n",
       "    .dataframe tbody tr th {\n",
       "        vertical-align: top;\n",
       "    }\n",
       "\n",
       "    .dataframe thead th {\n",
       "        text-align: right;\n",
       "    }\n",
       "</style>\n",
       "<table border=\"1\" class=\"dataframe\">\n",
       "  <thead>\n",
       "    <tr style=\"text-align: right;\">\n",
       "      <th></th>\n",
       "      <th>time</th>\n",
       "      <th>indoor</th>\n",
       "    </tr>\n",
       "  </thead>\n",
       "  <tbody>\n",
       "    <tr>\n",
       "      <th>0</th>\n",
       "      <td>1388530986</td>\n",
       "      <td>21.94</td>\n",
       "    </tr>\n",
       "    <tr>\n",
       "      <th>1</th>\n",
       "      <td>1388531586</td>\n",
       "      <td>22.00</td>\n",
       "    </tr>\n",
       "    <tr>\n",
       "      <th>2</th>\n",
       "      <td>1388532187</td>\n",
       "      <td>22.00</td>\n",
       "    </tr>\n",
       "    <tr>\n",
       "      <th>3</th>\n",
       "      <td>1388532787</td>\n",
       "      <td>22.00</td>\n",
       "    </tr>\n",
       "    <tr>\n",
       "      <th>4</th>\n",
       "      <td>1388533388</td>\n",
       "      <td>22.00</td>\n",
       "    </tr>\n",
       "  </tbody>\n",
       "</table>\n",
       "</div>"
      ],
      "text/plain": [
       "         time  indoor\n",
       "0  1388530986   21.94\n",
       "1  1388531586   22.00\n",
       "2  1388532187   22.00\n",
       "3  1388532787   22.00\n",
       "4  1388533388   22.00"
      ]
     },
     "execution_count": 64,
     "metadata": {},
     "output_type": "execute_result"
    }
   ],
   "source": [
    "df2 = pd.read_csv('temperature_indoor_2014.tsv', delimiter=\"\\t\", names=[\"time\", \"indoor\"])\n",
    "df2.head()"
   ]
  },
  {
   "cell_type": "markdown",
   "id": "89ac97d8-5d6e-4f29-b2a7-ac7465a47f9a",
   "metadata": {},
   "source": [
    "下一步是把[UNIX时间戳](https://zh.m.wikipedia.org/zh/UNIX时间)（UTC1970年1月1日0时0分0秒起至现在的总秒数）转换为日期和时间对象。可以使用`to_datetime`方法，并设置参数unit=\"s\"。"
   ]
  },
  {
   "cell_type": "code",
   "execution_count": 65,
   "id": "035a501a-ea58-4978-b5ec-43340fe084d2",
   "metadata": {},
   "outputs": [
    {
     "data": {
      "text/plain": [
       "0   2014-01-01 07:03:06+08:00\n",
       "1   2014-01-01 07:13:06+08:00\n",
       "2   2014-01-01 07:23:07+08:00\n",
       "3   2014-01-01 07:33:07+08:00\n",
       "4   2014-01-01 07:43:08+08:00\n",
       "Name: time, dtype: datetime64[ns, Asia/Shanghai]"
      ]
     },
     "execution_count": 65,
     "metadata": {},
     "output_type": "execute_result"
    }
   ],
   "source": [
    "df1.time = pd.to_datetime(df1.time.values, unit=\"s\").tz_localize('UTC').tz_convert('Asia/Shanghai')\n",
    "df1.time.head()"
   ]
  },
  {
   "cell_type": "code",
   "execution_count": 66,
   "id": "bea29ec4-4414-401f-90e8-77087e0bd74e",
   "metadata": {},
   "outputs": [
    {
     "data": {
      "text/html": [
       "<div>\n",
       "<style scoped>\n",
       "    .dataframe tbody tr th:only-of-type {\n",
       "        vertical-align: middle;\n",
       "    }\n",
       "\n",
       "    .dataframe tbody tr th {\n",
       "        vertical-align: top;\n",
       "    }\n",
       "\n",
       "    .dataframe thead th {\n",
       "        text-align: right;\n",
       "    }\n",
       "</style>\n",
       "<table border=\"1\" class=\"dataframe\">\n",
       "  <thead>\n",
       "    <tr style=\"text-align: right;\">\n",
       "      <th></th>\n",
       "      <th>outdoor</th>\n",
       "    </tr>\n",
       "    <tr>\n",
       "      <th>time</th>\n",
       "      <th></th>\n",
       "    </tr>\n",
       "  </thead>\n",
       "  <tbody>\n",
       "    <tr>\n",
       "      <th>2014-01-01 07:03:06+08:00</th>\n",
       "      <td>4.38</td>\n",
       "    </tr>\n",
       "    <tr>\n",
       "      <th>2014-01-01 07:13:06+08:00</th>\n",
       "      <td>4.25</td>\n",
       "    </tr>\n",
       "    <tr>\n",
       "      <th>2014-01-01 07:23:07+08:00</th>\n",
       "      <td>4.19</td>\n",
       "    </tr>\n",
       "    <tr>\n",
       "      <th>2014-01-01 07:33:07+08:00</th>\n",
       "      <td>4.06</td>\n",
       "    </tr>\n",
       "    <tr>\n",
       "      <th>2014-01-01 07:43:08+08:00</th>\n",
       "      <td>4.06</td>\n",
       "    </tr>\n",
       "  </tbody>\n",
       "</table>\n",
       "</div>"
      ],
      "text/plain": [
       "                           outdoor\n",
       "time                              \n",
       "2014-01-01 07:03:06+08:00     4.38\n",
       "2014-01-01 07:13:06+08:00     4.25\n",
       "2014-01-01 07:23:07+08:00     4.19\n",
       "2014-01-01 07:33:07+08:00     4.06\n",
       "2014-01-01 07:43:08+08:00     4.06"
      ]
     },
     "execution_count": 66,
     "metadata": {},
     "output_type": "execute_result"
    }
   ],
   "source": [
    "df1 = df1.set_index(\"time\")\n",
    "df1.head()"
   ]
  },
  {
   "cell_type": "code",
   "execution_count": 67,
   "id": "c7e49a79-83cd-4eeb-a4a2-36b39aeb9bc3",
   "metadata": {},
   "outputs": [
    {
     "data": {
      "text/html": [
       "<div>\n",
       "<style scoped>\n",
       "    .dataframe tbody tr th:only-of-type {\n",
       "        vertical-align: middle;\n",
       "    }\n",
       "\n",
       "    .dataframe tbody tr th {\n",
       "        vertical-align: top;\n",
       "    }\n",
       "\n",
       "    .dataframe thead th {\n",
       "        text-align: right;\n",
       "    }\n",
       "</style>\n",
       "<table border=\"1\" class=\"dataframe\">\n",
       "  <thead>\n",
       "    <tr style=\"text-align: right;\">\n",
       "      <th></th>\n",
       "      <th>indoor</th>\n",
       "    </tr>\n",
       "    <tr>\n",
       "      <th>time</th>\n",
       "      <th></th>\n",
       "    </tr>\n",
       "  </thead>\n",
       "  <tbody>\n",
       "    <tr>\n",
       "      <th>2014-01-01 07:03:06+08:00</th>\n",
       "      <td>21.94</td>\n",
       "    </tr>\n",
       "    <tr>\n",
       "      <th>2014-01-01 07:13:06+08:00</th>\n",
       "      <td>22.00</td>\n",
       "    </tr>\n",
       "    <tr>\n",
       "      <th>2014-01-01 07:23:07+08:00</th>\n",
       "      <td>22.00</td>\n",
       "    </tr>\n",
       "    <tr>\n",
       "      <th>2014-01-01 07:33:07+08:00</th>\n",
       "      <td>22.00</td>\n",
       "    </tr>\n",
       "    <tr>\n",
       "      <th>2014-01-01 07:43:08+08:00</th>\n",
       "      <td>22.00</td>\n",
       "    </tr>\n",
       "  </tbody>\n",
       "</table>\n",
       "</div>"
      ],
      "text/plain": [
       "                           indoor\n",
       "time                             \n",
       "2014-01-01 07:03:06+08:00   21.94\n",
       "2014-01-01 07:13:06+08:00   22.00\n",
       "2014-01-01 07:23:07+08:00   22.00\n",
       "2014-01-01 07:33:07+08:00   22.00\n",
       "2014-01-01 07:43:08+08:00   22.00"
      ]
     },
     "execution_count": 67,
     "metadata": {},
     "output_type": "execute_result"
    }
   ],
   "source": [
    "df2.time = pd.to_datetime(df2.time.values, unit=\"s\").tz_localize('UTC').tz_convert('Asia/Shanghai')\n",
    "df2 = df2.set_index(\"time\")\n",
    "df2.head()"
   ]
  },
  {
   "cell_type": "markdown",
   "id": "cc16ec22-a604-4185-bf02-088af3ff343c",
   "metadata": {},
   "source": [
    "使用`DataFrame.plot`函数进行作图，该函数会自动对日期时间索引进行处理。"
   ]
  },
  {
   "cell_type": "code",
   "execution_count": 68,
   "id": "396bac13-a7da-4fa8-9080-0e24cfe9cdde",
   "metadata": {},
   "outputs": [
    {
     "data": {
      "text/plain": [
       "<AxesSubplot:xlabel='time'>"
      ]
     },
     "execution_count": 68,
     "metadata": {},
     "output_type": "execute_result"
    },
    {
     "data": {
      "image/png": "[encoded data removed]",
      "text/plain": [
       "<Figure size 864x288 with 1 Axes>"
      ]
     },
     "metadata": {},
     "output_type": "display_data"
    }
   ],
   "source": [
    "fig, ax = plt.subplots(1, 1, figsize=(12, 4))\n",
    "df1.plot(ax=ax)\n",
    "df2.plot(ax=ax)"
   ]
  },
  {
   "cell_type": "markdown",
   "id": "7277b5a7-8b21-4496-abb7-552ac9afb201",
   "metadata": {},
   "source": [
    "可以发现，2014年8月份中旬的数据是缺失的。如何对序列中缺失的数据进行处理也是Pandas库的一项主要工作。"
   ]
  },
  {
   "cell_type": "markdown",
   "id": "f23e6633-1a21-4fe5-9b9d-6c97801b3a5f",
   "metadata": {},
   "source": [
    "从DataFrame对象的`info`方法中可以获得很多有用信息。在本例中，数据集中有将近5万个数据点。"
   ]
  },
  {
   "cell_type": "code",
   "execution_count": 69,
   "id": "e0a73581-38d7-402e-bed5-df4a50883c69",
   "metadata": {},
   "outputs": [
    {
     "name": "stdout",
     "output_type": "stream",
     "text": [
      "<class 'pandas.core.frame.DataFrame'>\n",
      "DatetimeIndex: 49548 entries, 2014-01-01 07:03:06+08:00 to 2014-12-31 06:56:35+08:00\n",
      "Data columns (total 1 columns):\n",
      " #   Column   Non-Null Count  Dtype  \n",
      "---  ------   --------------  -----  \n",
      " 0   outdoor  49548 non-null  float64\n",
      "dtypes: float64(1)\n",
      "memory usage: 774.2 KB\n"
     ]
    }
   ],
   "source": [
    "df1.info()"
   ]
  },
  {
   "cell_type": "markdown",
   "id": "94b141b9-cc28-4d55-90db-0d54373f942e",
   "metadata": {},
   "source": [
    "针对时间序列的常见操作时选取特定时间的部分数据。例如，我们需要选取1月份的数据。\n",
    "\n",
    "第一种方法是使用DataFrame的布尔索引为子数据集创建新的DataFrame："
   ]
  },
  {
   "cell_type": "code",
   "execution_count": 70,
   "id": "930ead4d-0336-4702-81b5-46207860a08c",
   "metadata": {},
   "outputs": [
    {
     "name": "stdout",
     "output_type": "stream",
     "text": [
      "<class 'pandas.core.frame.DataFrame'>\n",
      "DatetimeIndex: 4410 entries, 2014-01-01 07:03:06+08:00 to 2014-01-31 23:56:21+08:00\n",
      "Data columns (total 1 columns):\n",
      " #   Column   Non-Null Count  Dtype  \n",
      "---  ------   --------------  -----  \n",
      " 0   outdoor  4410 non-null   float64\n",
      "dtypes: float64(1)\n",
      "memory usage: 68.9 KB\n"
     ]
    }
   ],
   "source": [
    "df1_jan = df1[(df1.index > \"2014-1-1\") & (df1.index < \"2014-2-1\")]\n",
    "df1_jan.info()"
   ]
  },
  {
   "cell_type": "markdown",
   "id": "0f714578-0f26-40a7-97b1-4c63ef4f7382",
   "metadata": {},
   "source": [
    "第二种方法是使用切片语句："
   ]
  },
  {
   "cell_type": "code",
   "execution_count": 71,
   "id": "0c645b8e-8961-4a43-a180-b296e9d7d67e",
   "metadata": {},
   "outputs": [],
   "source": [
    "df2_jan = df2[\"2014-1-1\":\"2014-1-31\"]"
   ]
  },
  {
   "cell_type": "markdown",
   "id": "9bd31a47-e706-40bc-a1e9-2c1324321548",
   "metadata": {},
   "source": [
    "我们使用plot方法为这两个1月份的子集绘制图形："
   ]
  },
  {
   "cell_type": "code",
   "execution_count": 72,
   "id": "8d11d53c-29ac-405d-ad80-b73d46fadcd0",
   "metadata": {},
   "outputs": [
    {
     "data": {
      "text/plain": [
       "<AxesSubplot:xlabel='time'>"
      ]
     },
     "execution_count": 72,
     "metadata": {},
     "output_type": "execute_result"
    },
    {
     "data": {
      "image/png": "[encoded data removed]",
      "text/plain": [
       "<Figure size 864x288 with 1 Axes>"
      ]
     },
     "metadata": {},
     "output_type": "display_data"
    }
   ],
   "source": [
    "fig, ax = plt.subplots(1, 1, figsize=(12, 4))\n",
    "\n",
    "df1_jan.plot(ax=ax)\n",
    "df2_jan.plot(ax=ax)"
   ]
  },
  {
   "cell_type": "markdown",
   "id": "816ee589-f8f8-43f0-8dae-d50ca5e352c6",
   "metadata": {},
   "source": [
    "如果想处理某个时间段的平均数据（例如月），还可以创建一个新列month，并将DatatimeIndex索引的Timestamp值的month字段赋值给该数列。"
   ]
  },
  {
   "cell_type": "code",
   "execution_count": 73,
   "id": "f433607f-0664-453a-a81e-636a6cf18325",
   "metadata": {},
   "outputs": [
    {
     "data": {
      "text/html": [
       "<div>\n",
       "<style scoped>\n",
       "    .dataframe tbody tr th:only-of-type {\n",
       "        vertical-align: middle;\n",
       "    }\n",
       "\n",
       "    .dataframe tbody tr th {\n",
       "        vertical-align: top;\n",
       "    }\n",
       "\n",
       "    .dataframe thead th {\n",
       "        text-align: right;\n",
       "    }\n",
       "</style>\n",
       "<table border=\"1\" class=\"dataframe\">\n",
       "  <thead>\n",
       "    <tr style=\"text-align: right;\">\n",
       "      <th></th>\n",
       "      <th>time</th>\n",
       "      <th>outdoor</th>\n",
       "      <th>month</th>\n",
       "    </tr>\n",
       "  </thead>\n",
       "  <tbody>\n",
       "    <tr>\n",
       "      <th>0</th>\n",
       "      <td>2014-01-01 07:03:06+08:00</td>\n",
       "      <td>4.38</td>\n",
       "      <td>1</td>\n",
       "    </tr>\n",
       "    <tr>\n",
       "      <th>1</th>\n",
       "      <td>2014-01-01 07:13:06+08:00</td>\n",
       "      <td>4.25</td>\n",
       "      <td>1</td>\n",
       "    </tr>\n",
       "    <tr>\n",
       "      <th>2</th>\n",
       "      <td>2014-01-01 07:23:07+08:00</td>\n",
       "      <td>4.19</td>\n",
       "      <td>1</td>\n",
       "    </tr>\n",
       "    <tr>\n",
       "      <th>3</th>\n",
       "      <td>2014-01-01 07:33:07+08:00</td>\n",
       "      <td>4.06</td>\n",
       "      <td>1</td>\n",
       "    </tr>\n",
       "    <tr>\n",
       "      <th>4</th>\n",
       "      <td>2014-01-01 07:43:08+08:00</td>\n",
       "      <td>4.06</td>\n",
       "      <td>1</td>\n",
       "    </tr>\n",
       "  </tbody>\n",
       "</table>\n",
       "</div>"
      ],
      "text/plain": [
       "                       time  outdoor  month\n",
       "0 2014-01-01 07:03:06+08:00     4.38      1\n",
       "1 2014-01-01 07:13:06+08:00     4.25      1\n",
       "2 2014-01-01 07:23:07+08:00     4.19      1\n",
       "3 2014-01-01 07:33:07+08:00     4.06      1\n",
       "4 2014-01-01 07:43:08+08:00     4.06      1"
      ]
     },
     "execution_count": 73,
     "metadata": {},
     "output_type": "execute_result"
    }
   ],
   "source": [
    "df1_month = df1.reset_index()  # 取消索引\n",
    "df1_month[\"month\"] = df1_month.time.apply(lambda x: x.month)\n",
    "df1_month.head()"
   ]
  },
  {
   "cell_type": "markdown",
   "id": "2233743a-3275-4593-923d-54f0a1178a79",
   "metadata": {},
   "source": [
    "随后，可以按照新的month字段对DataFrame进行分组，并使用`mean`函数计算分组平均值。"
   ]
  },
  {
   "cell_type": "code",
   "execution_count": 74,
   "id": "77b31d2d-2a4e-4e13-8c24-ad17fdb97f34",
   "metadata": {},
   "outputs": [
    {
     "data": {
      "text/html": [
       "<div>\n",
       "<style scoped>\n",
       "    .dataframe tbody tr th:only-of-type {\n",
       "        vertical-align: middle;\n",
       "    }\n",
       "\n",
       "    .dataframe tbody tr th {\n",
       "        vertical-align: top;\n",
       "    }\n",
       "\n",
       "    .dataframe thead th {\n",
       "        text-align: right;\n",
       "    }\n",
       "</style>\n",
       "<table border=\"1\" class=\"dataframe\">\n",
       "  <thead>\n",
       "    <tr style=\"text-align: right;\">\n",
       "      <th></th>\n",
       "      <th>outdoor</th>\n",
       "    </tr>\n",
       "    <tr>\n",
       "      <th>month</th>\n",
       "      <th></th>\n",
       "    </tr>\n",
       "  </thead>\n",
       "  <tbody>\n",
       "    <tr>\n",
       "      <th>1</th>\n",
       "      <td>-1.755871</td>\n",
       "    </tr>\n",
       "    <tr>\n",
       "      <th>2</th>\n",
       "      <td>2.155565</td>\n",
       "    </tr>\n",
       "    <tr>\n",
       "      <th>3</th>\n",
       "      <td>4.601717</td>\n",
       "    </tr>\n",
       "    <tr>\n",
       "      <th>4</th>\n",
       "      <td>8.083038</td>\n",
       "    </tr>\n",
       "    <tr>\n",
       "      <th>5</th>\n",
       "      <td>12.176464</td>\n",
       "    </tr>\n",
       "  </tbody>\n",
       "</table>\n",
       "</div>"
      ],
      "text/plain": [
       "         outdoor\n",
       "month           \n",
       "1      -1.755871\n",
       "2       2.155565\n",
       "3       4.601717\n",
       "4       8.083038\n",
       "5      12.176464"
      ]
     },
     "execution_count": 74,
     "metadata": {},
     "output_type": "execute_result"
    }
   ],
   "source": [
    "df1_month = df1_month.groupby(\"month\").aggregate(np.mean)\n",
    "df1_month.head()"
   ]
  },
  {
   "cell_type": "code",
   "execution_count": 75,
   "id": "e1a6991d-9e81-4b6a-a3a0-af80fa2b464a",
   "metadata": {},
   "outputs": [],
   "source": [
    "df2_month = df2.reset_index()\n",
    "df2_month[\"month\"] = df2_month.time.apply(lambda x: x.month)\n",
    "df2_month = df2_month.groupby(\"month\").aggregate(np.mean)"
   ]
  },
  {
   "cell_type": "markdown",
   "id": "6026ad5d-96d5-46ae-8dd3-fcce33dd15ff",
   "metadata": {},
   "source": [
    "在处理完两个数据集后，可以使用`join`方法把df1_month和df2_month合并到一个DataFrame对象中："
   ]
  },
  {
   "cell_type": "code",
   "execution_count": 76,
   "id": "68076114-5c27-4f04-ad25-9dfd2d7986b0",
   "metadata": {},
   "outputs": [
    {
     "data": {
      "text/html": [
       "<div>\n",
       "<style scoped>\n",
       "    .dataframe tbody tr th:only-of-type {\n",
       "        vertical-align: middle;\n",
       "    }\n",
       "\n",
       "    .dataframe tbody tr th {\n",
       "        vertical-align: top;\n",
       "    }\n",
       "\n",
       "    .dataframe thead th {\n",
       "        text-align: right;\n",
       "    }\n",
       "</style>\n",
       "<table border=\"1\" class=\"dataframe\">\n",
       "  <thead>\n",
       "    <tr style=\"text-align: right;\">\n",
       "      <th></th>\n",
       "      <th>outdoor</th>\n",
       "      <th>indoor</th>\n",
       "    </tr>\n",
       "    <tr>\n",
       "      <th>month</th>\n",
       "      <th></th>\n",
       "      <th></th>\n",
       "    </tr>\n",
       "  </thead>\n",
       "  <tbody>\n",
       "    <tr>\n",
       "      <th>1</th>\n",
       "      <td>-1.755871</td>\n",
       "      <td>19.895710</td>\n",
       "    </tr>\n",
       "    <tr>\n",
       "      <th>2</th>\n",
       "      <td>2.155565</td>\n",
       "      <td>20.197908</td>\n",
       "    </tr>\n",
       "    <tr>\n",
       "      <th>3</th>\n",
       "      <td>4.601717</td>\n",
       "      <td>19.581730</td>\n",
       "    </tr>\n",
       "    <tr>\n",
       "      <th>4</th>\n",
       "      <td>8.083038</td>\n",
       "      <td>22.118502</td>\n",
       "    </tr>\n",
       "    <tr>\n",
       "      <th>5</th>\n",
       "      <td>12.176464</td>\n",
       "      <td>26.306189</td>\n",
       "    </tr>\n",
       "  </tbody>\n",
       "</table>\n",
       "</div>"
      ],
      "text/plain": [
       "         outdoor     indoor\n",
       "month                      \n",
       "1      -1.755871  19.895710\n",
       "2       2.155565  20.197908\n",
       "3       4.601717  19.581730\n",
       "4       8.083038  22.118502\n",
       "5      12.176464  26.306189"
      ]
     },
     "execution_count": 76,
     "metadata": {},
     "output_type": "execute_result"
    }
   ],
   "source": [
    "df_month = df1_month.join(df2_month)\n",
    "df_month.head()"
   ]
  },
  {
   "cell_type": "markdown",
   "id": "92fe5cfd-870a-40ec-ad5f-f65ff9d814fc",
   "metadata": {},
   "source": [
    "上述数据操作，也可以使用`concat`函数更高效地完成。"
   ]
  },
  {
   "cell_type": "code",
   "execution_count": 77,
   "id": "ebf1dd2a-0176-4836-acc6-9542cd778f6c",
   "metadata": {},
   "outputs": [
    {
     "name": "stderr",
     "output_type": "stream",
     "text": [
      "/opt/anaconda3/lib/python3.9/site-packages/pandas/core/arrays/datetimes.py:1143: UserWarning: Converting to PeriodArray/Index representation will drop timezone information.\n",
      "  warnings.warn(\n"
     ]
    },
    {
     "data": {
      "text/html": [
       "<div>\n",
       "<style scoped>\n",
       "    .dataframe tbody tr th:only-of-type {\n",
       "        vertical-align: middle;\n",
       "    }\n",
       "\n",
       "    .dataframe tbody tr th {\n",
       "        vertical-align: top;\n",
       "    }\n",
       "\n",
       "    .dataframe thead th {\n",
       "        text-align: right;\n",
       "    }\n",
       "</style>\n",
       "<table border=\"1\" class=\"dataframe\">\n",
       "  <thead>\n",
       "    <tr style=\"text-align: right;\">\n",
       "      <th></th>\n",
       "      <th>outdoor</th>\n",
       "      <th>indoor</th>\n",
       "    </tr>\n",
       "    <tr>\n",
       "      <th>time</th>\n",
       "      <th></th>\n",
       "      <th></th>\n",
       "    </tr>\n",
       "  </thead>\n",
       "  <tbody>\n",
       "    <tr>\n",
       "      <th>2014-01</th>\n",
       "      <td>-1.755871</td>\n",
       "      <td>19.895710</td>\n",
       "    </tr>\n",
       "    <tr>\n",
       "      <th>2014-02</th>\n",
       "      <td>2.155565</td>\n",
       "      <td>20.197908</td>\n",
       "    </tr>\n",
       "    <tr>\n",
       "      <th>2014-03</th>\n",
       "      <td>4.601717</td>\n",
       "      <td>19.581730</td>\n",
       "    </tr>\n",
       "    <tr>\n",
       "      <th>2014-04</th>\n",
       "      <td>8.083038</td>\n",
       "      <td>22.118502</td>\n",
       "    </tr>\n",
       "    <tr>\n",
       "      <th>2014-05</th>\n",
       "      <td>12.176464</td>\n",
       "      <td>26.306189</td>\n",
       "    </tr>\n",
       "  </tbody>\n",
       "</table>\n",
       "</div>"
      ],
      "text/plain": [
       "           outdoor     indoor\n",
       "time                         \n",
       "2014-01  -1.755871  19.895710\n",
       "2014-02   2.155565  20.197908\n",
       "2014-03   4.601717  19.581730\n",
       "2014-04   8.083038  22.118502\n",
       "2014-05  12.176464  26.306189"
      ]
     },
     "execution_count": 77,
     "metadata": {},
     "output_type": "execute_result"
    }
   ],
   "source": [
    "df_month = pd.concat([df.to_period(\"M\").groupby(level=0).mean() for df in [df1, df2]], axis=1)\n",
    "df_month.head()"
   ]
  },
  {
   "cell_type": "code",
   "execution_count": 78,
   "id": "29525ec0-c960-48fa-bf0b-b284b3b04542",
   "metadata": {},
   "outputs": [
    {
     "data": {
      "text/plain": [
       "<AxesSubplot:>"
      ]
     },
     "execution_count": 78,
     "metadata": {},
     "output_type": "execute_result"
    },
    {
     "data": {
      "image/png": "[encoded data removed]",
      "text/plain": [
       "<Figure size 864x288 with 2 Axes>"
      ]
     },
     "metadata": {},
     "output_type": "display_data"
    }
   ],
   "source": [
    "fig, axes = plt.subplots(1, 2, figsize=(12, 4))\n",
    "\n",
    "df_month.plot(kind='bar', ax=axes[0])\n",
    "df_month.plot(kind='box', ax=axes[1])"
   ]
  },
  {
   "cell_type": "markdown",
   "id": "a4a17539-5cc0-4167-92c7-8dce9ad78763",
   "metadata": {},
   "source": [
    "#### 重采样\n",
    "\n",
    "Pandas时间序列对象的一个非常有用的功能是可以使用`resample`方法对数据进行升采样（up-sampling）和降采样（down-sampling）。对于升采样，需要用插值的方法填充缺失值。对于降采样，需要将多个数据点聚合成一个新的样本点。\n",
    "\n",
    "`resample`方法的第一个参数是一个字符串，用于指定重采样的频率。该方法会返回一个resampler对象，可以调用它的聚合方法，例如mean、sum等，获得重采样的数据。"
   ]
  },
  {
   "cell_type": "markdown",
   "id": "fb4f60a6-0470-4afd-a474-75c2833538dc",
   "metadata": {},
   "source": [
    "我们示例中的原始数据的采样频率是10分钟，因为数据点较多，在绘图时需要进行降采样。\n",
    "\n",
    "我们将使用四种不同的采样频率对温度时间序列进行重采样，并计算每天室内和室外平均温度的差值。"
   ]
  },
  {
   "cell_type": "code",
   "execution_count": 79,
   "id": "4314eeb8-9ffd-492b-8449-d8960f2428e5",
   "metadata": {},
   "outputs": [],
   "source": [
    "df1_hour = df1.resample(\"H\").mean()\n",
    "df1_hour.columns = [\"outdoor (hourly avg.)\"]\n",
    "\n",
    "df1_day = df1.resample(\"D\").mean()\n",
    "df1_day.columns = [\"outdoor (daily avg.)\"]\n",
    "\n",
    "df1_week = df1.resample(\"7D\").mean()\n",
    "df1_week.columns = [\"outdoor (weekly avg.)\"]\n",
    "\n",
    "df1_month = df1.resample(\"M\").mean()\n",
    "df1_month.columns = [\"outdoor (monthly avg.)\"]"
   ]
  },
  {
   "cell_type": "code",
   "execution_count": 80,
   "id": "aeb6354a-e00e-4ddd-af4f-6fd78fecf17f",
   "metadata": {},
   "outputs": [],
   "source": [
    "df_diff = (df1.resample(\"D\").mean().outdoor - df2.resample(\"D\").mean().indoor)"
   ]
  },
  {
   "cell_type": "code",
   "execution_count": 81,
   "id": "374d4675-0e6f-4e75-bfe0-0a5c7fb83a87",
   "metadata": {},
   "outputs": [
    {
     "data": {
      "image/png": "[encoded data removed]",
      "text/plain": [
       "<Figure size 864x432 with 2 Axes>"
      ]
     },
     "metadata": {},
     "output_type": "display_data"
    }
   ],
   "source": [
    "fig, (ax1, ax2) = plt.subplots(2, 1, figsize=(12, 6))\n",
    "\n",
    "df1_hour.plot(ax=ax1, alpha=0.25)\n",
    "df1_day.plot(ax=ax1)\n",
    "df1_week.plot(ax=ax1)\n",
    "df1_month.plot(ax=ax1)\n",
    "\n",
    "df_diff.plot(ax=ax2)\n",
    "ax2.set_title(\"temperature difference between outdoor and indoor\")\n",
    "\n",
    "fig.tight_layout()"
   ]
  },
  {
   "cell_type": "markdown",
   "id": "9a2389e0-dbeb-46c7-b922-63d593cf9eed",
   "metadata": {},
   "source": [
    "作为升采样的示例，我们使用三种不同的聚合方法（mean均值、ffill前值、bfill后值），对原始数据以5分钟的频率进行重采样。"
   ]
  },
  {
   "cell_type": "code",
   "execution_count": 82,
   "id": "4983eb7e-5cc1-4bc0-b37a-871f2635574b",
   "metadata": {},
   "outputs": [
    {
     "data": {
      "text/html": [
       "<div>\n",
       "<style scoped>\n",
       "    .dataframe tbody tr th:only-of-type {\n",
       "        vertical-align: middle;\n",
       "    }\n",
       "\n",
       "    .dataframe tbody tr th {\n",
       "        vertical-align: top;\n",
       "    }\n",
       "\n",
       "    .dataframe thead th {\n",
       "        text-align: right;\n",
       "    }\n",
       "</style>\n",
       "<table border=\"1\" class=\"dataframe\">\n",
       "  <thead>\n",
       "    <tr style=\"text-align: right;\">\n",
       "      <th></th>\n",
       "      <th>mean</th>\n",
       "      <th>ffill</th>\n",
       "      <th>bfill</th>\n",
       "    </tr>\n",
       "    <tr>\n",
       "      <th>time</th>\n",
       "      <th></th>\n",
       "      <th></th>\n",
       "      <th></th>\n",
       "    </tr>\n",
       "  </thead>\n",
       "  <tbody>\n",
       "    <tr>\n",
       "      <th>2014-01-01 07:00:00+08:00</th>\n",
       "      <td>4.38</td>\n",
       "      <td>NaN</td>\n",
       "      <td>4.38</td>\n",
       "    </tr>\n",
       "    <tr>\n",
       "      <th>2014-01-01 07:05:00+08:00</th>\n",
       "      <td>NaN</td>\n",
       "      <td>4.38</td>\n",
       "      <td>4.25</td>\n",
       "    </tr>\n",
       "    <tr>\n",
       "      <th>2014-01-01 07:10:00+08:00</th>\n",
       "      <td>4.25</td>\n",
       "      <td>4.38</td>\n",
       "      <td>4.25</td>\n",
       "    </tr>\n",
       "    <tr>\n",
       "      <th>2014-01-01 07:15:00+08:00</th>\n",
       "      <td>NaN</td>\n",
       "      <td>4.25</td>\n",
       "      <td>4.19</td>\n",
       "    </tr>\n",
       "    <tr>\n",
       "      <th>2014-01-01 07:20:00+08:00</th>\n",
       "      <td>4.19</td>\n",
       "      <td>4.25</td>\n",
       "      <td>4.19</td>\n",
       "    </tr>\n",
       "  </tbody>\n",
       "</table>\n",
       "</div>"
      ],
      "text/plain": [
       "                           mean  ffill  bfill\n",
       "time                                         \n",
       "2014-01-01 07:00:00+08:00  4.38    NaN   4.38\n",
       "2014-01-01 07:05:00+08:00   NaN   4.38   4.25\n",
       "2014-01-01 07:10:00+08:00  4.25   4.38   4.25\n",
       "2014-01-01 07:15:00+08:00   NaN   4.25   4.19\n",
       "2014-01-01 07:20:00+08:00  4.19   4.25   4.19"
      ]
     },
     "execution_count": 82,
     "metadata": {},
     "output_type": "execute_result"
    }
   ],
   "source": [
    "pd.concat([df1.resample(\"5min\").mean().rename(columns={\"outdoor\": 'mean'}),\n",
    "           df1.resample(\"5min\").ffill().rename(columns={\"outdoor\": 'ffill'}),\n",
    "           df1.resample(\"5min\").bfill().rename(columns={\"outdoor\": 'bfill'})], axis=1).head()"
   ]
  },
  {
   "cell_type": "markdown",
   "id": "a444df4f-bdb0-4d5a-a579-5c123648e2b9",
   "metadata": {},
   "source": [
    "## Seaborn绘图库\n",
    "---\n",
    "\n",
    "[Seaborn](https://seaborn.pydata.org/)是构建于matplotlib基础上的高级图形库，主要用于统计分析和数据处理。\n",
    "\n",
    "在使用Seaborn库之前，可以使用sns.set函数为生成的图形设置样式模板。在下面的代码中，我们使用darkgird样式，该样式使用灰色背景。"
   ]
  },
  {
   "cell_type": "code",
   "execution_count": 83,
   "id": "4aa8f163-0fa2-466a-8cc7-25eb859bbe4e",
   "metadata": {},
   "outputs": [],
   "source": [
    "sns.set(style=\"darkgrid\")\n",
    "#sns.set(style=\"whitegrid\")"
   ]
  },
  {
   "cell_type": "markdown",
   "id": "81a01858-fd1f-4883-a789-00b36ffa5e6e",
   "metadata": {},
   "source": [
    "导入Seaborn库并设置样式会改变matplotlib的图形设置，包括Pandas库生成的图形。我们使用Pandas中DataFrame的`plot`方法重新生成室内和室外温度图，可以发现样式发生了改变。"
   ]
  },
  {
   "cell_type": "code",
   "execution_count": 84,
   "id": "ed216293-3566-42d6-9619-2c841e25e1f1",
   "metadata": {},
   "outputs": [
    {
     "data": {
      "image/png": "[encoded data removed]",
      "text/plain": [
       "<Figure size 576x288 with 1 Axes>"
      ]
     },
     "metadata": {},
     "output_type": "display_data"
    }
   ],
   "source": [
    "df1 = pd.read_csv('temperature_outdoor_2014.tsv', delimiter=\"\\t\", names=[\"time\", \"outdoor\"])\n",
    "df1.time = pd.to_datetime(df1.time.values, unit=\"s\").tz_localize('UTC').tz_convert('Europe/Stockholm')\n",
    "\n",
    "df1 = df1.set_index(\"time\").resample(\"10min\").mean()\n",
    "df2 = pd.read_csv('temperature_indoor_2014.tsv', delimiter=\"\\t\", names=[\"time\", \"indoor\"])\n",
    "df2.time = pd.to_datetime(df2.time.values, unit=\"s\").tz_localize('UTC').tz_convert('Europe/Stockholm')\n",
    "df2 = df2.set_index(\"time\").resample(\"10min\").mean()\n",
    "df_temp = pd.concat([df1, df2], axis=1)\n",
    "\n",
    "fig, ax = plt.subplots(1, 1, figsize=(8, 4))\n",
    "df_temp.resample(\"D\").mean().plot(y=[\"outdoor\", \"indoor\"], ax=ax)\n",
    "fig.tight_layout()"
   ]
  },
  {
   "cell_type": "markdown",
   "id": "8ba6dd8b-8f71-4b71-8b71-7ba9965c927b",
   "metadata": {},
   "source": [
    "### 统计绘图\n",
    "\n",
    "除了比较美观之外，Seaborn库的主要优势在于提供了简单易用的图形绘制统计方法。例如[核密度估计图](https://en.wikipedia.org/wiki/Kernel_density_estimation)`kdeplot`和[直方图](https://zh.wikipedia.org/zh-cn/直方图)`histplot`。"
   ]
  },
  {
   "cell_type": "markdown",
   "id": "df45a46d-f978-4ff5-bff7-a1403ec68457",
   "metadata": {},
   "source": [
    "直方图"
   ]
  },
  {
   "cell_type": "code",
   "execution_count": 85,
   "id": "0b92b221-c088-4435-8a33-17e5c86f9a87",
   "metadata": {},
   "outputs": [
    {
     "name": "stderr",
     "output_type": "stream",
     "text": [
      "/opt/anaconda3/lib/python3.9/site-packages/pandas/core/arrays/datetimes.py:1143: UserWarning: Converting to PeriodArray/Index representation will drop timezone information.\n",
      "  warnings.warn(\n",
      "/opt/anaconda3/lib/python3.9/site-packages/pandas/core/arrays/datetimes.py:1143: UserWarning: Converting to PeriodArray/Index representation will drop timezone information.\n",
      "  warnings.warn(\n"
     ]
    },
    {
     "data": {
      "text/plain": [
       "<AxesSubplot:ylabel='Count'>"
      ]
     },
     "execution_count": 85,
     "metadata": {},
     "output_type": "execute_result"
    },
    {
     "data": {
      "image/png": "[encoded data removed]",
      "text/plain": [
       "<Figure size 432x288 with 1 Axes>"
      ]
     },
     "metadata": {},
     "output_type": "display_data"
    }
   ],
   "source": [
    "sns.histplot(df_temp.to_period(\"M\")[\"outdoor\"][\"2014-04\"].dropna().values, bins=50)\n",
    "sns.histplot(df_temp.to_period(\"M\")[\"indoor\"][\"2014-04\"].dropna().values, bins=50)"
   ]
  },
  {
   "cell_type": "markdown",
   "id": "211cce28-53ff-469a-94a5-b070693b12a1",
   "metadata": {},
   "source": [
    "核心密度估计等高线图"
   ]
  },
  {
   "cell_type": "code",
   "execution_count": 86,
   "id": "808059ba-37de-47d7-a59d-cc92fdf89513",
   "metadata": {},
   "outputs": [
    {
     "data": {
      "text/plain": [
       "<AxesSubplot:xlabel='outdoor', ylabel='indoor'>"
      ]
     },
     "execution_count": 86,
     "metadata": {},
     "output_type": "execute_result"
    },
    {
     "data": {
      "image/png": "[encoded data removed]",
      "text/plain": [
       "<Figure size 432x288 with 1 Axes>"
      ]
     },
     "metadata": {},
     "output_type": "display_data"
    }
   ],
   "source": [
    "sns.kdeplot(data=df_temp.resample(\"H\").mean().dropna(), x=\"outdoor\", y=\"indoor\", shade=False)"
   ]
  },
  {
   "cell_type": "markdown",
   "id": "0d93ce16-c572-4654-9217-9440ee7f4a40",
   "metadata": {},
   "source": [
    "联合分布图"
   ]
  },
  {
   "cell_type": "code",
   "execution_count": 87,
   "id": "b2314505-f886-4f00-a58b-bc16e3f0aab5",
   "metadata": {
    "tags": []
   },
   "outputs": [
    {
     "data": {
      "image/png": "[encoded data removed]",
      "text/plain": [
       "<Figure size 432x432 with 3 Axes>"
      ]
     },
     "metadata": {},
     "output_type": "display_data"
    }
   ],
   "source": [
    "with sns.axes_style(\"white\"):  # 临时格式\n",
    "    sns.jointplot(data=df_temp.resample(\"H\").mean(), x=\"outdoor\", y=\"indoor\", kind=\"hex\")"
   ]
  },
  {
   "cell_type": "markdown",
   "id": "5db6f574-8129-48b4-ac29-a5fc34f07cee",
   "metadata": {},
   "source": [
    "### 分类数据\n",
    "\n",
    "对于分类数据集，比较常用的工具是标准的箱型图，可以对数据的统计信息（最小值、最大值、中位数、四分位数）进行可视化。\n",
    "\n",
    "标准箱型图的一个变体就是小提琴图，可用箱体的宽度来表示核密度估计值。"
   ]
  },
  {
   "cell_type": "code",
   "execution_count": 88,
   "id": "86b4debc-fba7-4b7c-9676-5d39e01b4037",
   "metadata": {},
   "outputs": [
    {
     "data": {
      "text/plain": [
       "<AxesSubplot:xlabel='time', ylabel='outdoor'>"
      ]
     },
     "execution_count": 88,
     "metadata": {},
     "output_type": "execute_result"
    },
    {
     "data": {
      "image/png": "[encoded data removed]",
      "text/plain": [
       "<Figure size 432x288 with 1 Axes>"
      ]
     },
     "metadata": {},
     "output_type": "display_data"
    }
   ],
   "source": [
    "sns.boxplot(x=df_temp.dropna().index.month, y=df_temp.dropna().outdoor, color=\"skyblue\")"
   ]
  },
  {
   "cell_type": "code",
   "execution_count": 89,
   "id": "b15b96c7-5534-4906-b732-90fddae93620",
   "metadata": {},
   "outputs": [
    {
     "data": {
      "text/plain": [
       "<AxesSubplot:xlabel='time', ylabel='outdoor'>"
      ]
     },
     "execution_count": 89,
     "metadata": {},
     "output_type": "execute_result"
    },
    {
     "data": {
      "image/png": "[encoded data removed]",
      "text/plain": [
       "<Figure size 432x288 with 1 Axes>"
      ]
     },
     "metadata": {},
     "output_type": "display_data"
    }
   ],
   "source": [
    "sns.violinplot(x=df_temp.dropna().index.month, y=df_temp.dropna().outdoor, color=\"skyblue\")"
   ]
  },
  {
   "cell_type": "code",
   "execution_count": null,
   "id": "b092528c-7dc8-4aad-8232-3e4701089a11",
   "metadata": {},
   "outputs": [],
   "source": []
  }
 ],
 "metadata": {
  "kernelspec": {
   "display_name": "Python 3 (ipykernel)",
   "language": "python",
   "name": "python3"
  },
  "language_info": {
   "codemirror_mode": {
    "name": "ipython",
    "version": 3
   },
   "file_extension": ".py",
   "mimetype": "text/x-python",
   "name": "python",
   "nbconvert_exporter": "python",
   "pygments_lexer": "ipython3",
   "version": "3.9.7"
  }
 },
 "nbformat": 4,
 "nbformat_minor": 5
}
