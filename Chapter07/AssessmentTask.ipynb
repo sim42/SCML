{
 "cells": [
  {
   "cell_type": "markdown",
   "id": "c58cb44f-a2d5-4fa0-af04-26ef55ad2a89",
   "metadata": {},
   "source": [
    "# 周期稳态三体问题搜索\n",
    "---\n",
    "\n",
    "[三体问题](https://zh.wikipedia.org/wiki/三体问题)（Three-body problem）是天体力学中的基本力学模型。它是指三个质量、初始位置和初始速度都是任意的可视为质点的天体，在相互之间万有引力的作用下的运动规律问题。例如太阳系中，考虑太阳、地球和月球的运动，它们彼此以万有引力相吸引，若假设三个星球都可设为质点，并且忽略其他星球的引力，太阳、地球和月球的运动即可以视为三体问题。 \n",
    "\n",
    "现在已知，三体问题不能使用解析方法精确求解，即无法预测所有三体问题的数学情景，只有几种特殊情况已研究。对三体问题的数值解，会面临[混沌系统](https://zh.wikipedia.org/wiki/混沌理论)的初值敏感问题。\n"
   ]
  },
  {
   "cell_type": "markdown",
   "id": "ea1fa676-eb24-4ce6-a752-ea2c76dfa8b8",
   "metadata": {},
   "source": [
    "## 作业题目\n",
    "---\n",
    "\n",
    "修改下方示例代码的初始条件和求解器参数，计算一个平面三体运动的周期性稳定解，并作图展示。\n",
    "\n",
    "**参考资料**\n",
    "\n",
    "https://observablehq.com/@rreusser/periodic-planar-three-body-orbits\n",
    "\n",
    "https://numericaltank.sjtu.edu.cn/three-body/three-body.htm"
   ]
  },
  {
   "cell_type": "markdown",
   "id": "d336c121-0a9d-4403-8ff9-1fef2ec2070e",
   "metadata": {},
   "source": [
    "## 示例代码-三体问题周期解\n",
    "---"
   ]
  },
  {
   "cell_type": "code",
   "execution_count": 1,
   "id": "14ccba14-6bd4-43d9-82a8-bd78abeb9872",
   "metadata": {},
   "outputs": [],
   "source": [
    "import numpy as np\n",
    "from scipy import integrate"
   ]
  },
  {
   "cell_type": "code",
   "execution_count": 2,
   "id": "307cc49f-aa9e-4ae3-8523-615623e1b500",
   "metadata": {},
   "outputs": [],
   "source": [
    "def f(t, y, args):\n",
    "    G, m_A, m_B, m_C = args\n",
    "    pos_A, pos_B, pos_C, vel_A, vel_B, vel_C = y[:3], y[3:6], y[6:9], y[9:12], y[12:15], y[15:]\n",
    "    r_AB = np.sqrt(np.sum((pos_A-pos_B)**2))\n",
    "    r_BC = np.sqrt(np.sum((pos_B-pos_C)**2))\n",
    "    r_CA = np.sqrt(np.sum((pos_C-pos_A)**2))\n",
    "    F_A = m_A * m_B * G*(pos_B-pos_A)/r_AB**3 + m_C * m_A * G*(pos_C-pos_A)/r_CA**3\n",
    "    F_B = m_A * m_B * G*(pos_A-pos_B)/r_AB**3 + m_C * m_B * G*(pos_C-pos_B)/r_BC**3\n",
    "    F_C = m_A * m_C * G*(pos_A-pos_C)/r_CA**3 + m_C * m_B * G*(pos_B-pos_C)/r_BC**3\n",
    "    return np.hstack((vel_A, vel_B, vel_C, F_A/m_A, F_B/m_B, F_C/m_C))"
   ]
  },
  {
   "cell_type": "code",
   "execution_count": 3,
   "id": "78e951e4-b559-472e-8b50-2708959d498a",
   "metadata": {},
   "outputs": [],
   "source": [
    "G = 10.\n",
    "m_A = 1.\n",
    "m_B = 1.\n",
    "m_C = 1.\n",
    "\n",
    "args = (G, m_A, m_B, m_C)\n",
    "\n",
    "pos_A = np.array([0., 0., 0.])\n",
    "vel_A = np.array([2., 0., 0.])\n",
    "pos_B = np.array([2., 0., 0.])\n",
    "vel_B = np.array([-1., np.sqrt(3), 0.])\n",
    "pos_C = np.array([1., np.sqrt(3), 0.])\n",
    "vel_C = np.array([-1., -np.sqrt(3), 0.])\n",
    "\n",
    "'''Initial condition y0 must be one-dimensional'''\n",
    "y0 = np.hstack((pos_A, pos_B, pos_C, vel_A, vel_B, vel_C))\n",
    "\n",
    "t = np.linspace(0, 10, 5000)"
   ]
  },
  {
   "cell_type": "code",
   "execution_count": 4,
   "id": "80cde710-25e7-4f02-8cf3-ae196f153e95",
   "metadata": {},
   "outputs": [
    {
     "data": {
      "text/plain": [
       "<scipy.integrate._ode.ode at 0x7f035e6a63d0>"
      ]
     },
     "execution_count": 4,
     "metadata": {},
     "output_type": "execute_result"
    }
   ],
   "source": [
    "r = integrate.ode(f)\n",
    "r.set_integrator('vode', method = 'adams')\n",
    "r.set_initial_value(y0, t[0])\n",
    "r.set_f_params(args)"
   ]
  },
  {
   "cell_type": "code",
   "execution_count": 5,
   "id": "07b0086a-d17f-454d-ac06-0049c1f78cfd",
   "metadata": {},
   "outputs": [],
   "source": [
    "dt = t[1] - t[0]\n",
    "y_t = np.zeros((len(t), len(y0)))\n",
    "\n",
    "idx = 0\n",
    "while r.successful() and r.t < t[-1]+1e-5:\n",
    "    y_t[idx, :] = r.y\n",
    "    r.integrate(r.t + dt)\n",
    "    idx += 1"
   ]
  },
  {
   "cell_type": "code",
   "execution_count": 6,
   "id": "85e2aee9-edca-4de7-86bc-c348557b7bcd",
   "metadata": {},
   "outputs": [
    {
     "data": {
      "application/vnd.jupyter.widget-view+json": {
       "model_id": "f8a2ad920e374660a233c1163694a191",
       "version_major": 2,
       "version_minor": 0
      },
      "text/plain": [
       "VBox(children=(Figure(axes=[Axis(scale=LinearScale()), Axis(orientation='vertical', scale=LinearScale())], fig…"
      ]
     },
     "metadata": {},
     "output_type": "display_data"
    }
   ],
   "source": [
    "import bqplot as bq\n",
    "from bqplot import pyplot as plt\n",
    "\n",
    "figure = plt.figure(title='Bqplot Plot')\n",
    "figure.layout.height = '600px'\n",
    "figure.layout.width = '600px'\n",
    "\n",
    "plot_A = plt.plot(y_t[:, 0],y_t[:, 1], 'r')  # A\n",
    "plot_B = plt.plot(y_t[:, 3],y_t[:, 4], 'b')  # B\n",
    "plot_C = plt.plot(y_t[:, 6],y_t[:, 7], 'g')  # C\n",
    "scatter_A = plt.scatter(y_t[:2, 0],y_t[:2, 1], colors=[\"red\"])\n",
    "scatter_B = plt.scatter(y_t[:2, 3],y_t[:2, 4], colors=[\"blue\"])\n",
    "scatter_C = plt.scatter(y_t[:2, 6],y_t[:2, 7], colors=[\"green\"])\n",
    "\n",
    "plt.show()"
   ]
  },
  {
   "cell_type": "code",
   "execution_count": null,
   "id": "ea58a6dd-943d-423e-9d83-39f6210832f6",
   "metadata": {},
   "outputs": [],
   "source": [
    "'''Animation'''\n",
    "import time\n",
    "\n",
    "idx = 0\n",
    "speed = 4\n",
    "for idx in range(1, len(t)-1, speed):  # Update Chart\n",
    "    scatter_A.x = y_t[idx:idx+2, 0]\n",
    "    scatter_A.y = y_t[idx:idx+2, 1]\n",
    "    scatter_B.x = y_t[idx:idx+2, 3]\n",
    "    scatter_B.y = y_t[idx:idx+2, 4]\n",
    "    scatter_C.x = y_t[idx:idx+2, 6]\n",
    "    scatter_C.y = y_t[idx:idx+2, 7]\n",
    "    time.sleep(0.01)"
   ]
  },
  {
   "cell_type": "code",
   "execution_count": null,
   "id": "28d5d2fb-83d8-477d-9465-68d8ab05fa80",
   "metadata": {},
   "outputs": [],
   "source": []
  }
 ],
 "metadata": {
  "kernelspec": {
   "display_name": "Python 3 (ipykernel)",
   "language": "python",
   "name": "python3"
  },
  "language_info": {
   "codemirror_mode": {
    "name": "ipython",
    "version": 3
   },
   "file_extension": ".py",
   "mimetype": "text/x-python",
   "name": "python",
   "nbconvert_exporter": "python",
   "pygments_lexer": "ipython3",
   "version": "3.9.7"
  }
 },
 "nbformat": 4,
 "nbformat_minor": 5
}
