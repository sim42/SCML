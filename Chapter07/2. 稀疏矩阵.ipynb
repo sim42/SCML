{
 "cells": [
  {
   "cell_type": "markdown",
   "id": "7d5f19ec-ed11-4f0d-a7ea-21763b5bc257",
   "metadata": {},
   "source": [
    "# 稀疏矩阵\n",
    "---\n",
    "\n",
    "数组和矩阵是数值计算的基础元素。目前为止，我们都是使用NumPy的ndarray数据结构来表示数组，这是一种同构的容器，用于存储数组的所有元素。\n",
    "\n",
    "有一种特殊情况，矩阵的大部分元素都为零，这种矩阵被称为稀疏矩阵。对于稀疏矩阵，将所有零保存在计算机内存中的效率很低，更合适的方法是只保存非零元素以及位置信息。\n",
    "\n",
    "假设存在一个神经网络，16个神经元分布在一个4×4的二维矩形网格上，其中只有最近邻的神经元是相连的。那么，神经网络的连接情况就可以表示为一个稀疏矩阵。\n",
    "\n",
    "<img src=\"Images/Sparse_Matrix.png\" style=\"width: 400px;\"/>"
   ]
  },
  {
   "cell_type": "markdown",
   "id": "07979d6a-cf22-42f6-992c-32b957f923de",
   "metadata": {},
   "source": [
    "## 导入模块\n",
    "---\n",
    "\n",
    "SciPy中提供了稀疏矩阵模块`scipy.sparse`，为稀疏矩阵的表示及其线性代数运算提供了丰富易用的接口。"
   ]
  },
  {
   "cell_type": "code",
   "execution_count": 1,
   "id": "a252f763-75ed-4f64-9106-ca6d653cff08",
   "metadata": {},
   "outputs": [],
   "source": [
    "import matplotlib.pyplot as plt\n",
    "import matplotlib as mpl\n",
    "\n",
    "import numpy as np\n",
    "\n",
    "import scipy.sparse as sp\n",
    "import scipy.sparse.linalg\n",
    "\n",
    "import scipy.linalg as la"
   ]
  },
  {
   "cell_type": "markdown",
   "id": "7f468f69-aed0-45bd-a017-d55eaea8c69a",
   "metadata": {},
   "source": [
    "## SciPy中的稀疏矩阵\n",
    "---\n",
    "下方表格总结和比较了了SciPy的sparse模块中可用的稀疏矩阵表示法。\n",
    "\n",
    "| 类型 | Python类 | 描述 | 优点 | 缺点 |\n",
    "|---|---|---|---|---|\n",
    "| 坐标的列表 |[sp.coo_matrix](https://docs.scipy.org/doc/scipy/reference/generated/scipy.sparse.coo_matrix.html)| 将非零值及其行列信息保存在一个列表 | 构造简单，添加元素方便 | 访问元素效率低下 |\n",
    "| 列表的列表 |[sp.lil_matrix](https://docs.scipy.org/doc/scipy/reference/generated/scipy.sparse.lil_matrix.html)| 将每行的非零元素列索引保存在一个列表，将对应值保存在另一个列表 | 支持切片操作 | 不方便进行数学运算 |\n",
    "| 值的字典 |[sp.dok_matrix](https://docs.scipy.org/doc/scipy/reference/generated/scipy.sparse.dok_matrix.html)| 将非零值保存在字典，非零值的坐标元组作为字典的键 | 构造简单，可快速添加删除元素 | 不方便进行数学运算 |\n",
    "| 对角矩阵 |[sp.dia_matrix](https://docs.scipy.org/doc/scipy/reference/generated/scipy.sparse.dia_matrix.html)| 矩阵的对角线列表 | 对于对角矩阵非常有效 | 不适用非对角矩阵 |\n",
    "| 压缩列格式和压缩行格式 |[sp.csc_matrix](https://docs.scipy.org/doc/scipy/reference/generated/scipy.sparse.csc_matrix.html) 和 [sp.csr_matrix](https://docs.scipy.org/doc/scipy/reference/generated/scipy.sparse.csr_matrix.html) | 将值与行列索引的数组一起存储 | 对于矩阵的向量乘法很高效 | 构造相对复杂 |\n",
    "| 块稀疏矩阵 |[sp.bsr_matrix](https://docs.scipy.org/doc/scipy/reference/generated/scipy.sparse.bsr_matrix.html)| 与CSR类似，用于具有稠密子矩阵的稀疏矩阵 | 对于此类特殊矩阵很高效 | 不适用一般矩阵 |"
   ]
  },
  {
   "cell_type": "markdown",
   "id": "8736caf0-7b1f-417f-b0e0-1b609bfe2ea3",
   "metadata": {},
   "source": [
    "### 坐标列表格式 COO\n",
    "\n",
    "例如，我们在SciPy对下面稀疏矩阵以COO格式进行初始化：\n",
    "\n",
    "$$\n",
    "A = \n",
    "\\begin{bmatrix}0 \\ 1 \\ 0 \\ 0 \\\\\n",
    "0 \\ 0 \\ 0 \\ 2 \\\\\n",
    "0 \\ 0 \\ 3 \\ 0 \\\\\n",
    "4 \\ 0 \\ 0 \\ 0 \\end{bmatrix}\n",
    "$$"
   ]
  },
  {
   "cell_type": "markdown",
   "id": "16445914-b15a-4d7d-98d0-70d803e07c4b",
   "metadata": {},
   "source": [
    "为了创建`sp.coo_matrix`对象，我们需要创建非零值、行索引以及列索引的列表或数组，并将其传递给生成函数`sp.coo_matrix`。"
   ]
  },
  {
   "cell_type": "code",
   "execution_count": 2,
   "id": "4c6bc8aa-fbcd-43d0-b386-2398b80ca950",
   "metadata": {},
   "outputs": [
    {
     "data": {
      "text/plain": [
       "<4x4 sparse matrix of type '<class 'numpy.int64'>'\n",
       "\twith 4 stored elements in COOrdinate format>"
      ]
     },
     "execution_count": 2,
     "metadata": {},
     "output_type": "execute_result"
    }
   ],
   "source": [
    "values = [1, 2, 3, 4]\n",
    "rows = [0, 1, 2, 3]\n",
    "cols = [1, 3, 2, 0]\n",
    "A = sp.coo_matrix((values, (rows, cols)), shape=[4, 4])\n",
    "A"
   ]
  },
  {
   "cell_type": "markdown",
   "id": "ff05a3a6-89da-40c8-b1f5-cb162da02e09",
   "metadata": {},
   "source": [
    "SciPy的sparse模块中稀疏矩阵的属性大部分派生自NumPy的ndarray对象，同时也包括nnz（非零元素数目）和data（非零值）等属性。"
   ]
  },
  {
   "cell_type": "code",
   "execution_count": 3,
   "id": "799f4d74-9105-43e4-b3ed-99a7023ad561",
   "metadata": {},
   "outputs": [
    {
     "data": {
      "text/plain": [
       "((4, 4), 4, dtype('int64'), 2)"
      ]
     },
     "execution_count": 3,
     "metadata": {},
     "output_type": "execute_result"
    }
   ],
   "source": [
    "A.shape, A.size, A.dtype, A.ndim"
   ]
  },
  {
   "cell_type": "code",
   "execution_count": 4,
   "id": "70ffc14a-bc74-4d74-a3e1-f0ac11619c18",
   "metadata": {},
   "outputs": [
    {
     "data": {
      "text/plain": [
       "(4, array([1, 2, 3, 4]))"
      ]
     },
     "execution_count": 4,
     "metadata": {},
     "output_type": "execute_result"
    }
   ],
   "source": [
    "A.nnz, A.data"
   ]
  },
  {
   "cell_type": "markdown",
   "id": "fba9ae05-f731-4a4b-ad12-3d933f00ef28",
   "metadata": {},
   "source": [
    "对于`sp.coo_matrix`对象，我们还可以使用row和col属性来访问底层的行列坐标数组。"
   ]
  },
  {
   "cell_type": "code",
   "execution_count": 5,
   "id": "c0c7f3fa-be4c-4cfb-835a-1a6e0d74c680",
   "metadata": {},
   "outputs": [
    {
     "data": {
      "text/plain": [
       "(array([0, 1, 2, 3], dtype=int32), array([1, 3, 2, 0], dtype=int32))"
      ]
     },
     "execution_count": 5,
     "metadata": {},
     "output_type": "execute_result"
    }
   ],
   "source": [
    "A.row, A.col"
   ]
  },
  {
   "cell_type": "markdown",
   "id": "e8c69c92-1986-4ec2-8fbf-82ac61c9e61f",
   "metadata": {},
   "source": [
    "### 格式转换\n",
    "\n",
    "稠密矩阵和稀疏矩阵，以及不同格式稀疏矩阵之间，可以很方便地进行格式转换。"
   ]
  },
  {
   "cell_type": "code",
   "execution_count": 6,
   "id": "8533887c-f4e1-46a0-af0e-026aef14bb9f",
   "metadata": {},
   "outputs": [
    {
     "data": {
      "text/plain": [
       "matrix([[0, 1, 0, 0],\n",
       "        [0, 0, 0, 2],\n",
       "        [0, 0, 3, 0],\n",
       "        [4, 0, 0, 0]])"
      ]
     },
     "execution_count": 6,
     "metadata": {},
     "output_type": "execute_result"
    }
   ],
   "source": [
    "A.todense()  # 转换为稠密矩阵"
   ]
  },
  {
   "cell_type": "code",
   "execution_count": 7,
   "id": "d682aea0-ecb6-41eb-abf8-22ccfe4aba01",
   "metadata": {},
   "outputs": [
    {
     "data": {
      "text/plain": [
       "array([[0, 1, 0, 0],\n",
       "       [0, 0, 0, 2],\n",
       "       [0, 0, 3, 0],\n",
       "       [4, 0, 0, 0]])"
      ]
     },
     "execution_count": 7,
     "metadata": {},
     "output_type": "execute_result"
    }
   ],
   "source": [
    "A.toarray()  # 转换为ndarray数组"
   ]
  },
  {
   "cell_type": "code",
   "execution_count": 8,
   "id": "c84e5e78-a126-4e40-9962-d6f1e1a4c81d",
   "metadata": {},
   "outputs": [
    {
     "data": {
      "text/plain": [
       "<4x4 sparse matrix of type '<class 'numpy.int64'>'\n",
       "\twith 4 stored elements in Compressed Sparse Row format>"
      ]
     },
     "execution_count": 8,
     "metadata": {},
     "output_type": "execute_result"
    }
   ],
   "source": [
    "A.tocsr()  # 转换为CSR格式"
   ]
  },
  {
   "cell_type": "markdown",
   "id": "9800e330-0abd-48d2-8366-718f69208780",
   "metadata": {},
   "source": [
    "主要注意，不是所有的格式支持索引。"
   ]
  },
  {
   "cell_type": "code",
   "execution_count": 9,
   "id": "80f079f5-a474-4c49-9a53-e6b4f457f4c0",
   "metadata": {},
   "outputs": [
    {
     "name": "stdout",
     "output_type": "stream",
     "text": [
      "NotImplementedError\n"
     ]
    }
   ],
   "source": [
    "try:\n",
    "    A.tobsr()[1]  # 块稀疏矩阵不支持索引\n",
    "except NotImplementedError:\n",
    "    print(\"NotImplementedError\")"
   ]
  },
  {
   "cell_type": "markdown",
   "id": "42b8f71d-62dd-4c49-bae5-4d60b41f74c6",
   "metadata": {},
   "source": [
    "### 压缩列格式和压缩行格式 CSR/CSC\n",
    "\n",
    "对于数值计算而言，SciPy的sparse模块中最重要的稀疏矩阵表示是CSR和CSC格式，因为它们非常适合进行有效的矩阵运算和线性代数运算。在准备好需要计算的稀疏矩阵后，可以使用`toscr`或者`tocsc`将其转换为CSR格式或者CSC格式。"
   ]
  },
  {
   "cell_type": "code",
   "execution_count": 3,
   "id": "a4dc0efa-42bd-44d9-b3ee-ef8a18db2d9a",
   "metadata": {},
   "outputs": [
    {
     "data": {
      "text/plain": [
       "array([[1, 2, 0, 0],\n",
       "       [0, 3, 4, 0],\n",
       "       [0, 0, 5, 6],\n",
       "       [7, 0, 8, 9]])"
      ]
     },
     "execution_count": 3,
     "metadata": {},
     "output_type": "execute_result"
    }
   ],
   "source": [
    "A = np.array([[1, 2, 0, 0], [0, 3, 4, 0], [0, 0, 5, 6], [7, 0, 8, 9]])\n",
    "A"
   ]
  },
  {
   "cell_type": "code",
   "execution_count": 4,
   "id": "7b833d4c-3a38-4268-b67e-e6bff6473b12",
   "metadata": {},
   "outputs": [
    {
     "data": {
      "text/plain": [
       "array([1, 2, 3, 4, 5, 6, 7, 8, 9])"
      ]
     },
     "execution_count": 4,
     "metadata": {},
     "output_type": "execute_result"
    }
   ],
   "source": [
    "A = sp.csr_matrix(A)\n",
    "A.data  # 所有非零元素"
   ]
  },
  {
   "cell_type": "code",
   "execution_count": 12,
   "id": "dde8e7f7-8ac4-4286-b43d-58e3e0923651",
   "metadata": {},
   "outputs": [
    {
     "data": {
      "text/plain": [
       "array([0, 1, 1, 2, 2, 3, 0, 2, 3], dtype=int32)"
      ]
     },
     "execution_count": 12,
     "metadata": {},
     "output_type": "execute_result"
    }
   ],
   "source": [
    "A.indices # 非零元素列序号"
   ]
  },
  {
   "cell_type": "code",
   "execution_count": 13,
   "id": "8ac34e31-0864-430b-a0d7-dea55ad9f8da",
   "metadata": {},
   "outputs": [
    {
     "data": {
      "text/plain": [
       "array([0, 2, 4, 6, 9], dtype=int32)"
      ]
     },
     "execution_count": 13,
     "metadata": {},
     "output_type": "execute_result"
    }
   ],
   "source": [
    "A.indptr  # 每一行第一个非零元素在data中的起始序号"
   ]
  },
  {
   "cell_type": "markdown",
   "id": "bc84ae1e-90c2-4271-9b5b-50248c6bbf3c",
   "metadata": {},
   "source": [
    "![](Images/CSR.png)"
   ]
  },
  {
   "cell_type": "markdown",
   "id": "55657c1f-5173-43ba-99e4-e1dd9bb35ba5",
   "metadata": {
    "tags": []
   },
   "source": [
    "## 创建稀疏矩阵\n",
    "---\n",
    "\n",
    "一种创建稀疏矩阵的方法是对普通矩阵进行格式转换。同时，`sp.sparse`模块提供了很多用于生成此类矩阵的函数。\n",
    "\n",
    "`sp.eye`用于生成对焦矩阵，`sp.kron`用于计算两个稀疏矩阵的Kronecker张量积，`bmat`、`vstack`和`hstack`用于从稀疏块矩阵、垂直和水平堆叠矩阵来生成稀疏矩阵。\n",
    "\n",
    "例如，我们重复调用`sp.eye`生成一个具有多个对角线的矩阵，其中使用了k参数设置相对主对角线的偏移量。"
   ]
  },
  {
   "cell_type": "code",
   "execution_count": 14,
   "id": "3dc4c2cd-2075-49a8-bfa8-cd853d94c9f3",
   "metadata": {},
   "outputs": [
    {
     "name": "stdout",
     "output_type": "stream",
     "text": [
      "<class 'scipy.sparse.csr.csr_matrix'>\n"
     ]
    },
    {
     "data": {
      "text/plain": [
       "matrix([[-2.,  1.,  0.,  0.,  0.,  0.,  0.,  0.,  0.,  0.],\n",
       "        [ 1., -2.,  1.,  0.,  0.,  0.,  0.,  0.,  0.,  0.],\n",
       "        [ 0.,  1., -2.,  1.,  0.,  0.,  0.,  0.,  0.,  0.],\n",
       "        [ 0.,  0.,  1., -2.,  1.,  0.,  0.,  0.,  0.,  0.],\n",
       "        [ 0.,  0.,  0.,  1., -2.,  1.,  0.,  0.,  0.,  0.],\n",
       "        [ 0.,  0.,  0.,  0.,  1., -2.,  1.,  0.,  0.,  0.],\n",
       "        [ 0.,  0.,  0.,  0.,  0.,  1., -2.,  1.,  0.,  0.],\n",
       "        [ 0.,  0.,  0.,  0.,  0.,  0.,  1., -2.,  1.,  0.],\n",
       "        [ 0.,  0.,  0.,  0.,  0.,  0.,  0.,  1., -2.,  1.],\n",
       "        [ 0.,  0.,  0.,  0.,  0.,  0.,  0.,  0.,  1., -2.]])"
      ]
     },
     "execution_count": 14,
     "metadata": {},
     "output_type": "execute_result"
    }
   ],
   "source": [
    "N = 10\n",
    "A = -2 * sp.eye(N) + sp.eye(N, k=1) + sp.eye(N, k=-1)\n",
    "print(type(A))\n",
    "A.todense()"
   ]
  },
  {
   "cell_type": "markdown",
   "id": "6df8974c-7eae-4d5f-87fd-c8cdc4ae6eca",
   "metadata": {},
   "source": [
    "默认情况下，得到的是CSR格式的稀疏矩阵。使用format参数，可以指定任意其它稀疏矩阵格式。"
   ]
  },
  {
   "cell_type": "code",
   "execution_count": 15,
   "id": "95562a1b-32cb-49db-ac14-fa0e1f17e37c",
   "metadata": {},
   "outputs": [
    {
     "data": {
      "text/plain": [
       "<10x10 sparse matrix of type '<class 'numpy.float64'>'\n",
       "\twith 28 stored elements in Compressed Sparse Column format>"
      ]
     },
     "execution_count": 15,
     "metadata": {},
     "output_type": "execute_result"
    }
   ],
   "source": [
    "A = sp.diags([1,-2,1], [1,0,-1], shape=[N, N], format='csc')\n",
    "A"
   ]
  },
  {
   "cell_type": "markdown",
   "id": "97eed9d1-c9a7-4ec5-aa2e-b9c14f3a4e84",
   "metadata": {},
   "source": [
    "可以注意到，这个矩阵是离散空间下二阶微分操作（[拉普拉斯算子](https://zh.wikipedia.org/wiki/拉普拉斯算子)）的矩阵表示。\n",
    "\n",
    "$$\\frac{d^{2} f}{d x^{2}}=\\lim _{h \\rightarrow 0} \\frac{f(x-h)-2 f(x)+f(x+h)}{h^{2}}$$  \n",
    "\n",
    "$$\n",
    "\\frac{d^{2} f}{d x^{2}}=\\begin{bmatrix}\\begin{array}{ccccccc}-2 & 1 & 0  & \\ldots & 0 & 0 \\\\ 1 & -2 & 1 & \\ldots & 0 & 0 \\\\ 0 & 1 & -2 & \\ldots & 0 & 0 \\\\ \\ldots & \\ldots & \\ldots & \\ldots & \\ldots & \\ldots \\\\ 0 & 0 & 0 & \\ldots & -2 & 1 \\\\ 0 & 0 & 0 & \\ldots & 1 & -2\\end{array}\\end{bmatrix}\\begin{bmatrix}\\begin{array}{c}f(a) \\\\ f(a+h) \\\\ f(a+2 h) \\\\ \\ldots \\\\ f(a+(n-2) h) \\\\ f(b)\\end{array}\\end{bmatrix} / h^{2}=\\operatorname{Lap}|f\\rangle\n",
    "$$  "
   ]
  },
  {
   "cell_type": "markdown",
   "id": "44f78f51-fec6-4621-abe3-00aee22962e7",
   "metadata": {},
   "source": [
    "### 稀疏矩阵的可视化\n",
    "\n",
    "matplotlib提供的`spy`函数可以对稀疏矩阵进行可视化。"
   ]
  },
  {
   "cell_type": "code",
   "execution_count": 16,
   "id": "39428c71-e9e2-4548-8dbd-2dc2996750a1",
   "metadata": {},
   "outputs": [
    {
     "data": {
      "text/plain": [
       "<matplotlib.lines.Line2D at 0x7f42c5acd1f0>"
      ]
     },
     "execution_count": 16,
     "metadata": {},
     "output_type": "execute_result"
    },
    {
     "data": {
      "image/png": "[encoded data removed]",
      "text/plain": [
       "<Figure size 432x288 with 1 Axes>"
      ]
     },
     "metadata": {
      "needs_background": "light"
     },
     "output_type": "display_data"
    }
   ],
   "source": [
    "fig, ax = plt.subplots()\n",
    "ax.spy(A)"
   ]
  },
  {
   "cell_type": "markdown",
   "id": "68285339-eeb7-4b16-8dbd-660998168f8a",
   "metadata": {},
   "source": [
    "稀疏矩阵经常和张量积空间相关。使用`sp.kron`函数，可以将多个较小的矩阵组成单个大的稀疏矩阵。\n",
    "\n",
    "神经网络中的变换都可以简化为数值数据张量上的一些张量计算。"
   ]
  },
  {
   "cell_type": "code",
   "execution_count": 17,
   "id": "243ba35e-7753-4465-91fd-92937e65e521",
   "metadata": {},
   "outputs": [
    {
     "data": {
      "text/plain": [
       "matrix([[0., 1., 0.],\n",
       "        [1., 0., 1.],\n",
       "        [0., 1., 0.]])"
      ]
     },
     "execution_count": 17,
     "metadata": {},
     "output_type": "execute_result"
    }
   ],
   "source": [
    "B = sp.diags([1, 1], [-1, 1], shape=[3,3])\n",
    "B.todense()"
   ]
  },
  {
   "cell_type": "code",
   "execution_count": 18,
   "id": "b702c90f-3dd6-4773-91e7-7bce5920afe1",
   "metadata": {},
   "outputs": [
    {
     "data": {
      "text/plain": [
       "<matplotlib.lines.Line2D at 0x7f42c5977ac0>"
      ]
     },
     "execution_count": 18,
     "metadata": {},
     "output_type": "execute_result"
    },
    {
     "data": {
      "image/png": "[encoded data removed]",
      "text/plain": [
       "<Figure size 864x288 with 3 Axes>"
      ]
     },
     "metadata": {
      "needs_background": "light"
     },
     "output_type": "display_data"
    }
   ],
   "source": [
    "C = sp.kron(A, B, format='csr')\n",
    "\n",
    "fig, (ax_A, ax_B, ax_C) = plt.subplots(1, 3, figsize=(12, 4))\n",
    "ax_A.spy(A)\n",
    "ax_B.spy(B)\n",
    "ax_C.spy(C)"
   ]
  },
  {
   "cell_type": "markdown",
   "id": "4ef0bfb2-08d2-4bc2-af43-842814380511",
   "metadata": {},
   "source": [
    "## 稀疏矩阵线性代数\n",
    "---\n",
    "\n",
    "稀疏矩阵的主要应用是在大型矩阵上进行线性代数运算。SciPy的`sparse`模块中包含的`linalg`子模块实现了很多线性代数运算。\n",
    "\n",
    "稀疏线性代数模块`scipy.sparse.linalg`和稠密线性代数模块`scipy.linalg`的运算行为存在很多差异。例如，用于稠密问题的特征值求解器通常会计算返回所有的特征值和特征向量。对于稀疏矩阵而言，为了保证稀疏性和计算效率，它的特征值求解器通常只返回少量的特征值和特征向量，例如特征值最大或最小的部分。\n",
    "\n",
    "当然，这种差异性在大部分场景不会影响稀疏线性代数模块的应用。因为很多时候我们只关心最小或者做大的部分特征值。例如求解薛定谔方程时，特征值（能量值）最低的结果是最重要的。"
   ]
  },
  {
   "cell_type": "markdown",
   "id": "d93f6c51-481a-4713-863d-e1cc112cd044",
   "metadata": {},
   "source": [
    "### 线性方程组\n",
    "\n",
    "我们考虑$Ax=b$形式的线性方程组，以前面提到的三对角矩阵为例："
   ]
  },
  {
   "cell_type": "code",
   "execution_count": 5,
   "id": "a5955a6c-b323-4b69-acaa-f16fa4087e6e",
   "metadata": {},
   "outputs": [],
   "source": [
    "N = 10\n",
    "A = sp.diags([1, -2, 1], [1, 0, -1], shape=[N, N], format='csc')\n",
    "b = -np.ones(N)"
   ]
  },
  {
   "cell_type": "markdown",
   "id": "705ad202-56b7-4b3d-b6fd-78104f9a5af4",
   "metadata": {},
   "source": [
    "首先使用SciPy提供的稀疏矩阵求解器："
   ]
  },
  {
   "cell_type": "code",
   "execution_count": 6,
   "id": "31dc23bf-a148-45ca-8ddd-5aebbd882745",
   "metadata": {},
   "outputs": [
    {
     "data": {
      "text/plain": [
       "array([ 5.,  9., 12., 14., 15., 15., 14., 12.,  9.,  5.])"
      ]
     },
     "execution_count": 6,
     "metadata": {},
     "output_type": "execute_result"
    }
   ],
   "source": [
    "x = sp.linalg.spsolve(A, b)\n",
    "x"
   ]
  },
  {
   "cell_type": "markdown",
   "id": "f2e2eb18-4962-4f30-a3f9-ce86c78a68ac",
   "metadata": {},
   "source": [
    "为了对比，我们也使用SciPy提供的稠密矩阵求解器："
   ]
  },
  {
   "cell_type": "code",
   "execution_count": 7,
   "id": "7a6ceaee-949d-4298-b2c0-884ae0a4d48b",
   "metadata": {},
   "outputs": [
    {
     "data": {
      "text/plain": [
       "array([ 5.,  9., 12., 14., 15., 15., 14., 12.,  9.,  5.])"
      ]
     },
     "execution_count": 7,
     "metadata": {},
     "output_type": "execute_result"
    }
   ],
   "source": [
    "B = A.todense()\n",
    "x = la.solve(B, b)\n",
    "x"
   ]
  },
  {
   "cell_type": "markdown",
   "id": "316aa3b7-699e-469e-ad62-59e3a9ba854c",
   "metadata": {},
   "source": [
    "为了对比两者的速度差异，我们可以尝试较大的矩阵："
   ]
  },
  {
   "cell_type": "code",
   "execution_count": 8,
   "id": "8102572f-d556-4157-8c43-cab2478d2dbc",
   "metadata": {},
   "outputs": [],
   "source": [
    "N = 1000\n",
    "A = sp.diags([1, -2, 1], [1, 0, -1], shape=[N, N], format='csc')\n",
    "b = -np.ones(N)\n",
    "B = A.todense()"
   ]
  },
  {
   "cell_type": "code",
   "execution_count": 9,
   "id": "bd79b433-9322-4bfe-a22a-3512eaa1c506",
   "metadata": {},
   "outputs": [
    {
     "name": "stdout",
     "output_type": "stream",
     "text": [
      "CPU times: user 1.89 ms, sys: 738 µs, total: 2.63 ms\n",
      "Wall time: 5.95 ms\n"
     ]
    }
   ],
   "source": [
    "%time x = sp.linalg.spsolve(A, b)"
   ]
  },
  {
   "cell_type": "code",
   "execution_count": 10,
   "id": "53063727-7c73-4049-8b7a-adfaec955b86",
   "metadata": {},
   "outputs": [
    {
     "name": "stdout",
     "output_type": "stream",
     "text": [
      "CPU times: user 123 ms, sys: 11.7 ms, total: 135 ms\n",
      "Wall time: 103 ms\n"
     ]
    }
   ],
   "source": [
    "%time x = la.solve(B, b)"
   ]
  },
  {
   "cell_type": "markdown",
   "id": "7a2bf456-95e9-4129-bf8a-472b3e1f51bb",
   "metadata": {},
   "source": [
    "可以看到，当N很大时，稀疏矩阵的运算速度有很大优势。"
   ]
  },
  {
   "cell_type": "code",
   "execution_count": 12,
   "id": "b87d72ad-2111-42d7-bd60-3363e01e29d3",
   "metadata": {},
   "outputs": [
    {
     "data": {
      "image/png": "[encoded data removed]",
      "text/plain": [
       "<Figure size 576x288 with 1 Axes>"
      ]
     },
     "metadata": {
      "needs_background": "light"
     },
     "output_type": "display_data"
    }
   ],
   "source": [
    "# compare performance of solving Ax=b vs system size N,\n",
    "# where A is the sparse matrix for the 1d poisson problem\n",
    "\n",
    "import time\n",
    "\n",
    "def setup(N):\n",
    "    A = sp.diags([1,-2,1], [1,0,-1], shape=[N, N], format='csr')\n",
    "    b = -np.ones(N)\n",
    "    return A, A.todense(), b\n",
    "\n",
    "reps = 10\n",
    "N_vec = np.arange(2, 300, 1)\n",
    "t_sparse = np.empty(len(N_vec))\n",
    "t_dense = np.empty(len(N_vec))\n",
    "for idx, N in enumerate(N_vec):\n",
    "    A, A_dense, b = setup(N)\n",
    "    t = time.time()\n",
    "    for r in range(reps):\n",
    "        x = np.linalg.solve(A_dense, b)\n",
    "    t_dense[idx] = (time.time() - t)/reps\n",
    "    t = time.time()\n",
    "    for r in range(reps):\n",
    "        x = sp.linalg.spsolve(A, b, use_umfpack=True)\n",
    "    t_sparse[idx] = (time.time() - t)/reps\n",
    "    \n",
    "fig, ax = plt.subplots(figsize=(8, 4))\n",
    "ax.plot(N_vec, t_dense * 1e3, '.-', label=\"dense\")\n",
    "ax.plot(N_vec, t_sparse * 1e3, '.-', label=\"sparse\")\n",
    "ax.set_xlabel(r\"$N$\", fontsize=16)\n",
    "ax.set_ylabel(\"elapsed time (ms)\", fontsize=16)\n",
    "ax.legend(loc=0)\n",
    "fig.tight_layout()"
   ]
  },
  {
   "cell_type": "markdown",
   "id": "26dddc36-a1bc-4eca-b211-14a0877ef5d6",
   "metadata": {},
   "source": [
    "### LU分解\n",
    "\n",
    "一种替代`spsolve`接口的方法时使用`sp.sparse.splu`或`sp.sparse.splu`（不完全LU分解）。如果需要为多组向量$b$求解$Ax=b$，这将特别有用。"
   ]
  },
  {
   "cell_type": "code",
   "execution_count": 13,
   "id": "2a7060d8-5910-4391-b14f-603aafe5caea",
   "metadata": {},
   "outputs": [
    {
     "name": "stdout",
     "output_type": "stream",
     "text": [
      "CPU times: user 705 µs, sys: 0 ns, total: 705 µs\n",
      "Wall time: 813 µs\n"
     ]
    }
   ],
   "source": [
    "N = 1000\n",
    "A = sp.diags([1, -2, 1], [1, 0, -1], shape=[N, N], format='csc')\n",
    "b = -np.ones(N)\n",
    "\n",
    "%time lu = sp.linalg.splu(A)"
   ]
  },
  {
   "cell_type": "code",
   "execution_count": 14,
   "id": "39d60daa-8225-419a-9fde-4fc562f890e3",
   "metadata": {},
   "outputs": [
    {
     "data": {
      "text/plain": [
       "(<1000x1000 sparse matrix of type '<class 'numpy.float64'>'\n",
       " \twith 2000 stored elements in Compressed Sparse Column format>,\n",
       " <1000x1000 sparse matrix of type '<class 'numpy.float64'>'\n",
       " \twith 2000 stored elements in Compressed Sparse Column format>)"
      ]
     },
     "execution_count": 14,
     "metadata": {},
     "output_type": "execute_result"
    }
   ],
   "source": [
    "lu.L, lu.U"
   ]
  },
  {
   "cell_type": "markdown",
   "id": "32fef197-ceab-4b29-ba1f-88c652b59f36",
   "metadata": {},
   "source": [
    "进行LU分解之后，就可以使用lu对象的solve方法有效求解$Ax=b$了。"
   ]
  },
  {
   "cell_type": "code",
   "execution_count": 15,
   "id": "9840b0d4-96a8-4c08-a4ed-3586dbd17361",
   "metadata": {},
   "outputs": [],
   "source": [
    "x = lu.solve(b)"
   ]
  },
  {
   "cell_type": "markdown",
   "id": "72c0cd9f-34a5-48b9-b8c6-91023d349898",
   "metadata": {},
   "source": [
    "### 特征值问题\n",
    "\n",
    "可以分别使用`sp.linalg.eigs`和`sp.linalg.svds`函数来求解稀疏矩阵的特征值和奇异值问题。对于实数对阵矩阵或者复数Hermitian矩阵，也可以使用`sp.linalg.eigsh`函数来计算特征值和特征向量。\n",
    "\n",
    "这些函数只会计算给定数量的特征值和特征向量（默认为6个）。使用关键词k，可以设置所需计算的特征值的数量。使用关键词which（例如，'LM'为绝对值最大，'SM'为绝对值最大），可以设置计算哪一部分的特征值。"
   ]
  },
  {
   "cell_type": "markdown",
   "id": "f17f469c-6531-4bc6-9fc0-f376c0ec3fbd",
   "metadata": {},
   "source": [
    "例如，我们计算一维泊松问题（系统尺寸为10×10）中稀疏矩阵的最大模的四个特征值："
   ]
  },
  {
   "cell_type": "code",
   "execution_count": 17,
   "id": "acb3f6c5-a2e4-4ac1-936c-ab0ca3b60e31",
   "metadata": {},
   "outputs": [
    {
     "data": {
      "text/plain": [
       "array([-3.91898595+0.j, -2.83083003+0.j, -3.68250707+0.j, -3.30972147+0.j])"
      ]
     },
     "execution_count": 17,
     "metadata": {},
     "output_type": "execute_result"
    }
   ],
   "source": [
    "N = 10\n",
    "A = sp.diags([1, -2, 1], [1, 0, -1], shape=[N, N], format='csc')\n",
    "\n",
    "evals, evecs = sp.linalg.eigs(A, k=4, which='LM')\n",
    "evals"
   ]
  },
  {
   "cell_type": "markdown",
   "id": "8a9d45fc-a627-4ada-bba5-3c8210fe0a28",
   "metadata": {},
   "source": [
    "`sp.linalg.eigs`函数返回的是一个元组，其中第一个元素是特征值数组，第二个元素是特征向量数组。\n",
    "\n",
    "我们期望A和特征向量之间的点积等于对应特征值对特征向量的缩放，下面将验证这一点："
   ]
  },
  {
   "cell_type": "code",
   "execution_count": 18,
   "id": "f39f41b5-abf2-44cc-933b-e650021a5934",
   "metadata": {},
   "outputs": [
    {
     "data": {
      "text/plain": [
       "True"
      ]
     },
     "execution_count": 18,
     "metadata": {},
     "output_type": "execute_result"
    }
   ],
   "source": [
    "np.allclose(A.dot(evecs[:,0]), evals[0] * evecs[:,0])  # 排除浮点数误差影响"
   ]
  },
  {
   "cell_type": "markdown",
   "id": "45f0f39c-f3fd-4b5e-8f32-81e693447076",
   "metadata": {},
   "source": [
    "我们下面将对比稀疏矩阵和稠密矩阵在计算大矩阵特征值问题上的速度差异："
   ]
  },
  {
   "cell_type": "code",
   "execution_count": 31,
   "id": "2c1357e3-21bf-4069-a44f-c526c7fa38f7",
   "metadata": {},
   "outputs": [],
   "source": [
    "N = 1000\n",
    "A = sp.diags([1, -2, 1], [1, 0, -1], shape=[N, N], format='csc')\n",
    "B = A.todense()"
   ]
  },
  {
   "cell_type": "code",
   "execution_count": 32,
   "id": "3d434ec0-33fd-47ad-9426-264bbfdcb703",
   "metadata": {},
   "outputs": [
    {
     "name": "stdout",
     "output_type": "stream",
     "text": [
      "CPU times: user 1.97 s, sys: 55.2 ms, total: 2.02 s\n",
      "Wall time: 1.02 s\n"
     ]
    }
   ],
   "source": [
    "%time evals, evecs = sp.linalg.eigs(A, k=4, which='LM')"
   ]
  },
  {
   "cell_type": "code",
   "execution_count": 33,
   "id": "b5f18b48-aaa5-4770-9f98-8f1ee82a9a47",
   "metadata": {},
   "outputs": [
    {
     "name": "stdout",
     "output_type": "stream",
     "text": [
      "CPU times: user 5.25 s, sys: 116 ms, total: 5.37 s\n",
      "Wall time: 2.74 s\n"
     ]
    }
   ],
   "source": [
    "%time evals, evecs = la.eig(B)"
   ]
  },
  {
   "cell_type": "code",
   "execution_count": null,
   "id": "bbb21356-7557-4c17-940a-0b87eb3f4f70",
   "metadata": {},
   "outputs": [],
   "source": []
  }
 ],
 "metadata": {
  "kernelspec": {
   "display_name": "Python 3 (ipykernel)",
   "language": "python",
   "name": "python3"
  },
  "language_info": {
   "codemirror_mode": {
    "name": "ipython",
    "version": 3
   },
   "file_extension": ".py",
   "mimetype": "text/x-python",
   "name": "python",
   "nbconvert_exporter": "python",
   "pygments_lexer": "ipython3",
   "version": "3.9.7"
  }
 },
 "nbformat": 4,
 "nbformat_minor": 5
}
