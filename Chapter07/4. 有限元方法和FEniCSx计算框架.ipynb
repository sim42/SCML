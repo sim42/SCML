{
 "cells": [
  {
   "cell_type": "markdown",
   "id": "27db1266-37b2-40c0-8d80-e73639acbfe1",
   "metadata": {},
   "source": [
    "# FEniCSx计算框架\n",
    "---\n",
    "<div style=\"float: left; clear: both;\" align=\"left\">\n",
    "<img src=\"https://fenicsproject.org/assets/img/fenics-logo.png\" width=\"180\" alt=\"fenics-logo.png\" align=left hspace=\"5\" vspace=\"5\"/>\n",
    "<br /><br />\n",
    "FEniCS项目是一个研究和软件项目，旨在创建用于解决偏微分方程的数学方法和软件。这包括创建直观、高效和灵活的软件。该项目于2003年启动，由来自世界各地一些大学和研究机构的研究人员合作开发。有关FEniCS项目的最新进展和更多信息，请访问<a href=\"https://fenicsproject.org\" title=\"FEniCS网站\">FEniCS网站</a>。\n",
    "<br /><br />\n",
    "FEniCS项目的最新版本FEniCSx由几个构建模块组成，即Basix、UFL、FFCx和DOLFINx。DOLFINx是FEniCSx的高性能C++后端，网格、函数空间和函数等结构在这里实现。此外，DOLFINx还包含计算密集型功能，如有限元组装和网格细化算法。它还提供了与线性代数求解器和数据结构的接口，如PETSc。UFL是一种高级形式语言，用于描述具有高级数学语法的变分公式。FFCx是FEniCSx的形式编译器，给定用UFL编写的变量公式，它可以生成高效的C代码。Basix是FEniCSx的有限元后端，负责生成有限元基函数。\n",
    "<br /><br />\n",
    "</div>\n",
    "\n",
    "---\n",
    "### 参考资料\n",
    "\n",
    "[The FEniCSx tutorial](https://jorgensd.github.io/dolfinx-tutorial/fem.html)"
   ]
  },
  {
   "cell_type": "markdown",
   "id": "4533a0e5-d893-451a-bd72-4ba6b0de9beb",
   "metadata": {},
   "source": [
    "## 安装FEniCSx\n",
    "---\n",
    "\n",
    "FEniCSx库对外部底层库的依赖非常复杂，因此FEniCSx通常作为独立的环境进行打包和安装。相对于复杂的源码编译，我们将使用官方提供的[Dolfinx Docker容器](https://hub.docker.com/r/dolfinx/dolfinx)。\n",
    "\n",
    "Docker 是一个开源的应用容器引擎，让开发者可以打包他们的应用以及依赖包到一个可移植的镜像中，然后发布到任何流行的 Linux或Windows操作系统的机器上，也可以实现虚拟化。容器是完全使用沙箱机制，相互之间不会有任何接口。\n",
    "\n",
    "**官方镜像**\n",
    "```shell\n",
    "docker run dolfinx/dolfinx\n",
    "```\n",
    "\n",
    "**包含JupyterLab的定制镜像**\n",
    "```shell\n",
    "docker run -d --name dolfinx --init -p 8888:8888 -v \"$(pwd)\":/root/shared dokken92/dolfinx_custom:labv0.4.0\n",
    "```\n",
    "\n",
    "Docker的具体使用请参看[官方教程](https://docs.docker.com/get-started/)。"
   ]
  },
  {
   "cell_type": "markdown",
   "id": "03d4b767-ef48-4f33-8b57-cc086aa83fd1",
   "metadata": {},
   "source": [
    "## [Poisson equation](https://docs.fenicsproject.org/dolfinx/main/python/demos/demo_poisson.html)\n",
    "---\n",
    "\n",
    "For a domain $\\Omega \\subset \\mathbb{R}^n$ with boundary $\\partial \\Omega$ = $\\Gamma_{D} \\cup \\Gamma_{N}$, the Poisson equation with particular boundary conditions reads:\n",
    "\n",
    "$$\\begin{split} \\begin{align} - \\nabla^{2} u &= f \\quad {\\rm in} \\ \\Omega, \\\\ u &= 0 \\quad {\\rm on} \\ \\Gamma_{D}, \\\\ \\nabla u \\cdot n &= g \\quad {\\rm on} \\ \\Gamma_{N}. \\\\ \\end{align} \\end{split}$$\n",
    "\n",
    "where $f$ and $g$ are input data and $n$ denotes the outward directed boundary normal. The variational problem reads: find $u \\in V$ such that\n",
    "\n",
    "$$a(u, v) = L(v) \\quad \\forall  v \\in V$$\n",
    "\n",
    "where $V$ is a suitable function space and\n",
    "\n",
    "$$\\begin{align}\n",
    "a(u, v) &:= \\int_{\\Omega} \\nabla u \\cdot \\nabla v \\, {\\rm d} x, \\\\\n",
    "L(v)    &:= \\int_{\\Omega} f v \\, {\\rm d} x + \\int_{\\Gamma_{N}} g v \\, {\\rm d} s.\n",
    "\\end{align}$$\n",
    "\n",
    "The expression $a(u, v)$ is the bilinear form and $L(v)$is the linear form. It is assumed that all functions in $V$ satisfy the Dirichlet boundary conditions ($u = 0 \\ {\\rm on} \\ \\Gamma_{D}$).\n",
    "\n",
    "In this demo we consider:\n",
    "$$\\Omega = [0,2] \\times [0,1]$$\n",
    "$$\\Gamma_{D} = \\{(0, y) \\cup (1, y) \\subset \\partial \\Omega\\}$$\n",
    "$$\\Gamma_{N} = \\{(x, 0) \\cup (x, 1) \\subset \\partial \\Omega\\}$$\n",
    "$$g = \\sin(5x)$$\n",
    "$$f = 10\\exp(-((x - 0.5)^2 + (y - 0.5)^2) / 0.02)$$"
   ]
  },
  {
   "cell_type": "code",
   "execution_count": 1,
   "id": "2980b4cf-f64a-4fbd-b9c2-f2333f868ce6",
   "metadata": {},
   "outputs": [],
   "source": [
    "import numpy as np\n",
    "\n",
    "import ufl\n",
    "from dolfinx import fem, io, mesh, plot\n",
    "from ufl import ds, dx, grad, inner\n",
    "\n",
    "from mpi4py import MPI\n",
    "from petsc4py.PETSc import ScalarType"
   ]
  },
  {
   "cell_type": "code",
   "execution_count": 2,
   "id": "6df1bab1-8f18-4029-88fc-d387af043fa3",
   "metadata": {},
   "outputs": [],
   "source": [
    "'''\n",
    "# We begin by using {py:func}`create_rectangle\n",
    "# <dolfinx.mesh.create_rectangle>` to create a rectangular\n",
    "# {py:class}`Mesh <dolfinx.mesh.Mesh>` of the domain, and creating a\n",
    "# finite element {py:class}`FunctionSpace <dolfinx.fem.FunctionSpace>`\n",
    "# $V$ on the mesh.\n",
    "'''\n",
    "msh = mesh.create_rectangle(comm=MPI.COMM_WORLD,\n",
    "                            points=((0.0, 0.0), (2.0, 1.0)), n=(32, 16),\n",
    "                            cell_type=mesh.CellType.triangle,)\n",
    "V = fem.FunctionSpace(msh, (\"Lagrange\", 1))"
   ]
  },
  {
   "cell_type": "code",
   "execution_count": 3,
   "id": "6f18a1e4-ef4c-493e-aa1d-ebb14ddf2856",
   "metadata": {},
   "outputs": [],
   "source": [
    "'''\n",
    "# The second argument to {py:class}`FunctionSpace\n",
    "# <dolfinx.fem.FunctionSpace>` is a tuple consisting of `(family,\n",
    "# degree)`, where `family` is the finite element family, and `degree`\n",
    "# specifies the polynomial degree. in this case `V` consists of\n",
    "# first-order, continuous Lagrange finite element functions.\n",
    "#\n",
    "# Next, we locate the mesh facets that lie on the boundary $\\Gamma_D$.\n",
    "# We do this using using {py:func}`locate_entities_boundary\n",
    "# <dolfinx.mesh.locate_entities_boundary>` and providing  a marker\n",
    "# function that returns `True` for points `x` on the boundary and\n",
    "# `False` otherwise.\n",
    "'''\n",
    "facets = mesh.locate_entities_boundary(msh, dim=1,\n",
    "                                       marker=lambda x: np.logical_or(np.isclose(x[0], 0.0),\n",
    "                                                                      np.isclose(x[0], 2.0)))"
   ]
  },
  {
   "cell_type": "code",
   "execution_count": 4,
   "id": "88c453cd-0e63-4229-bff1-c5772d4796c5",
   "metadata": {
    "tags": []
   },
   "outputs": [],
   "source": [
    "'''\n",
    "# We now find the degrees-of-freedom that are associated with the\n",
    "# boundary facets using {py:func}`locate_dofs_topological\n",
    "# <dolfinx.fem.locate_dofs_topological>`\n",
    "'''\n",
    "dofs = fem.locate_dofs_topological(V=V, entity_dim=1, entities=facets)"
   ]
  },
  {
   "cell_type": "code",
   "execution_count": 5,
   "id": "aa3f4536-3491-4441-a9f6-16dcc3d35cfa",
   "metadata": {},
   "outputs": [],
   "source": [
    "'''\n",
    "# and use {py:func}`dirichletbc <dolfinx.fem.dirichletbc>` to create a\n",
    "# {py:class}`DirichletBCMetaClass <dolfinx.fem.DirichletBCMetaClass>`\n",
    "# class that represents the boundary condition\n",
    "'''\n",
    "bc = fem.dirichletbc(value=ScalarType(0), dofs=dofs, V=V)"
   ]
  },
  {
   "cell_type": "code",
   "execution_count": 6,
   "id": "694c6c26-a759-426c-99b3-c25bdc46f549",
   "metadata": {},
   "outputs": [],
   "source": [
    "'''\n",
    "# Next, we express the variational problem using UFL.\n",
    "'''\n",
    "u = ufl.TrialFunction(V)\n",
    "v = ufl.TestFunction(V)\n",
    "x = ufl.SpatialCoordinate(msh)\n",
    "f = 10 * ufl.exp(-((x[0] - 0.5) ** 2 + (x[1] - 0.5) ** 2) / 0.02)\n",
    "g = ufl.sin(5 * x[0])\n",
    "a = inner(grad(u), grad(v)) * dx\n",
    "L = inner(f, v) * dx + inner(g, v) * ds"
   ]
  },
  {
   "cell_type": "code",
   "execution_count": 7,
   "id": "ce203207-32d8-4d00-a523-435e14f25407",
   "metadata": {},
   "outputs": [],
   "source": [
    "'''\n",
    "# We create a {py:class}`LinearProblem <dolfinx.fem.LinearProblem>`\n",
    "# object that brings together the variational problem, the Dirichlet\n",
    "# boundary condition, and which specifies the linear solver. In this\n",
    "# case we use a direct (LU) solver. The {py:func}`solve\n",
    "# <dolfinx.fem.LinearProblem.solve>` will compute a solution.\n",
    "'''\n",
    "problem = fem.petsc.LinearProblem(a, L, bcs=[bc], petsc_options={\"ksp_type\": \"preonly\", \"pc_type\": \"lu\"})\n",
    "uh = problem.solve()"
   ]
  },
  {
   "cell_type": "code",
   "execution_count": 8,
   "id": "1df608dc-1ad1-4148-a4a5-91f6b8dbd38c",
   "metadata": {},
   "outputs": [],
   "source": [
    "'''\n",
    "# The solution can be written to a  {py:class}`XDMFFile\n",
    "# <dolfinx.io.XDMFFile>` file visualization with ParaView ot VisIt\n",
    "'''\n",
    "with io.XDMFFile(msh.comm, \"out_poisson/poisson.xdmf\", \"w\") as file:\n",
    "    file.write_mesh(msh)\n",
    "    file.write_function(uh)"
   ]
  },
  {
   "cell_type": "code",
   "execution_count": 9,
   "id": "94721ed8-0b1e-42e7-af32-51803adbd49f",
   "metadata": {},
   "outputs": [
    {
     "data": {
      "application/vnd.jupyter.widget-view+json": {
       "model_id": "85df25d6c8034fd4b3965e54ea1af464",
       "version_major": 2,
       "version_minor": 0
      },
      "text/plain": [
       "AppLayout(children=(VBox(children=(HTML(value='<h3>u</h3>'), Dropdown(description='Colormap:', options={'BrBG'…"
      ]
     },
     "metadata": {},
     "output_type": "display_data"
    }
   ],
   "source": [
    "'''\n",
    "# and displayed using [pyvista](https://docs.pyvista.org/).\n",
    "'''\n",
    "try:\n",
    "    import pyvista\n",
    "    pyvista.set_jupyter_backend('ipygany')\n",
    "    cells, types, x = plot.create_vtk_mesh(V)\n",
    "    grid = pyvista.UnstructuredGrid(cells, types, x)\n",
    "    grid.point_data[\"u\"] = uh.x.array.real\n",
    "    grid.set_active_scalars(\"u\")\n",
    "    plotter = pyvista.Plotter()\n",
    "    plotter.add_mesh(grid, show_edges=True)\n",
    "    warped = grid.warp_by_scalar()\n",
    "    plotter.add_mesh(warped)\n",
    "    plotter.show()\n",
    "except ModuleNotFoundError:\n",
    "    print(\"'pyvista' is required to visualise the solution\")\n",
    "    print(\"Install 'pyvista' with pip: 'python3 -m pip install pyvista'\")"
   ]
  },
  {
   "cell_type": "code",
   "execution_count": null,
   "id": "71068c11-ccff-4143-918e-80cf55edf253",
   "metadata": {},
   "outputs": [],
   "source": []
  }
 ],
 "metadata": {
  "kernelspec": {
   "display_name": "Python 3 (ipykernel)",
   "language": "python",
   "name": "python3"
  },
  "language_info": {
   "codemirror_mode": {
    "name": "ipython",
    "version": 3
   },
   "file_extension": ".py",
   "mimetype": "text/x-python",
   "name": "python",
   "nbconvert_exporter": "python",
   "pygments_lexer": "ipython3",
   "version": "3.9.7"
  }
 },
 "nbformat": 4,
 "nbformat_minor": 5
}
