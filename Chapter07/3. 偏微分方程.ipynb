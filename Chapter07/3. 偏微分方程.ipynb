{
 "cells": [
  {
   "cell_type": "markdown",
   "id": "de0de030-2d3f-4fa3-b1a6-21bdae51c064",
   "metadata": {},
   "source": [
    "# 偏微分方程\n",
    "---\n",
    "\n",
    "偏微分方程（PDE）是多元微分方程，方程中的导数是偏导数。处理ODE和PDE所需的计算方法大不相同，后者对计算的要求更高。\n",
    "\n",
    "数值求解PDE的大多数技术都基于将PDE问题中的每个因变量离散化的思想，从而将微分问题变换为代数形式。将PDE转化为代数问题的两种常用技术是[有限差分法](https://zh.m.wikipedia.org/zh-hans/有限差分法)（FDM）和[有限元法](https://zh.m.wikipedia.org/zh-hans/有限元素法)（FEM）。其中有限差分法是将问题中的导数近似为有限差分，而有限元法则是将未知函数写成简单基函数的线性组合，其中基函数可以较容易进行微分和积分。未知函数可以表示为基函数的一组系数。\n",
    "\n",
    "求解PDE问题所需的计算资源一般都非常大，一部分原因是对空间进行离散化所需要点的数量与维数是指数关系。例如一个一维问题如果需要用100个点来表示，那么具有类似分辨率的二维问题将需要10000个点。由于离散空间中的每个点都对应一个未知变量，因此PDE问题需要非常大的方程组。与OED问题不同，不存在标准形式对任意PDE问题进行定义。\n",
    "\n",
    "对于FDM和FEM，得到的代数方程组一般都非常大。在矩阵表示下，此类方程组一般都非常稀疏。基于存储和计算效率考虑，FDM和FEM都非常依赖于稀疏矩阵来表示代数线性方程组。"
   ]
  },
  {
   "cell_type": "markdown",
   "id": "3e2535f4-c955-471a-99a6-af68c38800e7",
   "metadata": {},
   "source": [
    "## 导入模块\n",
    "---\n",
    "\n",
    "为了使用稀疏矩阵，我们将导入SciPy的sparse模块，以及sparse模块的linalg线性代数子模块。\n",
    "\n",
    "Python的PDE求解器只能由专门用于PDE问题的外部库和框架提供。我们将在后续章节中使用[FEniCSx](https://fenicsproject.org)框架进行演示。"
   ]
  },
  {
   "cell_type": "code",
   "execution_count": 2,
   "id": "59f9cc54-c164-41f0-93b2-d410514fccae",
   "metadata": {},
   "outputs": [],
   "source": [
    "import matplotlib.pyplot as plt\n",
    "import matplotlib as mpl\n",
    "import mpl_toolkits.mplot3d\n",
    "\n",
    "import numpy as np\n",
    "import scipy.sparse as sp\n",
    "import scipy.sparse.linalg\n",
    "import scipy.linalg as la"
   ]
  },
  {
   "cell_type": "code",
   "execution_count": null,
   "id": "de5bf79c-119d-41f2-af12-343ed352d2b6",
   "metadata": {},
   "outputs": [],
   "source": []
  }
 ],
 "metadata": {
  "kernelspec": {
   "display_name": "Python 3 (ipykernel)",
   "language": "python",
   "name": "python3"
  },
  "language_info": {
   "codemirror_mode": {
    "name": "ipython",
    "version": 3
   },
   "file_extension": ".py",
   "mimetype": "text/x-python",
   "name": "python",
   "nbconvert_exporter": "python",
   "pygments_lexer": "ipython3",
   "version": "3.9.7"
  }
 },
 "nbformat": 4,
 "nbformat_minor": 5
}
