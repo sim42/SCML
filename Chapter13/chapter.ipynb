{
 "cells": [
  {
   "cell_type": "markdown",
   "id": "84ed0a6b-2661-44d2-bc98-0f67fdeada1f",
   "metadata": {},
   "source": [
    "[优化算法对比](https://lgpang.gitee.io/sgdzoo/)"
   ]
  },
  {
   "cell_type": "code",
   "execution_count": null,
   "id": "6d22b295-1d1e-4b7e-aff9-530f226c2f55",
   "metadata": {},
   "outputs": [],
   "source": []
  }
 ],
 "metadata": {
  "kernelspec": {
   "display_name": "Python 3 (ipykernel)",
   "language": "python",
   "name": "python3"
  },
  "language_info": {
   "codemirror_mode": {
    "name": "ipython",
    "version": 3
   },
   "file_extension": ".py",
   "mimetype": "text/x-python",
   "name": "python",
   "nbconvert_exporter": "python",
   "pygments_lexer": "ipython3",
   "version": "3.9.7"
  }
 },
 "nbformat": 4,
 "nbformat_minor": 5
}
