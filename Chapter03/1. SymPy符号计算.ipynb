{
 "cells": [
  {
   "cell_type": "markdown",
   "id": "b3dcc302-bf0b-4141-a952-696103c9f49d",
   "metadata": {},
   "source": [
    "# SymPy\n",
    "---\n",
    "<img src=\"https://www.sympy.org/static/images/logo.png\" style=\"width: 20%;\"/>\n",
    "\n",
    "与数值运算不同，符号计算（Symbolic Computing）是一种完全不同的计算模式。在符号计算软件中（Computer Algebra System， CAS）中，数学对象和表达式用符号表示，以解析方式进行变换和计算。在使用数值计算之前，通过解析推导，可以降低最终待解决问题的复杂度和解的空间大小。\n",
    "\n",
    "在Python科学计算环境中，主要用到的符号计算库是SymPy。SymPy完全使用Python编写，提供了一系列用于解析计算和符号计算的工具。\n",
    "\n",
    "## 参考资料\n",
    "[SymPy官方网站](https://www.sympy.org/en/index.html) \n",
    "\n",
    "[在线练习环境](https://live.sympy.org/)"
   ]
  },
  {
   "cell_type": "markdown",
   "id": "3e2451d2-ee38-47b6-be1c-d21d4ee2d682",
   "metadata": {},
   "source": [
    "## 导入SymPy\n",
    "---\n",
    "\n",
    "SymPy没有官方缩写（sp是SciPy的官方缩写）。在使用时，要注意避免与NumPy和SciPy产生函数命名冲突。"
   ]
  },
  {
   "cell_type": "code",
   "execution_count": 1,
   "id": "daf9ab0b-69ad-425c-b176-212df74e5cea",
   "metadata": {},
   "outputs": [
    {
     "data": {
      "image/png": "[encoded data removed]",
      "text/latex": [
       "$\\displaystyle \\infty$"
      ],
      "text/plain": [
       "∞"
      ]
     },
     "execution_count": 1,
     "metadata": {},
     "output_type": "execute_result"
    }
   ],
   "source": [
    "import sympy\n",
    "sympy.init_printing()  # 使用MathJax JavaScript格式化显示数学表达式\n",
    "sympy.oo"
   ]
  },
  {
   "cell_type": "markdown",
   "id": "4503a5d6-e319-47ff-a257-0db61aaf3dd1",
   "metadata": {},
   "source": [
    "## 符号\n",
    "---\n",
    "\n",
    "SymPy的核心功能是将数学符号表示为Python对象。用SymPy来分析和解决问题的第一步，是为描述问题所需的各种数学变量和表达式创建符号。符号名是字符串，可以包含类似LaTex的编辑。，这样可以在IPython的Rich Display System中漂亮地显示符号。创建Symbol对象的函数为`sympy.Symbol`、`sympy.symbols`和`symbol.var`。"
   ]
  },
  {
   "cell_type": "code",
   "execution_count": 2,
   "id": "56e64db1-b70d-4c4f-b633-f68a9aa320ac",
   "metadata": {},
   "outputs": [
    {
     "data": {
      "text/plain": [
       "True"
      ]
     },
     "execution_count": 2,
     "metadata": {},
     "output_type": "execute_result"
    }
   ],
   "source": [
    "x = sympy.Symbol(\"x\", real=True) # 增加假设条件，指定对象代表的符号类型。\n",
    "x.is_real"
   ]
  },
  {
   "cell_type": "markdown",
   "id": "f4d247b2-98ab-454b-94c1-bdbb50e42cd0",
   "metadata": {
    "tags": []
   },
   "source": [
    "| 假设条件关键词 | 属性 | 说明 |\n",
    "|---|---|---|\n",
    "| real 和 imaginary | is_real 和 is_imaginary | 符号表示实数或虚数 |\n",
    "| positive 和 negative  | is_positive 和 is_negative | 符号表示正数或负数 |\n",
    "| integer| is_integer | 符号表示整数 |\n",
    "| prime | is_prime | 符号表示质数 |\n",
    "| finite 和 infinite | is_finite 和 is_infinite | 符号表示有限数和无限数 |"
   ]
  },
  {
   "cell_type": "code",
   "execution_count": 3,
   "id": "39109c9b-5304-428c-8b39-a2814bebc946",
   "metadata": {},
   "outputs": [
    {
     "data": {
      "image/png": "[encoded data removed]",
      "text/latex": [
       "$\\displaystyle \\sqrt{x^{2}}$"
      ],
      "text/plain": [
       "   ____\n",
       "  ╱  2 \n",
       "╲╱  x  "
      ]
     },
     "execution_count": 3,
     "metadata": {},
     "output_type": "execute_result"
    }
   ],
   "source": [
    "x = sympy.Symbol(\"x\")\n",
    "sympy.sqrt(x ** 2)  # SymPy无法简化结果"
   ]
  },
  {
   "cell_type": "code",
   "execution_count": 4,
   "id": "170d8e02-2a01-4be7-8c63-b705685274aa",
   "metadata": {},
   "outputs": [
    {
     "data": {
      "image/png": "[encoded data removed]",
      "text/latex": [
       "$\\displaystyle y$"
      ],
      "text/plain": [
       "y"
      ]
     },
     "execution_count": 4,
     "metadata": {},
     "output_type": "execute_result"
    }
   ],
   "source": [
    "y = sympy.Symbol(\"y\", positive=True)\n",
    "sympy.sqrt(y ** 2)  # SymPy可以简化结果"
   ]
  },
  {
   "cell_type": "code",
   "execution_count": 5,
   "id": "a96ddd88-a877-4372-a8d2-06857ca760a8",
   "metadata": {},
   "outputs": [
    {
     "data": {
      "image/png": "[encoded data removed]",
      "text/latex": [
       "$\\displaystyle -1$"
      ],
      "text/plain": [
       "-1"
      ]
     },
     "execution_count": 5,
     "metadata": {},
     "output_type": "execute_result"
    }
   ],
   "source": [
    "n = sympy.Symbol(\"n\", odd=True)\n",
    "sympy.cos(n * sympy.pi)"
   ]
  },
  {
   "cell_type": "markdown",
   "id": "e1679663-bf3e-4ffd-9d78-3675853dac43",
   "metadata": {},
   "source": [
    "使用`sympy.symbols`同时创建多个符号"
   ]
  },
  {
   "cell_type": "code",
   "execution_count": 6,
   "id": "855a1be4-5d3d-4c8d-ba16-f36d0d3b6a35",
   "metadata": {},
   "outputs": [],
   "source": [
    "a, b, c = sympy.symbols(\"a, b, c\", positive=True)"
   ]
  },
  {
   "cell_type": "markdown",
   "id": "46b3a910-ed11-49ce-8a49-ddf4b9b81702",
   "metadata": {},
   "source": [
    "### 数字\n",
    "我们不能直接使用Python内置的整数类型int、浮点类型float等。 SymPy提供了`sympy.Integer`和`sympy.Float`类来便是SymPy框架中的整数和浮点数。"
   ]
  },
  {
   "cell_type": "markdown",
   "id": "b9578600-04ae-4921-b224-df4109b3d5d5",
   "metadata": {},
   "source": [
    "#### 整数\n",
    "\n",
    "SymPy中的整数类型是任意精度的。"
   ]
  },
  {
   "cell_type": "code",
   "execution_count": 7,
   "id": "4f5895b3-bc05-4b17-b2ca-e8b36fa43a67",
   "metadata": {},
   "outputs": [
    {
     "data": {
      "image/png": "[encoded data removed]",
      "text/latex": [
       "$\\displaystyle 8663234049605954426644038200675212212900743262211018069459689001$"
      ],
      "text/plain": [
       "8663234049605954426644038200675212212900743262211018069459689001"
      ]
     },
     "execution_count": 7,
     "metadata": {},
     "output_type": "execute_result"
    }
   ],
   "source": [
    "i = sympy.Integer(19)\n",
    "i ** 50"
   ]
  },
  {
   "cell_type": "markdown",
   "id": "009e0f01-34a6-465b-b787-ebcb46308883",
   "metadata": {},
   "source": [
    "注意Integer示例和Symbol实例是存在差异的。"
   ]
  },
  {
   "cell_type": "code",
   "execution_count": 8,
   "id": "6046ff27-a8e1-482f-950b-dbdedfcb640d",
   "metadata": {},
   "outputs": [
    {
     "data": {
      "text/plain": [
       "sympy.core.numbers.Integer"
      ]
     },
     "execution_count": 8,
     "metadata": {},
     "output_type": "execute_result"
    }
   ],
   "source": [
    "type(i)"
   ]
  },
  {
   "cell_type": "code",
   "execution_count": 9,
   "id": "28264cfa-32c4-482f-bbf8-875cda1dbc4f",
   "metadata": {},
   "outputs": [
    {
     "data": {
      "text/plain": [
       "sympy.core.symbol.Symbol"
      ]
     },
     "execution_count": 9,
     "metadata": {},
     "output_type": "execute_result"
    }
   ],
   "source": [
    "type(n)"
   ]
  },
  {
   "cell_type": "markdown",
   "id": "7131d824-f81a-4bff-bd02-53d4b7ab77b7",
   "metadata": {},
   "source": [
    "#### 浮点数\n",
    "\n",
    "与Integer类似，Float对象也是任意精度的，可以使用可选参数指定Float对象的精度（有效位数）。"
   ]
  },
  {
   "cell_type": "code",
   "execution_count": 10,
   "id": "f9263ef1-d11c-45df-b448-7e787d0201dc",
   "metadata": {},
   "outputs": [
    {
     "data": {
      "image/png": "[encoded data removed]",
      "text/latex": [
       "$\\displaystyle 0.3$"
      ],
      "text/plain": [
       "0.300000000000000"
      ]
     },
     "execution_count": 10,
     "metadata": {},
     "output_type": "execute_result"
    }
   ],
   "source": [
    "sympy.Float('0.3')"
   ]
  },
  {
   "cell_type": "markdown",
   "id": "37057dbd-8658-4025-b6de-4715806b640c",
   "metadata": {},
   "source": [
    "需要注意，为了正确表示Float对象0.3，需要使用字符串'0.3'来初始化对象，而不是使用Python内置的float 0.3，因为后者已经包含了浮点误差。"
   ]
  },
  {
   "cell_type": "code",
   "execution_count": 11,
   "id": "df27fbb0-6946-4eac-b9e9-7b4bc82fb159",
   "metadata": {},
   "outputs": [
    {
     "data": {
      "image/png": "[encoded data removed]",
      "text/latex": [
       "$\\displaystyle 0.2999999999999999888977698$"
      ],
      "text/plain": [
       "0.2999999999999999888977698"
      ]
     },
     "execution_count": 11,
     "metadata": {},
     "output_type": "execute_result"
    }
   ],
   "source": [
    "sympy.Float(0.3, 25)  # 25位精度"
   ]
  },
  {
   "cell_type": "markdown",
   "id": "8fe55bb2-2839-4749-b3d7-0e2409b77a76",
   "metadata": {},
   "source": [
    "#### 有理数\n",
    "\n",
    "将分子和分母作为参数来显式创建有理数。"
   ]
  },
  {
   "cell_type": "code",
   "execution_count": 12,
   "id": "8da09638-d5c2-446e-ae71-0b21e24ad52f",
   "metadata": {},
   "outputs": [
    {
     "data": {
      "image/png": "[encoded data removed]",
      "text/latex": [
       "$\\displaystyle \\frac{5}{6}$"
      ],
      "text/plain": [
       "5/6"
      ]
     },
     "execution_count": 12,
     "metadata": {},
     "output_type": "execute_result"
    }
   ],
   "source": [
    "r1 = sympy.Rational(2, 3)\n",
    "r2 = sympy.Rational(4, 5)\n",
    "r1 / r2"
   ]
  },
  {
   "cell_type": "markdown",
   "id": "ccbe2267-0b85-472c-b710-4dd4f159e037",
   "metadata": {},
   "source": [
    "#### 常数和特殊符号\n",
    "\n",
    "| 数学符号 | SymPy符号 | 说明 |\n",
    "|---|---|---|\n",
    "| $\\pi$ | sympy.pi | 圆周率 |\n",
    "| $e$ | sympy.E | 自然对数 |\n",
    "| $\\gamma$ | sympy.EularGamma | 欧拉常数 |\n",
    "| $i$ | sympy.I | 虚数单位 |\n",
    "| $\\infty$ | sympy.oo | 正无穷 |"
   ]
  },
  {
   "cell_type": "markdown",
   "id": "dec0dcd2-bff0-4c83-baf5-b697331c8ef6",
   "metadata": {},
   "source": [
    "#### 函数\n",
    "\n",
    "SymPy中的函数分为已定义函数和未定义函数，已应用函数和未应用函数。"
   ]
  },
  {
   "cell_type": "code",
   "execution_count": 13,
   "id": "48018c71-ce43-4631-b5f7-3cbcd67ee385",
   "metadata": {},
   "outputs": [],
   "source": [
    "x, y, z = sympy.symbols(\"x, y, z\")\n",
    "f = sympy.Function(\"f\")  # 创建一个未定义未应用的函数。第一个参数为对象名称。\n",
    "g = f(x,y,z)  # 指明函数的输入变量。"
   ]
  },
  {
   "cell_type": "markdown",
   "id": "ce00646c-3339-476b-9ab5-9a877d36d579",
   "metadata": {},
   "source": [
    "上述两个语句可以写为："
   ]
  },
  {
   "cell_type": "code",
   "execution_count": 14,
   "id": "5514183d-598e-40c7-8d51-e3466e28a3ed",
   "metadata": {},
   "outputs": [],
   "source": [
    "g = sympy.Function(\"f\")(x,y,z)"
   ]
  },
  {
   "cell_type": "code",
   "execution_count": 15,
   "id": "b2c80372-0d91-4766-840e-9bcd10f449ac",
   "metadata": {},
   "outputs": [
    {
     "data": {
      "image/png": "[encoded data removed]",
      "text/latex": [
       "$\\displaystyle \\left\\{x, y, z\\right\\}$"
      ],
      "text/plain": [
       "{x, y, z}"
      ]
     },
     "execution_count": 15,
     "metadata": {},
     "output_type": "execute_result"
    }
   ],
   "source": [
    "g.free_symbols # 返回未定义函数g中所包含的符号集合。"
   ]
  },
  {
   "cell_type": "markdown",
   "id": "bd086845-8a4b-4670-a815-8644ee4a683d",
   "metadata": {},
   "source": [
    "SymPy同样支持匿名函数。"
   ]
  },
  {
   "cell_type": "code",
   "execution_count": 16,
   "id": "b3d20030-599f-483e-b30b-a18a2354d0cf",
   "metadata": {},
   "outputs": [
    {
     "data": {
      "image/png": "[encoded data removed]",
      "text/latex": [
       "$\\displaystyle \\left( x \\mapsto x^{2} \\right)$"
      ],
      "text/plain": [
       "     2\n",
       "x ↦ x "
      ]
     },
     "execution_count": 16,
     "metadata": {},
     "output_type": "execute_result"
    }
   ],
   "source": [
    "h = sympy.Lambda(x, x**2)\n",
    "h"
   ]
  },
  {
   "cell_type": "code",
   "execution_count": 17,
   "id": "46951b2b-2ac7-4315-83ec-05b74fe3bae9",
   "metadata": {},
   "outputs": [
    {
     "data": {
      "image/png": "[encoded data removed]",
      "text/latex": [
       "$\\displaystyle \\left(x + 1\\right)^{2}$"
      ],
      "text/plain": [
       "       2\n",
       "(x + 1) "
      ]
     },
     "execution_count": 17,
     "metadata": {},
     "output_type": "execute_result"
    }
   ],
   "source": [
    "h(1+x)"
   ]
  },
  {
   "cell_type": "markdown",
   "id": "f0cf8985-6a33-4acf-acfd-39367a27bc93",
   "metadata": {},
   "source": [
    "## 表达式\n",
    "---\n",
    "\n",
    "在SymPy中，数学表达式用树状结构表示，叶子代表符号，节点代表数学运算。基本数学运算包括Add，Mul和Pow等，以及用于数学分析运算的Sum，Product，Integral和Derivative。"
   ]
  },
  {
   "cell_type": "code",
   "execution_count": 18,
   "id": "d832ee0b-d2d1-4457-9e9d-8062ea93322b",
   "metadata": {},
   "outputs": [
    {
     "data": {
      "image/png": "[encoded data removed]",
      "text/latex": [
       "$\\displaystyle 3 x^{3} + 2 x^{2} + 1$"
      ],
      "text/plain": [
       "   3      2    \n",
       "3⋅x  + 2⋅x  + 1"
      ]
     },
     "execution_count": 18,
     "metadata": {},
     "output_type": "execute_result"
    }
   ],
   "source": [
    "x = sympy.Symbol(\"x\")\n",
    "expr = 1 + 2 * x **2 + 3 * x **3\n",
    "expr"
   ]
  },
  {
   "cell_type": "markdown",
   "id": "a0d5e52b-2587-42b7-888a-edfc41622dbd",
   "metadata": {},
   "source": [
    "expr是Add的一个实例，它包含3个子表达式。下图为expr的整个表达式树。\n",
    "\n",
    "![](Images/ExpressTree.svg)\n",
    "\n",
    "使用args属性可以显示遍历表达式树。"
   ]
  },
  {
   "cell_type": "code",
   "execution_count": 19,
   "id": "fd934e12-a0e9-483e-a5fd-f2a20f20728d",
   "metadata": {},
   "outputs": [
    {
     "data": {
      "image/png": "[encoded data removed]",
      "text/latex": [
       "$\\displaystyle \\left( 1, \\  2 x^{2}, \\  3 x^{3}\\right)$"
      ],
      "text/plain": [
       "⎛      2     3⎞\n",
       "⎝1, 2⋅x , 3⋅x ⎠"
      ]
     },
     "execution_count": 19,
     "metadata": {},
     "output_type": "execute_result"
    }
   ],
   "source": [
    "expr.args"
   ]
  },
  {
   "cell_type": "code",
   "execution_count": 20,
   "id": "d127cd67-e577-43f2-9ced-bb0bdc70ccca",
   "metadata": {},
   "outputs": [
    {
     "data": {
      "image/png": "[encoded data removed]",
      "text/latex": [
       "$\\displaystyle \\left( 2, \\  x^{2}\\right)$"
      ],
      "text/plain": [
       "⎛    2⎞\n",
       "⎝2, x ⎠"
      ]
     },
     "execution_count": 20,
     "metadata": {},
     "output_type": "execute_result"
    }
   ],
   "source": [
    "expr.args[1].args"
   ]
  },
  {
   "cell_type": "code",
   "execution_count": 21,
   "id": "fd5e36b4-b139-4061-9b13-6d4fdf57c469",
   "metadata": {},
   "outputs": [
    {
     "data": {
      "image/png": "[encoded data removed]",
      "text/latex": [
       "$\\displaystyle \\left( x, \\  2\\right)$"
      ],
      "text/plain": [
       "(x, 2)"
      ]
     },
     "execution_count": 21,
     "metadata": {},
     "output_type": "execute_result"
    }
   ],
   "source": [
    "expr.args[1].args[1].args"
   ]
  },
  {
   "cell_type": "markdown",
   "id": "833d8928-eab5-471a-80b3-86c8aef624e3",
   "metadata": {},
   "source": [
    "## 表达式操作\n",
    "---\n",
    "\n",
    "表达式树可以在等价的数学形式之间进行转换。SymPy提供的转换函数会将输入表达式是为不可变对象，并返回一个新的表达式树。"
   ]
  },
  {
   "cell_type": "markdown",
   "id": "a0da9b62-788d-4a9d-8f64-cf1936017049",
   "metadata": {},
   "source": [
    "### 化简"
   ]
  },
  {
   "cell_type": "code",
   "execution_count": 22,
   "id": "43688362-5e30-4341-84f7-694d555e9018",
   "metadata": {},
   "outputs": [
    {
     "data": {
      "image/png": "[encoded data removed]",
      "text/latex": [
       "$\\displaystyle 2 x^{2} - x \\left(x + 1\\right) - 2 x$"
      ],
      "text/plain": [
       "   2                  \n",
       "2⋅x  - x⋅(x + 1) - 2⋅x"
      ]
     },
     "execution_count": 22,
     "metadata": {},
     "output_type": "execute_result"
    }
   ],
   "source": [
    "expr = 2 * (x**2 - x) - x * (x + 1)\n",
    "expr"
   ]
  },
  {
   "cell_type": "code",
   "execution_count": 23,
   "id": "31ba6502-d879-4d08-a463-a6f331f8174d",
   "metadata": {},
   "outputs": [
    {
     "data": {
      "image/png": "[encoded data removed]",
      "text/latex": [
       "$\\displaystyle x \\left(x - 3\\right)$"
      ],
      "text/plain": [
       "x⋅(x - 3)"
      ]
     },
     "execution_count": 23,
     "metadata": {},
     "output_type": "execute_result"
    }
   ],
   "source": [
    "sympy.simplify(expr)"
   ]
  },
  {
   "cell_type": "code",
   "execution_count": 24,
   "id": "6b32893e-cc9d-4211-8da1-4cb8bf7f02f0",
   "metadata": {},
   "outputs": [
    {
     "data": {
      "image/png": "[encoded data removed]",
      "text/latex": [
       "$\\displaystyle x \\left(x - 3\\right)$"
      ],
      "text/plain": [
       "x⋅(x - 3)"
      ]
     },
     "execution_count": 24,
     "metadata": {},
     "output_type": "execute_result"
    }
   ],
   "source": [
    "expr.simplify()"
   ]
  },
  {
   "cell_type": "markdown",
   "id": "f7954134-31b6-4012-9924-5dd9d600f0ec",
   "metadata": {},
   "source": [
    "| 数学符号 | SymPy符号 | \n",
    "|---|---|\n",
    "| sympy.simplify | 尝试各种方法化简 |\n",
    "| sympy.trigsimp | 使用三角恒等式化简 |\n",
    "| sympy.powsimp | 使用幂定律化简 |\n",
    "| sympy.compsimp| 化简组合表达式 |\n",
    "| sympy.ratsimp| 使用公分母简化表达式 |"
   ]
  },
  {
   "cell_type": "code",
   "execution_count": 25,
   "id": "4b41a205-20b6-457b-a2ad-9b66bfadf093",
   "metadata": {},
   "outputs": [
    {
     "data": {
      "image/png": "[encoded data removed]",
      "text/latex": [
       "$\\displaystyle \\sin{\\left(2 x \\right)}$"
      ],
      "text/plain": [
       "sin(2⋅x)"
      ]
     },
     "execution_count": 25,
     "metadata": {},
     "output_type": "execute_result"
    }
   ],
   "source": [
    "expr = 2 * sympy.cos(x) * sympy.sin(x)\n",
    "sympy.simplify(expr)"
   ]
  },
  {
   "cell_type": "markdown",
   "id": "1e3bf0d6-c18c-4e97-87ea-53f57fa2fa24",
   "metadata": {
    "tags": []
   },
   "source": [
    "### 展开\n",
    "\n",
    "当使用`sympy.simplify`的黑盒化简无法得到满意的结果，可以尝试使用更具体的代数运算手动指导SymPy获得更好的结果。这个过程中，一个重要的手段是以各种手段展开表达式。"
   ]
  },
  {
   "cell_type": "code",
   "execution_count": 26,
   "id": "28b76e77-6bb3-45b7-83a1-6199d953a2f9",
   "metadata": {},
   "outputs": [
    {
     "data": {
      "image/png": "[encoded data removed]",
      "text/latex": [
       "$\\displaystyle x^{2} + 3 x + 2$"
      ],
      "text/plain": [
       " 2          \n",
       "x  + 3⋅x + 2"
      ]
     },
     "execution_count": 26,
     "metadata": {},
     "output_type": "execute_result"
    }
   ],
   "source": [
    "expr = (x + 1) * (x + 2)\n",
    "sympy.expand(expr)"
   ]
  },
  {
   "cell_type": "markdown",
   "id": "03819566-beed-4274-8b27-db513c0eba7b",
   "metadata": {},
   "source": [
    "| 关键词参数 | 说明 | \n",
    "|---|---|\n",
    "| mul=True | 对乘法进行展开 |\n",
    "| trig=True | 对三角函数进行展开 |\n",
    "| log=True | 对对数进行展开 |\n",
    "| complex=True| 将表达式的实数和虚数部分分开展开 |\n",
    "| power_base/power_exp=True| 展开幂表达式的底和指数 |\n",
    "\n",
    "在`sympy.expand`中设置以上参数，等效于分别执行相关具体函数。例如`sympy.expand_mul`，`sympy.expand_trig`等"
   ]
  },
  {
   "cell_type": "code",
   "execution_count": 27,
   "id": "730e1034-319a-4a0e-85d2-2024b13f5720",
   "metadata": {},
   "outputs": [
    {
     "data": {
      "image/png": "[encoded data removed]",
      "text/latex": [
       "$\\displaystyle i e^{b} \\sin{\\left(a \\right)} + e^{b} \\cos{\\left(a \\right)}$"
      ],
      "text/plain": [
       "   b           b       \n",
       "ⅈ⋅ℯ ⋅sin(a) + ℯ ⋅cos(a)"
      ]
     },
     "execution_count": 27,
     "metadata": {},
     "output_type": "execute_result"
    }
   ],
   "source": [
    "sympy.exp(sympy.I*a +b).expand(complex=True)"
   ]
  },
  {
   "cell_type": "code",
   "execution_count": 28,
   "id": "dd48eed9-9dc8-4508-a543-a9833a3ecc73",
   "metadata": {},
   "outputs": [
    {
     "data": {
      "image/png": "[encoded data removed]",
      "text/latex": [
       "$\\displaystyle a^{x} b^{x}$"
      ],
      "text/plain": [
       " x  x\n",
       "a ⋅b "
      ]
     },
     "execution_count": 28,
     "metadata": {},
     "output_type": "execute_result"
    }
   ],
   "source": [
    "sympy.expand((a*b)**x, power_base=True)"
   ]
  },
  {
   "cell_type": "markdown",
   "id": "dd5a68c8-652a-4926-ba3d-54b172c3c73d",
   "metadata": {},
   "source": [
    "### 因式分解\n",
    "\n",
    "使用`sympy.factor`函数可以对表达式进行因式分解。这与设置了mul=True的`sympy.expand`刚好相反。"
   ]
  },
  {
   "cell_type": "code",
   "execution_count": 29,
   "id": "1f0bc72e-459d-4a3c-89f5-2e93b8aab4fe",
   "metadata": {},
   "outputs": [
    {
     "data": {
      "image/png": "[encoded data removed]",
      "text/latex": [
       "$\\displaystyle \\left(x - 1\\right) \\left(x + 1\\right)$"
      ],
      "text/plain": [
       "(x - 1)⋅(x + 1)"
      ]
     },
     "execution_count": 29,
     "metadata": {},
     "output_type": "execute_result"
    }
   ],
   "source": [
    "sympy.factor(x**2 - 1)"
   ]
  },
  {
   "cell_type": "markdown",
   "id": "a2e128e2-f1e5-4105-bd24-3ddc57633269",
   "metadata": {},
   "source": [
    "我们之前介绍过的化简函数，包括`sympy.trigsimp`，`sympy.powsimp`，`sympy.logsimp`等，都可以执行相应反向操作。"
   ]
  },
  {
   "cell_type": "code",
   "execution_count": 30,
   "id": "a11f43ea-cc96-4f7a-adb5-19a26b56c470",
   "metadata": {},
   "outputs": [
    {
     "data": {
      "image/png": "[encoded data removed]",
      "text/latex": [
       "$\\displaystyle \\log{\\left(\\frac{a}{b} \\right)}$"
      ],
      "text/plain": [
       "   ⎛a⎞\n",
       "log⎜─⎟\n",
       "   ⎝b⎠"
      ]
     },
     "execution_count": 30,
     "metadata": {},
     "output_type": "execute_result"
    }
   ],
   "source": [
    "sympy.logcombine(sympy.log(a) - sympy.log(b))"
   ]
  },
  {
   "cell_type": "markdown",
   "id": "6d06dbb7-22a9-48e9-8896-fb5c26108d13",
   "metadata": {},
   "source": [
    "`sympy.collect`函数可以提取公因子。"
   ]
  },
  {
   "cell_type": "code",
   "execution_count": 31,
   "id": "1ba05799-e1e2-447a-b5a0-154704cc4453",
   "metadata": {},
   "outputs": [
    {
     "data": {
      "image/png": "[encoded data removed]",
      "text/latex": [
       "$\\displaystyle x \\left(y z + 1\\right) + y$"
      ],
      "text/plain": [
       "x⋅(y⋅z + 1) + y"
      ]
     },
     "execution_count": 31,
     "metadata": {},
     "output_type": "execute_result"
    }
   ],
   "source": [
    "expr = x + y + x * y * z\n",
    "expr.collect(x)"
   ]
  },
  {
   "cell_type": "markdown",
   "id": "e2397e29-6efd-42d4-b0fe-331ece9807f4",
   "metadata": {},
   "source": [
    "### 分式分解、通分、消除公因子"
   ]
  },
  {
   "cell_type": "code",
   "execution_count": 32,
   "id": "c09d01d0-d354-4702-99c9-896b261786e4",
   "metadata": {},
   "outputs": [
    {
     "data": {
      "image/png": "[encoded data removed]",
      "text/latex": [
       "$\\displaystyle - \\frac{1}{x + 2} + \\frac{1}{x + 1}$"
      ],
      "text/plain": [
       "    1       1  \n",
       "- ───── + ─────\n",
       "  x + 2   x + 1"
      ]
     },
     "execution_count": 32,
     "metadata": {},
     "output_type": "execute_result"
    }
   ],
   "source": [
    "sympy.apart(1/(x**2 + 3*x+ 2), x)"
   ]
  },
  {
   "cell_type": "code",
   "execution_count": 33,
   "id": "3a8c3a70-8c77-4673-8917-ab996cb225b5",
   "metadata": {},
   "outputs": [
    {
     "data": {
      "image/png": "[encoded data removed]",
      "text/latex": [
       "$\\displaystyle \\frac{y + 1}{y \\left(x + 1\\right)}$"
      ],
      "text/plain": [
       "  y + 1  \n",
       "─────────\n",
       "y⋅(x + 1)"
      ]
     },
     "execution_count": 33,
     "metadata": {},
     "output_type": "execute_result"
    }
   ],
   "source": [
    "sympy.together(1/(y*x+y) + 1/(1+x))"
   ]
  },
  {
   "cell_type": "code",
   "execution_count": 34,
   "id": "06c30706-2e46-46da-b4c8-6ce3103d58f0",
   "metadata": {},
   "outputs": [
    {
     "data": {
      "image/png": "[encoded data removed]",
      "text/latex": [
       "$\\displaystyle \\frac{1}{x + 1}$"
      ],
      "text/plain": [
       "  1  \n",
       "─────\n",
       "x + 1"
      ]
     },
     "execution_count": 34,
     "metadata": {},
     "output_type": "execute_result"
    }
   ],
   "source": [
    "sympy.cancel(y / (y*x + y))"
   ]
  },
  {
   "cell_type": "markdown",
   "id": "f95fe1cf-d81c-45b2-83ff-f6eecefb1317",
   "metadata": {},
   "source": [
    "### 替换\n",
    "\n",
    "前面我们一直关注用数学恒等式重写表达式。另一种常见操作是替换数学表达式的符号或者子表达式。在SymPy中，进行替换操作的函数有两个：sub和replace。后者可以使用通配符表达式进行替换。"
   ]
  },
  {
   "cell_type": "code",
   "execution_count": 35,
   "id": "abfbed9a-94a0-485e-a7cd-a0e9af9d8415",
   "metadata": {},
   "outputs": [
    {
     "data": {
      "image/png": "[encoded data removed]",
      "text/latex": [
       "$\\displaystyle 2 y$"
      ],
      "text/plain": [
       "2⋅y"
      ]
     },
     "execution_count": 35,
     "metadata": {},
     "output_type": "execute_result"
    }
   ],
   "source": [
    "(x + y).subs(x, y)"
   ]
  },
  {
   "cell_type": "code",
   "execution_count": 36,
   "id": "38124d0f-4fc6-4773-9436-aca54e82a49c",
   "metadata": {},
   "outputs": [
    {
     "data": {
      "image/png": "[encoded data removed]",
      "text/latex": [
       "$\\displaystyle x^{2} + x$"
      ],
      "text/plain": [
       " 2    \n",
       "x  + x"
      ]
     },
     "execution_count": 36,
     "metadata": {},
     "output_type": "execute_result"
    }
   ],
   "source": [
    "expr = x ** 2\n",
    "(x + y).subs(y, expr)"
   ]
  },
  {
   "cell_type": "markdown",
   "id": "dfb5bf1e-2ee1-4095-8e84-a8c7c5a55f58",
   "metadata": {},
   "source": [
    "`subs`函数的另一个典型应用就是使用数字替代表达式中的符号进行数值计算。"
   ]
  },
  {
   "cell_type": "code",
   "execution_count": 37,
   "id": "e35d9188-3d85-4774-bc5c-5b19733792b9",
   "metadata": {},
   "outputs": [
    {
     "data": {
      "image/png": "[encoded data removed]",
      "text/latex": [
       "$\\displaystyle 13.3$"
      ],
      "text/plain": [
       "13.3000000000000"
      ]
     },
     "execution_count": 37,
     "metadata": {},
     "output_type": "execute_result"
    }
   ],
   "source": [
    "expr = x * y + z**2 * x\n",
    "values = {x:1.25, y:0.4, z:3.2}  # 定义字典\n",
    "expr.subs(values)"
   ]
  },
  {
   "cell_type": "markdown",
   "id": "db334d23-113e-490e-b862-53665871492f",
   "metadata": {},
   "source": [
    "## 数值计算\n",
    "---\n",
    "\n",
    "对符号表达式进行求值计算是一个常用操作。可以使用函数`sympy.N`或者表达式实例的`evalf`方法对SymPy表达式进行求值。"
   ]
  },
  {
   "cell_type": "code",
   "execution_count": 38,
   "id": "65a9be29-6213-488e-9280-717e11818091",
   "metadata": {},
   "outputs": [
    {
     "data": {
      "image/png": "[encoded data removed]",
      "text/latex": [
       "$\\displaystyle 4.14159265358979$"
      ],
      "text/plain": [
       "4.14159265358979"
      ]
     },
     "execution_count": 38,
     "metadata": {},
     "output_type": "execute_result"
    }
   ],
   "source": [
    "sympy.N(1 + sympy.pi)"
   ]
  },
  {
   "cell_type": "code",
   "execution_count": 39,
   "id": "9ce9cba3-d8a4-43df-97dc-5f4b2e4f3d08",
   "metadata": {},
   "outputs": [
    {
     "data": {
      "image/png": "[encoded data removed]",
      "text/latex": [
       "$\\displaystyle 4.1416$"
      ],
      "text/plain": [
       "4.1416"
      ]
     },
     "execution_count": 39,
     "metadata": {},
     "output_type": "execute_result"
    }
   ],
   "source": [
    "(1 + sympy.pi).evalf(5)  # 指定结果的有效位数"
   ]
  },
  {
   "cell_type": "markdown",
   "id": "c7d19b58-c8cc-45d8-8479-bf3b1d38ff55",
   "metadata": {},
   "source": [
    "当对一系列输入值进行数值计算时，原则上可以对这些输入值进行循环，然后调用`evalf`。"
   ]
  },
  {
   "cell_type": "code",
   "execution_count": 40,
   "id": "b6bcefff-cb9f-4d0a-9a36-20c245fb4186",
   "metadata": {},
   "outputs": [
    {
     "data": {
      "image/png": "[encoded data removed]",
      "text/latex": [
       "$\\displaystyle \\left[ 0, \\  0.774, \\  0.642, \\  0.722, \\  0.944\\right]$"
      ],
      "text/plain": [
       "[0, 0.774, 0.642, 0.722, 0.944]"
      ]
     },
     "execution_count": 40,
     "metadata": {},
     "output_type": "execute_result"
    }
   ],
   "source": [
    "expr = sympy.sin(sympy.pi * x * sympy.exp(x))\n",
    "[expr.subs(x, i).evalf(3) for i in range(0,5)]"
   ]
  },
  {
   "cell_type": "markdown",
   "id": "cc9ce651-e8ae-4750-b833-8a22feb1d1d8",
   "metadata": {},
   "source": [
    "我们可以使用更高效的函数`sympy.lambdify`执行上述操作。"
   ]
  },
  {
   "cell_type": "code",
   "execution_count": 41,
   "id": "3bfd97bc-0450-47ce-9b3b-669901c6a343",
   "metadata": {},
   "outputs": [
    {
     "data": {
      "image/png": "[encoded data removed]",
      "text/latex": [
       "$\\displaystyle 0.773942685266709$"
      ],
      "text/plain": [
       "7.73942685266709e-01"
      ]
     },
     "execution_count": 41,
     "metadata": {},
     "output_type": "execute_result"
    }
   ],
   "source": [
    "expr_func = sympy.lambdify(x, expr)\n",
    "expr_func(1.0)"
   ]
  },
  {
   "cell_type": "markdown",
   "id": "3324594d-2872-404b-969c-980cb6fc096c",
   "metadata": {},
   "source": [
    "需要注意，上述expr_func需要将数字作为参数，我们不能将符号直接作为参数转递给改函数。同时，上述expr_func也不兼容NumPy数组的矢量输入。为了产生NumPy数组兼容的函数，可以将'numpy'作为第三个参数传递给`sympy.lambdify`。"
   ]
  },
  {
   "cell_type": "code",
   "execution_count": 42,
   "id": "e3da9acd-f492-43ff-811c-5c5e2dc58bea",
   "metadata": {},
   "outputs": [
    {
     "data": {
      "text/plain": [
       "array([ 0.        ,  0.77394269,  0.64198244,  0.72163867,  0.94361635,\n",
       "        0.20523391,  0.97398794,  0.97734066, -0.87034418, -0.69512687])"
      ]
     },
     "execution_count": 42,
     "metadata": {},
     "output_type": "execute_result"
    }
   ],
   "source": [
    "expr_func = sympy.lambdify(x, expr)\n",
    "import numpy as np\n",
    "xvalues = np.arange(0, 10)\n",
    "expr_func(xvalues)"
   ]
  },
  {
   "cell_type": "markdown",
   "id": "0d8ee80f-d5b3-4865-88f7-fd806623cb60",
   "metadata": {},
   "source": [
    "## 微积分\n",
    "---\n",
    "\n",
    "我们已经学习了SymPy中表达数学式，以及如何对这些数学表达式进行基本的化简和计算。我们现在准备探索符号微积分（符号分析）了，这是应用数学的基石，并且在整个科学和工程中有很多应用。"
   ]
  },
  {
   "cell_type": "markdown",
   "id": "789726fe-5104-4e5c-ac12-1200747c6f78",
   "metadata": {},
   "source": [
    "### 导数/微分\n",
    "\n",
    "函数的导数描述了函数在给定点的变化率。"
   ]
  },
  {
   "cell_type": "code",
   "execution_count": 43,
   "id": "92bd46fb-6780-42d2-b392-b5601d63599f",
   "metadata": {},
   "outputs": [
    {
     "data": {
      "image/png": "[encoded data removed]",
      "text/latex": [
       "$\\displaystyle \\frac{d}{d x} f{\\left(x \\right)}$"
      ],
      "text/plain": [
       "d       \n",
       "──(f(x))\n",
       "dx      "
      ]
     },
     "execution_count": 43,
     "metadata": {},
     "output_type": "execute_result"
    }
   ],
   "source": [
    "f = sympy.Function('f')(x)  # 未定义函数\n",
    "sympy.diff(f, x)  # 等价于 f.diff(x)"
   ]
  },
  {
   "cell_type": "markdown",
   "id": "3aa372b2-b411-40c9-bb42-432ad030f308",
   "metadata": {},
   "source": [
    "高阶导数"
   ]
  },
  {
   "cell_type": "code",
   "execution_count": 44,
   "id": "504d89c0-3dee-4bf0-8578-01e237b374d7",
   "metadata": {},
   "outputs": [
    {
     "data": {
      "image/png": "[encoded data removed]",
      "text/latex": [
       "$\\displaystyle \\frac{d^{2}}{d x^{2}} f{\\left(x \\right)}$"
      ],
      "text/plain": [
       "  2      \n",
       " d       \n",
       "───(f(x))\n",
       "  2      \n",
       "dx       "
      ]
     },
     "execution_count": 44,
     "metadata": {},
     "output_type": "execute_result"
    }
   ],
   "source": [
    "sympy.diff(f, x, x)  # 参数列表定义了求导的变量符号"
   ]
  },
  {
   "cell_type": "code",
   "execution_count": 45,
   "id": "4d2d72a7-b8e0-447d-a715-1d700dc3a9f5",
   "metadata": {},
   "outputs": [
    {
     "data": {
      "image/png": "[encoded data removed]",
      "text/latex": [
       "$\\displaystyle \\frac{d^{2}}{d x^{2}} f{\\left(x \\right)}$"
      ],
      "text/plain": [
       "  2      \n",
       " d       \n",
       "───(f(x))\n",
       "  2      \n",
       "dx       "
      ]
     },
     "execution_count": 45,
     "metadata": {},
     "output_type": "execute_result"
    }
   ],
   "source": [
    "sympy.diff(f, x, 2)  # 第3个参数为数字时，定义了特定变量符号的求导次数"
   ]
  },
  {
   "cell_type": "markdown",
   "id": "76c3e234-d226-475d-98ad-9bfff1af59b2",
   "metadata": {},
   "source": [
    "多元函数"
   ]
  },
  {
   "cell_type": "code",
   "execution_count": 46,
   "id": "13b38c84-7101-4b69-a211-8644d02c3c6d",
   "metadata": {},
   "outputs": [
    {
     "data": {
      "image/png": "[encoded data removed]",
      "text/latex": [
       "$\\displaystyle \\frac{\\partial^{2}}{\\partial y\\partial x} g{\\left(x,y \\right)}$"
      ],
      "text/plain": [
       "   2          \n",
       "  ∂           \n",
       "─────(g(x, y))\n",
       "∂y ∂x         "
      ]
     },
     "execution_count": 46,
     "metadata": {},
     "output_type": "execute_result"
    }
   ],
   "source": [
    "g = sympy.Function('g')(x, y)\n",
    "sympy.diff(g, x, y)"
   ]
  },
  {
   "cell_type": "code",
   "execution_count": 47,
   "id": "2982a3b1-ec51-4006-8272-911ba6f9d408",
   "metadata": {},
   "outputs": [
    {
     "data": {
      "image/png": "[encoded data removed]",
      "text/latex": [
       "$\\displaystyle \\frac{\\partial^{4}}{\\partial y^{2}\\partial x^{2}} g{\\left(x,y \\right)}$"
      ],
      "text/plain": [
       "    4           \n",
       "   ∂            \n",
       "───────(g(x, y))\n",
       "  2   2         \n",
       "∂y  ∂x          "
      ]
     },
     "execution_count": 47,
     "metadata": {},
     "output_type": "execute_result"
    }
   ],
   "source": [
    "sympy.diff(g, x, 2, y, 2)"
   ]
  },
  {
   "cell_type": "markdown",
   "id": "99b01d1e-d9fe-472d-999e-2682e7d3f45e",
   "metadata": {},
   "source": [
    "对于已定义函数和表达式，进行求导后会得到一个新的表达式。"
   ]
  },
  {
   "cell_type": "code",
   "execution_count": 48,
   "id": "9855ff14-c643-4d3b-b8ac-0ca021015bc3",
   "metadata": {},
   "outputs": [
    {
     "data": {
      "image/png": "[encoded data removed]",
      "text/latex": [
       "$\\displaystyle 4 x^{3} + 3 x^{2} + 2 x + 1$"
      ],
      "text/plain": [
       "   3      2          \n",
       "4⋅x  + 3⋅x  + 2⋅x + 1"
      ]
     },
     "execution_count": 48,
     "metadata": {},
     "output_type": "execute_result"
    }
   ],
   "source": [
    "expr = x**4 + x**3 + x**2 + x + 1\n",
    "expr.diff(x)"
   ]
  },
  {
   "cell_type": "markdown",
   "id": "0342ab5d-534d-444b-ada3-3df96e690a25",
   "metadata": {},
   "source": [
    "对于更为复杂的三角函数"
   ]
  },
  {
   "cell_type": "code",
   "execution_count": 49,
   "id": "6461da84-7122-431d-bf40-8ea14ba7a318",
   "metadata": {},
   "outputs": [
    {
     "data": {
      "image/png": "[encoded data removed]",
      "text/latex": [
       "$\\displaystyle y \\cos{\\left(\\frac{x}{2} \\right)} \\cos{\\left(x y \\right)} - \\frac{\\sin{\\left(\\frac{x}{2} \\right)} \\sin{\\left(x y \\right)}}{2}$"
      ],
      "text/plain": [
       "                       ⎛x⎞         \n",
       "                    sin⎜─⎟⋅sin(x⋅y)\n",
       "     ⎛x⎞               ⎝2⎠         \n",
       "y⋅cos⎜─⎟⋅cos(x⋅y) - ───────────────\n",
       "     ⎝2⎠                   2       "
      ]
     },
     "execution_count": 49,
     "metadata": {},
     "output_type": "execute_result"
    }
   ],
   "source": [
    "expr = sympy.sin(x * y) * sympy.cos(x / 2)\n",
    "expr.diff(x)"
   ]
  },
  {
   "cell_type": "markdown",
   "id": "7096e9ee-7057-427f-aa01-9f1c2b73b4b4",
   "metadata": {},
   "source": [
    "在以上示例中，直接对表达式调用`sympy.diff`会产生一个新的表达式。如果想要延迟计算，符号化地表示已定义表达式的导数，可以创建`sympy.Derivative`类的实例，把表达式作为第一个参数，后面的参数就是需要求导的符号。"
   ]
  },
  {
   "cell_type": "code",
   "execution_count": 50,
   "id": "777034b8-e27c-4de9-9b15-431dddb305d7",
   "metadata": {},
   "outputs": [
    {
     "data": {
      "image/png": "[encoded data removed]",
      "text/latex": [
       "$\\displaystyle \\frac{d}{d x} e^{\\cos{\\left(x \\right)}}$"
      ],
      "text/plain": [
       "d ⎛ cos(x)⎞\n",
       "──⎝ℯ      ⎠\n",
       "dx         "
      ]
     },
     "execution_count": 50,
     "metadata": {},
     "output_type": "execute_result"
    }
   ],
   "source": [
    "d = sympy.Derivative(sympy.exp(sympy.cos(x)), x)\n",
    "d"
   ]
  },
  {
   "cell_type": "markdown",
   "id": "c9454793-6dd6-420b-8ee5-d04162c0e0d0",
   "metadata": {},
   "source": [
    "通过`sympy.Derivative`类的doit方法，可以计算表达式的导数形式。"
   ]
  },
  {
   "cell_type": "code",
   "execution_count": 51,
   "id": "e47eaf4d-3a70-49e2-bcc0-a7283b57cba8",
   "metadata": {},
   "outputs": [
    {
     "data": {
      "image/png": "[encoded data removed]",
      "text/latex": [
       "$\\displaystyle - e^{\\cos{\\left(x \\right)}} \\sin{\\left(x \\right)}$"
      ],
      "text/plain": [
       "  cos(x)       \n",
       "-ℯ      ⋅sin(x)"
      ]
     },
     "execution_count": 51,
     "metadata": {},
     "output_type": "execute_result"
    }
   ],
   "source": [
    "d.doit()"
   ]
  },
  {
   "cell_type": "markdown",
   "id": "11c9b95b-581b-404e-9d61-73062569890e",
   "metadata": {},
   "source": [
    "### 积分\n",
    "\n",
    "在SymPy中，可以使用`sympy.integrate`函数计算积分，使用`sympy.Integral`函数符号化表示积分（类似`sympy.Derivative`，可以后续调用doit方法进行显式计算）。积分有两种基本形式：定积分和不定积分，后者没有积分极限，表示为反导函数（antiderivative）。"
   ]
  },
  {
   "cell_type": "code",
   "execution_count": 52,
   "id": "1c2dda09-671e-4c27-94e9-8f1eda67a3fe",
   "metadata": {},
   "outputs": [
    {
     "data": {
      "image/png": "[encoded data removed]",
      "text/latex": [
       "$\\displaystyle \\int f{\\left(x \\right)}\\, dx$"
      ],
      "text/plain": [
       "⌠        \n",
       "⎮ f(x) dx\n",
       "⌡        "
      ]
     },
     "execution_count": 52,
     "metadata": {},
     "output_type": "execute_result"
    }
   ],
   "source": [
    "a, b, x, y = sympy.symbols(\"a, b, x, y\")\n",
    "f = sympy.Function('f')(x)\n",
    "sympy.integrate(f) # 不定积分"
   ]
  },
  {
   "cell_type": "code",
   "execution_count": 53,
   "id": "387eec7a-b33b-44a5-8895-bf4d549379e7",
   "metadata": {},
   "outputs": [
    {
     "data": {
      "image/png": "[encoded data removed]",
      "text/latex": [
       "$\\displaystyle \\int\\limits_{a}^{b} f{\\left(x \\right)}\\, dx$"
      ],
      "text/plain": [
       "b        \n",
       "⌠        \n",
       "⎮ f(x) dx\n",
       "⌡        \n",
       "a        "
      ]
     },
     "execution_count": 53,
     "metadata": {},
     "output_type": "execute_result"
    }
   ],
   "source": [
    "sympy.integrate(f, (x, a, b))  # 定积分"
   ]
  },
  {
   "cell_type": "markdown",
   "id": "51dd16d9-e9a6-49f4-99e1-f551890ec98a",
   "metadata": {},
   "source": [
    "当该方法被应用到显示的函数时，积分会进行相应的计算。"
   ]
  },
  {
   "cell_type": "code",
   "execution_count": 54,
   "id": "cbfe834c-5f9a-42aa-a31f-349da977a9f5",
   "metadata": {},
   "outputs": [
    {
     "data": {
      "image/png": "[encoded data removed]",
      "text/latex": [
       "$\\displaystyle - \\cos{\\left(x \\right)}$"
      ],
      "text/plain": [
       "-cos(x)"
      ]
     },
     "execution_count": 54,
     "metadata": {},
     "output_type": "execute_result"
    }
   ],
   "source": [
    "sympy.integrate(sympy.sin(x))"
   ]
  },
  {
   "cell_type": "code",
   "execution_count": 55,
   "id": "06f00f55-10d9-4ad2-b3ad-d746696b23dc",
   "metadata": {},
   "outputs": [
    {
     "data": {
      "image/png": "[encoded data removed]",
      "text/latex": [
       "$\\displaystyle \\cos{\\left(a \\right)} - \\cos{\\left(b \\right)}$"
      ],
      "text/plain": [
       "cos(a) - cos(b)"
      ]
     },
     "execution_count": 55,
     "metadata": {},
     "output_type": "execute_result"
    }
   ],
   "source": [
    "sympy.integrate(sympy.sin(x), (x, a, b))"
   ]
  },
  {
   "cell_type": "markdown",
   "id": "f6cff6c5-33ba-4d19-a98c-cfe7777cd121",
   "metadata": {},
   "source": [
    "使用SymPy的$\\infty$符号，可以让定积分的积分区间包含正无穷或负无穷。"
   ]
  },
  {
   "cell_type": "code",
   "execution_count": 56,
   "id": "24f6bc86-725c-4a3e-890d-7b9e688fa381",
   "metadata": {},
   "outputs": [
    {
     "data": {
      "image/png": "[encoded data removed]",
      "text/latex": [
       "$\\displaystyle \\frac{\\sqrt{\\pi}}{2}$"
      ],
      "text/plain": [
       "√π\n",
       "──\n",
       "2 "
      ]
     },
     "execution_count": 56,
     "metadata": {},
     "output_type": "execute_result"
    }
   ],
   "source": [
    "sympy.integrate(sympy.exp(-x**2), (x, 0, sympy.oo))"
   ]
  },
  {
   "cell_type": "code",
   "execution_count": 57,
   "id": "4f01e370-7bdd-4206-bebe-5107b92a0e9b",
   "metadata": {},
   "outputs": [
    {
     "data": {
      "image/png": "[encoded data removed]",
      "text/latex": [
       "$\\displaystyle \\sqrt{\\pi} a c$"
      ],
      "text/plain": [
       "√π⋅a⋅c"
      ]
     },
     "execution_count": 57,
     "metadata": {},
     "output_type": "execute_result"
    }
   ],
   "source": [
    "a, b, c = sympy.symbols(\"a, b, c\", positive=True)  # 假设条件关键词\n",
    "\n",
    "sympy.integrate(a * sympy.exp(-((x-b)/c)**2), (x, -sympy.oo, sympy.oo))"
   ]
  },
  {
   "cell_type": "markdown",
   "id": "0f3fb6cd-e1cb-41eb-9252-2b1f81704d98",
   "metadata": {},
   "source": [
    "如果SymPy不能给出积分的符号化结果，会返回一个`sympy.Integral`实例。"
   ]
  },
  {
   "cell_type": "code",
   "execution_count": 58,
   "id": "c08366d8-1b72-49a6-a79b-00afc5a5509c",
   "metadata": {},
   "outputs": [
    {
     "data": {
      "image/png": "[encoded data removed]",
      "text/latex": [
       "$\\displaystyle \\int \\sin{\\left(x \\cos{\\left(x \\right)} \\right)}\\, dx$"
      ],
      "text/plain": [
       "⌠                 \n",
       "⎮ sin(x⋅cos(x)) dx\n",
       "⌡                 "
      ]
     },
     "execution_count": 58,
     "metadata": {},
     "output_type": "execute_result"
    }
   ],
   "source": [
    "sympy.integrate(sympy.sin(x * sympy.cos(x)))"
   ]
  },
  {
   "cell_type": "markdown",
   "id": "fcb51b58-f6d3-4ce7-b8e9-4ea6dd9d9d70",
   "metadata": {},
   "source": [
    "使用`sympy.integrate`也可以计算多元函数的积分。通过传递多个符号或元组（元组包含了符号以及他们的积分区间），可以计算多重积分。"
   ]
  },
  {
   "cell_type": "code",
   "execution_count": 59,
   "id": "6c165385-4a22-4db5-9188-45d59433aca1",
   "metadata": {},
   "outputs": [
    {
     "data": {
      "image/png": "[encoded data removed]",
      "text/latex": [
       "$\\displaystyle \\frac{x^{3} y}{3} + \\frac{x^{2} y^{2}}{2} + \\frac{x y^{3}}{3}$"
      ],
      "text/plain": [
       " 3      2  2      3\n",
       "x ⋅y   x ⋅y    x⋅y \n",
       "──── + ───── + ────\n",
       " 3       2      3  "
      ]
     },
     "execution_count": 59,
     "metadata": {},
     "output_type": "execute_result"
    }
   ],
   "source": [
    "expr = (x + y)**2\n",
    "sympy.integrate(expr, x, y)"
   ]
  },
  {
   "cell_type": "code",
   "execution_count": 60,
   "id": "1cd4fe7f-518e-437d-97d6-4daed589cb8b",
   "metadata": {},
   "outputs": [
    {
     "data": {
      "image/png": "[encoded data removed]",
      "text/latex": [
       "$\\displaystyle \\frac{7}{6}$"
      ],
      "text/plain": [
       "7/6"
      ]
     },
     "execution_count": 60,
     "metadata": {},
     "output_type": "execute_result"
    }
   ],
   "source": [
    "sympy.integrate(expr, (x, 0, 1), (y, 0, 1))"
   ]
  },
  {
   "cell_type": "markdown",
   "id": "f626fa73-7acb-491b-820d-0e818f84ff58",
   "metadata": {},
   "source": [
    "### 级数展开\n",
    "\n",
    "级数展开时很多计算领域的重要工具。通过级数展开，可以将任意函数写为一个多项式，其系数由函数的导数在展开处的点给出。\n",
    "\n",
    "在数学上，对于一个在实数或复数$a$邻域上，以实数作为变量或以复数作为变量的函数，并且是无穷可微的函数$f(x)$，它的泰勒级数是以下这种形式的幂级数：\n",
    "$$\\sum_{n=0}^{\\infty} \\frac{f^{(n)}(a)}{n!} (x-a)^{n}$$\n",
    "\n",
    "`sympy.series`函数的第一个参数是需要展开的函数或表达式，第二个参数是需要展开的符号。另外，还可以指定围绕哪个点展开（默认x0=0）和展开的阶数（默认n=6）。"
   ]
  },
  {
   "cell_type": "code",
   "execution_count": 61,
   "id": "fadef2c5-b12f-4a7d-a2cf-0e9f815699ac",
   "metadata": {},
   "outputs": [
    {
     "data": {
      "image/png": "[encoded data removed]",
      "text/latex": [
       "$\\displaystyle f{\\left(0 \\right)} + x \\left. \\frac{d}{d \\xi} f{\\left(\\xi \\right)} \\right|_{\\substack{ \\xi=0 }} + \\frac{x^{2} \\left. \\frac{d^{2}}{d \\xi^{2}} f{\\left(\\xi \\right)} \\right|_{\\substack{ \\xi=0 }}}{2} + \\frac{x^{3} \\left. \\frac{d^{3}}{d \\xi^{3}} f{\\left(\\xi \\right)} \\right|_{\\substack{ \\xi=0 }}}{6} + \\frac{x^{4} \\left. \\frac{d^{4}}{d \\xi^{4}} f{\\left(\\xi \\right)} \\right|_{\\substack{ \\xi=0 }}}{24} + \\frac{x^{5} \\left. \\frac{d^{5}}{d \\xi^{5}} f{\\left(\\xi \\right)} \\right|_{\\substack{ \\xi=0 }}}{120} + O\\left(x^{6}\\right)$"
      ],
      "text/plain": [
       "                             ⎛  2      ⎞│         ⎛  3      ⎞│         ⎛  4   \n",
       "                           2 ⎜ d       ⎟│       3 ⎜ d       ⎟│       4 ⎜ d    \n",
       "                          x ⋅⎜───(f(ξ))⎟│      x ⋅⎜───(f(ξ))⎟│      x ⋅⎜───(f(\n",
       "                             ⎜  2      ⎟│         ⎜  3      ⎟│         ⎜  4   \n",
       "         ⎛d       ⎞│         ⎝dξ       ⎠│ξ=0      ⎝dξ       ⎠│ξ=0      ⎝dξ    \n",
       "f(0) + x⋅⎜──(f(ξ))⎟│    + ────────────────── + ────────────────── + ──────────\n",
       "         ⎝dξ      ⎠│ξ=0           2                    6                    24\n",
       "\n",
       "   ⎞│         ⎛  5      ⎞│           \n",
       "   ⎟│       5 ⎜ d       ⎟│           \n",
       "ξ))⎟│      x ⋅⎜───(f(ξ))⎟│           \n",
       "   ⎟│         ⎜  5      ⎟│           \n",
       "   ⎠│ξ=0      ⎝dξ       ⎠│ξ=0    ⎛ 6⎞\n",
       "──────── + ────────────────── + O⎝x ⎠\n",
       "                  120                "
      ]
     },
     "execution_count": 61,
     "metadata": {},
     "output_type": "execute_result"
    }
   ],
   "source": [
    "x, y = sympy.symbols(\"x, y\")\n",
    "f = sympy.Function(\"f\")(x)\n",
    "sympy.series(f, x)"
   ]
  },
  {
   "cell_type": "markdown",
   "id": "95612da2-d162-4d1e-9126-632d03f2163a",
   "metadata": {},
   "source": [
    "为了改变展开的点，可以设置x0参数。"
   ]
  },
  {
   "cell_type": "code",
   "execution_count": 62,
   "id": "f8645c62-349e-4b62-a085-3d17edef6b34",
   "metadata": {},
   "outputs": [
    {
     "data": {
      "image/png": "[encoded data removed]",
      "text/latex": [
       "$\\displaystyle f{\\left({x_0} \\right)} + \\left(x - {x_0}\\right) \\left. \\frac{d}{d \\xi_{1}} f{\\left(\\xi_{1} \\right)} \\right|_{\\substack{ \\xi_{1}={x_0} }} + O\\left(\\left(x - {x_0}\\right)^{2}; x\\rightarrow {x_0}\\right)$"
      ],
      "text/plain": [
       "                       ⎛ d        ⎞│            ⎛           2           ⎞\n",
       "f({x_0}) + (x - {x_0})⋅⎜───(f(ξ₁))⎟│         + O⎝(x - {x_0}) ; x → {x_0}⎠\n",
       "                       ⎝dξ₁       ⎠│ξ₁={x_0}                             "
      ]
     },
     "execution_count": 62,
     "metadata": {},
     "output_type": "execute_result"
    }
   ],
   "source": [
    "x0 = sympy.Symbol(\"{x_0}\")\n",
    "f.series(x, x0, n=2)"
   ]
  },
  {
   "cell_type": "markdown",
   "id": "00ffd482-b3db-4e91-bd80-afd56b482e74",
   "metadata": {},
   "source": [
    "截断产生的误差用高阶无穷小项$O(x-x_0)^n$表示。对于数值计算，需要从表达式中移除误差项。"
   ]
  },
  {
   "cell_type": "code",
   "execution_count": 63,
   "id": "46a915ac-7147-4361-9150-4b446926206d",
   "metadata": {},
   "outputs": [
    {
     "data": {
      "image/png": "[encoded data removed]",
      "text/latex": [
       "$\\displaystyle \\left(x - {x_0}\\right) \\left. \\frac{d}{d \\xi_{1}} f{\\left(\\xi_{1} \\right)} \\right|_{\\substack{ \\xi_{1}={x_0} }} + f{\\left({x_0} \\right)}$"
      ],
      "text/plain": [
       "            ⎛ d        ⎞│                   \n",
       "(x - {x_0})⋅⎜───(f(ξ₁))⎟│         + f({x_0})\n",
       "            ⎝dξ₁       ⎠│ξ₁={x_0}           "
      ]
     },
     "execution_count": 63,
     "metadata": {},
     "output_type": "execute_result"
    }
   ],
   "source": [
    "f.series(x, x0, n=2).removeO()"
   ]
  },
  {
   "cell_type": "markdown",
   "id": "53169b07-98d8-4fd3-9194-0e38a5e34e71",
   "metadata": {},
   "source": [
    "对于特定函数和表达式，级数展开可以得到计算结果。"
   ]
  },
  {
   "cell_type": "code",
   "execution_count": 64,
   "id": "a98c6fbc-7d15-4532-bab6-77709cd48207",
   "metadata": {},
   "outputs": [
    {
     "data": {
      "image/png": "[encoded data removed]",
      "text/latex": [
       "$\\displaystyle \\frac{x^{5}}{120} - \\frac{x^{3}}{6} + x$"
      ],
      "text/plain": [
       "  5    3    \n",
       " x    x     \n",
       "─── - ── + x\n",
       "120   6     "
      ]
     },
     "execution_count": 64,
     "metadata": {},
     "output_type": "execute_result"
    }
   ],
   "source": [
    "sympy.sin(x).series().removeO()"
   ]
  },
  {
   "cell_type": "code",
   "execution_count": 65,
   "id": "f8f39a3b-ddb8-40ce-995b-9c0b37a130f1",
   "metadata": {},
   "outputs": [
    {
     "data": {
      "image/png": "[encoded data removed]",
      "text/latex": [
       "$\\displaystyle 1 - x + x^{2} - x^{3} + x^{4} - x^{5} + O\\left(x^{6}\\right)$"
      ],
      "text/plain": [
       "         2    3    4    5    ⎛ 6⎞\n",
       "1 - x + x  - x  + x  - x  + O⎝x ⎠"
      ]
     },
     "execution_count": 65,
     "metadata": {},
     "output_type": "execute_result"
    }
   ],
   "source": [
    "(1/(1+x)).series()"
   ]
  },
  {
   "cell_type": "markdown",
   "id": "5d8bd510-64c2-4795-8b78-9f799ff4209b",
   "metadata": {},
   "source": [
    "### 极限\n",
    "\n",
    "微积分的另外一个重要工具是极限。导数也可以用极限来定义。\n",
    "\n",
    "$$f'(x_0)=\\lim_{x \\to x_0}\\frac{f(x)-f(x_0)}{x - x_0}$$\n",
    "\n",
    "在SymPy中，可以使用`sympy.limit`来求极限。"
   ]
  },
  {
   "cell_type": "code",
   "execution_count": 66,
   "id": "a693f8de-2c26-4193-bfec-0031dd50be35",
   "metadata": {},
   "outputs": [
    {
     "data": {
      "image/png": "[encoded data removed]",
      "text/latex": [
       "$\\displaystyle 1$"
      ],
      "text/plain": [
       "1"
      ]
     },
     "execution_count": 66,
     "metadata": {},
     "output_type": "execute_result"
    }
   ],
   "source": [
    "sympy.limit(sympy.sin(x) / x, x, 0)"
   ]
  },
  {
   "cell_type": "markdown",
   "id": "c6ecabc6-9ff1-4fde-8f76-5855b5aa9e4c",
   "metadata": {},
   "source": [
    "也可以使用`sympy.limit`来计算符号的极限。"
   ]
  },
  {
   "cell_type": "code",
   "execution_count": 67,
   "id": "52e907a2-f17f-4745-9e1d-8f225a89800f",
   "metadata": {},
   "outputs": [
    {
     "data": {
      "image/png": "[encoded data removed]",
      "text/latex": [
       "$\\displaystyle \\cos{\\left(x \\right)}$"
      ],
      "text/plain": [
       "cos(x)"
      ]
     },
     "execution_count": 67,
     "metadata": {},
     "output_type": "execute_result"
    }
   ],
   "source": [
    "x, h = sympy.symbols(\"x, h\")\n",
    "f = sympy.Function('f')\n",
    "diff_limit = (f(x + h) - f(x))/h   # 求导\n",
    "sympy.limit(diff_limit.subs(f, sympy.sin), h, 0)"
   ]
  },
  {
   "cell_type": "code",
   "execution_count": 68,
   "id": "cf2dc190-43ec-490b-a236-edae9dbd2cba",
   "metadata": {},
   "outputs": [
    {
     "data": {
      "image/png": "[encoded data removed]",
      "text/latex": [
       "$\\displaystyle - \\sin{\\left(x \\right)}$"
      ],
      "text/plain": [
       "-sin(x)"
      ]
     },
     "execution_count": 68,
     "metadata": {},
     "output_type": "execute_result"
    }
   ],
   "source": [
    "sympy.limit(diff_limit.subs(f, sympy.cos), h, 0)"
   ]
  },
  {
   "cell_type": "markdown",
   "id": "d6945d54-9b10-430e-ac83-be2898700bd9",
   "metadata": {},
   "source": [
    "另一个更实际的例子是使用极限来研究当自变量趋向于无穷时函数的渐近行为。例如对于函数$f(x)=(x^2-3x)/(2x-2)$，当$x$不断增大时，$f(x) \\to px+q$。"
   ]
  },
  {
   "cell_type": "code",
   "execution_count": 69,
   "id": "1aedb89e-0785-4d8a-906f-a1f365fa8dad",
   "metadata": {},
   "outputs": [
    {
     "data": {
      "image/png": "[encoded data removed]",
      "text/latex": [
       "$\\displaystyle \\left( \\frac{1}{2}, \\  -1\\right)$"
      ],
      "text/plain": [
       "(1/2, -1)"
      ]
     },
     "execution_count": 69,
     "metadata": {},
     "output_type": "execute_result"
    }
   ],
   "source": [
    "expr = (x**2 - 3*x) / (2*x - 2)\n",
    "p = sympy.limit(expr/x, x, sympy.oo)\n",
    "q = sympy.limit(expr - p*x, x, sympy.oo)\n",
    "p, q"
   ]
  },
  {
   "cell_type": "markdown",
   "id": "24e673f2-fb35-423f-881c-5fe84cec4eab",
   "metadata": {},
   "source": [
    "### 和与积\n",
    "\n",
    "SymPy同样支持累加符号$\\Sigma$和累积符号$\\Pi$。`sympy.Sum`和`sympy.Product`的第一个参数为表达式，第二个参数是一个元组($n, n_1, n_2$)，后两者指定了运算中的上下限。"
   ]
  },
  {
   "cell_type": "code",
   "execution_count": 70,
   "id": "053af9eb-6bcd-461f-81ce-93364ada1487",
   "metadata": {},
   "outputs": [
    {
     "data": {
      "image/png": "[encoded data removed]",
      "text/latex": [
       "$\\displaystyle \\sum_{n=1}^{\\infty} \\frac{1}{n^{2}}$"
      ],
      "text/plain": [
       "  ∞     \n",
       " ____   \n",
       " ╲      \n",
       "  ╲   1 \n",
       "   ╲  ──\n",
       "   ╱   2\n",
       "  ╱   n \n",
       " ╱      \n",
       " ‾‾‾‾   \n",
       "n = 1   "
      ]
     },
     "execution_count": 70,
     "metadata": {},
     "output_type": "execute_result"
    }
   ],
   "source": [
    "n = sympy.symbols(\"n\", integer=True)\n",
    "x = sympy.Sum(1/(n**2), (n, 1, sympy.oo))\n",
    "x"
   ]
  },
  {
   "cell_type": "code",
   "execution_count": 71,
   "id": "2ff12328-2f90-454e-ad27-02f3d584cf11",
   "metadata": {},
   "outputs": [
    {
     "data": {
      "image/png": "[encoded data removed]",
      "text/latex": [
       "$\\displaystyle \\frac{\\pi^{2}}{6}$"
      ],
      "text/plain": [
       " 2\n",
       "π \n",
       "──\n",
       "6 "
      ]
     },
     "execution_count": 71,
     "metadata": {},
     "output_type": "execute_result"
    }
   ],
   "source": [
    "x.doit()"
   ]
  },
  {
   "cell_type": "code",
   "execution_count": 72,
   "id": "fcb386d3-3d66-46b7-b47e-59c5b030621c",
   "metadata": {},
   "outputs": [
    {
     "data": {
      "image/png": "[encoded data removed]",
      "text/latex": [
       "$\\displaystyle \\prod_{n=1}^{7} n$"
      ],
      "text/plain": [
       "  7    \n",
       "─┬─┬─  \n",
       " │ │  n\n",
       " │ │   \n",
       "n = 1  "
      ]
     },
     "execution_count": 72,
     "metadata": {},
     "output_type": "execute_result"
    }
   ],
   "source": [
    "x = sympy.Product(n, (n, 1, 7))\n",
    "x"
   ]
  },
  {
   "cell_type": "code",
   "execution_count": 73,
   "id": "0936b8d0-2819-43bd-afb7-c1ad641a9565",
   "metadata": {},
   "outputs": [
    {
     "data": {
      "image/png": "[encoded data removed]",
      "text/latex": [
       "$\\displaystyle 5040$"
      ],
      "text/plain": [
       "5040"
      ]
     },
     "execution_count": 73,
     "metadata": {},
     "output_type": "execute_result"
    }
   ],
   "source": [
    "x.doit()"
   ]
  },
  {
   "cell_type": "markdown",
   "id": "a560be60-c51e-420a-9742-cf874b96ab57",
   "metadata": {},
   "source": [
    "## 方程\n",
    "---\n",
    "\n",
    "方程求解是数学的基础应用。SymPy可以符号化求解各种方程，但是原则上很多方程没有解析解。如果方程或方程组有解析解，SymPy有可能找到解。否则只能得到数值解。\n",
    "\n",
    "例如一元二次方程$x^2 + 2x + 3 = 0$的解可以使用`sympy.solve`函数获取。"
   ]
  },
  {
   "cell_type": "code",
   "execution_count": 74,
   "id": "1a239480-b769-4689-abb3-f35cc0be8bcc",
   "metadata": {},
   "outputs": [
    {
     "data": {
      "image/png": "[encoded data removed]",
      "text/latex": [
       "$\\displaystyle \\left[ -3, \\  1\\right]$"
      ],
      "text/plain": [
       "[-3, 1]"
      ]
     },
     "execution_count": 74,
     "metadata": {},
     "output_type": "execute_result"
    }
   ],
   "source": [
    "x = sympy.symbols(\"x\")\n",
    "sympy.solve(x**2 + 2*x - 3)"
   ]
  },
  {
   "cell_type": "markdown",
   "id": "c4bd7ba7-8af2-42b6-aeaf-0d4036e4d550",
   "metadata": {},
   "source": [
    "当表达式包含多个符号时，待求解的变量需要作为第二个参数传递给`sympy.solve`函数。"
   ]
  },
  {
   "cell_type": "code",
   "execution_count": 75,
   "id": "d786b73f-1677-4e30-bd18-c8e643465a20",
   "metadata": {},
   "outputs": [
    {
     "data": {
      "image/png": "[encoded data removed]",
      "text/latex": [
       "$\\displaystyle \\left[ \\frac{- b + \\sqrt{- 4 a c + b^{2}}}{2 a}, \\  - \\frac{b + \\sqrt{- 4 a c + b^{2}}}{2 a}\\right]$"
      ],
      "text/plain": [
       "⎡        _____________   ⎛       _____________⎞ ⎤\n",
       "⎢       ╱           2    ⎜      ╱           2 ⎟ ⎥\n",
       "⎢-b + ╲╱  -4⋅a⋅c + b    -⎝b + ╲╱  -4⋅a⋅c + b  ⎠ ⎥\n",
       "⎢─────────────────────, ────────────────────────⎥\n",
       "⎣         2⋅a                     2⋅a           ⎦"
      ]
     },
     "execution_count": 75,
     "metadata": {},
     "output_type": "execute_result"
    }
   ],
   "source": [
    "a, b, c = sympy.symbols(\"a, b, c\")\n",
    "sympy.solve(a * x**2 + b * x + c, x)"
   ]
  },
  {
   "cell_type": "markdown",
   "id": "9795473c-b880-4c7e-8e89-a1b4db09870e",
   "metadata": {},
   "source": [
    "如果遇到无代数解，或SymPy无法求解的情况，SymPy会返回一个形式解。如果需要的话，可以生成数值解。"
   ]
  },
  {
   "cell_type": "code",
   "execution_count": 76,
   "id": "01fd010d-e9e4-453d-abc2-09d0820e0f6d",
   "metadata": {},
   "outputs": [
    {
     "data": {
      "image/png": "[encoded data removed]",
      "text/latex": [
       "$\\displaystyle \\left[ \\operatorname{CRootOf} {\\left(x^{5} - x^{2} + 1, 0\\right)}, \\  \\operatorname{CRootOf} {\\left(x^{5} - x^{2} + 1, 1\\right)}, \\  \\operatorname{CRootOf} {\\left(x^{5} - x^{2} + 1, 2\\right)}, \\  \\operatorname{CRootOf} {\\left(x^{5} - x^{2} + 1, 3\\right)}, \\  \\operatorname{CRootOf} {\\left(x^{5} - x^{2} + 1, 4\\right)}\\right]$"
      ],
      "text/plain": [
       "⎡       ⎛ 5    2       ⎞         ⎛ 5    2       ⎞         ⎛ 5    2       ⎞    \n",
       "⎣CRootOf⎝x  - x  + 1, 0⎠, CRootOf⎝x  - x  + 1, 1⎠, CRootOf⎝x  - x  + 1, 2⎠, CR\n",
       "\n",
       "     ⎛ 5    2       ⎞         ⎛ 5    2       ⎞⎤\n",
       "ootOf⎝x  - x  + 1, 3⎠, CRootOf⎝x  - x  + 1, 4⎠⎦"
      ]
     },
     "execution_count": 76,
     "metadata": {},
     "output_type": "execute_result"
    }
   ],
   "source": [
    "sympy.solve(x**5 - x**2 + 1, x)"
   ]
  },
  {
   "cell_type": "code",
   "execution_count": 77,
   "id": "91c62501-a8ee-41b5-a657-724e042455b0",
   "metadata": {},
   "outputs": [
    {
     "data": {
      "image/png": "[encoded data removed]",
      "text/plain": [
       "<Figure size 432x288 with 1 Axes>"
      ]
     },
     "metadata": {
      "needs_background": "light"
     },
     "output_type": "display_data"
    },
    {
     "data": {
      "text/plain": [
       "<sympy.plotting.plot.Plot at 0x7f41ed4863d0>"
      ]
     },
     "execution_count": 77,
     "metadata": {},
     "output_type": "execute_result"
    }
   ],
   "source": [
    "sympy.plotting.plot(sympy.tan(x) - x, (x,-5,5), ylim=[-4,4])"
   ]
  },
  {
   "cell_type": "code",
   "execution_count": 78,
   "id": "26beb22b-ceda-4222-919f-c573581a570b",
   "metadata": {},
   "outputs": [
    {
     "name": "stdout",
     "output_type": "stream",
     "text": [
      "No algorithms are implemented to solve equation\n"
     ]
    }
   ],
   "source": [
    "try:\n",
    "    sympy.solve(sympy.tan(x) - x, x)\n",
    "except NotImplementedError:\n",
    "    print(\"No algorithms are implemented to solve equation\")"
   ]
  },
  {
   "cell_type": "markdown",
   "id": "631a62e3-5971-4d5d-85e2-595b395469b4",
   "metadata": {},
   "source": [
    "对于SymPy无法处理的问题，可以尝试使用更为专业工具，例如[Mathematica](https://www.wolframalpha.com/input?i2d=true&i=tan+x+%2B+x+%3D+0)解决。"
   ]
  },
  {
   "cell_type": "markdown",
   "id": "d1847616-db39-4dc5-afd7-b00c11456a20",
   "metadata": {},
   "source": [
    "在SymPy中求解多个未知变量的方程组，需要传递的参数不是单个表达式，而是方程组中表达式的列表。"
   ]
  },
  {
   "cell_type": "code",
   "execution_count": 79,
   "id": "56fd7f6e-6f37-4201-bedd-e49e712e7bad",
   "metadata": {},
   "outputs": [
    {
     "data": {
      "image/png": "[encoded data removed]",
      "text/latex": [
       "$\\displaystyle \\left\\{ x : - \\frac{1}{3}, \\  y : \\frac{2}{3}\\right\\}$"
      ],
      "text/plain": [
       "{x: -1/3, y: 2/3}"
      ]
     },
     "execution_count": 79,
     "metadata": {},
     "output_type": "execute_result"
    }
   ],
   "source": [
    "eq1 = x + 2 * y - 1\n",
    "eq2 = x - y + 1\n",
    "sympy.solve([eq1, eq2], [x, y])  # 默认以字典的形式返回每个解。"
   ]
  },
  {
   "cell_type": "markdown",
   "id": "a1dccf50-5e43-4ab3-800f-7080cf204d06",
   "metadata": {},
   "source": [
    "对字典形式的解很方便可以验证。"
   ]
  },
  {
   "cell_type": "code",
   "execution_count": 80,
   "id": "d5123cbf-8147-42bd-99c1-ca21924201b3",
   "metadata": {
    "tags": []
   },
   "outputs": [
    {
     "data": {
      "image/png": "[encoded data removed]",
      "text/latex": [
       "$\\displaystyle \\left[ 0, \\  0\\right]$"
      ],
      "text/plain": [
       "[0, 0]"
      ]
     },
     "execution_count": 80,
     "metadata": {},
     "output_type": "execute_result"
    }
   ],
   "source": [
    "sol = sympy.solve([eq1, eq2], [x, y])\n",
    "[eq1.subs(sol), eq2.subs(sol)]"
   ]
  },
  {
   "cell_type": "markdown",
   "id": "ec6f46a9-f913-40ac-a932-fe13f73f5e10",
   "metadata": {},
   "source": [
    "## 线性代数\n",
    "---\n",
    "\n",
    "线性代数主要涉及向量、向量空间以及向量空间之间的线性映射（映射关系可以表示为矩阵）。SymPy中使用`sympy.Matrix`类来表示向量和矩阵，其中的元素可以是数字，符号和表达式。"
   ]
  },
  {
   "cell_type": "code",
   "execution_count": 81,
   "id": "7a8bde89-9099-431e-857c-b9139a3851a2",
   "metadata": {},
   "outputs": [
    {
     "data": {
      "image/png": "[encoded data removed]",
      "text/latex": [
       "$\\displaystyle \\left[\\begin{matrix}1\\\\2\\end{matrix}\\right]$"
      ],
      "text/plain": [
       "⎡1⎤\n",
       "⎢ ⎥\n",
       "⎣2⎦"
      ]
     },
     "execution_count": 81,
     "metadata": {},
     "output_type": "execute_result"
    }
   ],
   "source": [
    "sympy.Matrix([1,2])"
   ]
  },
  {
   "cell_type": "code",
   "execution_count": 82,
   "id": "74cbbf30-6631-4e9c-be0b-4239f15069b6",
   "metadata": {},
   "outputs": [
    {
     "data": {
      "image/png": "[encoded data removed]",
      "text/latex": [
       "$\\displaystyle \\left[\\begin{matrix}1 & 2\\end{matrix}\\right]$"
      ],
      "text/plain": [
       "[1  2]"
      ]
     },
     "execution_count": 82,
     "metadata": {},
     "output_type": "execute_result"
    }
   ],
   "source": [
    "sympy.Matrix([[1,2]])"
   ]
  },
  {
   "cell_type": "code",
   "execution_count": 83,
   "id": "11da26d5-dd19-4947-a1a1-c26ab46a3f65",
   "metadata": {},
   "outputs": [
    {
     "data": {
      "image/png": "[encoded data removed]",
      "text/latex": [
       "$\\displaystyle \\left[\\begin{matrix}1 & 2\\\\3 & 4\\end{matrix}\\right]$"
      ],
      "text/plain": [
       "⎡1  2⎤\n",
       "⎢    ⎥\n",
       "⎣3  4⎦"
      ]
     },
     "execution_count": 83,
     "metadata": {},
     "output_type": "execute_result"
    }
   ],
   "source": [
    "sympy.Matrix([[1, 2], [3, 4]])"
   ]
  },
  {
   "cell_type": "markdown",
   "id": "d60b4898-01d4-469c-b2b1-5f8deb534d04",
   "metadata": {},
   "source": [
    "需要注意，与NumPy中的多维数组不同，`sympy.Matrix`对象仅适用于二维数组。\n",
    "\n",
    "另一种创建`sympy.Matrix`对象的方法是把矩阵的列数，函数和一个函数作为参数传递给构造函数。"
   ]
  },
  {
   "cell_type": "code",
   "execution_count": 84,
   "id": "a84a615d-3269-416f-a9c3-404cf7cacba5",
   "metadata": {},
   "outputs": [
    {
     "data": {
      "image/png": "[encoded data removed]",
      "text/latex": [
       "$\\displaystyle \\left[\\begin{matrix}0 & 1 & 2 & 3\\\\10 & 11 & 12 & 13\\\\20 & 21 & 22 & 23\\end{matrix}\\right]$"
      ],
      "text/plain": [
       "⎡0   1   2   3 ⎤\n",
       "⎢              ⎥\n",
       "⎢10  11  12  13⎥\n",
       "⎢              ⎥\n",
       "⎣20  21  22  23⎦"
      ]
     },
     "execution_count": 84,
     "metadata": {},
     "output_type": "execute_result"
    }
   ],
   "source": [
    "sympy.Matrix(3, 4, lambda m,n: 10 * m + n)"
   ]
  },
  {
   "cell_type": "markdown",
   "id": "a85bd3a8-97d9-4c94-9735-ae80d80cf746",
   "metadata": {},
   "source": [
    "有别于其他数据结构，SymPy矩阵最强大的功能在于其元素可以是表达式。"
   ]
  },
  {
   "cell_type": "code",
   "execution_count": 85,
   "id": "ebb114ed-7f99-4c66-8a9c-4afdab165bcb",
   "metadata": {},
   "outputs": [
    {
     "data": {
      "image/png": "[encoded data removed]",
      "text/latex": [
       "$\\displaystyle \\left[\\begin{matrix}a & b\\\\c & d\\end{matrix}\\right]$"
      ],
      "text/plain": [
       "⎡a  b⎤\n",
       "⎢    ⎥\n",
       "⎣c  d⎦"
      ]
     },
     "execution_count": 85,
     "metadata": {},
     "output_type": "execute_result"
    }
   ],
   "source": [
    "a, b, c, d = sympy.symbols(\"a, b, c, d\")\n",
    "M = sympy.Matrix([[a, b], [c, d]])\n",
    "M"
   ]
  },
  {
   "cell_type": "markdown",
   "id": "95678f7b-2842-4b78-baed-396aa642be78",
   "metadata": {},
   "source": [
    "这样的矩阵可以用于计算。乘法运算符`*`表示矩阵乘法。"
   ]
  },
  {
   "cell_type": "code",
   "execution_count": 86,
   "id": "fbe170ff-60de-4efd-8183-9e5cbc09ec98",
   "metadata": {},
   "outputs": [
    {
     "data": {
      "image/png": "[encoded data removed]",
      "text/latex": [
       "$\\displaystyle \\left[\\begin{matrix}a^{2} + b c & a b + b d\\\\a c + c d & b c + d^{2}\\end{matrix}\\right]$"
      ],
      "text/plain": [
       "⎡ 2                  ⎤\n",
       "⎢a  + b⋅c   a⋅b + b⋅d⎥\n",
       "⎢                    ⎥\n",
       "⎢                  2 ⎥\n",
       "⎣a⋅c + c⋅d  b⋅c + d  ⎦"
      ]
     },
     "execution_count": 86,
     "metadata": {},
     "output_type": "execute_result"
    }
   ],
   "source": [
    "M * M"
   ]
  },
  {
   "cell_type": "code",
   "execution_count": 87,
   "id": "fe2522cd-b4eb-4640-8c31-0c22b3d3885c",
   "metadata": {},
   "outputs": [
    {
     "data": {
      "image/png": "[encoded data removed]",
      "text/latex": [
       "$\\displaystyle \\left[\\begin{matrix}a x_{1} + b x_{2}\\\\c x_{1} + d x_{2}\\end{matrix}\\right]$"
      ],
      "text/plain": [
       "⎡a⋅x₁ + b⋅x₂⎤\n",
       "⎢           ⎥\n",
       "⎣c⋅x₁ + d⋅x₂⎦"
      ]
     },
     "execution_count": 87,
     "metadata": {},
     "output_type": "execute_result"
    }
   ],
   "source": [
    "x = sympy.Matrix(sympy.symbols(\"x_1, x_2\"))\n",
    "M * x"
   ]
  },
  {
   "cell_type": "markdown",
   "id": "27554cca-ec08-464e-85fd-d7cabb20da4e",
   "metadata": {},
   "source": [
    "SymPy矩阵中常用的函数和方法\n",
    "\n",
    "| 函数/方法 | 说明 | \n",
    "|---|---|\n",
    "| transpose/T | 计算矩阵的转置矩阵 |\n",
    "| adjoint/H | 计算矩阵的伴随矩阵 |\n",
    "| trace | 计算矩阵的迹（主对角线元素和） |\n",
    "| det | 计算矩阵的行列式 |\n",
    "| inv | 计算矩阵的逆矩阵 |\n",
    "| LUdecomposition | 计算矩阵的LU分解 |\n",
    "| LUsolve | 使用LU分解求$Mx=b$形式的线性方程组 |\n",
    "| QRdecompositon | QR分解 |\n",
    "| QRsolve | 使用QR分解求$Mx=b$形式的线性方程组 |\n",
    "| diagonalize | 对矩阵进行对角化，使之可以写成$D=P^{-1}MP$，$D$是对角矩阵 |\n",
    "| norm | 计算矩阵的范数 |\n",
    "| nullspace | 计算矩阵的零空间 |\n",
    "| rank | 计算矩阵的等级 |\n",
    "| sigular_values | 计算矩阵的奇异值 |\n",
    "| solve | 求$Mx=b$形式的线性方程组 |"
   ]
  },
  {
   "cell_type": "markdown",
   "id": "2b81069f-7d7a-4795-a01b-25067b18b00e",
   "metadata": {},
   "source": [
    "下面我们使用SymPy进行符号线性代数求解。\n",
    "$$x + py = b_1$$\n",
    "$$qx + y = b_2$$"
   ]
  },
  {
   "cell_type": "markdown",
   "id": "3cdfca41-8eb6-40ec-9841-ad38de4c4c38",
   "metadata": {},
   "source": [
    "下面是上述方程的矩阵形式。\n",
    "$$\\left(\\begin{matrix} 1 & p \\\\ q & 1 \\end{matrix}\\right) \\left[\\begin{matrix} x \\\\ y \\end{matrix}\\right] =  \\left[\\begin{matrix} b_1 \\\\ b_2 \\end{matrix}\\right]$$"
   ]
  },
  {
   "cell_type": "code",
   "execution_count": 88,
   "id": "47904279-6b32-42c0-a580-8be2a192422f",
   "metadata": {},
   "outputs": [
    {
     "data": {
      "image/png": "[encoded data removed]",
      "text/latex": [
       "$\\displaystyle \\left[\\begin{matrix}\\frac{- b_{1} + b_{2} p}{p q - 1}\\\\\\frac{b_{1} q - b_{2}}{p q - 1}\\end{matrix}\\right]$"
      ],
      "text/plain": [
       "⎡-b₁ + b₂⋅p⎤\n",
       "⎢──────────⎥\n",
       "⎢ p⋅q - 1  ⎥\n",
       "⎢          ⎥\n",
       "⎢b₁⋅q - b₂ ⎥\n",
       "⎢───────── ⎥\n",
       "⎣ p⋅q - 1  ⎦"
      ]
     },
     "execution_count": 88,
     "metadata": {},
     "output_type": "execute_result"
    }
   ],
   "source": [
    "p, q = sympy.symbols(\"p, q\")\n",
    "M = sympy.Matrix([[1, p], [q, 1]])\n",
    "b = sympy.Matrix(sympy.symbols(\"b_1, b_2\"))\n",
    "M.solve(b)"
   ]
  },
  {
   "cell_type": "code",
   "execution_count": 89,
   "id": "72bf4fa3-52f2-48dc-81b1-136d02db0dac",
   "metadata": {},
   "outputs": [
    {
     "name": "stdout",
     "output_type": "stream",
     "text": [
      "18 ms ± 297 µs per loop (mean ± std. dev. of 7 runs, 100 loops each)\n"
     ]
    }
   ],
   "source": [
    "%timeit M.solve(b)"
   ]
  },
  {
   "cell_type": "code",
   "execution_count": 90,
   "id": "182aaec0-30a8-4df5-bf4e-a954133a71ce",
   "metadata": {},
   "outputs": [
    {
     "name": "stdout",
     "output_type": "stream",
     "text": [
      "545 µs ± 16.1 µs per loop (mean ± std. dev. of 7 runs, 1,000 loops each)\n"
     ]
    }
   ],
   "source": [
    "%timeit M.LUsolve(b)"
   ]
  },
  {
   "cell_type": "code",
   "execution_count": 91,
   "id": "f717902f-cdff-4c78-9049-2eb8c17575ff",
   "metadata": {},
   "outputs": [
    {
     "name": "stdout",
     "output_type": "stream",
     "text": [
      "13.5 ms ± 247 µs per loop (mean ± std. dev. of 7 runs, 100 loops each)\n"
     ]
    }
   ],
   "source": [
    "%timeit M.inv() * b"
   ]
  },
  {
   "cell_type": "markdown",
   "id": "4882c64e-86a7-4d48-a9bc-c9981b30e2a7",
   "metadata": {
    "tags": []
   },
   "source": [
    "## 微分方程\n",
    "---\n",
    "\n",
    "凡含有参数，未知函数和未知函数导数 (或微分) 的方程，称为微分方程，有时简称为方程，未知函数是一元函数的微分方程称作常微分方程，未知函数是多元函数的微分方程称作偏微分方程。\n",
    "\n",
    "$$f\\left(x, \\frac{d^n y}{dx^n},\\frac{d^{(n-1)} y}{dx^{(n-1)}},\\cdots, \\frac{dy}{dx}, y\\right)=0$$\n",
    "\n",
    "SymPy提供了`sympy.dsolve`函数用于求解常微分方程（[ODE](https://docs.sympy.org/dev/modules/solvers/ode.html)），和`sympy.pdsolve`函数用于求解偏微分方程（[PDE](https://docs.sympy.org/dev/modules/solvers/pde.html)）。可选参数hint指明了求解使用的方法。"
   ]
  },
  {
   "cell_type": "markdown",
   "id": "15001e2f-4bf2-4706-ac9c-5f54e13a6ac1",
   "metadata": {},
   "source": [
    "### 常微分方程\n",
    "无摩擦平面上，固定在理想弹簧上质点的运动方程可以用以下一阶齐次线性方程描述：\n",
    "$$\\frac{d^2x}{dt^2}=-kx$$"
   ]
  },
  {
   "cell_type": "code",
   "execution_count": 92,
   "id": "a1bfa680-572d-4cf3-bd83-9f38242c30c3",
   "metadata": {},
   "outputs": [
    {
     "data": {
      "image/png": "[encoded data removed]",
      "text/latex": [
       "$\\displaystyle x{\\left(t \\right)} = C_{1} \\sin{\\left(\\sqrt{k} t \\right)} + C_{2} \\cos{\\left(\\sqrt{k} t \\right)}$"
      ],
      "text/plain": [
       "x(t) = C₁⋅sin(√k⋅t) + C₂⋅cos(√k⋅t)"
      ]
     },
     "execution_count": 92,
     "metadata": {},
     "output_type": "execute_result"
    }
   ],
   "source": [
    "t, k = sympy.symbols(\"t, k\", positive=True)\n",
    "x = sympy.Function('x')(t)\n",
    "g = sympy.diff(x, t, 2) + k*x\n",
    "ans = sympy.dsolve(g, x)\n",
    "ans"
   ]
  },
  {
   "cell_type": "markdown",
   "id": "25ceb31d-2af3-4f3b-9de3-0fdaabb66ec0",
   "metadata": {},
   "source": [
    "对于阻尼系统，其运动方程为：\n",
    "$$\\frac{d^2x}{dt^2}=-kx-c\\frac{dx}{dt} $$"
   ]
  },
  {
   "cell_type": "code",
   "execution_count": 93,
   "id": "79341dc7-4bc8-4a0e-bceb-0db3fe7463d4",
   "metadata": {},
   "outputs": [
    {
     "data": {
      "image/png": "[encoded data removed]",
      "text/latex": [
       "$\\displaystyle x{\\left(t \\right)} = C_{1} e^{\\frac{t \\left(- c - \\sqrt{c^{2} - 4 k}\\right)}{2}} + C_{2} e^{\\frac{t \\left(- c + \\sqrt{c^{2} - 4 k}\\right)}{2}}$"
      ],
      "text/plain": [
       "             ⎛        __________⎞         ⎛        __________⎞\n",
       "             ⎜       ╱  2       ⎟         ⎜       ╱  2       ⎟\n",
       "           t⋅⎝-c - ╲╱  c  - 4⋅k ⎠       t⋅⎝-c + ╲╱  c  - 4⋅k ⎠\n",
       "           ──────────────────────       ──────────────────────\n",
       "                     2                            2           \n",
       "x(t) = C₁⋅ℯ                       + C₂⋅ℯ                      "
      ]
     },
     "execution_count": 93,
     "metadata": {},
     "output_type": "execute_result"
    }
   ],
   "source": [
    "t, k, c = sympy.symbols(\"t, k, c\", positive=True)\n",
    "x = sympy.Function('x')\n",
    "g = sympy.diff(x(t), t, 2) + c*sympy.diff(x(t), t)  + k*x(t)\n",
    "ans = sympy.dsolve(g, x(t))\n",
    "ans"
   ]
  },
  {
   "cell_type": "markdown",
   "id": "2548be3c-7e99-4c88-bc7e-963e834df748",
   "metadata": {},
   "source": [
    "## 绘图\n",
    "---\n",
    "\n",
    "SymPy支持基本的函数作图。后续章节我们会使用高级图形工具Matplotlib。"
   ]
  },
  {
   "cell_type": "code",
   "execution_count": 94,
   "id": "64df8260-a9b4-4647-85a1-bcf6dda122cc",
   "metadata": {},
   "outputs": [
    {
     "data": {
      "image/png": "[encoded data removed]",
      "text/plain": [
       "<Figure size 432x288 with 1 Axes>"
      ]
     },
     "metadata": {
      "needs_background": "light"
     },
     "output_type": "display_data"
    },
    {
     "data": {
      "text/plain": [
       "<sympy.plotting.plot.Plot at 0x7f41ebd82ee0>"
      ]
     },
     "execution_count": 94,
     "metadata": {},
     "output_type": "execute_result"
    }
   ],
   "source": [
    "x = sympy.symbols(\"x\")\n",
    "sympy.plotting.plot(x**2, (x,-5,5))"
   ]
  },
  {
   "cell_type": "code",
   "execution_count": null,
   "id": "b1aa5a43-a661-4bc0-8f7c-63a61038774c",
   "metadata": {},
   "outputs": [],
   "source": []
  }
 ],
 "metadata": {
  "kernelspec": {
   "display_name": "Python 3 (ipykernel)",
   "language": "python",
   "name": "python3"
  },
  "language_info": {
   "codemirror_mode": {
    "name": "ipython",
    "version": 3
   },
   "file_extension": ".py",
   "mimetype": "text/x-python",
   "name": "python",
   "nbconvert_exporter": "python",
   "pygments_lexer": "ipython3",
   "version": "3.9.7"
  }
 },
 "nbformat": 4,
 "nbformat_minor": 5
}
