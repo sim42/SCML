{
 "cells": [
  {
   "cell_type": "markdown",
   "id": "8acad545-8c59-4bb0-a688-9480db45f3aa",
   "metadata": {},
   "source": [
    "# 机器学习\n",
    "---\n",
    "<img src=\"https://scikit-learn.org/stable/_static/scikit-learn-logo-small.png\" style=\"width: 30%;\"/>\n",
    "\n",
    "机器学习和统计建模关系密切，它们都涉及使用数据来描述和预测不确定过程或未知过程的结果。区别点在于，统计建模强调分析中使用的模型，机器学习则侧重于经过训练后用于预测新观察值输出的算法。\n",
    "\n",
    "在机器学习中，数据的生成过程及内在的模型不是关注的重点，数据和解释变量是机器学习的基础。对于给定的数据，机器学习方法可以用于寻找数据中的模式和结构，然后用来预测新样本的输出。\n",
    "\n",
    "由于机器学习不能理解数据是如何产生的，并且对于数据分布于及统计特性的前提假设较少。因此，在机器学习中，通常我们无法计算观察数据的统计量，以及对显著性进行建设检验。\n",
    "\n",
    "本章中，我们将介绍和使用Python中最出名的机器学习库[scikit-learn](https://scikit-learn.org/stable/)。常见的机器学习库还包括TensorFlow、Keras、Pytorch等。"
   ]
  },
  {
   "cell_type": "markdown",
   "id": "2a7634a5-74e2-46e8-b492-fc34517f4135",
   "metadata": {},
   "source": [
    "## 导入模块\n",
    "---\n",
    "\n",
    "本章将使用scikit-learn库，其中涉及到的子模块罗列如下："
   ]
  },
  {
   "cell_type": "code",
   "execution_count": 1,
   "id": "eef0b48e-9912-4067-9633-7db1e370841f",
   "metadata": {},
   "outputs": [],
   "source": [
    "import numpy as np\n",
    "import matplotlib.pyplot as plt\n",
    "import seaborn as sns\n",
    "\n",
    "from sklearn import datasets\n",
    "from sklearn import model_selection\n",
    "from sklearn import linear_model\n",
    "from sklearn import metrics\n",
    "from sklearn import tree\n",
    "from sklearn import neighbors\n",
    "from sklearn import svm\n",
    "from sklearn import ensemble\n",
    "from sklearn import cluster"
   ]
  },
  {
   "cell_type": "code",
   "execution_count": 2,
   "id": "c9540024-39bf-4724-b0ec-ed968c6fe8f7",
   "metadata": {},
   "outputs": [
    {
     "data": {
      "application/json": {
       "Software versions": [
        {
         "module": "Python",
         "version": "3.9.7 64bit [GCC 9.4.0]"
        },
        {
         "module": "IPython",
         "version": "8.0.0"
        },
        {
         "module": "OS",
         "version": "Linux 5.10.84 10.3.al8.x86_64 x86_64 with glibc2.32"
        },
        {
         "module": "numpy",
         "version": "1.21.2"
        },
        {
         "module": "matplotlib",
         "version": "3.5.1"
        },
        {
         "module": "seaborn",
         "version": "0.11.2"
        },
        {
         "module": "sklearn",
         "version": "1.0.2"
        }
       ]
      },
      "text/html": [
       "<table><tr><th>Software</th><th>Version</th></tr><tr><td>Python</td><td>3.9.7 64bit [GCC 9.4.0]</td></tr><tr><td>IPython</td><td>8.0.0</td></tr><tr><td>OS</td><td>Linux 5.10.84 10.3.al8.x86\\_64 x86\\_64 with glibc2.32</td></tr><tr><td>numpy</td><td>1.21.2</td></tr><tr><td>matplotlib</td><td>3.5.1</td></tr><tr><td>seaborn</td><td>0.11.2</td></tr><tr><td>sklearn</td><td>1.0.2</td></tr><tr><td colspan='2'>Fri Jun 17 14:21:41 2022 CST</td></tr></table>"
      ],
      "text/latex": [
       "\\begin{tabular}{|l|l|}\\hline\n",
       "{\\bf Software} & {\\bf Version} \\\\ \\hline\\hline\n",
       "Python & 3.9.7 64bit [GCC 9.4.0] \\\\ \\hline\n",
       "IPython & 8.0.0 \\\\ \\hline\n",
       "OS & Linux 5.10.84 10.3.al8.x86\\_64 x86\\_64 with glibc2.32 \\\\ \\hline\n",
       "numpy & 1.21.2 \\\\ \\hline\n",
       "matplotlib & 3.5.1 \\\\ \\hline\n",
       "seaborn & 0.11.2 \\\\ \\hline\n",
       "sklearn & 1.0.2 \\\\ \\hline\n",
       "\\hline \\multicolumn{2}{|l|}{Fri Jun 17 14:21:41 2022 CST} \\\\ \\hline\n",
       "\\end{tabular}\n"
      ],
      "text/plain": [
       "Software versions\n",
       "Python 3.9.7 64bit [GCC 9.4.0]\n",
       "IPython 8.0.0\n",
       "OS Linux 5.10.84 10.3.al8.x86_64 x86_64 with glibc2.32\n",
       "numpy 1.21.2\n",
       "matplotlib 3.5.1\n",
       "seaborn 0.11.2\n",
       "sklearn 1.0.2\n",
       "Fri Jun 17 14:21:41 2022 CST"
      ]
     },
     "execution_count": 2,
     "metadata": {},
     "output_type": "execute_result"
    }
   ],
   "source": [
    "%reload_ext version_information\n",
    "%version_information numpy, matplotlib, seaborn, sklearn"
   ]
  },
  {
   "cell_type": "markdown",
   "id": "01ae7626-6e39-4a27-9ae9-e96fc72eb610",
   "metadata": {},
   "source": [
    "## 机器学习\n",
    "---\n",
    "\n",
    "机器学习是人工智能领域的一个分支。我们在这里简要介绍一下相关的概念和术语：\n",
    "\n",
    "在机器学习中，将模拟或算法拟合到观测数据的过程称之为**训练 Traning**。\n",
    "\n",
    "机器学习的应用通常可以分为两类：**监督学习 Supervised Learning**和**无监督学习 Unsupervised Learning**。\n",
    "\n",
    "在监督学习中，数据包括**特征变量 Feature Variable**和已知的**响应变量 Independent Variable**。特征变量和相应变量可以是连续的或者离散的。通常需要利用相关的专业知识人工准备这些数据。典型的应用包括**回归 Regression**（对连续响应变量进行预测）和**分类 Classification**（对离散响应变量进行预测）。在**训练集 Traning Set**中，响应变量的值是已知的。\n",
    "\n",
    "无监督学习的应用是使用未标记或通过其它手动方式处理过的原始数据进行训练。无监督学习的典型应用是**聚类Clustering**（将数据分成合适的类别）。与监督学习相比，无监督学习的数据没有预先进行标记。这可能是由于样本数量太大，导致数据进行人工标记比较困难或者昂贵。显而易见，无监督学习更加困难，所受限制也较多。"
   ]
  },
  {
   "cell_type": "markdown",
   "id": "05b96086-cd71-4fba-ac48-4e05db021ded",
   "metadata": {},
   "source": [
    "**交叉验证 Cross Validation**是将可用的数据分为训练集和测试集。训练集用于训练机器学习模型，而测试集则可以让训练后的模型对新数据进行测试。这样做的目的是检验模型对于新样本的预测能力，以及防止**过拟合 Over Fitting**。\n",
    "\n",
    "有多种方法可以划分数据集用于交叉验证。**穷举交叉验证 Exhausive Cross-Validation**是测试所有的可能组合，不适用于大数据集；**留一交叉验证 Leave-one-out Cross-Validation**是每轮训练选择一个数据用于测试。这种方法的变体是将数据集分为k组，然后使用其中一组用于交叉验证。在scikit-learn库中，`sklearn.model_selection`模块提供了用于交叉验证的方法。\n",
    "\n",
    "**特征提取 Feature Extraction**是机器学习预处理截断的重要步骤，涉及创建合适的特征变量及对应的特征矩阵，这些特征矩阵可以传递给scikit-learn库中的某个机器学习算法。使用`sklearn.feature_extraction`模块可以从各种数据源中自动生成特征矩阵。\n",
    "\n",
    "**降维 Dimensionality Reduction**和**特征选择 FeatureSelection**是机器学习中经常用到的方法。如果数据具有大量的解释变量（特征），但很多特征变量对于模型的预测能力影响很小。为了降低模型的复杂性，通常希望去除那些作用不太大的特征，从而减小问题的维度。scikit-learn库的`sklearn.decompositon`模块和`sklearn.feature_extraction`模块提供了各类降维方法。"
   ]
  },
  {
   "cell_type": "markdown",
   "id": "4a07ca0b-ffb4-4807-bcbc-47e6dddefa34",
   "metadata": {},
   "source": [
    "在下面的内容中，我们将使用外部数据和scikit-learn库内置数据库进行机器学习的演示。\n",
    "\n",
    "sklearn库的`dataset`模块提供了三组数据加载函数：加载内部数据集（以load为前缀）；导入外部数据集（以fetch为前缀）和生成随机数据（以make为前缀）。"
   ]
  },
  {
   "cell_type": "markdown",
   "id": "afb87a52-7379-4b34-b011-d2a1af52bd38",
   "metadata": {},
   "source": [
    "## 回归\n",
    "---\n",
    "\n",
    "回归是统计建模和机器学习的核心内容。\n",
    "\n",
    "在机器学习中，相对于回归模型与已有数据的拟合成都，我们更关心的是模型对新样本的预测准确度。\n",
    "\n",
    "例如，如果有大量的特征数据和较少的观察样本，通常可以很完美地将回归模型拟合到数据，但这对于预测新数据没有什么作用，这就是典型地过拟合。\n",
    "\n",
    "为了提升模型的泛化能力，需要将可用数据划分为训练数据集和测试数据集。"
   ]
  },
  {
   "cell_type": "markdown",
   "id": "6015f5bf-28f2-4d22-850d-7fd16186245b",
   "metadata": {},
   "source": [
    "下面，我们来看一个拥有50个样本以及50个特征的回归问题，其中只有10个特征具有有用信息。"
   ]
  },
  {
   "cell_type": "code",
   "execution_count": 7,
   "id": "ffb0711b-954e-4f0b-b250-352fbdee3ea3",
   "metadata": {},
   "outputs": [
    {
     "data": {
      "text/plain": [
       "((50, 50), (50,))"
      ]
     },
     "execution_count": 7,
     "metadata": {},
     "output_type": "execute_result"
    }
   ],
   "source": [
    "np.random.seed(123)\n",
    "\n",
    "X_all, y_all = datasets.make_regression(n_samples=50, n_features=50, \n",
    "                                        n_informative=10) #, noise=2.5)\n",
    "\n",
    "X_all.shape, y_all.shape"
   ]
  },
  {
   "cell_type": "markdown",
   "id": "bc830799-2688-466c-a9a4-776d29e09862",
   "metadata": {},
   "source": [
    "得到的结果是两个数组，对应特征矩阵和样本。\n",
    "\n",
    "为了避免过拟合，我们使用`model_selection`模块的`train_test_split`函数将数据集等分为训练集和测试集。"
   ]
  },
  {
   "cell_type": "code",
   "execution_count": 8,
   "id": "754d424f-04ba-488f-b2d2-12b276e924e2",
   "metadata": {},
   "outputs": [
    {
     "data": {
      "text/plain": [
       "((25, 50), (25,))"
      ]
     },
     "execution_count": 8,
     "metadata": {},
     "output_type": "execute_result"
    }
   ],
   "source": [
    "X_train, X_test, y_train, y_test = model_selection.train_test_split(X_all, y_all, train_size=0.5)\n",
    "\n",
    "X_train.shape, y_train.shape"
   ]
  },
  {
   "cell_type": "markdown",
   "id": "5a2cf290-d52f-4fce-9517-64811ea0304b",
   "metadata": {},
   "source": [
    "在sklearn中，可以使用`linear_model`模块的`LinearRegression`类来进行普通的线性回归。"
   ]
  },
  {
   "cell_type": "code",
   "execution_count": 9,
   "id": "7d223091-317e-4d18-a191-e9a87d896475",
   "metadata": {},
   "outputs": [
    {
     "data": {
      "text/plain": [
       "LinearRegression()"
      ]
     },
     "execution_count": 9,
     "metadata": {},
     "output_type": "execute_result"
    }
   ],
   "source": [
    "model = linear_model.LinearRegression()\n",
    "\n",
    "model.fit(X_train, y_train)"
   ]
  },
  {
   "cell_type": "markdown",
   "id": "4a8ee203-4673-4637-a66f-2c742ae012e4",
   "metadata": {},
   "source": [
    "`fit`方法会把结果直接保存在model实例中。"
   ]
  },
  {
   "cell_type": "markdown",
   "id": "a4889f14-4e85-4b68-85d1-a473d48e85c8",
   "metadata": {},
   "source": [
    "由于回归问题有50个特征，而训练数据只有25个样本，因此可以预期会发生过拟合。拟合程度可以通过模型与数据之间的误差平方和（SSE）来量化。"
   ]
  },
  {
   "cell_type": "code",
   "execution_count": 11,
   "id": "ec04747c-7889-400e-bf14-afd560f1821d",
   "metadata": {},
   "outputs": [
    {
     "data": {
      "text/plain": [
       "5.033216565235935e-25"
      ]
     },
     "execution_count": 11,
     "metadata": {},
     "output_type": "execute_result"
    }
   ],
   "source": [
    "resid_train = y_train - model.predict(X_train)\n",
    "sse_train = np.sum(resid_train**2)\n",
    "sse_train"
   ]
  },
  {
   "cell_type": "markdown",
   "id": "2064670f-d64c-409b-9774-80b00839eecc",
   "metadata": {},
   "source": [
    "可以看到，拟合后的模型对于训练集数据的残差基本为0，可以预期过拟合的模型不适用于新数据。"
   ]
  },
  {
   "cell_type": "code",
   "execution_count": 12,
   "id": "992c295e-0942-473d-b8e4-87a4ec91bb13",
   "metadata": {},
   "outputs": [
    {
     "data": {
      "text/plain": [
       "213555.61203039068"
      ]
     },
     "execution_count": 12,
     "metadata": {},
     "output_type": "execute_result"
    }
   ],
   "source": [
    "resid_test = y_test - model.predict(X_test)\n",
    "sse_test = np.sum(resid_test**2)\n",
    "sse_test"
   ]
  },
  {
   "cell_type": "markdown",
   "id": "dce815fc-5d0e-43ce-a462-92ecc7312e24",
   "metadata": {},
   "source": [
    "评估模型和数据拟合度的另一个方法是R-squared统计量。如果结果是 0，说明模型拟合效果很差；如果结果是 1，说明模型无错误。"
   ]
  },
  {
   "cell_type": "code",
   "execution_count": 13,
   "id": "95601fb4-4dea-4876-8c28-699dd24842ea",
   "metadata": {},
   "outputs": [
    {
     "data": {
      "text/plain": [
       "(1.0, 0.3140740067520178)"
      ]
     },
     "execution_count": 13,
     "metadata": {},
     "output_type": "execute_result"
    }
   ],
   "source": [
    "model.score(X_train, y_train), model.score(X_test, y_test)"
   ]
  },
  {
   "cell_type": "markdown",
   "id": "b56c99e2-af19-455a-af22-91106fe795e7",
   "metadata": {},
   "source": [
    "最后，还可以使用图形方法对训练集和测试集的残差进行可视化。"
   ]
  },
  {
   "cell_type": "code",
   "execution_count": 14,
   "id": "1a43f0f2-6549-46dc-af72-7e218f774d0a",
   "metadata": {},
   "outputs": [
    {
     "data": {
      "image/png": "[encoded data removed]",
      "text/plain": [
       "<Figure size 864x216 with 3 Axes>"
      ]
     },
     "metadata": {
      "needs_background": "light"
     },
     "output_type": "display_data"
    }
   ],
   "source": [
    "def plot_residuals_and_coeff(resid_train, resid_test, coeff):\n",
    "    fig, axes = plt.subplots(1, 3, figsize=(12, 3))\n",
    "    axes[0].bar(np.arange(len(resid_train)), resid_train)\n",
    "    axes[0].set_xlabel(\"sample number\")\n",
    "    axes[0].set_ylabel(\"residual\")\n",
    "    axes[0].set_title(\"training data\")\n",
    "    axes[1].bar(np.arange(len(resid_test)), resid_test)\n",
    "    axes[1].set_xlabel(\"sample number\")\n",
    "    axes[1].set_ylabel(\"residual\")\n",
    "    axes[1].set_title(\"testing data\")\n",
    "    axes[2].bar(np.arange(len(coeff)), coeff)\n",
    "    axes[2].set_xlabel(\"coefficient number\")\n",
    "    axes[2].set_ylabel(\"coefficient\")\n",
    "    fig.tight_layout()\n",
    "    return fig, axes\n",
    "\n",
    "fig, ax = plot_residuals_and_coeff(resid_train, resid_test, model.coef_)"
   ]
  },
  {
   "cell_type": "markdown",
   "id": "e34ef592-b2fd-4fdf-85bf-3923666e9821",
   "metadata": {},
   "source": [
    "在这里例子中，过拟合的原因是样本数量太少。"
   ]
  },
  {
   "cell_type": "markdown",
   "id": "5bb826a7-6789-477c-98b9-aff43443be4c",
   "metadata": {},
   "source": [
    "### 正则化回归\n",
    "\n",
    "解决过拟合问题的一个方案是**正则化回归 Regularized Regression**。\n",
    "\n",
    "在普通线性回归中，可以通过选择模型参数来最小化残差的平方和。优化问题的目标函数为$\\min_\\beta \\Vert X \\beta-y \\Vert^2_2$，其中$X$是特征举证，$y$是响应变量，$\\beta$是模型参数向量。\n",
    "\n",
    "在正则化回归中，我们在目标函数中增加了惩罚项，不同类型的惩罚项对原始回归问题进行不同的正则化。\n",
    "\n",
    "最常见的正则化方法是在最小化目标函数中增加参数向量的L1范数和L2范数：$\\min_\\beta \\left\\{\\Vert X \\beta-y \\Vert^2_2 + \\alpha \\Vert \\beta \\Vert_1  \\right\\}$和$\\min_\\beta \\left\\{\\Vert X \\beta-y \\Vert^2_2 + \\alpha \\Vert \\beta \\Vert^2_2  \\right\\}$，这里$\\alpha$是决定正则化强度的参数。它们分别被称为**LASSO回归**和**Ridge回归**。\n",
    "\n",
    "增加L1范数可以让模型参数向量减少非零项目，从而消除部分特征；增加L2范数可以让模型参数向量更小。\n",
    "\n",
    "在scikit-learn中，`linear_model`模块的`Ridge`类和`Lasso`类提供了相映的正则化回归方法。"
   ]
  },
  {
   "cell_type": "code",
   "execution_count": 15,
   "id": "c01d6691-9e54-450b-821e-13500ed666aa",
   "metadata": {},
   "outputs": [
    {
     "data": {
      "text/plain": [
       "Ridge(alpha=5)"
      ]
     },
     "execution_count": 15,
     "metadata": {},
     "output_type": "execute_result"
    }
   ],
   "source": [
    "model = linear_model.Ridge(alpha=5)\n",
    "model.fit(X_train, y_train)"
   ]
  },
  {
   "cell_type": "markdown",
   "id": "59438167-be2c-47e9-aeb8-6a43b263bc32",
   "metadata": {},
   "source": [
    "计算模型对训练集和数据集的SSE。"
   ]
  },
  {
   "cell_type": "code",
   "execution_count": 16,
   "id": "49bb79bb-02a5-401f-8495-c92c4fbacdc4",
   "metadata": {},
   "outputs": [
    {
     "data": {
      "text/plain": [
       "3292.962035869272"
      ]
     },
     "execution_count": 16,
     "metadata": {},
     "output_type": "execute_result"
    }
   ],
   "source": [
    "resid_train = y_train - model.predict(X_train)\n",
    "sse_train = sum(resid_train**2)\n",
    "sse_train"
   ]
  },
  {
   "cell_type": "code",
   "execution_count": 18,
   "id": "d773a08d-607e-4215-97b8-28d5e37df591",
   "metadata": {},
   "outputs": [
    {
     "data": {
      "text/plain": [
       "209557.58585055024"
      ]
     },
     "execution_count": 18,
     "metadata": {},
     "output_type": "execute_result"
    }
   ],
   "source": [
    "resid_test = y_test - model.predict(X_test)\n",
    "sse_test = sum(resid_test**2)\n",
    "sse_test"
   ]
  },
  {
   "cell_type": "markdown",
   "id": "f74823a2-ccd3-4531-9c7c-68fb961f54f4",
   "metadata": {},
   "source": [
    "可以看到，训练集的SSE不再是接近0的值，而测试集的SSE略有减小。"
   ]
  },
  {
   "cell_type": "code",
   "execution_count": 19,
   "id": "e480f4df-5574-45af-8d7f-fe9076f40b14",
   "metadata": {},
   "outputs": [
    {
     "data": {
      "image/png": "[encoded data removed]",
      "text/plain": [
       "<Figure size 864x216 with 3 Axes>"
      ]
     },
     "metadata": {
      "needs_background": "light"
     },
     "output_type": "display_data"
    }
   ],
   "source": [
    "fig, ax = plot_residuals_and_coeff(resid_train, resid_test, model.coef_)"
   ]
  },
  {
   "cell_type": "markdown",
   "id": "5afaabed-d4b2-4e3b-bd7c-ff254545f493",
   "metadata": {},
   "source": [
    "类型的，我们进行LASSO回归。在对实例进行初始化时，设置参数$\\alpha=1.0$。"
   ]
  },
  {
   "cell_type": "code",
   "execution_count": 20,
   "id": "ff442591-f9a8-4591-acd8-965daa3e891c",
   "metadata": {},
   "outputs": [
    {
     "data": {
      "text/plain": [
       "Lasso()"
      ]
     },
     "execution_count": 20,
     "metadata": {},
     "output_type": "execute_result"
    }
   ],
   "source": [
    "model = linear_model.Lasso(alpha=1.0)\n",
    "model.fit(X_train, y_train)"
   ]
  },
  {
   "cell_type": "code",
   "execution_count": 22,
   "id": "0ae76eed-84a0-4a96-935e-7722d6f7ed4b",
   "metadata": {},
   "outputs": [
    {
     "data": {
      "text/plain": [
       "309.7497138953248"
      ]
     },
     "execution_count": 22,
     "metadata": {},
     "output_type": "execute_result"
    }
   ],
   "source": [
    "resid_train = y_train - model.predict(X_train)\n",
    "sse_train = sum(resid_train**2)\n",
    "sse_train"
   ]
  },
  {
   "cell_type": "code",
   "execution_count": 23,
   "id": "82ef1d9f-a39c-4cbc-892a-2c3e426921ec",
   "metadata": {},
   "outputs": [
    {
     "data": {
      "text/plain": [
       "1489.1176065002892"
      ]
     },
     "execution_count": 23,
     "metadata": {},
     "output_type": "execute_result"
    }
   ],
   "source": [
    "resid_test = y_test - model.predict(X_test)\n",
    "sse_test = sum(resid_test**2)\n",
    "sse_test"
   ]
  },
  {
   "cell_type": "markdown",
   "id": "31329cbe-ec3f-4402-a777-43062e518a0d",
   "metadata": {},
   "source": [
    "可以看到，虽然训练集的SSE稍有增加，测试集的SSE明显下降。"
   ]
  },
  {
   "cell_type": "code",
   "execution_count": 24,
   "id": "9b1864c4-e2a9-4474-a071-235fd3373f6b",
   "metadata": {},
   "outputs": [
    {
     "data": {
      "image/png": "[encoded data removed]",
      "text/plain": [
       "<Figure size 864x216 with 3 Axes>"
      ]
     },
     "metadata": {
      "needs_background": "light"
     },
     "output_type": "display_data"
    }
   ],
   "source": [
    "fig, ax = plot_residuals_and_coeff(resid_train, resid_test, model.coef_)"
   ]
  },
  {
   "cell_type": "markdown",
   "id": "0509b4a0-1e53-4fe7-8eac-93e298f647d1",
   "metadata": {},
   "source": [
    "在最初生成数据集时，我们选择了50个特征，但是只有10个特征包含有用信息。对于包含大量无用特征的模型，LASSO回归是一种非常有效的方法。"
   ]
  },
  {
   "cell_type": "markdown",
   "id": "339b7204-9cff-4182-a049-446c022b06e4",
   "metadata": {},
   "source": [
    "### 正则化强度\n",
    "\n",
    "针对每个新问题，可能需要反复实验才能找到合适的$\\alpha$值。"
   ]
  },
  {
   "cell_type": "code",
   "execution_count": 25,
   "id": "00de3abb-4708-4209-b63b-8edbbf7472db",
   "metadata": {},
   "outputs": [],
   "source": [
    "alphas = np.logspace(-4, 2, 11)\n",
    "coeffs = np.zeros((len(alphas), X_train.shape[1]))\n",
    "sse_train = np.zeros_like(alphas)\n",
    "sse_test = np.zeros_like(alphas)"
   ]
  },
  {
   "cell_type": "markdown",
   "id": "ac319974-ca30-424c-9526-c5223da190d8",
   "metadata": {},
   "source": [
    "我们遍历数组中的$\\alpha$值，并进行LASSO回归。"
   ]
  },
  {
   "cell_type": "code",
   "execution_count": 26,
   "id": "20ac64db-940a-43ce-b173-199ba2d3bf8f",
   "metadata": {},
   "outputs": [
    {
     "name": "stderr",
     "output_type": "stream",
     "text": [
      "/opt/anaconda3/lib/python3.9/site-packages/sklearn/linear_model/_coordinate_descent.py:647: ConvergenceWarning: Objective did not converge. You might want to increase the number of iterations, check the scale of the features or consider increasing regularisation. Duality gap: 3.773e+01, tolerance: 3.303e+01\n",
      "  model = cd_fast.enet_coordinate_descent(\n"
     ]
    }
   ],
   "source": [
    "for n, alpha in enumerate(alphas):\n",
    "    model = linear_model.Lasso(alpha=alpha)\n",
    "    model.fit(X_train, y_train)\n",
    "    coeffs[n, :] = model.coef_\n",
    "    resid = y_train - model.predict(X_train)\n",
    "    sse_train[n] = sum(resid**2)\n",
    "    resid = y_test - model.predict(X_test)\n",
    "    sse_test[n] = sum(resid**2)"
   ]
  },
  {
   "cell_type": "markdown",
   "id": "cc546bc6-2283-4898-8b04-c5196a40bcf8",
   "metadata": {},
   "source": [
    "对于较小的$\\alpha$值，大量的系数都是非零的，这意味着过拟合。\n",
    "\n",
    "当$\\alpha$值增加到某个阈值之上后，大部分系数变成0，同时测试集的SSE开始急速下降。着就是LASSO回归的从众效应 Sought-After Effect。\n",
    "\n",
    "但是当$\\alpha$值太大时，所有系数都向0收敛，导致测试集和训练集的SSE开始上升。"
   ]
  },
  {
   "cell_type": "code",
   "execution_count": 27,
   "id": "01eac6b1-411c-4d89-97c5-8653ca55d038",
   "metadata": {},
   "outputs": [
    {
     "data": {
      "image/png": "[encoded data removed]",
      "text/plain": [
       "<Figure size 864x288 with 2 Axes>"
      ]
     },
     "metadata": {
      "needs_background": "light"
     },
     "output_type": "display_data"
    }
   ],
   "source": [
    "fig, axes = plt.subplots(1, 2, figsize=(12, 4), sharex=True)\n",
    "\n",
    "for n in range(coeffs.shape[1]):\n",
    "    axes[0].plot(np.log10(alphas), coeffs[:, n], color='k', lw=0.5)\n",
    "\n",
    "axes[1].semilogy(np.log10(alphas), sse_train, label=\"train\")\n",
    "axes[1].semilogy(np.log10(alphas), sse_test, label=\"test\")\n",
    "axes[1].legend(loc=0)\n",
    "\n",
    "axes[0].set_xlabel(r\"${\\log_{10}}\\alpha$\", fontsize=18)\n",
    "axes[0].set_ylabel(r\"coefficients\", fontsize=18)\n",
    "axes[1].set_xlabel(r\"${\\log_{10}}\\alpha$\", fontsize=18)\n",
    "axes[1].set_ylabel(r\"sse\", fontsize=18)\n",
    "fig.tight_layout()"
   ]
  },
  {
   "cell_type": "markdown",
   "id": "24e28f9d-6d75-4f2e-b470-eb4d081d9e03",
   "metadata": {},
   "source": [
    "我们可以使用`RidgeCV`和`LassoCV`类自动针对多个$\\alpha$值测试正则化回归。它们能够在内部使用交叉验证的方法查找最优的$\\alpha$值。"
   ]
  },
  {
   "cell_type": "code",
   "execution_count": 30,
   "id": "7b8ad86a-6323-48ae-b63a-c46406153881",
   "metadata": {},
   "outputs": [
    {
     "data": {
      "text/plain": [
       "LassoCV()"
      ]
     },
     "execution_count": 30,
     "metadata": {},
     "output_type": "execute_result"
    }
   ],
   "source": [
    "model = linear_model.LassoCV()\n",
    "model.fit(X_all, y_all)"
   ]
  },
  {
   "cell_type": "markdown",
   "id": "aaa00a6f-be56-4d9c-8b5d-866ee7e36b1b",
   "metadata": {},
   "source": [
    "可以通过alpha_属性查看为模型选择的正则化强度参数。"
   ]
  },
  {
   "cell_type": "code",
   "execution_count": 31,
   "id": "ca721c13-c91e-4e19-ab85-1b3e6839e721",
   "metadata": {},
   "outputs": [
    {
     "data": {
      "text/plain": [
       "0.06559238747534718"
      ]
     },
     "execution_count": 31,
     "metadata": {},
     "output_type": "execute_result"
    }
   ],
   "source": [
    "model.alpha_"
   ]
  },
  {
   "cell_type": "markdown",
   "id": "8a3792a7-8a98-4303-836d-42b41efc7144",
   "metadata": {},
   "source": [
    "为了与之前的结果比较，我们重新计算训练集和测试集的SSE。"
   ]
  },
  {
   "cell_type": "code",
   "execution_count": 34,
   "id": "5e6fe196-cd57-440f-b172-6a8af52dab66",
   "metadata": {},
   "outputs": [
    {
     "data": {
      "text/plain": [
       "1.5450589323146804"
      ]
     },
     "execution_count": 34,
     "metadata": {},
     "output_type": "execute_result"
    }
   ],
   "source": [
    "resid_train = y_train - model.predict(X_train)\n",
    "sse_train = sum(resid_train**2)\n",
    "sse_train"
   ]
  },
  {
   "cell_type": "code",
   "execution_count": 37,
   "id": "6ad4ddae-a419-4b47-ab94-aa3776927275",
   "metadata": {},
   "outputs": [
    {
     "data": {
      "text/plain": [
       "1.5321417406216291"
      ]
     },
     "execution_count": 37,
     "metadata": {},
     "output_type": "execute_result"
    }
   ],
   "source": [
    "resid_test = y_test - model.predict(X_test)\n",
    "sse_test = sum(resid_test**2)\n",
    "sse_test"
   ]
  },
  {
   "cell_type": "code",
   "execution_count": 38,
   "id": "f1f3371f-9abf-4d1d-b72d-2969aa4faf45",
   "metadata": {},
   "outputs": [
    {
     "data": {
      "text/plain": [
       "(0.9999953221722068, 0.9999950788657098)"
      ]
     },
     "execution_count": 38,
     "metadata": {},
     "output_type": "execute_result"
    }
   ],
   "source": [
    "model.score(X_train, y_train), model.score(X_test, y_test)"
   ]
  },
  {
   "cell_type": "code",
   "execution_count": 39,
   "id": "9838ed5a-3504-4455-beac-ae780fd1823a",
   "metadata": {},
   "outputs": [
    {
     "data": {
      "image/png": "[encoded data removed]",
      "text/plain": [
       "<Figure size 864x216 with 3 Axes>"
      ]
     },
     "metadata": {
      "needs_background": "light"
     },
     "output_type": "display_data"
    }
   ],
   "source": [
    "fig, ax = plot_residuals_and_coeff(resid_train, resid_test, model.coef_)"
   ]
  },
  {
   "cell_type": "markdown",
   "id": "fc83f19e-aab1-472b-a42b-ea0e94bde9dd",
   "metadata": {},
   "source": [
    "通过交叉验证的LASSO方法，我们获得了一个同时对训练集和测试集具有较高预测精度的模型，并且在样本数量少于特征数量的情况下解决了过拟合问题。"
   ]
  },
  {
   "cell_type": "markdown",
   "id": "c76bd693-fd4e-4cf1-9f25-d80f8f21e275",
   "metadata": {},
   "source": [
    "### Elastic-Net回归\n",
    "\n",
    "Elastic-Net回归是结合了LASSO和Ridge回归中L1和L2范数的正则化回归模型。它的最小化目标函数是：\n",
    "$$\\min_\\beta \\left\\{\\Vert X \\beta-y \\Vert^2_2 + \\alpha \\rho \\Vert \\beta \\Vert_1 +  \\alpha (1 - \\rho) \\Vert \\beta \\Vert^2_2  \\right\\}$$\n",
    "其中参数$\\rho$是惩罚项的权重。\n",
    "\n",
    "在scikit-learn中，ElasticNet类可以显式地设置参数$\\alpha$和$\\rho$，或者使用交叉验证的ElasticNetCV类自动寻找合适的参数值。"
   ]
  },
  {
   "cell_type": "code",
   "execution_count": 40,
   "id": "420a587e-4316-4c1d-892e-4c750bf7474e",
   "metadata": {},
   "outputs": [
    {
     "data": {
      "text/plain": [
       "ElasticNetCV()"
      ]
     },
     "execution_count": 40,
     "metadata": {},
     "output_type": "execute_result"
    }
   ],
   "source": [
    "model = linear_model.ElasticNetCV()\n",
    "model.fit(X_all, y_all)"
   ]
  },
  {
   "cell_type": "code",
   "execution_count": 41,
   "id": "b0b28684-0c0c-4abb-a195-c9a472f38974",
   "metadata": {},
   "outputs": [
    {
     "data": {
      "text/plain": [
       "(0.13118477495069433, 0.5)"
      ]
     },
     "execution_count": 41,
     "metadata": {},
     "output_type": "execute_result"
    }
   ],
   "source": [
    "model.alpha_, model.l1_ratio"
   ]
  },
  {
   "cell_type": "code",
   "execution_count": 42,
   "id": "120acd13-d653-49c1-b359-48b5def5a1c9",
   "metadata": {},
   "outputs": [
    {
     "data": {
      "text/plain": [
       "2183.8391729391287"
      ]
     },
     "execution_count": 42,
     "metadata": {},
     "output_type": "execute_result"
    }
   ],
   "source": [
    "resid_train = y_train - model.predict(X_train)\n",
    "sse_train = sum(resid_train**2)\n",
    "sse_train"
   ]
  },
  {
   "cell_type": "code",
   "execution_count": 43,
   "id": "63f1449d-d8bf-4bd0-b768-bc65b826d4b9",
   "metadata": {},
   "outputs": [
    {
     "data": {
      "text/plain": [
       "2650.0504463382463"
      ]
     },
     "execution_count": 43,
     "metadata": {},
     "output_type": "execute_result"
    }
   ],
   "source": [
    "resid_test = y_test - model.predict(X_test)\n",
    "sse_test = sum(resid_test**2)\n",
    "sse_test"
   ]
  },
  {
   "cell_type": "code",
   "execution_count": 44,
   "id": "e8f535bf-bd87-4d5f-8ae3-26e028bebb8c",
   "metadata": {},
   "outputs": [
    {
     "data": {
      "text/plain": [
       "(0.9933881981034111, 0.9914882195448783)"
      ]
     },
     "execution_count": 44,
     "metadata": {},
     "output_type": "execute_result"
    }
   ],
   "source": [
    "model.score(X_train, y_train), model.score(X_test, y_test)"
   ]
  },
  {
   "cell_type": "code",
   "execution_count": 45,
   "id": "242c29c2-331c-46fd-95f5-5207eb21c06d",
   "metadata": {},
   "outputs": [
    {
     "data": {
      "image/png": "[encoded data removed]",
      "text/plain": [
       "<Figure size 864x216 with 3 Axes>"
      ]
     },
     "metadata": {
      "needs_background": "light"
     },
     "output_type": "display_data"
    }
   ],
   "source": [
    "fig, ax = plot_residuals_and_coeff(resid_train, resid_test, model.coef_)"
   ]
  },
  {
   "cell_type": "markdown",
   "id": "3042fd38-2e4f-45a5-a092-d4e2af2965cd",
   "metadata": {},
   "source": [
    "## 分类\n",
    "---\n",
    "\n",
    "机器学习中有多种分类算法，例如最近邻算法 Nearest Neighbor Method、支持向量机 Support Vector Machine、决策树 Decision Tree、随机森林算法 Random Forest Method等。scikit-learn库为这些算法提供了方便的API。\n",
    "\n",
    "为了演示如何使用数据集对分类模型进行训练和测试，我们将使用经典的Iris数据集。该数据集包含鸢尾花样本的花萼和花瓣的结构特征和品种信息。"
   ]
  },
  {
   "cell_type": "code",
   "execution_count": 3,
   "id": "aed1f998-9664-40dd-99d1-d62a530aeb5e",
   "metadata": {},
   "outputs": [
    {
     "name": "stdout",
     "output_type": "stream",
     "text": [
      ".. _iris_dataset:\n",
      "\n",
      "Iris plants dataset\n",
      "--------------------\n",
      "\n",
      "**Data Set Characteristics:**\n",
      "\n",
      "    :Number of Instances: 150 (50 in each of three classes)\n",
      "    :Number of Attributes: 4 numeric, predictive attributes and the class\n",
      "    :Attribute Information:\n",
      "        - sepal length in cm\n",
      "        - sepal width in cm\n",
      "        - petal length in cm\n",
      "        - petal width in cm\n",
      "        - class:\n",
      "                - Iris-Setosa\n",
      "                - Iris-Versicolour\n",
      "                - Iris-Virginica\n",
      "                \n",
      "    :Summary Statistics:\n",
      "\n",
      "    ============== ==== ==== ======= ===== ====================\n",
      "                    Min  Max   Mean    SD   Class Correlation\n",
      "    ============== ==== ==== ======= ===== ====================\n",
      "    sepal length:   4.3  7.9   5.84   0.83    0.7826\n",
      "    sepal width:    2.0  4.4   3.05   0.43   -0.4194\n",
      "    petal length:   1.0  6.9   3.76   1.76    0.9490  (high!)\n",
      "    petal width:    0.1  2.5   1.20   0.76    0.9565  (high!)\n",
      "    ============== ==== ==== ======= ===== ====================\n",
      "\n",
      "    :Missing Attribute Values: None\n",
      "    :Class Distribution: 33.3% for each of 3 classes.\n",
      "    :Creator: R.A. Fisher\n",
      "    :Donor: Michael Marshall (MARSHALL%PLU@io.arc.nasa.gov)\n",
      "    :Date: July, 1988\n",
      "\n",
      "The famous Iris database, first used by Sir R.A. Fisher. The dataset is taken\n",
      "from Fisher's paper. Note that it's the same as in R, but not as in the UCI\n",
      "Machine Learning Repository, which has two wrong data points.\n",
      "\n",
      "This is perhaps the best known database to be found in the\n",
      "pattern recognition literature.  Fisher's paper is a classic in the field and\n",
      "is referenced frequently to this day.  (See Duda & Hart, for example.)  The\n",
      "data set contains 3 classes of 50 instances each, where each class refers to a\n",
      "type of iris plant.  One class is linearly separable from the other 2; the\n",
      "latter are NOT linearly separable from each other.\n",
      "\n",
      ".. topic:: References\n",
      "\n",
      "   - Fisher, R.A. \"The use of multiple measurements in taxonomic problems\"\n",
      "     Annual Eugenics, 7, Part II, 179-188 (1936); also in \"Contributions to\n",
      "     Mathematical Statistics\" (John Wiley, NY, 1950).\n",
      "   - Duda, R.O., & Hart, P.E. (1973) Pattern Classification and Scene Analysis.\n",
      "     (Q327.D83) John Wiley & Sons.  ISBN 0-471-22361-1.  See page 218.\n",
      "   - Dasarathy, B.V. (1980) \"Nosing Around the Neighborhood: A New System\n",
      "     Structure and Classification Rule for Recognition in Partially Exposed\n",
      "     Environments\".  IEEE Transactions on Pattern Analysis and Machine\n",
      "     Intelligence, Vol. PAMI-2, No. 1, 67-71.\n",
      "   - Gates, G.W. (1972) \"The Reduced Nearest Neighbor Rule\".  IEEE Transactions\n",
      "     on Information Theory, May 1972, 431-433.\n",
      "   - See also: 1988 MLC Proceedings, 54-64.  Cheeseman et al\"s AUTOCLASS II\n",
      "     conceptual clustering system finds 3 classes in the data.\n",
      "   - Many, many more ...\n"
     ]
    }
   ],
   "source": [
    "iris = datasets.load_iris()\n",
    "print(iris['DESCR'])"
   ]
  },
  {
   "cell_type": "markdown",
   "id": "18fbf00e-12d4-4d0c-b5da-ba77bf73542e",
   "metadata": {},
   "source": [
    "通过`target_names`和`feature_names`属性查看分类名称和特征。"
   ]
  },
  {
   "cell_type": "code",
   "execution_count": 4,
   "id": "a7c2ec1f-ca38-45ff-93b9-6be77f7429cf",
   "metadata": {},
   "outputs": [
    {
     "data": {
      "text/plain": [
       "array(['setosa', 'versicolor', 'virginica'], dtype='<U10')"
      ]
     },
     "execution_count": 4,
     "metadata": {},
     "output_type": "execute_result"
    }
   ],
   "source": [
    "iris.target_names"
   ]
  },
  {
   "cell_type": "code",
   "execution_count": 5,
   "id": "6f2612d6-223c-4dac-a415-679c87f90890",
   "metadata": {},
   "outputs": [
    {
     "data": {
      "text/plain": [
       "['sepal length (cm)',\n",
       " 'sepal width (cm)',\n",
       " 'petal length (cm)',\n",
       " 'petal width (cm)']"
      ]
     },
     "execution_count": 5,
     "metadata": {},
     "output_type": "execute_result"
    }
   ],
   "source": [
    "iris.feature_names"
   ]
  },
  {
   "cell_type": "markdown",
   "id": "1f22b517-d8e6-404e-8092-f0bade2f46eb",
   "metadata": {},
   "source": [
    "实际的数据集可以通过`data`和`target`属性获得。"
   ]
  },
  {
   "cell_type": "code",
   "execution_count": 129,
   "id": "079f6c27-8125-4cd2-9e0b-cce6473d0a91",
   "metadata": {},
   "outputs": [
    {
     "data": {
      "text/plain": [
       "(150, 4)"
      ]
     },
     "execution_count": 129,
     "metadata": {},
     "output_type": "execute_result"
    }
   ],
   "source": [
    "iris.data.shape"
   ]
  },
  {
   "cell_type": "code",
   "execution_count": 6,
   "id": "881053a7-457b-468d-9814-df4b647f2c22",
   "metadata": {},
   "outputs": [
    {
     "data": {
      "text/plain": [
       "(150,)"
      ]
     },
     "execution_count": 6,
     "metadata": {},
     "output_type": "execute_result"
    }
   ],
   "source": [
    "iris.target.shape"
   ]
  },
  {
   "cell_type": "markdown",
   "id": "08977736-3eda-4886-9924-d791bb22658a",
   "metadata": {},
   "source": [
    "我们首先使用`model_selection`模块的`train_test_split`方法将数据集拆分为训练集和测试集。"
   ]
  },
  {
   "cell_type": "code",
   "execution_count": 8,
   "id": "028ff802-bd23-40ed-9f9d-e1400c5b314e",
   "metadata": {},
   "outputs": [],
   "source": [
    "X_train, X_test, y_train, y_test = model_selection.train_test_split(iris.data, iris.target, train_size=0.7)"
   ]
  },
  {
   "cell_type": "markdown",
   "id": "b9e724db-bb80-4896-8bf9-cb4c1430cc6c",
   "metadata": {},
   "source": [
    "下一步是创建分类器实例，这里我们选择对数几率回归分类器。"
   ]
  },
  {
   "cell_type": "code",
   "execution_count": 9,
   "id": "92e8363f-5aa8-4e4e-af95-2def7261ccb9",
   "metadata": {},
   "outputs": [],
   "source": [
    "classifier = linear_model.LogisticRegression()"
   ]
  },
  {
   "cell_type": "markdown",
   "id": "56746544-e57c-442f-8bec-0f8f7594a991",
   "metadata": {},
   "source": [
    "调用分类器的`fit`方法对模型进行训练。`fit`方法的参数是特征矩阵和目标向量。"
   ]
  },
  {
   "cell_type": "code",
   "execution_count": 10,
   "id": "aa77f07a-1f35-4c52-b1d3-505323e07fe3",
   "metadata": {},
   "outputs": [
    {
     "data": {
      "text/plain": [
       "LogisticRegression()"
      ]
     },
     "execution_count": 10,
     "metadata": {},
     "output_type": "execute_result"
    }
   ],
   "source": [
    "classifier.fit(X_train, y_train)"
   ]
  },
  {
   "cell_type": "markdown",
   "id": "1f70218f-11f7-4ad3-be8b-149bed826e3c",
   "metadata": {},
   "source": [
    "训练完成之后，使用训练器实例的`predict`方法来预测新样本的类别，并于实际值进行对比。"
   ]
  },
  {
   "cell_type": "code",
   "execution_count": 12,
   "id": "ae87aa59-f5bc-4079-99b5-335505b48435",
   "metadata": {},
   "outputs": [],
   "source": [
    "y_test_pred = classifier.predict(X_test)"
   ]
  },
  {
   "cell_type": "code",
   "execution_count": 14,
   "id": "9c5252e2-a6d5-4d26-842e-ef83d6904184",
   "metadata": {},
   "outputs": [
    {
     "data": {
      "text/plain": [
       "array([0, 0, 0, 2, 2, 0, 0, 2, 1, 2, 1, 1, 2, 0, 0, 1, 0, 0, 1, 0, 0, 2,\n",
       "       1, 2, 1, 2, 0, 0, 2, 1, 1, 0, 2, 2, 0, 1, 0, 1, 1, 2, 0, 2, 2, 0,\n",
       "       2])"
      ]
     },
     "execution_count": 14,
     "metadata": {},
     "output_type": "execute_result"
    }
   ],
   "source": [
    "y_test_pred"
   ]
  },
  {
   "cell_type": "markdown",
   "id": "e4b6ef21-fac0-422b-8130-6b2a7c7991b4",
   "metadata": {},
   "source": [
    "`metrics`模块提供了用于评估分类器性能和准确性的函数。"
   ]
  },
  {
   "cell_type": "code",
   "execution_count": 15,
   "id": "d8db14dc-4f30-4f4b-bc57-4956a2c411ca",
   "metadata": {},
   "outputs": [
    {
     "name": "stdout",
     "output_type": "stream",
     "text": [
      "              precision    recall  f1-score   support\n",
      "\n",
      "           0       1.00      1.00      1.00        18\n",
      "           1       0.83      0.91      0.87        11\n",
      "           2       0.93      0.88      0.90        16\n",
      "\n",
      "    accuracy                           0.93        45\n",
      "   macro avg       0.92      0.93      0.92        45\n",
      "weighted avg       0.94      0.93      0.93        45\n",
      "\n"
     ]
    }
   ],
   "source": [
    "print(metrics.classification_report(y_test, y_test_pred))"
   ]
  },
  {
   "cell_type": "markdown",
   "id": "f3478453-8197-404c-9e6c-979f5437d8df",
   "metadata": {},
   "source": [
    "为了统计分类的准确率，还可以使用`confusion_matrix`方法计算所谓的混淆矩阵，矩阵对角线上的值是正确分类的样本数，非对角线上的值代表分类的错误样本数目。"
   ]
  },
  {
   "cell_type": "code",
   "execution_count": 16,
   "id": "e354db15-238e-49ae-b3b1-fea58ee9b39e",
   "metadata": {
    "tags": []
   },
   "outputs": [
    {
     "data": {
      "text/plain": [
       "array([[18,  0,  0],\n",
       "       [ 0, 10,  1],\n",
       "       [ 0,  2, 14]])"
      ]
     },
     "execution_count": 16,
     "metadata": {},
     "output_type": "execute_result"
    }
   ],
   "source": [
    "metrics.confusion_matrix(y_test, y_test_pred)"
   ]
  },
  {
   "cell_type": "markdown",
   "id": "c7c2c08d-026e-41bc-b78e-06bce744a756",
   "metadata": {},
   "source": [
    "这里看到第二类的一个样本被错误地划分到了第三类。"
   ]
  },
  {
   "cell_type": "markdown",
   "id": "9deb6857-1573-4c3e-8bc5-823a4d8c6bb0",
   "metadata": {},
   "source": [
    "如果要使用其它的分类器进行分类，只需要创建相应的实例。"
   ]
  },
  {
   "cell_type": "code",
   "execution_count": 17,
   "id": "157ac695-5712-417b-bff2-d089067d84ce",
   "metadata": {},
   "outputs": [
    {
     "data": {
      "text/plain": [
       "array([[18,  0,  0],\n",
       "       [ 0,  9,  2],\n",
       "       [ 0,  1, 15]])"
      ]
     },
     "execution_count": 17,
     "metadata": {},
     "output_type": "execute_result"
    }
   ],
   "source": [
    "classifier = tree.DecisionTreeClassifier()\n",
    "classifier.fit(X_train, y_train)\n",
    "y_test_pred = classifier.predict(X_test)\n",
    "metrics.confusion_matrix(y_test, y_test_pred)"
   ]
  },
  {
   "cell_type": "code",
   "execution_count": 18,
   "id": "d0366b76-d3e8-4894-b5b8-faed78f86825",
   "metadata": {},
   "outputs": [
    {
     "data": {
      "text/plain": [
       "array([[18,  0,  0],\n",
       "       [ 0, 11,  0],\n",
       "       [ 0,  3, 13]])"
      ]
     },
     "execution_count": 18,
     "metadata": {},
     "output_type": "execute_result"
    }
   ],
   "source": [
    "classifier = neighbors.KNeighborsClassifier()\n",
    "classifier.fit(X_train, y_train)\n",
    "y_test_pred = classifier.predict(X_test)\n",
    "metrics.confusion_matrix(y_test, y_test_pred)"
   ]
  },
  {
   "cell_type": "code",
   "execution_count": 19,
   "id": "d86dc73c-0694-4a00-81d2-2deb731bc016",
   "metadata": {},
   "outputs": [
    {
     "data": {
      "text/plain": [
       "array([[18,  0,  0],\n",
       "       [ 0, 11,  0],\n",
       "       [ 0,  2, 14]])"
      ]
     },
     "execution_count": 19,
     "metadata": {},
     "output_type": "execute_result"
    }
   ],
   "source": [
    "classifier = svm.SVC()\n",
    "classifier.fit(X_train, y_train)\n",
    "y_test_pred = classifier.predict(X_test)\n",
    "metrics.confusion_matrix(y_test, y_test_pred)"
   ]
  },
  {
   "cell_type": "code",
   "execution_count": 20,
   "id": "aef6ec12-11c6-4073-8e0a-622546f22423",
   "metadata": {},
   "outputs": [
    {
     "data": {
      "text/plain": [
       "array([[18,  0,  0],\n",
       "       [ 0, 10,  1],\n",
       "       [ 0,  1, 15]])"
      ]
     },
     "execution_count": 20,
     "metadata": {},
     "output_type": "execute_result"
    }
   ],
   "source": [
    "classifier = ensemble.RandomForestClassifier()\n",
    "classifier.fit(X_train, y_train)\n",
    "y_test_pred = classifier.predict(X_test)\n",
    "metrics.confusion_matrix(y_test, y_test_pred)"
   ]
  },
  {
   "cell_type": "markdown",
   "id": "5a7053a7-350f-4c77-8754-8cbb695cbf05",
   "metadata": {},
   "source": [
    "下面，我们将准备不同比例的训练集和测试集，测试和比较上述不同分类器的性能。"
   ]
  },
  {
   "cell_type": "code",
   "execution_count": 22,
   "id": "a5420a23-59b2-4c08-90bf-cfc67232debc",
   "metadata": {},
   "outputs": [],
   "source": [
    "train_size_vec = np.linspace(0.1, 0.9, 30)\n",
    "\n",
    "classifiers = [tree.DecisionTreeClassifier,\n",
    "               neighbors.KNeighborsClassifier,\n",
    "               svm.SVC,\n",
    "               ensemble.RandomForestClassifier\n",
    "              ]\n",
    "\n",
    "cm_diags = np.zeros((3, len(train_size_vec), len(classifiers)), dtype=float)"
   ]
  },
  {
   "cell_type": "code",
   "execution_count": 23,
   "id": "dda00342-8796-4616-a8d9-3337ccd05ada",
   "metadata": {},
   "outputs": [],
   "source": [
    "for n, train_size in enumerate(train_size_vec):\n",
    "    X_train, X_test, y_train, y_test = \\\n",
    "        model_selection.train_test_split(iris.data, iris.target, train_size=train_size)\n",
    "\n",
    "    for m, Classifier in enumerate(classifiers): \n",
    "        classifier = Classifier()\n",
    "        classifier.fit(X_train, y_train)\n",
    "        y_test_pred = classifier.predict(X_test)\n",
    "        cm_diags[:, n, m] = metrics.confusion_matrix(y_test, y_test_pred).diagonal()\n",
    "        cm_diags[:, n, m] /= np.bincount(y_test)"
   ]
  },
  {
   "cell_type": "code",
   "execution_count": 24,
   "id": "0653faa7-523b-4732-bb51-936fa6da80a0",
   "metadata": {},
   "outputs": [
    {
     "data": {
      "image/png": "[encoded data removed]",
      "text/plain": [
       "<Figure size 864x216 with 4 Axes>"
      ]
     },
     "metadata": {
      "needs_background": "light"
     },
     "output_type": "display_data"
    }
   ],
   "source": [
    "fig, axes = plt.subplots(1, len(classifiers), figsize=(12, 3))\n",
    "\n",
    "for m, Classifier in enumerate(classifiers): \n",
    "    axes[m].plot(train_size_vec, cm_diags[2, :, m], label=iris.target_names[2])\n",
    "    axes[m].plot(train_size_vec, cm_diags[1, :, m], label=iris.target_names[1])\n",
    "    axes[m].plot(train_size_vec, cm_diags[0, :, m], label=iris.target_names[0])\n",
    "    axes[m].set_title(type(Classifier()).__name__)\n",
    "    axes[m].set_ylim(0, 1.1)\n",
    "    axes[m].set_xlim(0.1, 0.9)\n",
    "    axes[m].set_ylabel(\"classification accuracy\")\n",
    "    axes[m].set_xlabel(\"training size ratio\")\n",
    "    axes[m].legend(loc=4)\n",
    "\n",
    "fig.tight_layout()"
   ]
  },
  {
   "cell_type": "markdown",
   "id": "b8b0ab15-45f0-4ab6-92cc-3231d1cb16bf",
   "metadata": {},
   "source": [
    "可以看到，每个模型的分类错误是不同的。针对特定问题，可能需要尝试不同的分类器。"
   ]
  },
  {
   "cell_type": "markdown",
   "id": "44bd6b7c-997b-4c1c-87b7-842666508de4",
   "metadata": {},
   "source": [
    "## 聚类\n",
    "---\n",
    "\n",
    "聚类是类别未知的分类问题，它是无监督学习的典型应用。聚类算法的训练数据集仅包含特征变量，模型的输出是一个整数数组，代表为每个样本赋予的类别序号。\n",
    "\n",
    "scikit-learn库的`cluster`模块实现了多种聚类算法，例如k均值算法`KMeans`、mean-shift算法`MeanShift`等。很多聚类算法需要把簇的数量作为输入参数，可以在创建类实例时通过n_cluster参数来设置。\n",
    "\n",
    "这里，我们依旧使用Iris数据集来演示聚类算法。"
   ]
  },
  {
   "cell_type": "code",
   "execution_count": 25,
   "id": "bf2fdf71-ca42-401c-a483-553c9f57e884",
   "metadata": {},
   "outputs": [],
   "source": [
    "X, y = iris.data, iris.target"
   ]
  },
  {
   "cell_type": "markdown",
   "id": "ff656ac8-4047-4d58-9f3b-6a9e57d013c4",
   "metadata": {},
   "source": [
    "为了使用k均值算法，需要设置聚类的数目。通常情况下，需要尝试使用几个不同的聚类数量。"
   ]
  },
  {
   "cell_type": "code",
   "execution_count": 28,
   "id": "a1a31dd7-4ad0-47b9-941a-c0508aa15150",
   "metadata": {},
   "outputs": [],
   "source": [
    "n_clusters = 3\n",
    "c = cluster.KMeans(n_clusters=n_clusters)"
   ]
  },
  {
   "cell_type": "markdown",
   "id": "37192bd6-e11b-46a0-842e-ad7a80a859a0",
   "metadata": {},
   "source": [
    "为了进行计算，我们调用聚合器的`fit`方法，这里只需要将特征矩阵作为参数输入。"
   ]
  },
  {
   "cell_type": "code",
   "execution_count": 29,
   "id": "5f2653a7-85f5-4549-8729-d0671285398d",
   "metadata": {},
   "outputs": [
    {
     "data": {
      "text/plain": [
       "array([1, 1, 1, 1, 1, 1, 1, 1, 1, 1, 1, 1, 1, 1, 1, 1, 1, 1, 1, 1, 1, 1,\n",
       "       1, 1, 1, 1, 1, 1, 1, 1, 1, 1, 1, 1, 1, 1, 1, 1, 1, 1, 1, 1, 1, 1,\n",
       "       1, 1, 1, 1, 1, 1, 0, 0, 2, 0, 0, 0, 0, 0, 0, 0, 0, 0, 0, 0, 0, 0,\n",
       "       0, 0, 0, 0, 0, 0, 0, 0, 0, 0, 0, 2, 0, 0, 0, 0, 0, 0, 0, 0, 0, 0,\n",
       "       0, 0, 0, 0, 0, 0, 0, 0, 0, 0, 0, 0, 2, 0, 2, 2, 2, 2, 0, 2, 2, 2,\n",
       "       2, 2, 2, 0, 0, 2, 2, 2, 2, 0, 2, 0, 2, 0, 2, 2, 0, 0, 2, 2, 2, 2,\n",
       "       2, 0, 2, 2, 2, 2, 0, 2, 2, 2, 0, 2, 2, 2, 0, 2, 2, 0], dtype=int32)"
      ]
     },
     "execution_count": 29,
     "metadata": {},
     "output_type": "execute_result"
    }
   ],
   "source": [
    "c.fit(X)\n",
    "y_pred = c.predict(X)\n",
    "y_pred "
   ]
  },
  {
   "cell_type": "code",
   "execution_count": 30,
   "id": "04f79d7b-56a2-40d5-bd82-73d54efc6e28",
   "metadata": {},
   "outputs": [
    {
     "data": {
      "text/plain": [
       "array([0, 0, 0, 0, 0, 0, 0, 0, 0, 0, 0, 0, 0, 0, 0, 0, 0, 0, 0, 0, 0, 0,\n",
       "       0, 0, 0, 0, 0, 0, 0, 0, 0, 0, 0, 0, 0, 0, 0, 0, 0, 0, 0, 0, 0, 0,\n",
       "       0, 0, 0, 0, 0, 0, 1, 1, 1, 1, 1, 1, 1, 1, 1, 1, 1, 1, 1, 1, 1, 1,\n",
       "       1, 1, 1, 1, 1, 1, 1, 1, 1, 1, 1, 1, 1, 1, 1, 1, 1, 1, 1, 1, 1, 1,\n",
       "       1, 1, 1, 1, 1, 1, 1, 1, 1, 1, 1, 1, 2, 2, 2, 2, 2, 2, 2, 2, 2, 2,\n",
       "       2, 2, 2, 2, 2, 2, 2, 2, 2, 2, 2, 2, 2, 2, 2, 2, 2, 2, 2, 2, 2, 2,\n",
       "       2, 2, 2, 2, 2, 2, 2, 2, 2, 2, 2, 2, 2, 2, 2, 2, 2, 2])"
      ]
     },
     "execution_count": 30,
     "metadata": {},
     "output_type": "execute_result"
    }
   ],
   "source": [
    "y"
   ]
  },
  {
   "cell_type": "markdown",
   "id": "46dc66b4-1028-49ad-baf4-66000f50316d",
   "metadata": {},
   "source": [
    "得到的结果是一个与训练集大小相同的整数数组，元素值代表分类组号。"
   ]
  },
  {
   "cell_type": "code",
   "execution_count": 166,
   "id": "7b1817b9-12c1-4c29-a08e-fe4aa6636500",
   "metadata": {},
   "outputs": [
    {
     "data": {
      "text/plain": [
       "array([1, 1, 1, 1, 1, 1, 1, 1, 1, 1, 1, 1, 1, 2, 0, 0, 0, 0, 0, 0, 0, 0,\n",
       "       0, 0, 0, 2, 2, 2, 2, 2, 2, 2, 2, 2, 2, 2, 2, 2], dtype=int32)"
      ]
     },
     "execution_count": 166,
     "metadata": {},
     "output_type": "execute_result"
    }
   ],
   "source": [
    "y_pred[::4]"
   ]
  },
  {
   "cell_type": "markdown",
   "id": "d61ba779-e809-4940-ad5e-4cb7646a4aff",
   "metadata": {},
   "source": [
    "可以对聚类的结果与监督分类的结果进行比较："
   ]
  },
  {
   "cell_type": "code",
   "execution_count": 167,
   "id": "4891261a-0cba-451f-a29e-9a8c85cd76bb",
   "metadata": {},
   "outputs": [
    {
     "data": {
      "text/plain": [
       "array([0, 0, 0, 0, 0, 0, 0, 0, 0, 0, 0, 0, 0, 1, 1, 1, 1, 1, 1, 1, 1, 1,\n",
       "       1, 1, 1, 2, 2, 2, 2, 2, 2, 2, 2, 2, 2, 2, 2, 2])"
      ]
     },
     "execution_count": 167,
     "metadata": {},
     "output_type": "execute_result"
    }
   ],
   "source": [
    "y[::4]"
   ]
  },
  {
   "cell_type": "markdown",
   "id": "b6f0fca4-40b0-4a46-8fef-b42c297586e1",
   "metadata": {},
   "source": [
    "可以看到，二者的输出结果中类别的数字不同。为了对二者的指标进行比较，需要对数组的元素进行重命名。"
   ]
  },
  {
   "cell_type": "code",
   "execution_count": 31,
   "id": "fe9c3183-fbc0-4a89-a930-16bea26665a0",
   "metadata": {},
   "outputs": [
    {
     "data": {
      "text/plain": [
       "array([0, 0, 0, 0, 0, 0, 0, 0, 0, 0, 0, 0, 0, 0, 0, 0, 0, 0, 0, 0, 0, 0,\n",
       "       0, 0, 0, 0, 0, 0, 0, 0, 0, 0, 0, 0, 0, 0, 0, 0, 0, 0, 0, 0, 0, 0,\n",
       "       0, 0, 0, 0, 0, 0, 1, 1, 2, 1, 1, 1, 1, 1, 1, 1, 1, 1, 1, 1, 1, 1,\n",
       "       1, 1, 1, 1, 1, 1, 1, 1, 1, 1, 1, 2, 1, 1, 1, 1, 1, 1, 1, 1, 1, 1,\n",
       "       1, 1, 1, 1, 1, 1, 1, 1, 1, 1, 1, 1, 2, 1, 2, 2, 2, 2, 1, 2, 2, 2,\n",
       "       2, 2, 2, 1, 1, 2, 2, 2, 2, 1, 2, 1, 2, 1, 2, 2, 1, 1, 2, 2, 2, 2,\n",
       "       2, 1, 2, 2, 2, 2, 1, 2, 2, 2, 1, 2, 2, 2, 1, 2, 2, 1], dtype=int32)"
      ]
     },
     "execution_count": 31,
     "metadata": {},
     "output_type": "execute_result"
    }
   ],
   "source": [
    "idx_0, idx_1, idx_2 = (np.where(y_pred == n) for n in range(3))\n",
    "y_pred[idx_0], y_pred[idx_1], y_pred[idx_2] = 1, 0, 2\n",
    "y_pred"
   ]
  },
  {
   "cell_type": "code",
   "execution_count": 33,
   "id": "bf8ffe07-c87b-4966-8884-3fcb224545d5",
   "metadata": {},
   "outputs": [
    {
     "data": {
      "text/plain": [
       "134"
      ]
     },
     "execution_count": 33,
     "metadata": {},
     "output_type": "execute_result"
    }
   ],
   "source": [
    "np.sum(y_pred == y)"
   ]
  },
  {
   "cell_type": "markdown",
   "id": "af81172e-4b6d-4d12-bd49-517fc850de96",
   "metadata": {},
   "source": [
    "现在我们可以使用`confusion_matrix`方法比较监督分类和无监督分类的差别："
   ]
  },
  {
   "cell_type": "code",
   "execution_count": 169,
   "id": "3fbc02ce-34da-45bb-aa28-9f9c409b9335",
   "metadata": {},
   "outputs": [
    {
     "data": {
      "text/plain": [
       "array([[50,  0,  0],\n",
       "       [ 0, 48,  2],\n",
       "       [ 0, 14, 36]])"
      ]
     },
     "execution_count": 169,
     "metadata": {},
     "output_type": "execute_result"
    }
   ],
   "source": [
    "metrics.confusion_matrix(y, y_pred)"
   ]
  },
  {
   "cell_type": "markdown",
   "id": "8fba0673-4e96-4ecc-bbdd-b7a40cdb1b64",
   "metadata": {},
   "source": [
    "聚类算法可以正确识别第一类的样本，但是第二类有2个样本被划分到了第三类，第三类有14个样本被划分为了第二类。"
   ]
  },
  {
   "cell_type": "markdown",
   "id": "88d2bb80-147d-42f6-ac72-1a5e72df0d73",
   "metadata": {},
   "source": [
    "下面我们将对聚类的结果进行可视化。我们将遍历每个特征对以及每个聚类，并使用红色方框标记与监督分类结果不一致的样本。"
   ]
  },
  {
   "cell_type": "code",
   "execution_count": 34,
   "id": "e5750233-33a0-44e8-abbb-ec7b83aadfbe",
   "metadata": {},
   "outputs": [
    {
     "data": {
      "image/png": "[encoded data removed]",
      "text/plain": [
       "<Figure size 864x864 with 16 Axes>"
      ]
     },
     "metadata": {
      "needs_background": "light"
     },
     "output_type": "display_data"
    }
   ],
   "source": [
    "N = X.shape[1]\n",
    "\n",
    "fig, axes = plt.subplots(N, N, figsize=(12, 12), sharex=True, sharey=True)\n",
    "\n",
    "colors = [\"coral\", \"blue\", \"green\"]\n",
    "markers = [\"^\", \"v\", \"o\"]\n",
    "for m in range(N):\n",
    "    for n in range(N):\n",
    "        for p in range(n_clusters):\n",
    "            mask = y_pred == p\n",
    "            axes[m, n].scatter(X[:, m][mask], X[:, n][mask],\n",
    "                               marker=markers[p], s=30, \n",
    "                               color=colors[p], alpha=0.25)\n",
    "\n",
    "        for idx in np.where(y != y_pred):\n",
    "            axes[m, n].scatter(X[idx, m], X[idx, n],\n",
    "                               marker=\"s\", s=30, \n",
    "                               edgecolor=\"red\", \n",
    "                               facecolor=(1,1,1,0))\n",
    "\n",
    "    axes[N-1, m].set_xlabel(iris.feature_names[m], fontsize=16)\n",
    "    axes[m, 0].set_ylabel(iris.feature_names[m], fontsize=16)\n",
    "fig.tight_layout()"
   ]
  },
  {
   "cell_type": "markdown",
   "id": "914e69c3-577c-49c7-bfbc-197404cbfbc9",
   "metadata": {},
   "source": [
    "我们不能期望无监督聚类算法能够完美分类数据集。"
   ]
  },
  {
   "cell_type": "code",
   "execution_count": null,
   "id": "a6a327b4-9f0f-496b-8fb2-a28a49612e57",
   "metadata": {},
   "outputs": [],
   "source": []
  }
 ],
 "metadata": {
  "kernelspec": {
   "display_name": "Python 3 (ipykernel)",
   "language": "python",
   "name": "python3"
  },
  "language_info": {
   "codemirror_mode": {
    "name": "ipython",
    "version": 3
   },
   "file_extension": ".py",
   "mimetype": "text/x-python",
   "name": "python",
   "nbconvert_exporter": "python",
   "pygments_lexer": "ipython3",
   "version": "3.9.7"
  }
 },
 "nbformat": 4,
 "nbformat_minor": 5
}
