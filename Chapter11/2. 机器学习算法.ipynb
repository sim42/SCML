{
 "cells": [
  {
   "cell_type": "markdown",
   "id": "21901d0a-146d-4b39-b295-b49c744bf051",
   "metadata": {},
   "source": [
    "# 机器学习算法\n",
    "---"
   ]
  },
  {
   "cell_type": "markdown",
   "id": "665e5b61-0165-4f83-b556-0a458527ba61",
   "metadata": {},
   "source": [
    "## K最近邻 k-Nearest Neighbor\n",
    "---"
   ]
  },
  {
   "cell_type": "markdown",
   "id": "04c9b447-6625-4727-8fa5-cd8acc20f9ea",
   "metadata": {},
   "source": [
    "## 支持向量机 Support Vector Machine\n",
    "---"
   ]
  },
  {
   "cell_type": "markdown",
   "id": "79f4db07-44e1-4307-81ea-c774db89da2b",
   "metadata": {},
   "source": [
    "## 朴素贝叶斯 Naive Bayes\n",
    "---"
   ]
  },
  {
   "cell_type": "markdown",
   "id": "dbe3567e-f5f9-4952-bd21-034a358aa9f9",
   "metadata": {},
   "source": [
    "## 决策树 Decision Tree\n",
    "---"
   ]
  },
  {
   "cell_type": "markdown",
   "id": "9a3cc00e-5e17-4669-9aec-327cd36a568e",
   "metadata": {},
   "source": [
    "## 随机森林 Random Forest\n",
    "---"
   ]
  },
  {
   "cell_type": "code",
   "execution_count": null,
   "id": "e9cfffde-5631-417e-b85c-afeb0afcf01d",
   "metadata": {},
   "outputs": [],
   "source": []
  }
 ],
 "metadata": {
  "kernelspec": {
   "display_name": "Python 3 (ipykernel)",
   "language": "python",
   "name": "python3"
  },
  "language_info": {
   "codemirror_mode": {
    "name": "ipython",
    "version": 3
   },
   "file_extension": ".py",
   "mimetype": "text/x-python",
   "name": "python",
   "nbconvert_exporter": "python",
   "pygments_lexer": "ipython3",
   "version": "3.9.7"
  }
 },
 "nbformat": 4,
 "nbformat_minor": 5
}
