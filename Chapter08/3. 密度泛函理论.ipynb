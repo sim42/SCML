{
 "cells": [
  {
   "cell_type": "markdown",
   "id": "ac6aae93-c383-4b2b-8309-b298889c688f",
   "metadata": {},
   "source": [
    "# 密度泛函理论\n",
    "---\n",
    "\n",
    "密度泛函理论（Density Functional Theory）是一种研究多电子体系电子结构的量子力学方法。密度泛函理论在物理和化学上都有广泛的应用，特别是用来研究分子和凝聚态的性质，是凝聚态物理和计算化学领域最常用的方法之一。 \n",
    "\n",
    "电子结构理论的经典方法，特别是Hartree-Fock方法和后Hartree-Fock方法，是基于复杂的多电子波函数的。密度泛函理论的主要目标就是用电子密度取代波函数做为研究的基本量。因为多电子波函数有3N个变量（N 为电子数，每个电子包含三个空间变量），而电子密度仅是三个变量的函数，无论在概念上还是实际上都更方便处理。 \n",
    "\n",
    "Hohenberg-Kohn定理为泛函理论提供了坚实的理论基础：\n",
    "1. 第一定理指出体系的基态能量仅仅是电子密度的泛函。\n",
    "2. 第二定理证明了以基态密度为变量，将体系能量通过变分得到最小值之后就得到了基态能量。 "
   ]
  },
  {
   "cell_type": "code",
   "execution_count": null,
   "id": "ed41f626-91db-4048-aeb2-5a20f295f5da",
   "metadata": {},
   "outputs": [],
   "source": []
  }
 ],
 "metadata": {
  "kernelspec": {
   "display_name": "Python 3 (ipykernel)",
   "language": "python",
   "name": "python3"
  },
  "language_info": {
   "codemirror_mode": {
    "name": "ipython",
    "version": 3
   },
   "file_extension": ".py",
   "mimetype": "text/x-python",
   "name": "python",
   "nbconvert_exporter": "python",
   "pygments_lexer": "ipython3",
   "version": "3.9.7"
  }
 },
 "nbformat": 4,
 "nbformat_minor": 5
}
