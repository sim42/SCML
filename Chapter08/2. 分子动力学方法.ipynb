{
 "cells": [
  {
   "cell_type": "markdown",
   "id": "872a09b2-48ce-4793-ac87-a60884d915c0",
   "metadata": {},
   "source": [
    "# 分子动力学\n",
    "---\n",
    "\n",
    "分子动力学是一套分子模拟方法，该方法主要是依靠计算机来模拟分子、原子体系的运动，是一种多体模拟方法。通过对分子、原子在一定时间内运动状态的模拟，从而以动态观点考察系统随时间演化的行为。通常，分子、原子的轨迹是通过数值求解牛顿运动方程得到，势能（或其对笛卡尔坐标的一阶偏导数，即力）通常可以由分子间相互作用势能函数、分子力学力场、全始计算给出。对于考虑分子本身的量子效应的体系，往往采用波包近似处理或采用量子力学的费恩曼路径积分表述方式[1]处理。 分子动力学也常常被采用作为研究复杂体系热力学性质的采样方法。在分子体系的不同状态构成的系综中抽取样本，从而计算体系的构型积分，并以构型积分的结果为基础进一步计算体系的热力学量和其他宏观性质。 分子动力学最早在20世纪50年代由物理学家提出，如今广泛应用于物理、化学、生物体系的理论研究中。 "
   ]
  },
  {
   "cell_type": "markdown",
   "id": "6cd10c1a-d247-47c0-b53d-a8ba12bd0f90",
   "metadata": {
    "tags": []
   },
   "source": [
    "## 分子热运动\n",
    "---\n",
    "![](./Images/Translational_motion.gif)\n",
    "\n",
    "上图为一个分子系统热运动的模拟动画。其中一些小球被涂成了红色方便追踪。在这个模拟中，平均而言，两个分子碰撞前后动能保持不变。同时，我们忽视了黑体辐射，即系统的总能量保持不变。"
   ]
  },
  {
   "cell_type": "markdown",
   "id": "fb31922c-2641-4b44-a41e-9d9c82511352",
   "metadata": {
    "tags": []
   },
   "source": [
    "## 理想气体模型\n",
    "---\n",
    "\n",
    "### 弹性碰撞\n",
    "\n",
    "\n",
    "液体或者气体中分子之间发生的碰撞并不是完美的[弹性碰撞](https://en.wikipedia.org/wiki/Elastic_collision)。因为在碰撞的过程中，分子的平动会和其他运动自由度之间发生能量交换。但是平均而言，分子间的碰撞可以被简化为弹性碰撞，即分子间只发生平动动能交换。\n",
    "\n",
    "我们考虑如下一个简化系统作为分子热运动的近似。\n",
    "1. 分子抽象为一个具有质量m和直径r的圆球。\n",
    "2. 分子间的相互作用力暂时被忽略。\n",
    "3. 当两个分子接触时，发生完全弹性碰撞。"
   ]
  },
  {
   "cell_type": "markdown",
   "id": "d8708d67-ff5a-453d-a008-2831725131a9",
   "metadata": {},
   "source": [
    "### 二维分子体系的弹性碰撞\n",
    "\n",
    "![](./Images/Elastic_collision.jpg)\n",
    "\n",
    "为了方便理解和作图，我们这里对二维情况下的弹性碰撞进行计算。对于两个无旋转的刚体而言，发生弹性碰撞时遵从动量守恒，能量守恒和角动量守恒。如果二者之间没有摩擦力，则二者速度在碰撞点切线方向上保持不变，碰撞只改变速度在垂直切线上的分量。\n",
    "\n",
    "碰撞之后二者速度的表达式为：\n",
    "$$\\begin{align}\n",
    "\\mathbf{v}'_1&=\\mathbf{v}_1-\\frac{2 m_2}{m_1+m_2} \\ \\frac{\\langle \\mathbf{v}_1-\\mathbf{v}_2,\\,\\mathbf{x}_1-\\mathbf{x}_2\\rangle}{\\|\\mathbf{x}_1-\\mathbf{x}_2\\|^2} \\ (\\mathbf{x}_1-\\mathbf{x}_2),\n",
    "\\\\\n",
    "\\mathbf{v}'_2&=\\mathbf{v}_2-\\frac{2 m_1}{m_1+m_2} \\ \\frac{\\langle \\mathbf{v}_2-\\mathbf{v}_1,\\,\\mathbf{x}_2-\\mathbf{x}_1\\rangle}{\\|\\mathbf{x}_2-\\mathbf{x}_1\\|^2} \\ (\\mathbf{x}_2-\\mathbf{x}_1)\n",
    "\\end{align}$$\n",
    "上式中括号表示两个矢量的内积或者点乘。"
   ]
  },
  {
   "cell_type": "markdown",
   "id": "f8687a2e-607c-48b3-bbc0-6d1d392ff613",
   "metadata": {},
   "source": [
    "### 二维分子体系的计算模拟\n",
    "\n",
    "这里设置如下初始条件：\n",
    "1. 所有分子的初始位置为*随机值*\n",
    "2. 所有分子的初始速率相同，速度方向为*随机值*"
   ]
  },
  {
   "cell_type": "code",
   "execution_count": 1,
   "id": "aef43141-cbf9-48db-92a7-d4b544c7ba27",
   "metadata": {
    "tags": []
   },
   "outputs": [
    {
     "data": {
      "application/vnd.jupyter.widget-view+json": {
       "model_id": "d966a834ed56483aa6dcc4008c9dc4c0",
       "version_major": 2,
       "version_minor": 0
      },
      "text/html": [
       "\n",
       "            <div style=\"display: inline-block;\">\n",
       "                <div class=\"jupyter-widgets widget-label\" style=\"text-align: center;\">\n",
       "                    Figure\n",
       "                </div>\n",
       "                <img src='data:image/png;base64,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' width=1000.0/>\n",
       "            </div>\n",
       "        "
      ],
      "text/plain": [
       "Canvas(toolbar=Toolbar(toolitems=[('Home', 'Reset original view', 'home', 'home'), ('Back', 'Back to previous …"
      ]
     },
     "metadata": {},
     "output_type": "display_data"
    }
   ],
   "source": [
    "%matplotlib widget\n",
    "\n",
    "import numpy as np\n",
    "from scipy.spatial.distance import pdist, squareform\n",
    "import matplotlib.pyplot as plt\n",
    "import matplotlib.patches as patches\n",
    "import matplotlib.path as path\n",
    "from matplotlib.animation import FuncAnimation\n",
    "\n",
    "X, Y = 0, 1\n",
    "class MDSimulation:\n",
    "\n",
    "    def __init__(self, pos, vel, r, m):\n",
    "        \"\"\"\n",
    "        Initialize the simulation with identical, circular particles of radius\n",
    "        r and mass m. The n x 2 state arrays pos and vel hold the n particles'\n",
    "        positions in their rows as (x_i, y_i) and (vx_i, vy_i).\n",
    "\n",
    "        \"\"\"\n",
    "\n",
    "        self.pos = np.asarray(pos, dtype=float)\n",
    "        self.vel = np.asarray(vel, dtype=float)\n",
    "        self.n = self.pos.shape[0]\n",
    "        self.r = r\n",
    "        self.m = m\n",
    "        self.nsteps = 0\n",
    "\n",
    "    def advance(self, dt):\n",
    "        \"\"\"Advance the simulation by dt seconds.\"\"\"\n",
    "\n",
    "        self.nsteps += 1\n",
    "        # Update the particles' positions according to their velocities.\n",
    "        self.pos += self.vel * dt\n",
    "        # Find indices for all unique collisions.\n",
    "        dist = squareform(pdist(self.pos))\n",
    "        iarr, jarr = np.where(dist < 2 * self.r)\n",
    "        k = iarr < jarr\n",
    "        iarr, jarr = iarr[k], jarr[k]\n",
    "\n",
    "        # For each collision, update the velocities of the particles involved.\n",
    "        for i, j in zip(iarr, jarr):\n",
    "            pos_i, vel_i = self.pos[i], self.vel[i]\n",
    "            pos_j, vel_j =  self.pos[j], self.vel[j]\n",
    "            rel_pos, rel_vel = pos_i - pos_j, vel_i - vel_j\n",
    "            r_rel = rel_pos @ rel_pos\n",
    "            v_rel = rel_vel @ rel_pos\n",
    "            v_rel = 2 * rel_pos * v_rel / r_rel - rel_vel\n",
    "            v_cm = (vel_i + vel_j) / 2\n",
    "            self.vel[i] = v_cm - v_rel/2\n",
    "            self.vel[j] = v_cm + v_rel/2\n",
    "\n",
    "        # Bounce the particles off the walls where necessary, by reflecting\n",
    "        # their velocity vectors.\n",
    "        hit_left_wall = self.pos[:, X] < self.r\n",
    "        hit_right_wall = self.pos[:, X] > 1 - self.r\n",
    "        hit_bottom_wall = self.pos[:, Y] < self.r\n",
    "        hit_top_wall = self.pos[:, Y] > 1 - self.r\n",
    "        self.vel[hit_left_wall | hit_right_wall, X] *= -1\n",
    "        self.vel[hit_bottom_wall | hit_top_wall, Y] *= -1\n",
    "\n",
    "# Number of particles.\n",
    "n = 1000\n",
    "# Scaling factor for distance, m-1. The box dimension is therefore 1/rscale.\n",
    "rscale = 5.e6\n",
    "# Use the van der Waals radius of Ar, about 0.2 nm.\n",
    "r = 2e-10 * rscale\n",
    "# Scale time by this factor, in s-1.\n",
    "tscale = 1e9    # i.e. time will be measured in nanoseconds.\n",
    "# Take the mean speed to be the root-mean-square velocity of Ar at 300 K.\n",
    "sbar = 353 * rscale / tscale\n",
    "# Time step in scaled time units.\n",
    "FPS = 30\n",
    "dt = 1/FPS\n",
    "# Particle masses, scaled by some factor we're not using yet.\n",
    "m = 1\n",
    "\n",
    "# Initialize the particles' positions randomly.\n",
    "pos = np.random.random((n, 2))\n",
    "# Initialize the particles velocities with random orientations and random\n",
    "# magnitudes  around the mean speed, sbar.\n",
    "theta = np.random.random(n) * 2 * np.pi\n",
    "s0 = sbar * np.random.random(n)\n",
    "vel = (s0 * np.array((np.cos(theta), np.sin(theta)))).T\n",
    "\n",
    "sim = MDSimulation(pos, vel, r, m)\n",
    "\n",
    "# Set up the Figure and make some adjustments to improve its appearance.\n",
    "DPI = 100\n",
    "width, height = 1000, 500\n",
    "fig = plt.figure(figsize=(width/DPI, height/DPI), dpi=DPI)\n",
    "fig.subplots_adjust(left=0, right=0.97)\n",
    "sim_ax = fig.add_subplot(121, aspect='equal', autoscale_on=False)\n",
    "sim_ax.set_xticks([])\n",
    "sim_ax.set_yticks([])\n",
    "# Make the box walls a bit more substantial.\n",
    "for spine in sim_ax.spines.values():\n",
    "    spine.set_linewidth(2)\n",
    "\n",
    "speed_ax = fig.add_subplot(122)\n",
    "speed_ax.set_xlabel('Speed $v\\,/m\\,s^{-1}$')\n",
    "speed_ax.set_ylabel('$f(v)$')\n",
    "\n",
    "particles, = sim_ax.plot([], [], 'ko')\n",
    "\n",
    "class Histogram:\n",
    "    \"\"\"A class to draw a Matplotlib histogram as a collection of Patches.\"\"\"\n",
    "\n",
    "    def __init__(self, data, xmax, nbars, density=False):\n",
    "        \"\"\"Initialize the histogram from the data and requested bins.\"\"\"\n",
    "        self.nbars = nbars\n",
    "        self.density = density\n",
    "        self.bins = np.linspace(0, xmax, nbars)\n",
    "        self.hist, bins = np.histogram(data, self.bins, density=density)\n",
    "\n",
    "        # Drawing the histogram with Matplotlib patches owes a lot to\n",
    "        # https://matplotlib.org/3.1.1/gallery/animation/animated_histogram.html\n",
    "        # Get the corners of the rectangles for the histogram.\n",
    "        self.left = np.array(bins[:-1])\n",
    "        self.right = np.array(bins[1:])\n",
    "        self.bottom = np.zeros(len(self.left))\n",
    "        self.top = self.bottom + self.hist\n",
    "        nrects = len(self.left)\n",
    "        self.nverts = nrects * 5\n",
    "        self.verts = np.zeros((self.nverts, 2))\n",
    "        self.verts[0::5, 0] = self.left\n",
    "        self.verts[0::5, 1] = self.bottom\n",
    "        self.verts[1::5, 0] = self.left\n",
    "        self.verts[1::5, 1] = self.top\n",
    "        self.verts[2::5, 0] = self.right\n",
    "        self.verts[2::5, 1] = self.top\n",
    "        self.verts[3::5, 0] = self.right\n",
    "        self.verts[3::5, 1] = self.bottom\n",
    "\n",
    "    def draw(self, ax):\n",
    "        \"\"\"Draw the histogram by adding appropriate patches to Axes ax.\"\"\"\n",
    "        codes = np.ones(self.nverts, int) * path.Path.LINETO\n",
    "        codes[0::5] = path.Path.MOVETO\n",
    "        codes[4::5] = path.Path.CLOSEPOLY\n",
    "        barpath = path.Path(self.verts, codes)\n",
    "        self.patch = patches.PathPatch(barpath, fc='tab:green', ec='k',\n",
    "                                  lw=0.5, alpha=0.5)\n",
    "        ax.add_patch(self.patch)\n",
    "\n",
    "    def update(self, data):\n",
    "        \"\"\"Update the rectangle vertices using a new histogram from data.\"\"\"\n",
    "        self.hist, bins = np.histogram(data, self.bins, density=self.density)\n",
    "        self.top = self.bottom + self.hist\n",
    "        self.verts[1::5, 1] = self.top\n",
    "        self.verts[2::5, 1] = self.top\n",
    "\n",
    "\n",
    "def get_speeds(vel):\n",
    "    \"\"\"Return the magnitude of the (n,2) array of velocities, vel.\"\"\"\n",
    "    return np.hypot(vel[:, X], vel[:, Y])\n",
    "\n",
    "def get_KE(speeds):\n",
    "    \"\"\"Return the total kinetic energy of all particles in scaled units.\"\"\"\n",
    "    return 0.5 * sim.m * sum(speeds**2)\n",
    "\n",
    "speeds = get_speeds(sim.vel)\n",
    "speed_hist = Histogram(speeds, 2 * sbar, 50, density=True)\n",
    "speed_hist.draw(speed_ax)\n",
    "speed_ax.set_xlim(speed_hist.left[0], speed_hist.right[-1])\n",
    "# TODO don't hardcode the upper limit for the histogram speed axis.\n",
    "ticks = np.linspace(0, 600, 7, dtype=int)\n",
    "speed_ax.set_xticks(ticks * rscale/tscale)\n",
    "speed_ax.set_xticklabels([str(tick) for tick in ticks])\n",
    "speed_ax.set_yticks([])\n",
    "\n",
    "fig.tight_layout()\n",
    "\n",
    "# The 2D Maxwell-Boltzmann equilibrium distribution of speeds.\n",
    "mean_KE = get_KE(speeds) / n\n",
    "a = sim.m / 2 / mean_KE\n",
    "# Use a high-resolution grid of speed points so that the exact distribution\n",
    "# looks smooth.\n",
    "sgrid_hi = np.linspace(0, speed_hist.bins[-1], 200)\n",
    "f = 2 * a * sgrid_hi * np.exp(-a * sgrid_hi**2)\n",
    "mb_line, = speed_ax.plot(sgrid_hi, f, c='0.7')\n",
    "# Maximum value of the 2D Maxwell-Boltzmann speed distribution.\n",
    "fmax = np.sqrt(sim.m / mean_KE / np.e)\n",
    "speed_ax.set_ylim(0, fmax)\n",
    "\n",
    "# For the distribution derived by averaging, take the abcissa speed points from\n",
    "# the centre of the histogram bars.\n",
    "sgrid = (speed_hist.bins[1:] + speed_hist.bins[:-1]) / 2\n",
    "mb_est_line, = speed_ax.plot([], [], c='r')\n",
    "mb_est = np.zeros(len(sgrid))\n",
    "\n",
    "# A text label indicating the time and step number for each animation frame.\n",
    "xlabel, ylabel = sgrid[-1] / 2, 0.8 * fmax\n",
    "label = speed_ax.text(xlabel, ylabel, '$t$ = {:.1f}s, step = {:d}'.format(0, 0),\n",
    "                      backgroundcolor='w')\n",
    "\n",
    "def init_anim():\n",
    "    \"\"\"Initialize the animation\"\"\"\n",
    "    particles.set_data([], [])\n",
    "\n",
    "    return particles, speed_hist.patch, mb_est_line, label\n",
    "\n",
    "def animate(i):\n",
    "    \"\"\"Advance the animation by one step and update the frame.\"\"\"\n",
    "    global sim, verts, mb_est_line, mb_est\n",
    "    sim.advance(dt)\n",
    "\n",
    "    particles.set_data(sim.pos[:, X], sim.pos[:, Y])\n",
    "    particles.set_markersize(0.5)\n",
    "\n",
    "    speeds = get_speeds(sim.vel)\n",
    "    speed_hist.update(speeds)\n",
    "\n",
    "    # Once the simulation has approached equilibrium a bit, start averaging\n",
    "    # the speed distribution to indicate the approximation to the Maxwell-\n",
    "    # Boltzmann distribution.\n",
    "    if i >= IAV_START:\n",
    "        mb_est += (speed_hist.hist - mb_est) / (i - IAV_START + 1)\n",
    "        mb_est_line.set_data(sgrid, mb_est)\n",
    "\n",
    "    label.set_text('$t$ = {:.1f} ns, step = {:d}'.format(i*dt, i))\n",
    "\n",
    "    return particles, speed_hist.patch, mb_est_line, label\n",
    "\n",
    "# Only start averaging the speed distribution after frame number IAV_ST.\n",
    "IAV_START = 200\n",
    "# Number of frames; set to None to run until explicitly quit.\n",
    "frames = 1000\n",
    "anim = FuncAnimation(fig, animate, frames=frames, interval=10, blit=False,\n",
    "                    init_func=init_anim)\n",
    "\n",
    "plt.show()\n"
   ]
  },
  {
   "cell_type": "markdown",
   "id": "a74bfb6d-e6fc-4cc8-bb7f-2ed8bfa52e15",
   "metadata": {},
   "source": [
    "经过一定时间演化，速率分布变化逐步减小，达到平衡状态。其中灰线为二维情况下Maxwell-Boltzmann速率分布函数：\n",
    "$$f(v) = \\frac{mv}{k_\\mathrm{B}T}\\exp\\left(-\\frac{mv^2}{2k_\\mathrm{B}T}\\right)$$"
   ]
  },
  {
   "cell_type": "markdown",
   "id": "4b71a8d8-7d36-44fd-9775-2ae8e136ee79",
   "metadata": {},
   "source": [
    "## Lennard-Jones potential\n",
    "---\n",
    "The potential energy of the 12-6 Lennard-Jones potential is given as\n",
    "\n",
    "$$ V_{\\text{LJ}}(r)=4\\varepsilon \\left[\\left({\\frac {\\sigma }{r}}\\right)^{12}-\\left({\\frac {\\sigma }{r}}\\right)^{6}\\right] $$\n",
    "\n",
    "$\\sigma$ is the radius where the potential is zero and is defined as the van der waals radius. $\\varepsilon$ is the energy minimum of the interaction (see the figure below).\n",
    "\n",
    "We don't want to compute long range interactions as they will be negligible. We therefore apply a cutoff past $\\frac{r}{\\sigma}=2.5$. However, as the particles move past the cutoff distance there will be a small jump in the energy, which is not realistic, so we shift the potential so that the potential goes to zero at $\\frac{r}{\\sigma}=2.5$.\n",
    "\n",
    "Below is a plot of the Lennard-Jones potential with the shifted potential shown for comparison."
   ]
  },
  {
   "cell_type": "code",
   "execution_count": 18,
   "id": "8b99a41e-26ee-4ae1-8283-195059c780ac",
   "metadata": {},
   "outputs": [
    {
     "data": {
      "text/plain": [
       "<matplotlib.lines.Line2D at 0x7f81688ce070>"
      ]
     },
     "execution_count": 18,
     "metadata": {},
     "output_type": "execute_result"
    },
    {
     "data": {
      "image/png": "[encoded data removed]",
      "text/plain": [
       "<Figure size 432x432 with 1 Axes>"
      ]
     },
     "metadata": {
      "needs_background": "light"
     },
     "output_type": "display_data"
    }
   ],
   "source": [
    "%matplotlib inline\n",
    "import matplotlib.pyplot as plt\n",
    "import numpy as np\n",
    "\n",
    "r = np.linspace(0.01,3.0,num=500) # Make a radius vector\n",
    "epsilon = 1 # Energy minimum\n",
    "sigma = 1 # Distance to zero crossing point\n",
    "E_LJ = 4*epsilon*((sigma/r)**12-(sigma/r)**6) # Lennard-Jones potential\n",
    "\n",
    "plt.figure(figsize=[6,6])\n",
    "plt.plot(r,E_LJ,'r-',linewidth=1,label=r\" $LJ\\; pot$\") # Red line is unshifted LJ\n",
    "\n",
    "# The cutoff and shifting value\n",
    "Rcutoff = 2.5\n",
    "phicutoff = 4.0/(Rcutoff**12)-4.0/(Rcutoff**6) # Shifts the potential so at the cutoff the potential goes to zero\n",
    "\n",
    "E_LJ_shift = E_LJ - phicutoff # Subtract the value of the potential at r=2.5\n",
    "\n",
    "plt.plot(r[:415],E_LJ_shift[:415],'b-',linewidth=1,label=r\"$LJ\\; pot\\; shifted$\") # Blue line is shifted\n",
    "\n",
    "#Plot formatting\n",
    "plt.rc('text', usetex=True)\n",
    "plt.rc('xtick', labelsize=20) \n",
    "plt.rc('ytick', labelsize=20) \n",
    "plt.title(r\"$Lennard-Jones\\; potential$\",fontsize=20)\n",
    "plt.xlim([0.0,3.0])\n",
    "plt.ylim([-1.5,1.5])\n",
    "plt.ylabel(r\"$E_{LJ}/\\epsilon$\",fontsize=20)\n",
    "plt.xlabel(r\"$r/\\sigma$\",fontsize=20)\n",
    "plt.legend(frameon=False,fontsize=20)\n",
    "plt.axhline(0, color='grey',linestyle='--',linewidth=2)\n",
    "plt.axvline(1, color='grey',linestyle='--',linewidth=2)"
   ]
  },
  {
   "cell_type": "markdown",
   "id": "6d6b9979-036f-4ac5-8e6b-59f6def90e67",
   "metadata": {
    "tags": []
   },
   "source": [
    "## Periodic boundary conditions\n",
    "---\n",
    "\n",
    "Periodic boundary conditions allow for an approximation of an infinitely sized system by simulating a simple unit cell. This is illustrated below. The black box is the only cell we simulate; the tiled images around it are there for illustration. The green particle moves past the top boundary of the unit cell and are moved to the bottom of the box with the same velocity (illustrated by the red dashed line). This boundary condition keeps the volume and number of particles constant in the simulation.\n",
    "\n",
    "<img src=\"https://upload.wikimedia.org/wikipedia/commons/2/2e/Limiteperiodicite.svg\" style=\"width: 60%;\"/>\n"
   ]
  },
  {
   "cell_type": "markdown",
   "id": "421364d9-5e9d-4629-8201-18044d3cb490",
   "metadata": {},
   "source": [
    "## Reduced units\n",
    "---\n",
    "\n",
    "By choosing our units we can remove any constants and get a general behaviour for all gases. Mass, sigma, epsilon and the Boltzmann constant are set to equal one. Reduced coordinates are used for the other variables which are derived from the parameters set to one.\n",
    "$$ x^{*} = \\frac{x}{\\sigma} $$\n",
    "$$ v^{*} = v\\frac{t^{*}}{\\sigma} $$\n",
    "$$ t^{*} = t\\left(\\frac{\\epsilon}{m \\sigma^{2}} \\right)^{1/2} $$\n",
    "$$ E^{*} = \\frac{E}{\\epsilon} $$\n",
    "$$ F^{*} = f\\frac{\\sigma}{\\epsilon} $$\n",
    "$$ P^{*} = P \\frac{\\sigma^{3}}{\\epsilon}$$\n",
    "$$ \\rho^{*} = \\rho \\sigma^{dimensions} $$\n",
    "$$ T^{*} = T \\frac{k_{b}}{\\epsilon} $$\n",
    "\n",
    "Where $k_{b}$ is Boltzmann's constant.\n",
    "\n",
    "This may seem complicated but it allows all of the equations to be written very simply in the program. This also gives us physical insight - for example, the reduced temperature is the ratio of the thermal energy $k_{B} T$ to the energy of the intermolecular interactions $\\epsilon$.\n",
    "Periodic boundary conditions"
   ]
  },
  {
   "cell_type": "markdown",
   "id": "ebc07e16-5718-4214-86b7-5d4f852edba7",
   "metadata": {},
   "source": [
    "## Calculating the forces\n",
    "---\n",
    "\n",
    "As mentioned above, the forces between particles can be calculated from the derivative/gradient of their potential energy. $\\textbf{F}=-\\frac{1}{r}\\nabla E(\\textbf{r})$ (in spherical coordinates)\n",
    "\n",
    "$$ \\textbf{F} = -\\frac{1}{r}\\nabla E_{LJ}(\\textbf{r}) = -\\frac{1}{r}\\frac{d E_{LJ}}{d \\textbf{r}} = -24\\left[2\\left(\\frac{\\sigma}{\\textbf{r}}\\right)^{14} - \\left(\\frac{\\sigma}{\\textbf{r}}\\right)^{8}\\right] $$\n",
    "\n",
    "Periodic boundary conditions have to be considered when we compute the forces between particles because a particle near the boundary of the unit cell has to be able to feel the force from a particle on the other side of the unit cell. For example, the pink particle above will feel the force from the green particle, even though they are far from each other because they are near opposite boundaries.\n",
    "\n",
    "In order to easily implement periodic boundary conditions, scaled box units are used so that the particle positions are always between -0.5 and 0.5. If the distance between the particles is greater than half the scaled box units, the interaction with the particle in the next box are consider"
   ]
  },
  {
   "cell_type": "code",
   "execution_count": 24,
   "id": "12476bd6-886d-4554-a8e9-154986e1c3a9",
   "metadata": {},
   "outputs": [],
   "source": [
    "def Compute_Forces(pos,acc,ene_pot,epsilon,BoxSize,DIM,N):\n",
    "    # Compute forces on positions using the Lennard-Jones potential\n",
    "    # Uses double nested loop which is slow O(N^2) time unsuitable for large systems\n",
    "    Sij = np.zeros(DIM) # Box scaled units\n",
    "    Rij = np.zeros(DIM) # Real space units\n",
    "    \n",
    "    #Set all variables to zero\n",
    "    ene_pot = ene_pot*0.0\n",
    "    acc = acc*0.0\n",
    "    virial=0.0\n",
    "    \n",
    "    # Loop over all pairs of particles\n",
    "    for i in range(N-1):\n",
    "        for j in range(i+1,N): #i+1 to N ensures we do not double count\n",
    "            Sij = pos[i,:]-pos[j,:] # Distance in box scaled units\n",
    "            for l in range(DIM): # Periodic interactions\n",
    "                if (np.abs(Sij[l])>0.5):\n",
    "                    Sij[l] = Sij[l] - np.copysign(1.0,Sij[l]) # If distance is greater than 0.5  (scaled units) then subtract 0.5 to find periodic interaction distance.\n",
    "            \n",
    "            Rij = BoxSize*Sij # Scale the box to the real units in this case reduced LJ units\n",
    "            Rsqij = np.dot(Rij,Rij) # Calculate the square of the distance\n",
    "            \n",
    "            if(Rsqij < Rcutoff**2):\n",
    "                # Calculate LJ potential inside cutoff\n",
    "                # We calculate parts of the LJ potential at a time to improve the efficieny of the computation (most important for compiled code)\n",
    "                rm2 = 1.0/Rsqij # 1/r^2\n",
    "                rm6 = rm2**3.0 # 1/r^6\n",
    "                rm12 = rm6**2.0 # 1/r^12\n",
    "                phi = epsilon*(4.0*(rm12-rm6)-phicutoff) # 4[1/r^12 - 1/r^6] - phi(Rc) - we are using the shifted LJ potential\n",
    "                # The following is dphi = -(1/r)(dV/dr)\n",
    "                dphi = epsilon*24.0*rm2*(2.0*rm12-rm6) # 24[2/r^14 - 1/r^8]\n",
    "                ene_pot[i] = ene_pot[i]+0.5*phi # Accumulate energy\n",
    "                ene_pot[j] = ene_pot[j]+0.5*phi # Accumulate energy\n",
    "                virial = virial + dphi*np.sqrt(Rsqij) # Virial is needed to calculate the pressure\n",
    "                acc[i,:] = acc[i,:]+dphi*Sij # Accumulate forces\n",
    "                acc[j,:] = acc[j,:]-dphi*Sij # (Fji=-Fij)\n",
    "    return acc, np.sum(ene_pot)/N, -virial/DIM # return the acceleration vector, potential energy and virial coefficient"
   ]
  },
  {
   "cell_type": "markdown",
   "id": "a06c3d42-4c2c-400f-b707-68222e0645b4",
   "metadata": {},
   "source": [
    "## Temperature\n",
    "---\n",
    "\n",
    "Temperature is a macroscopic quantity. Microscopically it is less well defineddue to the low number of particles. However, if we use the kinetic energy of the parameters we can calculate the temperature.\n",
    "$$ E_{K}=\\frac{1}{2} mv^{2} $$$$ k_{B} T = \\frac{2}{3}\\sum_{N}E_{K} $$\n",
    "\n",
    "Where we sum over all $N $ atoms. We will use this in order to scale the velocities to maintain a constant temperature (remember we are using reduced units so $k_{B}=1$ and $m=1$).\n",
    "\n",
    "The function below calculates the temperature given the velocity of the atoms/particles."
   ]
  },
  {
   "cell_type": "code",
   "execution_count": 25,
   "id": "9dbcde18-587f-45d3-b5ec-185c5df60d4f",
   "metadata": {},
   "outputs": [],
   "source": [
    "def Calculate_Temperature(vel,BoxSize,DIM,N):\n",
    "    \n",
    "    ene_kin = 0.0\n",
    "    \n",
    "    for i in range(N):\n",
    "        real_vel = BoxSize*vel[i,:]\n",
    "        ene_kin = ene_kin + 0.5*np.dot(real_vel,real_vel)\n",
    "    \n",
    "    ene_kin_aver = 1.0*ene_kin/N\n",
    "    temperature = 2.0*ene_kin_aver/DIM\n",
    "    \n",
    "    return ene_kin_aver,temperature"
   ]
  },
  {
   "cell_type": "markdown",
   "id": "f91ea319-d9cb-42ac-9980-deeee65a822d",
   "metadata": {},
   "source": [
    "## Molecular dynamics program\n",
    "---\n",
    "\n",
    "The molecular dynamics program contains the instructions for the computer to use to move the particles/atoms through time. Most often this is written in Fortran and C; these compiled languages are orders of magnitude faster than Python, however a scripting language like Python is helpful to provide understanding about how molecular dynamics is implemented.\n",
    "\n",
    "The main steps in a molecular dynamics simulation are:\n",
    "\n",
    "1. Initialise the position of particles\n",
    "2. Calculate the pairwise forces on the particles by calculating the gradient of the potential energy $ F = \\nabla E(\\textbf{r})=1/r\\partial E(\\textbf{r})/\\partial r$\n",
    "3. Compute the new positions by integrating the equation of motion (we will use the velocity Verlet algorithm)\n",
    "4. Apply a thermostat to maintain the temperature at the set value (we will use the velocity scaling for temperature control)\n",
    "5. Go back to step 2, recompute the forces and continue until the maximum number of steps\n"
   ]
  },
  {
   "cell_type": "markdown",
   "id": "d9d59633-6cc4-4ee5-afd6-72821c7f7949",
   "metadata": {},
   "source": [
    "### Initialising the particles"
   ]
  },
  {
   "cell_type": "code",
   "execution_count": 30,
   "id": "5ef5c73f-266f-4f1d-8bd1-17f5c35c863d",
   "metadata": {},
   "outputs": [
    {
     "name": "stdout",
     "output_type": "stream",
     "text": [
      "volume =  100.0  density =  0.32\n"
     ]
    }
   ],
   "source": [
    "DIM = 2 # Dimensions\n",
    "N = 32\n",
    "\n",
    "BoxSize = 10.0#6.35 \n",
    "\n",
    "volume  = BoxSize**DIM\n",
    "density = N / volume\n",
    "print(\"volume = \", volume, \" density = \", density)\n",
    "\n",
    "pos = np.random.rand(N,DIM)\n",
    "\n",
    "pos = pos[:,:DIM]/BoxSize\n",
    "\n",
    "MassCentre = np.sum(pos,axis=0)/N\n",
    "\n",
    "for i in range(DIM):\n",
    "    pos[:,i] = pos[:,i]-MassCentre[i]"
   ]
  },
  {
   "cell_type": "markdown",
   "id": "75fe9379-7be0-4f43-80c4-bea152bb559d",
   "metadata": {},
   "source": [
    "### Integrating the equations of motion\n",
    "\n",
    "We will make use of the velocity Verlet integrator which integrates Newton's equations of motion in 1D:\n",
    "$$ \\frac{dx}{dt}=v\\; and \\; \\frac{dv}{dt}=\\frac{dF(x)}{m} $$\n",
    "\n",
    "The velocity Verlet algorithm spilts the velocity update into two steps intially doing a half step then modifing the acceleration and then doing the second velocity update. Written in full, this gives:\n",
    "\n",
    "1. Calculate $x(t+\\Delta t) = x(t)+v\\left(t+\\frac{1}{2}\\right)\\Delta t$\n",
    "2. Calculate $v\\left(t+\\frac{1}{2}\\Delta t\\right)= v(t)+\\frac{1}{2}a(t)\\Delta t $\n",
    "3. Derive $a(t+\\Delta t)$ from the interaction potential using $x(t+\\Delta t)$\n",
    "4. Calculate $v(t+\\Delta t)=v\\left(t+\\frac{1}{2}\\right)+\\frac{1}{2}a(t+\\Delta t) \\Delta t$\n",
    "\n",
    "Between step 1 and 2 we rescale the velocities to maintain the temperature at the requested value.\n",
    "\n",
    "The output is saved in the same folder as the ipython notebook as traj.xyz and can be opened by Avogadro or VMD."
   ]
  },
  {
   "cell_type": "code",
   "execution_count": 33,
   "id": "cd15c207-a997-4a03-8ff4-a4633198307d",
   "metadata": {},
   "outputs": [],
   "source": [
    "# Setting up the simulation\n",
    "NSteps=1000 # Number of steps\n",
    "deltat = 0.0032 # Time step in reduced time units\n",
    "TRequested = 0.5# #Reduced temperature\n",
    "DumpFreq = 100 # Save the position to file every DumpFreq steps\n",
    "epsilon = 1.0 # LJ parameter for the energy between particles\n",
    "\n",
    "# Main MD loop\n",
    "def main(pos,NSteps,deltat,TRequested,DumpFreq,epsilon,BoxSize,DIM):\n",
    "    \n",
    "    # Vectors to store parameter values at each step\n",
    "    N = np.size(pos[:,1])\n",
    "    ene_kin_aver = np.ones(NSteps)\n",
    "    ene_pot_aver = np.ones(NSteps)\n",
    "    temperature = np.ones(NSteps)\n",
    "    virial = np.ones(NSteps)\n",
    "    pressure = np.ones(NSteps)\n",
    "    ene_pot = np.ones(N)\n",
    "\n",
    "    vel = (np.random.randn(N,DIM)-0.5)\n",
    "    acc = (np.random.randn(N,DIM)-0.5)\n",
    "\n",
    "    # Open file which we will save the outputs to\n",
    "    f = open('traj.xyz', 'w')\n",
    "    \n",
    "    for k in range(NSteps):\n",
    "        \n",
    "        # Refold positions according to periodic boundary conditions\n",
    "        for i in range(DIM):\n",
    "            period = np.where(pos[:,i] > 0.5)\n",
    "            pos[period,i]=pos[period,i]-1.0\n",
    "            period = np.where(pos[:,i] < -0.5)\n",
    "            pos[period,i]=pos[period,i]+1.0\n",
    "\n",
    "        # r(t+dt) modify positions according to velocity and acceleration\n",
    "        pos = pos + deltat*vel + 0.5*(deltat**2.0)*acc # Step 1\n",
    "\n",
    "        # Calculate temperature\n",
    "        ene_kin_aver[k],temperature[k] = Calculate_Temperature(vel,BoxSize,DIM,N)\n",
    "\n",
    "        # Rescale velocities and take half step\n",
    "        chi = np.sqrt(TRequested/temperature[k])\n",
    "        vel = chi*vel + 0.5*deltat*acc # v(t+dt/2) Step 2\n",
    "\n",
    "        # Compute forces a(t+dt),ene_pot,virial\n",
    "        acc, ene_pot_aver[k], virial[k] = Compute_Forces(pos,acc,ene_pot,epsilon,BoxSize,DIM,N) # Step 3\n",
    "\n",
    "        # Complete the velocity step \n",
    "        vel = vel + 0.5*deltat*acc # v(t+dt/2) Step 4\n",
    "\n",
    "        # Calculate temperature\n",
    "        ene_kin_aver[k],temperature[k] = Calculate_Temperature(vel,BoxSize,DIM,N)\n",
    "\n",
    "        # Calculate pressure\n",
    "        pressure[k]= density*temperature[k] + virial[k]/volume\n",
    "        \n",
    "        \n",
    "        # Print output to file every DumpFreq number of steps\n",
    "        if(k%DumpFreq==0): # The % symbol is the modulus so if the Step is a whole multiple of DumpFreq then print the values\n",
    "\n",
    "            f.write(\"%s\\n\" %(N)) # Write the number of particles to file\n",
    "            # Write all of the quantities at this step to the file\n",
    "            f.write(\"Energy %s, Temperature %.5f\\n\" %(ene_kin_aver[k]+ene_pot_aver[k],temperature[k]))\n",
    "            for n in range(N): # Write the positions to file\n",
    "                f.write(\"X\"+\" \")\n",
    "                for l in range(DIM):\n",
    "                    f.write(str(pos[n][l]*BoxSize)+\" \")\n",
    "                f.write(\"\\n\")\n",
    "            \n",
    "            if(DIM==2):\n",
    "                import matplotlib.pyplot as plt\n",
    "                from IPython import display\n",
    "                plt.cla()\n",
    "                plt.xlim(-0.5*BoxSize,0.5*BoxSize)\n",
    "                plt.ylim(-0.5*BoxSize,0.5*BoxSize)\n",
    "                for i in range(N):\n",
    "                    plt.plot(pos[i,0]*BoxSize,pos[i,1]*BoxSize,'o',markersize=20,)\n",
    "                display.clear_output(wait=True)\n",
    "                display.display(plt.gcf())\n",
    "        #print(ene_kin_aver[k], ene_pot_aver[k], temperature[k], pressure[k]) \n",
    "\n",
    "    f.close() # Close the file\n",
    "    \n",
    "    return ene_kin_aver, ene_pot_aver, temperature, pressure, pos"
   ]
  },
  {
   "cell_type": "code",
   "execution_count": 34,
   "id": "8fdf518c-82e2-44a5-be95-0502b19ddfee",
   "metadata": {},
   "outputs": [
    {
     "data": {
      "image/png": "[encoded data removed]",
      "text/plain": [
       "<Figure size 432x288 with 1 Axes>"
      ]
     },
     "metadata": {},
     "output_type": "display_data"
    },
    {
     "data": {
      "image/png": "[encoded data removed]",
      "text/plain": [
       "<Figure size 432x288 with 1 Axes>"
      ]
     },
     "metadata": {
      "needs_background": "light"
     },
     "output_type": "display_data"
    }
   ],
   "source": [
    "ene_kin_aver, ene_pot_aver, temperature, pressure, pos = main(pos,NSteps,deltat,TRequested,DumpFreq,epsilon,BoxSize,DIM)"
   ]
  },
  {
   "cell_type": "code",
   "execution_count": 35,
   "id": "99a0d1e4-6ab0-4ca8-92e6-e0aae1674115",
   "metadata": {},
   "outputs": [
    {
     "data": {
      "image/png": "[encoded data removed]",
      "text/plain": [
       "<Figure size 504x864 with 4 Axes>"
      ]
     },
     "metadata": {
      "needs_background": "light"
     },
     "output_type": "display_data"
    }
   ],
   "source": [
    "# Plot all of the quantities\n",
    "def plot():\n",
    "    plt.figure(figsize=[7,12])\n",
    "    plt.rc('xtick', labelsize=15) \n",
    "    plt.rc('ytick', labelsize=15)\n",
    "    plt.subplot(4, 1, 1)\n",
    "    plt.plot(ene_kin_aver,'k-')\n",
    "    plt.ylabel(r\"$E_{K}$\", fontsize=20)\n",
    "    plt.subplot(4, 1, 2)\n",
    "    plt.plot(ene_pot_aver,'k-')\n",
    "    plt.ylabel(r\"$E_{P}$\", fontsize=20)\n",
    "    plt.subplot(4, 1, 3)\n",
    "    plt.plot(temperature,'k-')\n",
    "    plt.ylabel(r\"$T$\", fontsize=20)\n",
    "    plt.subplot(4, 1, 4)\n",
    "    plt.plot(pressure,'k-')\n",
    "    plt.ylabel(r\"$P$\", fontsize=20)\n",
    "    plt.show()\n",
    "\n",
    "plot()"
   ]
  },
  {
   "cell_type": "code",
   "execution_count": null,
   "id": "66ab0e67-f152-458a-901e-490d6e26ed78",
   "metadata": {},
   "outputs": [],
   "source": []
  }
 ],
 "metadata": {
  "kernelspec": {
   "display_name": "Python 3 (ipykernel)",
   "language": "python",
   "name": "python3"
  },
  "language_info": {
   "codemirror_mode": {
    "name": "ipython",
    "version": 3
   },
   "file_extension": ".py",
   "mimetype": "text/x-python",
   "name": "python",
   "nbconvert_exporter": "python",
   "pygments_lexer": "ipython3",
   "version": "3.9.7"
  }
 },
 "nbformat": 4,
 "nbformat_minor": 5
}
