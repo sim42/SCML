{
 "cells": [
  {
   "cell_type": "markdown",
   "id": "51ac4847-aa62-46be-a2d0-c4621295dcd5",
   "metadata": {},
   "source": [
    "# 随机过程和等概率原理\n",
    "---\n",
    "\n",
    "## 游戏1\n",
    "\n",
    "一个城镇1000个人共同玩一个游戏。市民初始资金为20元。每轮游戏中，随机抽取一个市民A，则让其把自己的1元交给同样随机抽取的B。市民的资金量可以为负数。\n",
    "\n",
    "在这样的规则下，每个市民有相同的概率失去1元，也有相同的概率得到1元。\n",
    "\n",
    "当重复多论以后，我们再来查看每个人持有资金的分布。"
   ]
  },
  {
   "cell_type": "code",
   "execution_count": null,
   "id": "99df2217-3cf6-4ece-a5ad-557bca763a94",
   "metadata": {
    "tags": []
   },
   "outputs": [],
   "source": [
    "%matplotlib inline\n",
    "\n",
    "import numpy as np\n",
    "import matplotlib.pyplot as plt\n",
    "\n",
    "num_of_people = 1000\n",
    "money_list = np.zeros(num_of_people)+10\n",
    "for i in range(int(2e6)):\n",
    "    n = int(np.random.rand()*num_of_people)\n",
    "    m = int(np.random.rand()*num_of_people)\n",
    "    money_list[n] -= 1\n",
    "    money_list[m] += 1\n",
    "\n",
    "plt.subplot(1,2,1)\n",
    "plt.xlabel('Sorted List')\n",
    "plt.ylabel('Money')\n",
    "plt.plot(np.sort(money_list)) # 依照资金量从低到高排序\n",
    "plt.subplot(1,2,2)\n",
    "plt.xlabel('Money')\n",
    "plt.ylabel('Number of People')\n",
    "plt.hist(money_list, rwidth=5) # 持有特定资金量的人数统计\n",
    "plt.tight_layout()"
   ]
  },
  {
   "cell_type": "markdown",
   "id": "a2c45242-a0d9-4458-8a02-5b55930e161f",
   "metadata": {},
   "source": [
    "上图为随机过程中常见的**正态分布**。"
   ]
  },
  {
   "cell_type": "markdown",
   "id": "2dfb5792-3672-442b-80ce-1c7f30e6ea8f",
   "metadata": {},
   "source": [
    "## 游戏2\n",
    "\n",
    "重复上述的游戏，并增加一个规则。如果市民持有的资金等于0元，即使被抽中不会输掉赌注。\n",
    "\n",
    "当重复多论以后，我们再来查看每个人持有资金的分布。"
   ]
  },
  {
   "cell_type": "code",
   "execution_count": null,
   "id": "d84143c4-5c22-4fcc-9635-e73e423bd876",
   "metadata": {},
   "outputs": [],
   "source": [
    "%matplotlib inline\n",
    "\n",
    "import numpy as np\n",
    "import matplotlib.pyplot as plt\n",
    "\n",
    "num_of_people = 1000\n",
    "money_list = np.ones(num_of_people)*10\n",
    "for i in range(int(2e6)):\n",
    "    n = int(np.random.rand()*num_of_people)\n",
    "    if money_list[n] > 0:\n",
    "        m = int(np.random.rand()*num_of_people)\n",
    "        money_list[n] -= 1\n",
    "        money_list[m] += 1\n",
    "\n",
    "plt.subplot(1,2,1)\n",
    "plt.xlabel('Sorted List')\n",
    "plt.ylabel('Money')\n",
    "plt.plot(np.sort(money_list)) # 依照资金量从低到高排序\n",
    "plt.subplot(1,2,2)\n",
    "plt.xlabel('Money')\n",
    "plt.ylabel('Number of People')\n",
    "plt.hist(money_list, rwidth=5) # 持有特定资金量的人数统计\n",
    "plt.tight_layout()"
   ]
  },
  {
   "cell_type": "markdown",
   "id": "ab3444fd-5aaa-4a51-9f18-85898596f925",
   "metadata": {},
   "source": [
    "按照资金量划分阶层，得到的人数统计为玻尔兹曼分布。\n",
    "$$F({\\rm class}) \\propto e^{-\\frac{Money}{\\alpha}}$$\n",
    "其中系数$\\alpha$等于平均资金量。"
   ]
  },
  {
   "cell_type": "markdown",
   "id": "7550460f-6c58-4ae7-8023-3e5a8f3dcec5",
   "metadata": {},
   "source": [
    "## 物理系统中的等概率原理\n",
    "---\n",
    "\n",
    "将市民类比为一个物理系统的微观状态，资金类比为这个微观状态具有的能量，我们可以得到统计物理学的重要的基本假定，等概率原理。等概率原理指当系统处于平衡时，如果除能量一定、体积一定和粒子数一定外，没有任何其他的限制，则发现系统处在各微观状态的概率都是相同的。\n",
    "\n",
    "等概率原理本质上等价于这样的论断：孤立系在平衡态下具有最大熵值，即熵极大原理。因此，我们可以认为等概率原理与热力学第二定律具有等价性。\n",
    "\n",
    "### 麦克斯韦分布\n",
    "\n",
    "数学上推导麦克斯韦分布律需要使用玻尔兹曼分布。在统计力学中，玻尔兹曼分布是系统中的粒子在平衡态时关于能量的统计分布：\n",
    "$$F({\\rm state}) \\propto e^{-\\frac{E}{kT}}$$\n",
    "\n",
    "其中$E$为能量。在不引入其它假设（*最大熵假说/等概率假说/各态历经假说*）的前提下，玻尔兹曼分布*无法*从经典力学导出。"
   ]
  },
  {
   "cell_type": "code",
   "execution_count": null,
   "id": "c7ee3857-06f7-42c1-a695-b37dc709a8a4",
   "metadata": {},
   "outputs": [],
   "source": []
  }
 ],
 "metadata": {
  "kernelspec": {
   "display_name": "Python 3 (ipykernel)",
   "language": "python",
   "name": "python3"
  },
  "language_info": {
   "codemirror_mode": {
    "name": "ipython",
    "version": 3
   },
   "file_extension": ".py",
   "mimetype": "text/x-python",
   "name": "python",
   "nbconvert_exporter": "python",
   "pygments_lexer": "ipython3",
   "version": "3.9.7"
  }
 },
 "nbformat": 4,
 "nbformat_minor": 5
}
