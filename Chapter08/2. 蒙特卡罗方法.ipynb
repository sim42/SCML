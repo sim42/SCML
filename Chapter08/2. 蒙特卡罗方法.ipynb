{
 "cells": [
  {
   "cell_type": "markdown",
   "id": "9fcd1508-6d24-4e35-b0b4-11114ee5d5a5",
   "metadata": {},
   "source": [
    "# 蒙特卡罗算法\n",
    "---\n",
    "\n",
    "[蒙特卡罗方法](https://zh.wikipedia.org/wiki/蒙地卡羅方法)（Monte Carlo method），也称统计模拟方法，是一种以概率统计理论为指导的数值计算方法。它使用随机数（或更常见的伪随机数）来解决科学和工程中的很多计算问题。 \n",
    "\n",
    "通常蒙特卡罗方法可以粗略地分成两类：\n",
    "\n",
    "1. 一类是所求解的问题本身具有内在的随机性，借助计算机的运算能力可以直接模拟这种随机的过程。例如模拟核裂变过程。\n",
    "2. 另一种类型是所求解问题可以转化为某种随机分布的特征数，比如随机事件出现的概率，或者随机变量的期望值。通过随机抽样的方法，以随机事件出现的频率估计其概率，或者以抽样的数字特征估算随机变量的数字特征，并将其作为问题的解。例如求解复杂的多维积分问题。"
   ]
  },
  {
   "cell_type": "markdown",
   "id": "4aacae6e-fca9-4eb7-8c6e-07a8674beba7",
   "metadata": {},
   "source": [
    "**示例** 使用蒙特卡罗方法估算$\\pi$值"
   ]
  },
  {
   "cell_type": "code",
   "execution_count": 1,
   "id": "1d6ac14c-520b-4867-875d-b088a47d7e11",
   "metadata": {},
   "outputs": [
    {
     "data": {
      "text/plain": [
       "<matplotlib.collections.PolyCollection at 0x7f14fdaac6a0>"
      ]
     },
     "execution_count": 1,
     "metadata": {},
     "output_type": "execute_result"
    },
    {
     "data": {
      "image/png": "[encoded data removed]",
      "text/plain": [
       "<Figure size 288x288 with 1 Axes>"
      ]
     },
     "metadata": {
      "needs_background": "light"
     },
     "output_type": "display_data"
    }
   ],
   "source": [
    "import numpy as np\n",
    "import matplotlib.pyplot as plt\n",
    "\n",
    "fig, ax = plt.subplots(figsize=(4, 4))\n",
    "x = np.linspace(0,1,100)\n",
    "y = np.sqrt(1 - x**2)\n",
    "ax.plot(x, y, c='b')\n",
    "ax.fill_between(x, 0, y, alpha=0.5)\n",
    "ax.fill_between(x, y, 1, alpha=0.5)"
   ]
  },
  {
   "cell_type": "code",
   "execution_count": 2,
   "id": "8dc86765-f621-420a-b42f-8d04c87e6af7",
   "metadata": {},
   "outputs": [
    {
     "data": {
      "application/vnd.jupyter.widget-view+json": {
       "model_id": "cfbb6703704349a2bba7c47b12277a95",
       "version_major": 2,
       "version_minor": 0
      },
      "text/plain": [
       "interactive(children=(IntSlider(value=4, description='n', max=7, min=1), Output()), _dom_classes=('widget-inte…"
      ]
     },
     "metadata": {},
     "output_type": "display_data"
    }
   ],
   "source": [
    "from ipywidgets import interactive\n",
    "\n",
    "np.random.seed(0)\n",
    "\n",
    "def pi(n):\n",
    "    N = 10**n\n",
    "    x = np.random.random(N)\n",
    "    y = np.random.random(N)\n",
    "    dist = x**2 + y**2\n",
    "    pi = np.sum(dist < 1) / N * 4\n",
    "    X = np.linspace(0,1,100)\n",
    "    Y = np.sqrt(1 - X**2)\n",
    "    fig, ax = plt.subplots(figsize=(4, 4))\n",
    "    ax.plot(X, Y, c='b')\n",
    "    ax.scatter(x, y, s=1, alpha=0.5)\n",
    "    plt.show()\n",
    "    print('Number of Data Point  %d' %(N))\n",
    "    print('Estimate Value of Pi  %f' %(pi))\n",
    "\n",
    "interact_plot = interactive(pi, n=(1, 7))\n",
    "interact_plot"
   ]
  },
  {
   "cell_type": "markdown",
   "id": "433a852c-7089-438c-ba4b-7956d5b573e6",
   "metadata": {},
   "source": [
    "## 伪随机数生成器（PRNG）\n",
    "---\n",
    "\n",
    "经典计算机的数据都是由确定性算法生成的，因此随机数生成算法只能得到伪随机数序列。虽然伪随机数并不真正的随机，但具有类似于随机数的统计特征，如均匀性、独立性等。真正的随机数必须使用专门的设备，比如热噪信号、用户按键盘的位置与速度、移动设备加速度传感器等，或者使用量子计算机。\n",
    "\n",
    "密码学中使用伪随机数要小心，其可计算性是一个可以攻击的地方。统计学、蒙特卡罗方法上使用的伪随机数也必须挑选周期极长、随机性够高的随机函数，以确保计算结果有足够的随机性。 "
   ]
  },
  {
   "cell_type": "markdown",
   "id": "1c8cab1e-cae6-427e-ae84-1a745479db2b",
   "metadata": {},
   "source": [
    "### 线性同余发生器（LCG）\n",
    "\n",
    "[线性同余发生器](https://zh.wikipedia.org/wiki/線性同餘方法)是一种能产生具有不连续计算的**均匀分布**伪随机序列的分段线性方程的算法。它的递推公式是：\n",
    "$$N_{{j+1}}\\equiv (A\\times N_{j}+B){\\pmod  {M}}$$\n",
    "其中参数为乘数$A$、增量$B$和模数$M$。\n",
    "\n",
    "Hull-Dobell定理：当且仅当满足以下条件时，LCG序列的周期最大（最大周期为M）：\n",
    "\n",
    "1. $B$和$M$互质\n",
    "2. $A-1$可以被$M$的所有质因数整除\n",
    "3. 如果$M$是4的倍数，则$A-1$也需要是4的倍数\n",
    "\n",
    "序列的初始值$N_0$被称为*种子*。LCG算法通常被设计为返回$z/m$，即[0, 1]区间的浮点数。"
   ]
  },
  {
   "cell_type": "code",
   "execution_count": 3,
   "id": "612f9094-5200-4f96-99c0-e5915869be4b",
   "metadata": {},
   "outputs": [
    {
     "data": {
      "text/plain": [
       "[0.25693503906950355,\n",
       " 0.5878706516232342,\n",
       " 0.15432575810700655,\n",
       " 0.767266943352297,\n",
       " 0.9738139626570046,\n",
       " 0.5858681506942958,\n",
       " 0.8511155843734741,\n",
       " 0.6132153405342251,\n",
       " 0.7473867232911289,\n",
       " 0.06236015981994569]"
      ]
     },
     "execution_count": 3,
     "metadata": {},
     "output_type": "execute_result"
    }
   ],
   "source": [
    "def lcg(m=2**32, a=1103515245, b=12345):\n",
    "    lcg.current = (a*lcg.current + b) % m\n",
    "    return lcg.current/m\n",
    "\n",
    "# setting the seed\n",
    "lcg.current = 1\n",
    "\n",
    "[lcg() for i in range(10)]"
   ]
  },
  {
   "cell_type": "markdown",
   "id": "e8241974-61ef-400e-af32-d31cc8492862",
   "metadata": {},
   "source": [
    "### 逆变换采样\n",
    "\n",
    "[逆变换采样](https://zh.m.wikipedia.org/zh-hans/逆变换采样)是伪随机数采样的一种基本方法。在已知**任意概率分布**的累积分布函数时，可用于从该分布中生成随机样本。 "
   ]
  },
  {
   "cell_type": "code",
   "execution_count": 4,
   "id": "64693885-ba38-4a14-9edb-bdc7e911d881",
   "metadata": {},
   "outputs": [],
   "source": [
    "def expon_pdf(x, lmabd=1):\n",
    "    \"\"\"指数分布的概率密度函数\"\"\"\n",
    "    return lmabd*np.exp(-lmabd*x)"
   ]
  },
  {
   "cell_type": "code",
   "execution_count": 5,
   "id": "60aa1c4a-1539-48c6-b1a1-a60017a18ad4",
   "metadata": {},
   "outputs": [],
   "source": [
    "def expon_cdf(x, lambd=1):\n",
    "    \"\"\"指数分布的累积分布函数\"\"\"\n",
    "    return 1 - np.exp(-lambd*x)"
   ]
  },
  {
   "cell_type": "code",
   "execution_count": 6,
   "id": "0c1635af-ac6b-422f-919f-2c7f1f5cd0ad",
   "metadata": {},
   "outputs": [],
   "source": [
    "def expon_icdf(p, lambd=1):\n",
    "    \"\"\"指数分布的累积分布函数逆函数，即分位函数\"\"\"\n",
    "    return -np.log(1-p)/lambd"
   ]
  },
  {
   "cell_type": "code",
   "execution_count": 7,
   "id": "de0ac87a-c0f0-475d-a75e-4851bf487385",
   "metadata": {},
   "outputs": [
    {
     "data": {
      "image/png": "[encoded data removed]",
      "text/plain": [
       "<Figure size 864x288 with 2 Axes>"
      ]
     },
     "metadata": {
      "needs_background": "light"
     },
     "output_type": "display_data"
    }
   ],
   "source": [
    "import scipy.stats as stats\n",
    "\n",
    "dist = stats.expon()\n",
    "x = np.linspace(0,4,100)\n",
    "y = np.linspace(0,1,100)\n",
    "\n",
    "plt.figure(figsize=(12,4))\n",
    "plt.subplot(121)\n",
    "plt.plot(x, expon_cdf(x))\n",
    "plt.axis([0, 4, 0, 1])\n",
    "for q in [0.5, 0.8]:\n",
    "    plt.arrow(0, q, expon_icdf(q)-0.1, 0, head_width=0.05, head_length=0.1, fc='b', ec='b')\n",
    "    plt.arrow(expon_icdf(q), q, 0, -q+0.1, head_width=0.1, head_length=0.05, fc='b', ec='b')\n",
    "plt.ylabel('1: Generate a (0,1) uniform PRNG')\n",
    "plt.xlabel('2: Find the inverse CDF')\n",
    "plt.title('Inverse transform method');\n",
    "\n",
    "plt.subplot(122)\n",
    "np.random.seed(0)\n",
    "N = 10**6\n",
    "u = np.random.random(N)\n",
    "v = expon_icdf(u)\n",
    "plt.hist(v, histtype='step', bins=100, density=True, linewidth=2)\n",
    "plt.plot(x, expon_pdf(x), linewidth=2)\n",
    "plt.axis([0,4,0,1])\n",
    "plt.title('Histogram of exponential PRNGs');"
   ]
  },
  {
   "cell_type": "markdown",
   "id": "c4a69bec-1411-447d-b9da-370ce31a05a1",
   "metadata": {},
   "source": [
    "### Python中的随机数生成器\n",
    "\n",
    "`numpy.random`和`scipy.stats`中提供的随机数生成函数都是基于[梅森旋转](https://zh.wikipedia.org/wiki/梅森旋转算法)（Mersenne Twister）演算法，可以快速产生高质量的伪随机数。SciPy中还提供了有关概率密度函数（PDF）和累积分布函数（CDF）相关的工具。`scipy.stats`支持的分布函数包括均匀分布、正态分布、指数分布、beta分布、泊松分布、柯西分布等，我们会在相应章节对其专门介绍。"
   ]
  },
  {
   "cell_type": "code",
   "execution_count": 8,
   "id": "8b931f16-0d3f-49f5-b6c2-49a7fe8fb3d6",
   "metadata": {},
   "outputs": [
    {
     "name": "stdout",
     "output_type": "stream",
     "text": [
      "[1.06103295 0.63661977 1.06103295]\n",
      "[0.20483276 0.5        0.79516724]\n",
      "[0.02447174 0.5        0.97552826]\n",
      "[0.95231484 0.90344357 0.99853595 0.50979041 0.02821506]\n"
     ]
    }
   ],
   "source": [
    "# Using scipy\n",
    "import scipy.stats as ss\n",
    "\n",
    "n = 5\n",
    "xs = [0.1, 0.5, 0.9]\n",
    "rv = ss.beta(a=0.5, b=0.5)\n",
    "\n",
    "print(rv.pdf(xs))\n",
    "print(rv.cdf(xs))\n",
    "print(rv.ppf(xs))  # ppf是cdf的反函数，即分位函数\n",
    "print(rv.rvs(n))   # 随机变量"
   ]
  },
  {
   "cell_type": "code",
   "execution_count": 9,
   "id": "6d83eb28-0281-4631-b8dc-5bfb7878c5d9",
   "metadata": {},
   "outputs": [
    {
     "data": {
      "text/plain": [
       "[<matplotlib.lines.Line2D at 0x7f14f57a12b0>]"
      ]
     },
     "execution_count": 9,
     "metadata": {},
     "output_type": "execute_result"
    },
    {
     "data": {
      "image/png": "[encoded data removed]",
      "text/plain": [
       "<Figure size 432x288 with 1 Axes>"
      ]
     },
     "metadata": {
      "needs_background": "light"
     },
     "output_type": "display_data"
    }
   ],
   "source": [
    "# And here is a plot of the PDF for the beta distribution\n",
    "xs = np.linspace(0, 1, 100)\n",
    "plt.plot(xs, ss.beta.pdf(xs, a=0.5, b=0.5))"
   ]
  },
  {
   "cell_type": "markdown",
   "id": "93bdf381-f026-45aa-9278-c18a9244401a",
   "metadata": {},
   "source": [
    "## 蒙特卡罗积分\n",
    "---\n",
    "\n",
    "假设我们需要进行如下积分：\n",
    "\n",
    "$$I = \\int_a^b f(x) dx$$\n",
    "\n",
    "积分体积为$V$。蒙特卡罗积分通过计算落在$f(x)$中随机分布点的比例与$V$的乘积来估计积分值的近似值。\n",
    "\n",
    "从统计学角度出发，我们将上式改写为：\n",
    "\n",
    "$$I = \\int_X \\frac{f(x)}{p(x)}p(x)dx = \\int_X h(x)p(x)dx = E[h(X)]$$\n",
    "\n",
    "计算积分等价于找到$h(X)=\\frac{f(x)}{p(x)}$的数学期望值。对于一维单变量问题，$p(x)=1/(b-a)$。\n",
    "\n",
    "我们可以使用$n$次随机采样，对该期望值进行估计，\n",
    "\n",
    "$$E[h(X)] \\approx \\bar{h_n} = \\frac{1}{n} \\sum_{i=1}^n h(x_i) $$\n",
    "\n",
    "我们可以对蒙特卡罗方法的方差进行估计，\n",
    "\n",
    "$$v_n = \\frac{1}{n^2} \\sum_{o=1}^n (h(x_i) - \\bar{h_n})^2)$$\n",
    "\n",
    "根据[中心极限定理](https://zh.wikipedia.org/wiki/中心极限定理)，\n",
    "\n",
    "$$\\frac{\\bar{h_n} - E[h(X)]}{\\sqrt{v_n}} \\sim \\mathcal{N}(0, 1)$$\n",
    "\n",
    "可知蒙特卡罗积分的收敛速度是$\\mathcal{0}(n^{1/2})$，且与维度无关。因此，相对于数值积分（收敛速度是$\\mathcal{0}(n^{d})$），蒙特卡罗积分在处理高维问题时更为有效。"
   ]
  },
  {
   "cell_type": "markdown",
   "id": "fd49ed25-6e59-4500-b7f7-8cc8140d4e1b",
   "metadata": {},
   "source": [
    "### 有限积分\n",
    "\n",
    "我们使用蒙特卡罗积分对$\\int_0^1 e^x dx$进行估计。函数$e^x$的取值范围为0到$e$。"
   ]
  },
  {
   "cell_type": "code",
   "execution_count": 10,
   "id": "059df477-0fa4-48e1-a9f4-5c902bee9a5d",
   "metadata": {},
   "outputs": [
    {
     "data": {
      "text/plain": [
       "(0.0, 2.718281828459045)"
      ]
     },
     "execution_count": 10,
     "metadata": {},
     "output_type": "execute_result"
    },
    {
     "data": {
      "image/png": "[encoded data removed]",
      "text/plain": [
       "<Figure size 432x288 with 1 Axes>"
      ]
     },
     "metadata": {
      "needs_background": "light"
     },
     "output_type": "display_data"
    }
   ],
   "source": [
    "x = np.linspace(0, 1, 100)\n",
    "plt.plot(x, np.exp(x));\n",
    "pts = np.random.uniform(0,1,(100, 2))\n",
    "pts[:, 1] *= np.e\n",
    "plt.scatter(pts[:, 0], pts[:, 1])\n",
    "plt.xlim([0,1])\n",
    "plt.ylim([0, np.e])"
   ]
  },
  {
   "cell_type": "code",
   "execution_count": 11,
   "id": "51d79a61-3a6c-4140-95eb-b248c1848dcc",
   "metadata": {},
   "outputs": [
    {
     "data": {
      "text/latex": [
       "$\\displaystyle 1.71828182845905$"
      ],
      "text/plain": [
       "1.71828182845905"
      ]
     },
     "execution_count": 11,
     "metadata": {},
     "output_type": "execute_result"
    }
   ],
   "source": [
    "# Check analytic solution\n",
    "from sympy import symbols, integrate, exp\n",
    "\n",
    "x = symbols('x')\n",
    "expr = integrate(exp(x), (x,0,1))\n",
    "expr.evalf()"
   ]
  },
  {
   "cell_type": "code",
   "execution_count": 12,
   "id": "526c1223-2214-4327-8bb9-a024fcb9fa4d",
   "metadata": {},
   "outputs": [
    {
     "data": {
      "text/plain": [
       "(1.7182818284590453, 1.9076760487502457e-14)"
      ]
     },
     "execution_count": 12,
     "metadata": {},
     "output_type": "execute_result"
    }
   ],
   "source": [
    "# Using numerical quadrature\n",
    "\n",
    "from scipy import integrate\n",
    "integrate.quad(exp, 0, 1)"
   ]
  },
  {
   "cell_type": "code",
   "execution_count": 13,
   "id": "aeefa118-865f-4240-b152-363faeb9ec0c",
   "metadata": {},
   "outputs": [
    {
     "name": "stdout",
     "output_type": "stream",
     "text": [
      "        10 1.630969\n",
      "       100 1.685335\n",
      "      1000 1.739700\n",
      "     10000 1.701101\n",
      "    100000 1.718770\n",
      "   1000000 1.718607\n"
     ]
    }
   ],
   "source": [
    "# Monte Carlo approximation\n",
    "for n in 10**np.array([1,2,3,4,5,6]):\n",
    "    pts = np.random.uniform(0, 1, (n, 2))\n",
    "    pts[:, 1] *= np.e\n",
    "    count = np.sum(pts[:, 1] < np.exp(pts[:, 0]))\n",
    "    volume = np.e * 1 # volume of region\n",
    "    sol = (volume * count)/n\n",
    "    print('%10d %.6f' % (n, sol))"
   ]
  },
  {
   "cell_type": "markdown",
   "id": "357c4c7b-d1aa-4d52-b26c-14ee8d98fbac",
   "metadata": {},
   "source": [
    "**大数定律** 样本数量越多，则其算术平均值就有越高的概率接近期望值。[大数定律](https://zh.wikipedia.org/wiki/大數法則)说明了一些随机事件的均值的长期稳定性，即偶然之中包含着必然。"
   ]
  },
  {
   "cell_type": "markdown",
   "id": "091c567b-c71f-4447-bc8b-88b5283f32d1",
   "metadata": {},
   "source": [
    "### 方差估计\n",
    "\n",
    "蒙特卡罗积分的结果是否收敛对于结果的准确性非常重要。因此，我们需要对方差进行估计。一个获取结果置信区间的简单方法是重复进行多次蒙特卡罗模拟。"
   ]
  },
  {
   "cell_type": "code",
   "execution_count": 14,
   "id": "ff405d30-a521-423e-80b7-ae34076e64a6",
   "metadata": {},
   "outputs": [
    {
     "data": {
      "text/plain": [
       "array([1.71808401, 1.71823954, 1.71890869])"
      ]
     },
     "execution_count": 14,
     "metadata": {},
     "output_type": "execute_result"
    }
   ],
   "source": [
    "n = 10**7\n",
    "sol = []\n",
    "\n",
    "for i in range(10):\n",
    "    pts = np.random.uniform(0, 1, (n, 2))\n",
    "    pts[:, 1] *= np.e\n",
    "    count = np.sum(pts[:, 1] < np.exp(pts[:, 0]))\n",
    "    volume = np.e * 1 \n",
    "    sol.append((volume * count)/n)\n",
    "\n",
    "np.percentile(sol, [2.5, 50, 97.5])"
   ]
  },
  {
   "cell_type": "markdown",
   "id": "f84c39fa-a431-4d6c-b4a1-56b54b21863e",
   "metadata": {
    "tags": []
   },
   "source": [
    "### 方差缩减\n",
    "\n",
    "蒙特卡罗积分的期望误差与$\\sqrt n$成反比，精度可以通过增加模拟的次数，但是速度较慢。提高计算精度更有效的途径是减小方差。常见的方差缩减技术有分层抽样法、重要性抽样法、条件期望法、对偶变量法、控制变量法、准随机数等。"
   ]
  },
  {
   "cell_type": "markdown",
   "id": "7c383a2c-9e33-4e14-9d90-162ee6d10431",
   "metadata": {},
   "source": [
    "**重要性抽样**\n",
    "\n",
    "使用常规蒙特卡罗方法计算标准正态分布的尾部几率$P(X > 5)$是非常困难的。因为$10^7$个随机采样中，只有平均3个采样大于5。"
   ]
  },
  {
   "cell_type": "code",
   "execution_count": 15,
   "id": "d2dc9b66-19f5-44ef-b7a3-a8e80e6306ad",
   "metadata": {},
   "outputs": [
    {
     "name": "stdout",
     "output_type": "stream",
     "text": [
      "0.0\n"
     ]
    }
   ],
   "source": [
    "n = 10**6\n",
    "y = ss.norm().rvs(n)\n",
    "h_mc = 1.0/n * np.sum(y > 5)\n",
    "print(h_mc)"
   ]
  },
  {
   "cell_type": "markdown",
   "id": "4043c4ba-1420-4417-9a3e-11a569c0e745",
   "metadata": {},
   "source": [
    "我们可以引入另外一个分布函数$g(x)$做为重要性函数，使有限的采样更合理地分配在每个区间。蒙特卡罗积分地表达式改写为：\n",
    "\n",
    "$$E_f[h(x)] \\ = \\  \\int_X h(x) \\frac{f(x)}{g(x)} g(x) dx \\ = \\ E_g\\left[ \\frac{h(X) f(X)}{g(X)} \\right]$$\n",
    "\n",
    "新的期望值为\n",
    "\n",
    "$$E[h(X)] \\approx \\bar{h_n} = \\frac{1}{n} \\sum_{i=1}^n \\frac{f(x_i)}{g(x_i)} h(x_i) $$\n",
    "\n",
    "其中$f(x_i)/g(x_i)$标识出了样本$h(x_i)$在估计$\\bar{h_n}$中重要性。"
   ]
  },
  {
   "cell_type": "code",
   "execution_count": 16,
   "id": "9adb1103-74b5-4b72-802f-f579e0a3354a",
   "metadata": {},
   "outputs": [
    {
     "name": "stdout",
     "output_type": "stream",
     "text": [
      "2.7988435885254297e-07\n"
     ]
    }
   ],
   "source": [
    "n = 10**4\n",
    "y = ss.expon(loc=5).rvs(n)\n",
    "h_is = 1.0/n * np.sum(ss.norm().pdf(y)/ss.expon(loc=5).pdf(y))\n",
    "print(h_is)"
   ]
  },
  {
   "cell_type": "markdown",
   "id": "b60214a1-65b0-4083-823d-a5b075ff2137",
   "metadata": {},
   "source": [
    "**准随机数**\n",
    "\n",
    "准随机数发生器（QRNG）可以产生高度均匀的单位超立方体样本。与普通伪随机数不同，准随机序列寻求均匀填充空间。在统计意义上，准随机数过于均匀，不能通过传统的随机性测试。\n",
    "\n",
    "在蒙特卡罗积分中使用准随机序列以减小方差的思路与分层抽样法类似，二者的目的都是让随机样本更均匀地分布在空间中。\n",
    "\n",
    "Gacha手游的随机抽奖环节实际上使用的就是伪随机数，例如普遍存在的保底机制。"
   ]
  },
  {
   "cell_type": "markdown",
   "id": "b255cc66-160e-4db0-b81f-5de321e0cee7",
   "metadata": {},
   "source": [
    "### 无穷积分\n",
    "\n",
    "蒙特卡罗积分可以计算与分布函数相关的无穷积分，例如下式：\n",
    "\n",
    "$$\\int_{-\\infty}^{\\infty} x^2 \\frac{1}{\\sqrt{2\\pi}} \\exp(\\frac{-x^2}{2}) dx$$\n",
    "\n",
    "我们取$f(x) = x^2$，则剩余部分$p(x)= \\frac{1}{\\sqrt{2\\pi}} \\exp(\\frac{-x^2}{2})$是标准正态分布的密度函数。上述积分等价于计算函数$f(x)$在标准正态分布下的均值。\n",
    "\n",
    "因此，我们可以按照标准正态分布在区间$(-\\infty, \\infty)$进行抽样，然后计算函数均值作为上述无穷积分的估计值。"
   ]
  },
  {
   "cell_type": "code",
   "execution_count": 17,
   "id": "eda64e7c-cf75-4b64-82a6-b0af8d191708",
   "metadata": {},
   "outputs": [
    {
     "data": {
      "text/plain": [
       "1.0077708423778915"
      ]
     },
     "execution_count": 17,
     "metadata": {},
     "output_type": "execute_result"
    }
   ],
   "source": [
    "def f(x):\n",
    "    return x**2\n",
    "\n",
    "n = 10**5\n",
    "pts = np.random.randn(n)\n",
    "np.mean(f(pts))"
   ]
  },
  {
   "cell_type": "code",
   "execution_count": 18,
   "id": "950cd335-6ec6-452d-8815-09c0242f96be",
   "metadata": {
    "tags": []
   },
   "outputs": [
    {
     "data": {
      "text/latex": [
       "$\\displaystyle 1.0$"
      ],
      "text/plain": [
       "1.00000000000000"
      ]
     },
     "execution_count": 18,
     "metadata": {},
     "output_type": "execute_result"
    }
   ],
   "source": [
    "# Check analytic solution\n",
    "from sympy import symbols, integrate, exp, sqrt, pi, oo\n",
    "\n",
    "x = symbols('x')\n",
    "expr = integrate( x**2 / sqrt(2*pi) * exp(-x**2/2), (x, -oo, oo))\n",
    "expr.evalf()"
   ]
  },
  {
   "cell_type": "markdown",
   "id": "e4d74aaf-b0ac-4b25-ac15-ae4c1c8cb649",
   "metadata": {},
   "source": [
    "### 多重积分\n",
    "\n",
    "当增加积分变量时，数值方法计算多重积分的计算量（正比于$n^d$）快速增长。"
   ]
  },
  {
   "cell_type": "code",
   "execution_count": 19,
   "id": "9c042dff-1ef2-457b-92a1-d7bd6a36cec0",
   "metadata": {},
   "outputs": [
    {
     "name": "stdout",
     "output_type": "stream",
     "text": [
      "(0.7468241328124271, 8.291413475940725e-15)\n",
      "CPU times: user 738 µs, sys: 0 ns, total: 738 µs\n",
      "Wall time: 628 µs\n",
      "(0.5577462853510337, 8.291374381535408e-15)\n",
      "CPU times: user 3.1 ms, sys: 867 µs, total: 3.97 ms\n",
      "Wall time: 3.98 ms\n",
      "(0.4165383858866382, 8.291335287314424e-15)\n",
      "CPU times: user 76 ms, sys: 1.93 ms, total: 77.9 ms\n",
      "Wall time: 77.8 ms\n",
      "(0.31108091882287664, 8.291296193277774e-15)\n",
      "CPU times: user 1.59 s, sys: 0 ns, total: 1.59 s\n",
      "Wall time: 1.6 s\n"
     ]
    }
   ],
   "source": [
    "def f(*args):\n",
    "    return  np.exp(-np.sum(np.array(args)**2))\n",
    "\n",
    "from scipy import integrate\n",
    "\n",
    "%time print(integrate.nquad(f, [(0,1)] * 1))\n",
    "%time print(integrate.nquad(f, [(0,1)] * 2))\n",
    "%time print(integrate.nquad(f, [(0,1)] * 3))\n",
    "%time print(integrate.nquad(f, [(0,1)] * 4))"
   ]
  },
  {
   "cell_type": "markdown",
   "id": "0d33f44e-9678-4a08-8f69-bdf93f6f1c26",
   "metadata": {},
   "source": [
    "蒙特卡罗积分的精度较低，但是在维度上的拓展性非常好。"
   ]
  },
  {
   "cell_type": "code",
   "execution_count": 20,
   "id": "4bc00e74-cdb4-41c3-b9ea-5ecc0594705e",
   "metadata": {},
   "outputs": [
    {
     "name": "stdout",
     "output_type": "stream",
     "text": [
      "7.460233192717615e-01\n",
      "CPU times: user 831 ms, sys: 20 ms, total: 851 ms\n",
      "Wall time: 840 ms\n",
      "5.572736337926285e-01\n",
      "CPU times: user 852 ms, sys: 37.5 ms, total: 890 ms\n",
      "Wall time: 856 ms\n",
      "4.168888044066749e-01\n",
      "CPU times: user 899 ms, sys: 69.5 ms, total: 969 ms\n",
      "Wall time: 908 ms\n",
      "3.097127624281495e-01\n",
      "CPU times: user 874 ms, sys: 38.4 ms, total: 912 ms\n",
      "Wall time: 879 ms\n"
     ]
    }
   ],
   "source": [
    "def mc(n, d):\n",
    "    pts = np.random.uniform(0, 1, (n, d))\n",
    "    sum = 0\n",
    "    for i in pts:\n",
    "        sum += f(i)\n",
    "    return sum/len(pts)\n",
    "\n",
    "n = 10**5\n",
    "\n",
    "%time print(mc(n, 1))\n",
    "%time print(mc(n, 2))\n",
    "%time print(mc(n, 3))\n",
    "%time print(mc(n, 4))"
   ]
  },
  {
   "cell_type": "markdown",
   "id": "e50eb4be-06db-4596-8d8d-2ffd1af99cd2",
   "metadata": {
    "tags": []
   },
   "source": [
    "## Vegas 高维函数蒙特卡洛积分库\n",
    "---\n",
    "\n",
    "Python的vegas库使用vegas算法计算任意多维积分的蒙特卡洛估计。\n",
    "\n",
    "该算法有两个步骤：\n",
    "1. 一个自动转换被应用于积分变量，从而使得积分趋于平坦。\n",
    "2. 用转换后的变量对积分进行蒙特卡洛估计。\n",
    "\n",
    "扁平化积分使积分更容易，并改善估计。应用于积分变量的变换会在迭代优化，一次迭代中收集的关于积分的信息被用来改进下一次迭代中使用的变换。"
   ]
  },
  {
   "cell_type": "markdown",
   "id": "06f2cbff-ffbe-4e70-a375-883bb0fbf3e4",
   "metadata": {},
   "source": [
    "下面，我们将使用vegas库计算4维高斯函数\n",
    "\n",
    "$$f(x_0, x_1, x_2, x_3) = N \\exp(-\\sum_{i=0}^{3} (x_i - \\frac{1}{2})^2/0.01)$$\n",
    "\n",
    "在闭区间$x_0 \\in [-1, 1], x_1 \\in [0, 1],  x_2 \\in [0, 1],  x_3 \\in [0, 1]$的数值积分。"
   ]
  },
  {
   "cell_type": "code",
   "execution_count": 21,
   "id": "1002b955-3a1c-48dc-aad4-f8dfc06cd077",
   "metadata": {},
   "outputs": [
    {
     "name": "stdout",
     "output_type": "stream",
     "text": [
      "itn   integral        wgt average     chi2/dof        Q\n",
      "-------------------------------------------------------\n",
      "  1   1.10(62)        1.10(62)            0.00     1.00\n",
      "  2   0.654(64)       0.659(64)           0.51     0.47\n",
      "  3   1.05(19)        0.699(60)           2.18     0.11\n",
      "  4   0.997(65)       0.838(44)           5.22     0.00\n",
      "  5   0.977(37)       0.920(28)           5.39     0.00\n",
      "  6   0.972(27)       0.948(19)           4.67     0.00\n",
      "  7   0.976(19)       0.962(14)           4.07     0.00\n",
      "  8   0.999(15)       0.978(10)           3.96     0.00\n",
      "  9   1.003(14)       0.9872(82)          3.73     0.00\n",
      " 10   0.992(12)       0.9888(68)          3.33     0.00\n",
      "\n",
      "result = 0.9888(68)    Q = 0.00\n"
     ]
    }
   ],
   "source": [
    "import vegas\n",
    "import math\n",
    "\n",
    "def f(x):\n",
    "    dx2 = 0\n",
    "    for d in range(4):\n",
    "        dx2 += (x[d] - 0.5) ** 2\n",
    "    return math.exp(-dx2 * 100.) * 1013.2118364296088\n",
    "\n",
    "integ = vegas.Integrator([[-1, 1], [0, 1], [0, 1], [0, 1]])\n",
    "\n",
    "result = integ(f, nitn=10, neval=1000)\n",
    "print(result.summary())\n",
    "print('result = %s    Q = %.2f' % (result, result.Q))"
   ]
  },
  {
   "cell_type": "markdown",
   "id": "a986d4fc-b7f5-4dd8-a103-220edbdc1614",
   "metadata": {},
   "source": [
    "积分返回的result是一个vegas对象，包含积分结果的平均值和括号里的标准差。\n",
    "\n",
    "使用`result.summary()`可以查看10次迭代的结果。"
   ]
  },
  {
   "cell_type": "code",
   "execution_count": 22,
   "id": "33bbcf78-1791-4847-a17f-68f00d24e4c3",
   "metadata": {},
   "outputs": [
    {
     "data": {
      "text/plain": [
       "(0.9888260497848933, 0.006757890080472662)"
      ]
     },
     "execution_count": 22,
     "metadata": {},
     "output_type": "execute_result"
    }
   ],
   "source": [
    "result.mean, result.sdev"
   ]
  },
  {
   "cell_type": "markdown",
   "id": "11dc7dc1-d311-46fd-8b9b-fbce8b5d9450",
   "metadata": {},
   "source": [
    "## 蒙特卡罗数值优化\n",
    "---\n",
    "\n",
    "### 模拟退火算法\n",
    "\n",
    "[模拟退火](https://zh.wikipedia.org/wiki/模拟退火)算法来源于材料科学中的退火过程。当固体温度增加时，内部原子运动速度增加，固体内原子构型发生改变；当其缓慢冷却时，内部原子构型趋向有序，且内能（原子间相互作用能）减小。可以将系统内能写为原子坐标的函数$E(X_1, X_2,...,X_n)$，在退火后新的平衡位置上，$E$为局部或全局极小值。\n",
    "\n",
    "在退火模拟中，每一步会随机生成一个新的原子构型。根据[Metropolis抽样](https://zh.m.wikipedia.org/zh-hans/梅特罗波利斯－黑斯廷斯算法)准则，新构型的接受概率为：\n",
    "$$P(acc)=min(1,e^{-{\\frac {\\Delta U}{k_{B}T}}})$$\n",
    "其中$\\Delta U$为内能改变量，$k_{B}$为玻尔兹曼常数，$T$为温度。$k_{B}T$正比于原子的平均动能。\n",
    "\n",
    "优化问题的模拟退火算法和材料热退火过程有诸多相似之处。\n",
    "\n",
    "| 模拟退火 | 物理退火 | \n",
    "|---|---|\n",
    "| 变量 | 粒子状态 |\n",
    "| 目标函数 | 能量 |\n",
    "| 最优解 | 能量最低态 |\n",
    "| 设定动能（控制参数） | 材料熔解 |\n",
    "| Metropolis采样 | 等温过程 |\n",
    "| 控制参数下降 | 材料冷却 |\n",
    "\n",
    "模拟退火算法也常用于机器学习，特别是强化学习的算法中。一般情况下，针对得到的样本数据集创建相对模糊的模型，通过蒙特卡洛方法对于模型中的参数进行选取，使之于原始数据的残差尽可能的小。从而达到创建模型拟合样本的目的。 "
   ]
  },
  {
   "cell_type": "markdown",
   "id": "9f155ed9-4ff3-4ea9-85e1-55612e7c3a33",
   "metadata": {},
   "source": [
    "### 函数优化\n",
    "\n",
    "使用蒙特卡罗模拟退火算法进行函数优化是按照以下步骤进行的：\n",
    "\n",
    "1. 使用随机数生成器在变量空间中产生一个随机的位置坐标。\n",
    "2. 对此位置做无规则的改变，产生一个新的位置坐标。\n",
    "3. 计算新的位置坐标处的函数值。\n",
    "4. 比较新的位置坐标与改变前的位置坐标的函数值变化，判断是否接受该坐标。\n",
    "    * 若新的位置坐标函数值低于原位置坐标的函数值，则接受新的坐标，使用这个坐标重复再做下一次迭代。\n",
    "    * 若新的位置坐标函数值高于原位置坐标的函数值，则计算玻尔兹曼因子，并产生一个随机数。\n",
    "         * 若这个随机数大于所计算出的玻尔兹曼因子，则放弃这个坐标，重新计算。\n",
    "         * 若这个随机数小于所计算出的玻尔兹曼因子，则接受这个坐标，使用这个坐标重复再做下一次迭代。\n",
    "5. 如此进行迭代计算，直至最后搜索出低于所给函数值条件的位置坐标结束。"
   ]
  },
  {
   "cell_type": "code",
   "execution_count": 23,
   "id": "de87b23b-e970-4ddf-9b05-0ef7b42a53e3",
   "metadata": {},
   "outputs": [
    {
     "data": {
      "text/plain": [
       "((158, 159, 155), -1.6786677651535498)"
      ]
     },
     "execution_count": 23,
     "metadata": {},
     "output_type": "execute_result"
    }
   ],
   "source": [
    "import numpy as np\n",
    "\n",
    "x = np.linspace(-1, 1, 200)\n",
    "y = np.linspace(-1, 1, 200)\n",
    "z = np.linspace(-1, 1, 200)\n",
    "Y, Z, X = np.meshgrid(x, y, z)\n",
    "\n",
    "def gaussian(x0, y0, z0):\n",
    "    return np.exp(-(X - x0)**2 - (Y - y0)**2 - (Z - z0)**2)\n",
    "\n",
    "# 局部极小值在(-0.5, -0.5, -0.5)附近，全局极小值在(0.5, 0.5, 0.5)附近\n",
    "data = gaussian(0.1, -0.1, -0.1) - gaussian(-0.5, -0.5, -0.5) - gaussian(0.5, 0.5, 0.5) * 2\n",
    "\n",
    "np.unravel_index(np.argmin(data), data.shape), np.min(data)"
   ]
  },
  {
   "cell_type": "code",
   "execution_count": 24,
   "id": "f94ab4f3-8948-46a6-8935-50c734a53c04",
   "metadata": {},
   "outputs": [
    {
     "name": "stdout",
     "output_type": "stream",
     "text": [
      "(array([36, 26, 30], dtype=int32), -6.559024509007152e-01)\n",
      "(array([152, 150, 156], dtype=int32), -1.6548849700839656e+00)\n"
     ]
    }
   ],
   "source": [
    "def annealing(pos, step, KbT):\n",
    "    for i in range(step):\n",
    "        value = data[tuple(pos)]\n",
    "        new_pos = pos + np.round(np.random.random(3)) * 2 - 1\n",
    "        new_pos = np.int32(new_pos % 200)  # pbc\n",
    "        new_value = data[tuple(new_pos)]\n",
    "        if new_value < value:\n",
    "            pos = new_pos\n",
    "            value = new_value\n",
    "        else:\n",
    "            delta = new_value - value\n",
    "            p = np.exp(-delta/KbT)\n",
    "            if p > np.random.random():\n",
    "                pos = new_pos\n",
    "                value = new_value\n",
    "    return pos, value\n",
    "\n",
    "step = 10**5\n",
    "KbT = 0.01\n",
    "\n",
    "#np.random.seed(0)\n",
    "\n",
    "pos1 = [50, 50, 50]  # 初始位置在局部极小附近\n",
    "print(annealing(pos1, step, KbT))\n",
    "\n",
    "pos1 = [150, 150, 150]  # 初始位置在全局极小附近\n",
    "print(annealing(pos1, step, KbT))"
   ]
  },
  {
   "cell_type": "markdown",
   "id": "c06c6fbd-3064-433e-a948-642416e0f515",
   "metadata": {},
   "source": [
    "可以看到，在温度/动能较低时，蒙特卡罗模拟不能保证系统在有限的时间内收敛到最低点。增加模拟时间或者增加温度，可以增大系统从局部势阱约束中逃逸的几率。"
   ]
  },
  {
   "cell_type": "code",
   "execution_count": 25,
   "id": "dbbaa9af-1b67-4276-a098-ddadfe87aa9c",
   "metadata": {},
   "outputs": [
    {
     "name": "stdout",
     "output_type": "stream",
     "text": [
      "0.1 [141 167 112] -1.3278743482712387e+00\n",
      "0.1 [163 159 158] -1.672777202397691e+00\n",
      "0.1 [163 161 154] -1.6733986887279282e+00\n",
      "0.1 [158 158 155] -1.6786440878205773e+00\n",
      "0.1 [158 158 155] -1.6786440878205773e+00\n"
     ]
    }
   ],
   "source": [
    "'''变温'''\n",
    "KbT = 0.1\n",
    "pos = np.int32(np.random.random(3)*200)\n",
    "\n",
    "for i in range(5):\n",
    "    pos, value = annealing(pos, step, KbT / 10**i)\n",
    "    print(KbT, pos, value)"
   ]
  },
  {
   "cell_type": "markdown",
   "id": "bfcc7df3-ef3e-4e75-9043-372de493a698",
   "metadata": {},
   "source": [
    "1. 相对于数值算法只能收敛到局部最优解，模拟退火算法所得解依概率收敛到全局最优解。\n",
    "2. 模拟退火算法对变量数目不敏感，可以很轻松处理高维问题。"
   ]
  },
  {
   "cell_type": "code",
   "execution_count": null,
   "id": "e21c4e9d-aad6-43d8-8439-c0f9ab53e7af",
   "metadata": {},
   "outputs": [],
   "source": []
  }
 ],
 "metadata": {
  "kernelspec": {
   "display_name": "Python 3 (ipykernel)",
   "language": "python",
   "name": "python3"
  },
  "language_info": {
   "codemirror_mode": {
    "name": "ipython",
    "version": 3
   },
   "file_extension": ".py",
   "mimetype": "text/x-python",
   "name": "python",
   "nbconvert_exporter": "python",
   "pygments_lexer": "ipython3",
   "version": "3.9.7"
  }
 },
 "nbformat": 4,
 "nbformat_minor": 5
}
