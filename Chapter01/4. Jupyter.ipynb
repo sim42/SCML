{
 "cells": [
  {
   "cell_type": "markdown",
   "id": "4c0a3eca-b5d9-4511-9973-2f9104522460",
   "metadata": {
    "tags": []
   },
   "source": [
    "# Jupyter\n",
    "---\n",
    "<img src=\"https://jupyter.org/assets/homepage/main-logo.svg\" style=\"width: 20%;\"/>\n",
    "\n",
    "Jupyter Notebook（前身是IPython Notebook）是一个基于Web的交互式计算环境，用于创建Jupyter Notebook文档。Jupyter Notebook文档是一个JSON文档，包含一个有序的输入/输出单元格列表，这些单元格可以包含代码、文本（使用Markdown语言）、数学、图表和富媒体 (Rich media)，通常以“.ipynb”结尾扩展。 \n",
    "\n",
    "<img src=\"./Images/Jupyter_notebook.png\" style=\"width: 80%;\"/>\n",
    "\n",
    "## 参考资料\n",
    "\n",
    "[在线练习环境](https://jupyterlite.github.io/demo)\n",
    "\n",
    "## 免费计算资源\n",
    "[Google Colab](https://colab.google.com)"
   ]
  },
  {
   "cell_type": "markdown",
   "id": "6d97d48c-5158-41ca-8a67-12df1fe1efd5",
   "metadata": {},
   "source": [
    "## Python\n",
    "---"
   ]
  },
  {
   "cell_type": "markdown",
   "id": "ce6348ab-214b-449a-9594-63081de6e823",
   "metadata": {
    "tags": []
   },
   "source": [
    "### 解释器 Interpreter"
   ]
  },
  {
   "cell_type": "code",
   "execution_count": 1,
   "id": "2589cf13-aa21-4051-8be1-b33daf8ea7d7",
   "metadata": {},
   "outputs": [
    {
     "name": "stdout",
     "output_type": "stream",
     "text": [
      "Writing hello.py\n"
     ]
    }
   ],
   "source": [
    "%%writefile hello.py\n",
    "print(\"Hello from Python!\")"
   ]
  },
  {
   "cell_type": "code",
   "execution_count": 2,
   "id": "99d423cc-4867-4b32-97d8-a75649879d4f",
   "metadata": {},
   "outputs": [
    {
     "name": "stdout",
     "output_type": "stream",
     "text": [
      "Hello from Python!\n"
     ]
    }
   ],
   "source": [
    "!python hello.py\n",
    "!rm hello.py"
   ]
  },
  {
   "cell_type": "code",
   "execution_count": 3,
   "id": "749e7ef7-8f6a-4c3d-a92a-5d52fbc2daa2",
   "metadata": {},
   "outputs": [
    {
     "name": "stdout",
     "output_type": "stream",
     "text": [
      "Python 3.9.7\n"
     ]
    }
   ],
   "source": [
    "!python --version"
   ]
  },
  {
   "cell_type": "markdown",
   "id": "7fface37-9570-401b-ba28-0ad5881f068c",
   "metadata": {},
   "source": [
    "### 输入和输出缓存"
   ]
  },
  {
   "cell_type": "code",
   "execution_count": 4,
   "id": "6fea8f6a-d6da-45a1-8e14-71cfd67fc4ca",
   "metadata": {},
   "outputs": [
    {
     "data": {
      "text/plain": [
       "9"
      ]
     },
     "execution_count": 4,
     "metadata": {},
     "output_type": "execute_result"
    }
   ],
   "source": [
    "3 * 3"
   ]
  },
  {
   "cell_type": "code",
   "execution_count": 5,
   "id": "794f3a4d-13eb-4d55-9b1d-c35a72aea64f",
   "metadata": {},
   "outputs": [
    {
     "data": {
      "text/plain": [
       "{4: 9}"
      ]
     },
     "execution_count": 5,
     "metadata": {},
     "output_type": "execute_result"
    }
   ],
   "source": [
    "Out"
   ]
  },
  {
   "cell_type": "code",
   "execution_count": 6,
   "id": "bfe39724-b423-4b23-aac5-4e7ce605a48d",
   "metadata": {},
   "outputs": [
    {
     "data": {
      "text/plain": [
       "['',\n",
       " 'get_ipython().run_cell_magic(\\'writefile\\', \\'hello.py\\', \\'print(\"Hello from Python!\")\\\\n\\')',\n",
       " \"get_ipython().system('python hello.py')\\nget_ipython().system('rm hello.py')\",\n",
       " \"get_ipython().system('python --version')\",\n",
       " '3 * 3',\n",
       " 'Out',\n",
       " 'In']"
      ]
     },
     "execution_count": 6,
     "metadata": {},
     "output_type": "execute_result"
    }
   ],
   "source": [
    "In"
   ]
  },
  {
   "cell_type": "markdown",
   "id": "bb2d0659-6a40-4f42-b677-7cc0173ab4ff",
   "metadata": {},
   "source": [
    "### 函数文档"
   ]
  },
  {
   "cell_type": "code",
   "execution_count": 7,
   "id": "127f8151-c187-490c-9b7a-02a90dd578e6",
   "metadata": {
    "tags": []
   },
   "outputs": [
    {
     "data": {
      "text/plain": [
       "\u001b[0;31mSignature:\u001b[0m \u001b[0mmath\u001b[0m\u001b[0;34m.\u001b[0m\u001b[0mcos\u001b[0m\u001b[0;34m(\u001b[0m\u001b[0mx\u001b[0m\u001b[0;34m,\u001b[0m \u001b[0;34m/\u001b[0m\u001b[0;34m)\u001b[0m\u001b[0;34m\u001b[0m\u001b[0;34m\u001b[0m\u001b[0m\n",
       "\u001b[0;31mDocstring:\u001b[0m Return the cosine of x (measured in radians).\n",
       "\u001b[0;31mType:\u001b[0m      builtin_function_or_method\n"
      ]
     },
     "metadata": {},
     "output_type": "display_data"
    }
   ],
   "source": [
    "import os\n",
    "import math\n",
    "math.cos?"
   ]
  },
  {
   "cell_type": "markdown",
   "id": "07b2f054-02ac-4fd4-b5e9-f7e1d0065109",
   "metadata": {},
   "source": [
    "### 执行Shell命令"
   ]
  },
  {
   "cell_type": "code",
   "execution_count": 8,
   "id": "76ab7065-9162-42b0-bb25-a7117d9b987f",
   "metadata": {},
   "outputs": [
    {
     "name": "stdout",
     "output_type": "stream",
     "text": [
      "'1. 科学计算.ipynb'\t   '5. Markdown.md'\n",
      "'2. Python语言.ipynb'\t    fib.py\n",
      "'3. Python高级功能.ipynb'   Images\n",
      "'4. Jupyter.ipynb'\t    Python_DataScience_Cheat_Sheet.pdf\n"
     ]
    }
   ],
   "source": [
    "!ls"
   ]
  },
  {
   "cell_type": "markdown",
   "id": "1c6b407f-4f4b-452b-83cc-5a7619bdb9ec",
   "metadata": {},
   "source": [
    "### 执行脚本"
   ]
  },
  {
   "cell_type": "code",
   "execution_count": 9,
   "id": "48a69330-183f-4824-8685-25eab70baa15",
   "metadata": {},
   "outputs": [
    {
     "name": "stdout",
     "output_type": "stream",
     "text": [
      "Overwriting fib.py\n"
     ]
    }
   ],
   "source": [
    "%%writefile fib.py\n",
    "\n",
    "def fib(N): \n",
    "    \"\"\" \n",
    "    Return a list of the first N Fibonacci numbers.\n",
    "    \"\"\" \n",
    "    f0, f1 = 0, 1\n",
    "    f = [1] * N\n",
    "    for n in range(1, N):\n",
    "        f[n] = f0 + f1\n",
    "        f0, f1 = f1, f[n]\n",
    "\n",
    "    return f\n",
    "\n",
    "print(fib(10))"
   ]
  },
  {
   "cell_type": "code",
   "execution_count": 10,
   "id": "a0a857bb-cec8-422b-90f4-6f5ad87d73c1",
   "metadata": {},
   "outputs": [
    {
     "name": "stdout",
     "output_type": "stream",
     "text": [
      "[1, 1, 2, 3, 5, 8, 13, 21, 34, 55]\n"
     ]
    }
   ],
   "source": [
    "!python fib.py"
   ]
  },
  {
   "cell_type": "code",
   "execution_count": 11,
   "id": "f4efb95a-4695-4ebe-9469-6b3e368cad44",
   "metadata": {},
   "outputs": [
    {
     "name": "stdout",
     "output_type": "stream",
     "text": [
      "[1, 1, 2, 3, 5, 8, 13, 21, 34, 55]\n"
     ]
    }
   ],
   "source": [
    "%run fib.py"
   ]
  },
  {
   "cell_type": "code",
   "execution_count": 12,
   "id": "7b28f5a7-e3d2-45f9-969d-f96497c69a1f",
   "metadata": {},
   "outputs": [],
   "source": [
    "!rm fib.py"
   ]
  },
  {
   "cell_type": "code",
   "execution_count": 13,
   "id": "d06660d9-0369-4dc1-a29a-c7df3e190503",
   "metadata": {},
   "outputs": [
    {
     "data": {
      "text/plain": [
       "[1, 1, 2, 3, 5, 8]"
      ]
     },
     "execution_count": 13,
     "metadata": {},
     "output_type": "execute_result"
    }
   ],
   "source": [
    "fib(6)"
   ]
  },
  {
   "cell_type": "markdown",
   "id": "b8908db2-dfa5-4b5b-a376-3873802aa7d1",
   "metadata": {},
   "source": [
    "### 代码计时和性能分析"
   ]
  },
  {
   "cell_type": "code",
   "execution_count": 14,
   "id": "132c2e6b-bf14-4ec1-b7b7-29be32bbbd1d",
   "metadata": {},
   "outputs": [
    {
     "name": "stdout",
     "output_type": "stream",
     "text": [
      "7.74 µs ± 660 ns per loop (mean ± std. dev. of 7 runs, 100 loops each)\n"
     ]
    }
   ],
   "source": [
    "%timeit -n 100 fib(100)"
   ]
  },
  {
   "cell_type": "code",
   "execution_count": 15,
   "id": "92b17f51-851c-4c5e-8500-fad2cf924b4a",
   "metadata": {},
   "outputs": [],
   "source": [
    "import numpy as np\n",
    "\n",
    "def random_walker_max_distance(M, N):\n",
    "    \"\"\"\n",
    "    Simulate N random walkers taking M steps, and return the largest distance\n",
    "    from the starting point achieved by any of the random walkers.\n",
    "    \"\"\"\n",
    "    trajectories = [np.random.randn(M).cumsum() for _ in range(N)]\n",
    "    return np.max(np.abs(trajectories))"
   ]
  },
  {
   "cell_type": "code",
   "execution_count": 16,
   "id": "004efe87-03e7-48bc-b03f-6adc9a1051ca",
   "metadata": {},
   "outputs": [
    {
     "name": "stdout",
     "output_type": "stream",
     "text": [
      " "
     ]
    },
    {
     "data": {
      "text/plain": [
       "         20013 function calls in 0.271 seconds\n",
       "\n",
       "   Ordered by: internal time\n",
       "\n",
       "   ncalls  tottime  percall  cumtime  percall filename:lineno(function)\n",
       "    10000    0.115    0.000    0.115    0.000 {method 'randn' of 'numpy.random.mtrand.RandomState' objects}\n",
       "        1    0.088    0.088    0.267    0.267 2615584822.py:3(random_walker_max_distance)\n",
       "    10000    0.044    0.000    0.044    0.000 {method 'cumsum' of 'numpy.ndarray' objects}\n",
       "        1    0.014    0.014    0.014    0.014 {method 'reduce' of 'numpy.ufunc' objects}\n",
       "        1    0.006    0.006    0.165    0.165 2615584822.py:8(<listcomp>)\n",
       "        1    0.003    0.003    0.270    0.270 <string>:1(<module>)\n",
       "        1    0.000    0.000    0.271    0.271 {built-in method builtins.exec}\n",
       "        1    0.000    0.000    0.014    0.014 fromnumeric.py:69(_wrapreduction)\n",
       "        1    0.000    0.000    0.014    0.014 fromnumeric.py:2638(amax)\n",
       "        1    0.000    0.000    0.015    0.015 <__array_function__ internals>:2(amax)\n",
       "        1    0.000    0.000    0.014    0.014 {built-in method numpy.core._multiarray_umath.implement_array_function}\n",
       "        1    0.000    0.000    0.000    0.000 fromnumeric.py:70(<dictcomp>)\n",
       "        1    0.000    0.000    0.000    0.000 fromnumeric.py:2633(_amax_dispatcher)\n",
       "        1    0.000    0.000    0.000    0.000 {method 'items' of 'dict' objects}\n",
       "        1    0.000    0.000    0.000    0.000 {method 'disable' of '_lsprof.Profiler' objects}"
      ]
     },
     "metadata": {},
     "output_type": "display_data"
    }
   ],
   "source": [
    "%prun random_walker_max_distance(400, 10000)"
   ]
  },
  {
   "cell_type": "markdown",
   "id": "a1ad9783-76bc-4d14-b42b-dd8dd5a3a6b6",
   "metadata": {},
   "source": [
    "## 交互式控件 Interactive Widgets\n",
    "---"
   ]
  },
  {
   "cell_type": "code",
   "execution_count": 1,
   "id": "129e19d6-281f-4197-94af-a093bfd4b3e9",
   "metadata": {},
   "outputs": [
    {
     "data": {
      "application/vnd.jupyter.widget-view+json": {
       "model_id": "f56141ffc1894446a50e62c206d9af80",
       "version_major": 2,
       "version_minor": 0
      },
      "text/plain": [
       "interactive(children=(FloatSlider(value=1.5, description='a', max=2.0, min=1.0), FloatSlider(value=3.0, descri…"
      ]
     },
     "metadata": {},
     "output_type": "display_data"
    }
   ],
   "source": [
    "import numpy as np\n",
    "from ipywidgets import interactive\n",
    "import matplotlib.pyplot as plt\n",
    "\n",
    "def f(a, b):\n",
    "    plt.figure()\n",
    "    x = np.linspace(-10,10,100)\n",
    "    plt.plot(x, a * np.sin(b*x))\n",
    "    plt.ylim(-2, 2)\n",
    "    plt.show()\n",
    "\n",
    "interact_plot = interactive(f, a=(1.0, 2.0), b=(1.0, 5.0))\n",
    "interact_plot"
   ]
  },
  {
   "cell_type": "code",
   "execution_count": 18,
   "id": "ecb12e37-4138-4d15-8e64-d8d8e990c43d",
   "metadata": {},
   "outputs": [],
   "source": [
    "from ipywidgets import FloatSlider, FloatText, jslink\n",
    "\n",
    "slider = FloatSlider(value = 7.5, min = 5.0, max = 10.0, step = 0.1, description = 'Input')"
   ]
  },
  {
   "cell_type": "code",
   "execution_count": 19,
   "id": "31ff4f30-dedd-464d-8ebe-4a10f0f4e78d",
   "metadata": {},
   "outputs": [
    {
     "data": {
      "application/vnd.jupyter.widget-view+json": {
       "model_id": "59af96fb2bdf4d07bc7262b3e03c16c9",
       "version_major": 2,
       "version_minor": 0
      },
      "text/plain": [
       "FloatText(value=0.0, description='Value')"
      ]
     },
     "metadata": {},
     "output_type": "display_data"
    }
   ],
   "source": [
    "text = FloatText(description = 'Value')\n",
    "jslink((slider, 'value'), (text, 'value'))\n",
    "text"
   ]
  },
  {
   "cell_type": "code",
   "execution_count": 20,
   "id": "b6c4043d-17c5-4404-b51a-13db58423ad8",
   "metadata": {},
   "outputs": [
    {
     "data": {
      "application/vnd.jupyter.widget-view+json": {
       "model_id": "67b5f8bfd0eb41899e0ad448089a0874",
       "version_major": 2,
       "version_minor": 0
      },
      "text/plain": [
       "FloatSlider(value=7.5, description='Input', max=10.0, min=5.0)"
      ]
     },
     "metadata": {},
     "output_type": "display_data"
    }
   ],
   "source": [
    "slider"
   ]
  },
  {
   "cell_type": "code",
   "execution_count": null,
   "id": "f974e390-9a49-42db-9a3f-c204d7205e7b",
   "metadata": {},
   "outputs": [],
   "source": []
  }
 ],
 "metadata": {
  "kernelspec": {
   "display_name": "Python 3 (ipykernel)",
   "language": "python",
   "name": "python3"
  },
  "language_info": {
   "codemirror_mode": {
    "name": "ipython",
    "version": 3
   },
   "file_extension": ".py",
   "mimetype": "text/x-python",
   "name": "python",
   "nbconvert_exporter": "python",
   "pygments_lexer": "ipython3",
   "version": "3.9.7"
  }
 },
 "nbformat": 4,
 "nbformat_minor": 5
}
