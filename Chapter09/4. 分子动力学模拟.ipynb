{
 "cells": [
  {
   "cell_type": "markdown",
   "id": "21534e4c-e3ce-41bf-9ff3-2f817755c9fb",
   "metadata": {
    "tags": []
   },
   "source": [
    "# 分子动力学\n",
    "---\n",
    "\n",
    "分子动力学是一套分子模拟方法，该方法主要是依靠计算机来模拟分子、原子体系的运动，是一种多体模拟方法。通过对分子、原子在一定时间内运动状态的模拟，从而以动态观点考察系统随时间演化的行为。通常，分子、原子的轨迹是通过数值求解牛顿运动方程得到，势能（或其对笛卡尔坐标的一阶偏导数，即力）通常可以由分子间相互作用势能函数、分子力学力场、全始计算给出。对于考虑分子本身的量子效应的体系，往往采用波包近似处理或采用量子力学的费恩曼路径积分表述方式处理。 分子动力学也常常被采用作为研究复杂体系热力学性质的采样方法。在分子体系的不同状态构成的系综中抽取样本，从而计算体系的构型积分，并以构型积分的结果为基础进一步计算体系的热力学量和其他宏观性质。 分子动力学最早在20世纪50年代由物理学家提出，如今广泛应用于物理、化学、生物体系的理论研究中。 "
   ]
  },
  {
   "cell_type": "markdown",
   "id": "f9682aef-72a8-41a6-9a7b-808e6d8f5c15",
   "metadata": {},
   "source": [
    "## 经典模型\n",
    "---\n",
    "玻恩-奥本海默近似（Born-Oppenheimer approximation），又称为绝热近似，将原子核和电子的运动分开处理，因为它们的质量和运动速度有很大的差别。这给理论化学家提供了两种选择，即如何对化学系统进行建模，并确定势能：\n",
    "\n",
    "* 把原子看作是静止的，用薛定谔方程来模拟电子的运动和相互作用。\n",
    "* 将电子的运动整合到原子核中，并将这些粒子建模为点电荷。对某一特定原子构型的势能的了解意味着有可能比较不同的构型并确定最可能的构型。\n",
    "\n",
    "前者是量子力学计算的基础，如密度函数理论（DFT）方法。在这些方法中，目的是找到薛定谔方程的迭代解。然而，这些方法在计算上非常昂贵，因此现实中仅限于数百或数千个原子。\n",
    "\n",
    "后者使用的是被称为经典方法的方法。经典方法涉及使用势能模型（有时称为力场）来模拟化学系统。可能利用经典方法的模拟技术的例子包括分子动力学（我们将在本资料中介绍）、蒙特卡洛、朗文动力学等。势能模型使用数学函数来确定原子的特定构型的势能。使用数学函数来模拟粒子的相互作用，其计算成本比量子力学方法低，这意味着可以模拟更大的系统。"
   ]
  },
  {
   "cell_type": "markdown",
   "id": "a788d452-00e9-40a6-a5aa-46a2aec4ecd0",
   "metadata": {
    "tags": []
   },
   "source": [
    "### 1. 范德瓦尔斯相互作用\n",
    "\n",
    "一个经典模型的例子就是只存在范德瓦尔斯相互作用的粒子，例如惰性元素气体Ar。我们需要一个势能模型，即一个数学公式，用以描述这种相互作用。众所周知，范德瓦耳斯相互作用包括两种力，第一种是长程吸引的伦敦色散力，第二种是短程泡利排斥力。\n",
    "\n",
    "用于模拟范德瓦尔斯相互作用的常用数学函数是Lennard-Jones势。这个模型考虑了长程吸引力：\n",
    "\n",
    "$$E_{\\text{attractive}}(r) = -4\\varepsilon\\Big(\\dfrac{\\sigma}{r}\\Big)^6 $$\n",
    "\n",
    "其中σ是两个粒子之间势能为零的距离，-ε是平衡分离时的势能，而r是两个原子之间的距离。\n",
    "\n",
    "同时，这个模型也考虑了泡利不相容原理导致的短程排斥力：\n",
    "\n",
    "$$E_{\\text{repulsive}}(r) = 4\\varepsilon\\Big(\\dfrac{\\sigma}{r}\\Big)^{12} $$\n",
    "\n",
    "相应的，相互作用力的数学函数为：\n",
    "\n",
    "$$F = \\dfrac{-\\partial E(r)}{\\partial r} = 48\\varepsilon\\dfrac{1}{r}\\Big(\\dfrac{\\sigma}{r}\\Big)^{12} - 24\\varepsilon\\dfrac{1}{r}\\Big(\\dfrac{\\sigma}{r}\\Big)^6 $$"
   ]
  },
  {
   "cell_type": "code",
   "execution_count": 1,
   "id": "8025327e-6884-44e3-a987-83c4a6f6ab93",
   "metadata": {},
   "outputs": [],
   "source": [
    "import numpy as np\n",
    "\n",
    "def LJ_potential(r, epsilon, sigma):\n",
    "        \"\"\"\n",
    "        :param float r: Distance between particles (Å)\n",
    "        :param float epsilon: Potential energy at the equilibrium distance (eV)\n",
    "        :param float sigma: Distance at which the potential energy is zero (Å)\n",
    "        :returns: Lennard-Jones potential (eV)\n",
    "        \"\"\"\n",
    "        rm_6 = np.power(sigma/r, 6)\n",
    "        return 4 * epsilon * rm_6**2 - 4 * epsilon * rm_6\n",
    "\n",
    "def LJ_force(r, epsilon, sigma):\n",
    "        \"\"\"\n",
    "        :param float r: Distance between particles (Å)\n",
    "        :param float epsilon: Potential energy at the equilibrium distance (eV)\n",
    "        :param float sigma: Distance at which the potential energy is zero (Å)\n",
    "        :returns: Lennard-Jones force (eV/Å)\n",
    "        \"\"\"\n",
    "        rm_6 = np.power(sigma/r, 6)\n",
    "        return 48 * epsilon * rm_6**2 / r - 24 * epsilon * rm_6 / r"
   ]
  },
  {
   "cell_type": "code",
   "execution_count": 2,
   "id": "3dbf6079-3838-40b2-844d-4b0e4f75ac12",
   "metadata": {},
   "outputs": [
    {
     "data": {
      "text/plain": [
       "Text(0, 0.5, '$F$ (eV/Å)')"
      ]
     },
     "execution_count": 2,
     "metadata": {},
     "output_type": "execute_result"
    },
    {
     "data": {
      "image/png": "[encoded data removed]",
      "text/plain": [
       "<Figure size 576x432 with 2 Axes>"
      ]
     },
     "metadata": {
      "needs_background": "light"
     },
     "output_type": "display_data"
    }
   ],
   "source": [
    "%matplotlib inline\n",
    "import matplotlib.pyplot as plt\n",
    "\n",
    "r = np.linspace(2, 8, 100)\n",
    "epsilon = 0.013\n",
    "sigma = 3.4\n",
    "fig, ax = plt.subplots(figsize=(8, 6))\n",
    "ax.plot(r, LJ_potential(r, epsilon, sigma), 'r', alpha=0.8)\n",
    "ax.set_ylim(-0.02, 0.04)\n",
    "ax.set_xlabel(r'$r$ (Å)', fontsize=14)\n",
    "ax.set_ylabel(r'$E$ (eV)', fontsize=14, color=\"red\")\n",
    "ax.axhline(0, ls=\"--\")\n",
    "ax.axvline(sigma, ls=\"--\")\n",
    "\n",
    "ax2 = ax.twinx()\n",
    "ax2.plot(r, LJ_force(r, epsilon, sigma), 'b', alpha=0.8)\n",
    "ax2.set_ylim(-0.02, 0.04)\n",
    "ax2.set_ylabel(r'$F$ (eV/Å)', fontsize=14, color=\"blue\")"
   ]
  },
  {
   "cell_type": "markdown",
   "id": "e079d517-ec16-4492-86bc-3d6a9b417456",
   "metadata": {},
   "source": [
    "一般来说，Lennard-Jonesz之类的势能模型只可以描述自相互作用，即一个特定原子与另一个同类型原子之间的范德瓦尔斯相互作用。不同类型的原子之间如何相互作用是通过使用混合规则来实现的。例如，最常见的Lorentz-Berthelot规则：\n",
    "\n",
    "$$\\sigma_{ij} = \\dfrac{\\sigma_{ii} + \\sigma_{jj}}{2} \\;\\;\\;\\text{and}\\;\\;\\; \\varepsilon_{ij} = \\sqrt{\\varepsilon_{ii}\\varepsilon_{jj}}$$\n",
    "\n"
   ]
  },
  {
   "cell_type": "markdown",
   "id": "38743ebc-47fe-4c79-a0d1-9bd28db1d6d4",
   "metadata": {
    "tags": []
   },
   "source": [
    "### 2. 静电相互作用\n",
    "\n",
    "除了范德瓦尔斯相互作用之外，另一类重要的非共价相互作用是带电粒子之间的静电相互作用，使用库仑定律描述：\n",
    "\n",
    "$$E_{\\text{Coulomb}}(r) = \\frac{1}{4\\pi\\varepsilon_0}\\frac{q_iq_je^2}{r}$$\n",
    "\n",
    "其中，$q_i$和$q_j$是粒子上的电子电荷，e是电子的电荷，$\\varepsilon_0$是真空的介电率，r是两个点电荷之间的距离。\n",
    "\n",
    "相应的，库仑力为：\n",
    "\n",
    "$$F = \\dfrac{-\\partial E(r)}{\\partial r} = \\frac{1}{4\\pi\\varepsilon_0}\\frac{q_iq_je^2}{r^2} $$"
   ]
  },
  {
   "cell_type": "code",
   "execution_count": 3,
   "id": "8ec52745-7c06-4839-a829-e8ebce04d0d9",
   "metadata": {},
   "outputs": [],
   "source": [
    "import numpy as np\n",
    "from scipy.constants import elementary_charge, epsilon_0\n",
    "\n",
    "def Coulomb_potential(qi, qj, r):\n",
    "        \"\"\"\n",
    "        :param int qi: Electronic charge on particle i\n",
    "        :param int qj: Electronic charge on particle j\n",
    "        :param float r: Distance between particles (Å)\n",
    "        :returns: Coulomb potential (eV)\n",
    "        \"\"\"\n",
    "        energy_joules = qi*qj*elementary_charge**2 / (4*np.pi*epsilon_0*r*1e-10)\n",
    "        return energy_joules / elementary_charge\n",
    "\n",
    "def Coulomb_force(qi, qj, r):\n",
    "        \"\"\"\n",
    "        :param int qi: Electronic charge on particle i\n",
    "        :param int qj: Electronic charge on particle j\n",
    "        :param float r: Distance between particles (Å)\n",
    "        :returns: Force of the Coulombic interaction (eV/Å)\n",
    "        \"\"\"\n",
    "        energy_newton = qi*qj*elementary_charge**2 / (4*np.pi*epsilon_0*r**2*1e-20)\n",
    "        return energy_newton / elementary_charge * 1e-10"
   ]
  },
  {
   "cell_type": "code",
   "execution_count": 4,
   "id": "31a080ac-7e1e-43fe-a818-352d04e7f9bd",
   "metadata": {},
   "outputs": [
    {
     "data": {
      "text/plain": [
       "Text(0, 0.5, '$F$ (eV/Å)')"
      ]
     },
     "execution_count": 4,
     "metadata": {},
     "output_type": "execute_result"
    },
    {
     "data": {
      "image/png": "[encoded data removed]",
      "text/plain": [
       "<Figure size 576x432 with 2 Axes>"
      ]
     },
     "metadata": {
      "needs_background": "light"
     },
     "output_type": "display_data"
    }
   ],
   "source": [
    "%matplotlib inline\n",
    "import matplotlib.pyplot as plt\n",
    "\n",
    "r = np.linspace(2, 8, 100)\n",
    "qi = 1\n",
    "qj = -1\n",
    "fig, ax = plt.subplots(figsize=(8, 6))\n",
    "ax.plot(r, Coulomb_potential(qi, qj, r), 'r', alpha=0.8)\n",
    "ax.set_ylim(-6, 0)\n",
    "ax.set_xlabel(r'$r$ (Å)', fontsize=14)\n",
    "ax.set_ylabel(r'$E$ (eV)', fontsize=14, color=\"red\")\n",
    "\n",
    "ax2 = ax.twinx()\n",
    "ax2.plot(r, Coulomb_force(qi, qj, r), 'b', alpha=0.8)\n",
    "ax2.set_ylim(-6, 0)\n",
    "ax2.set_ylabel(r'$F$ (eV/Å)', fontsize=14, color=\"blue\")"
   ]
  },
  {
   "cell_type": "markdown",
   "id": "100003fe-36ed-4ad2-83ef-ec4a87a1d016",
   "metadata": {},
   "source": [
    "### 3. 化学键\n",
    "\n",
    "借助范德瓦尔斯相互作用和静电相互作用对原子进行模拟对于研究非共价材料非常有用。然而，为了真正探究一个系统的化学特性，我们还必须能够对化学键的相互作用进行数学建模。\n",
    "\n",
    "一个系统的化学键合的相互作用的势能通常是由键长、键角、二面角（扭转角）和其他高阶过程组成：\n",
    "\n",
    "$$E_{\\text{bonded}} = E_{\\text{bond}}(b) + E_{\\text{angle}}(\\theta) + E_{\\text{dihedral}}(\\phi) + \\ldots$$\n",
    "\n",
    "\n",
    "这里我们只介绍前两项，键长、键角对势能的贡献。"
   ]
  },
  {
   "cell_type": "markdown",
   "id": "da0b57e6-83de-4eeb-ae03-b870bccf66ad",
   "metadata": {},
   "source": [
    "#### 键长\n",
    "\n",
    "键长的影响通常可以用简谐势能函数来模拟：\n",
    "\n",
    "$$E_{\\text{bond}}(\\mathbf{r}) = \\frac{K_b}{2}(r - b_0)^2$$\n",
    "\n",
    "其中，$b_0$是平衡键长，$K_b$是该键的弹性系数。这些参数在使用前必须在借助实验或者第一性原理计算测定。\n",
    "\n",
    "下面是这个函数的一个例子，其中使用$H_2$分子中H-H键的参数。"
   ]
  },
  {
   "cell_type": "code",
   "execution_count": 5,
   "id": "6fa44b47-4c56-46fa-9071-8a69a1e0b1fe",
   "metadata": {},
   "outputs": [
    {
     "data": {
      "text/plain": [
       "Text(0, 0.5, '$E$ (eV)')"
      ]
     },
     "execution_count": 5,
     "metadata": {},
     "output_type": "execute_result"
    },
    {
     "data": {
      "image/png": "[encoded data removed]",
      "text/plain": [
       "<Figure size 432x288 with 1 Axes>"
      ]
     },
     "metadata": {
      "needs_background": "light"
     },
     "output_type": "display_data"
    }
   ],
   "source": [
    "%matplotlib inline\n",
    "import matplotlib.pyplot as plt\n",
    "\n",
    "def bond_length(kb, b0, r):\n",
    "    \"\"\"\n",
    "    :param float kb: Bond force constant (eV/Å^2)\n",
    "    :param float b0: Equilibrium bond length (Å)\n",
    "    :param float b: Bond length (Å)\n",
    "    :returns: Energy of the bonded interaction (eV)\n",
    "    \"\"\"\n",
    "    return kb / 2 * (r - b0) ** 2\n",
    "\n",
    "r = np.linspace(0.7, 0.8, 100)\n",
    "plt.plot(r, bond_length(25, 0.74, r))\n",
    "plt.xlabel(r'$r$ (Å)')\n",
    "plt.ylabel(r'$E$ (eV)')"
   ]
  },
  {
   "cell_type": "markdown",
   "id": "4a30865f-66e4-4f5c-96a4-52928ef7241a",
   "metadata": {},
   "source": [
    "如果键长偏离了平衡值，增大或者减小都会导致势能升高。"
   ]
  },
  {
   "cell_type": "markdown",
   "id": "a8641a4d-7e96-46aa-abbd-19ea124b5e28",
   "metadata": {},
   "source": [
    "#### 键角\n",
    "\n",
    "两个连接同一个原子的化学键之间的角度与势能之间的关系也可以使用一个简谐函数描述：\n",
    "\n",
    "$$E_{\\text{angle}}(\\theta) = \\frac{K_\\theta}{2}(\\theta - \\theta_0)^2$$\n",
    "\n",
    "其中，$\\theta$是测量的角度，$K_\\theta$是该角度的力常数，$\\theta_0$是平衡角度大小。这个函数与上面显示的键长-势能曲线具有相同的形状。\n",
    "\n",
    "下面以$H_2O$分子举例，其中参数为H-O键之间的键角。"
   ]
  },
  {
   "cell_type": "code",
   "execution_count": 6,
   "id": "e73aea88-e535-4958-a9af-2d5de96eb895",
   "metadata": {},
   "outputs": [
    {
     "data": {
      "text/plain": [
       "Text(0, 0.5, '$E$ (eV)')"
      ]
     },
     "execution_count": 6,
     "metadata": {},
     "output_type": "execute_result"
    },
    {
     "data": {
      "image/png": "[encoded data removed]",
      "text/plain": [
       "<Figure size 432x288 with 1 Axes>"
      ]
     },
     "metadata": {
      "needs_background": "light"
     },
     "output_type": "display_data"
    }
   ],
   "source": [
    "%matplotlib inline\n",
    "import matplotlib.pyplot as plt\n",
    "\n",
    "def bond_angle(k_theta, theta_0, theta):\n",
    "    \"\"\"\n",
    "    :param float kb: Bond force constant (eV/Arcdegree^2)\n",
    "    :param float b0: Equilibrium bond angle (Arcdegree)\n",
    "    :param float b: Bond angle (Arcdegree)\n",
    "    :returns: Energy of the bonded interaction (eV)\n",
    "    \"\"\"\n",
    "    return k_theta / 2 * (theta - theta_0) ** 2\n",
    "\n",
    "theta = np.linspace(90, 120, 100)\n",
    "plt.plot(theta, bond_angle(4e-4, 104.45, theta))\n",
    "plt.xlabel(r'$r$ (Å)')\n",
    "plt.ylabel(r'$E$ (eV)')"
   ]
  },
  {
   "cell_type": "markdown",
   "id": "0ab93eba-d12f-4e1c-ac1e-88c6315fdd20",
   "metadata": {
    "tags": []
   },
   "source": [
    "## 分子力场\n",
    "---\n",
    "\n",
    "在进行分子动力学模拟之前，需要针对特定的场景开发和参数化所需的力场。针对这个问题，科学家在前期研究中提出了多种适用于任何系统的通用力场，可以作为货架产品使用。\n",
    "\n",
    "这是是一些常见的通用型力场：\n",
    "\n",
    "* AMBER：常用于DNA和蛋白质\n",
    "* CFF：设计用于各种有机化合物\n",
    "* CHARMM：广泛用于小分子\n",
    "* GROMOS：常用于生物分子系统\n",
    "* OPLS-AA：针对液体模拟进行了优化\n",
    "\n",
    "尽管这些潜能模型是以通用性为目的开发的，但仍应谨慎使用。特定系统的化学成分可能与用于生成力场的系统不直接匹配，这可能导致模拟出现系统误差。"
   ]
  },
  {
   "cell_type": "markdown",
   "id": "81ef1901-074c-4e2b-b02e-1e5cf4745e81",
   "metadata": {},
   "source": [
    "## 边界条件\n",
    "---\n",
    "\n",
    "前一章中，我们让粒子在盒子边界上发生弹性碰撞。这样的模型只能处理非常有限的粒子数。\n",
    "\n",
    "要用这有限个粒子反映宏观相的热力学性质，只能借助于周期性边界来实现。\n",
    "\n",
    "如下图所示，黑盒子是我们模拟的唯一单元格。当绿色粒子经过单元格的顶部边界时，将被重新放置于盒子的底部（红色虚线所示），同时保持速度不变。我们通过模拟一个简单的单元格来接近了一个无限大的系统。\n",
    "\n",
    "这种边界条件使模拟中粒子的体积和数量保持不变，同时动量和能量保持不变。\n",
    "\n",
    "<img src=\"https://upload.wikimedia.org/wikipedia/commons/2/2e/Limiteperiodicite.svg\" style=\"width: 40%;\"/>"
   ]
  },
  {
   "cell_type": "markdown",
   "id": "85196991-6eee-41ec-8bb0-93010bd83f76",
   "metadata": {
    "tags": []
   },
   "source": [
    "## 约化单位\n",
    "---\n",
    "\n",
    "在分子动力学模拟中使用国际单位制（SI）是极为不便的。为了保持数据和代码的可读性，我们可以使用如下单位系统：\n",
    "\n",
    "* 质量 mass = a.m.u 或者 grams/mole\n",
    "* 长度 distance = Angstroms\n",
    "* 时间 time = femtoseconds\n",
    "* 能量 energy = eV\n",
    "* 力 force = eV/Angstrom\n",
    "* 温度 temperature = Kelvin\n",
    "* 电量 charge = multiple of electron charge (1.0 is a proton)\n",
    "\n",
    "在应用物理公式时，要遵循相应的转换规则。\n",
    "\n",
    "例如，计算数据中$a$的单位使用$[\\mathbf{Angstrom/fs^{2}}]$，但是$\\frac{\\mathbf{f}}{m}$的单位为$[\\mathbf{\\frac{eV/Angstrom}{amu}}]$，则牛顿第二定律计算的加速度数值应当做如下变换：\n",
    "\n",
    "$$[\\mathbf{\\frac{eV/Angstrom}{amu}}] = {Avogadro \\times ElementaryCharge \\times 10^{-7}} [\\mathbf{Angstrom/fs^{2}}]$$\n",
    "\n",
    "其中 Avogadro 为阿伏伽德罗常数，ElementaryCharge 为质子电量。"
   ]
  },
  {
   "cell_type": "code",
   "execution_count": 7,
   "id": "8149b8c2-dae7-4642-a26b-2ca6c8ea6fa4",
   "metadata": {},
   "outputs": [
    {
     "name": "stdout",
     "output_type": "stream",
     "text": [
      "6.02214076e+23 1.602176634e-19\n",
      "The conversion rate is 0.00965 \n"
     ]
    }
   ],
   "source": [
    "from scipy.constants import Avogadro, elementary_charge\n",
    "\n",
    "print(Avogadro, elementary_charge)\n",
    "print(\"The conversion rate is %.5f \"%(Avogadro*elementary_charge*1e-7))"
   ]
  },
  {
   "cell_type": "markdown",
   "id": "b0515ba6-3b93-4e03-a9e4-e95988d65365",
   "metadata": {
    "tags": []
   },
   "source": [
    "## 分子动力学模拟\n",
    "---\n",
    "\n",
    "我们使用分子动力学方法和Lennard-Jones势，对惰性单原子气体Ar的二维热运动进行模拟。"
   ]
  },
  {
   "cell_type": "markdown",
   "id": "1a16a904-8f1d-4650-9d38-c3766371d659",
   "metadata": {
    "tags": []
   },
   "source": [
    "### 1. 力和加速度\n",
    "\n",
    "我们研究的粒子的运动是纯经典的，因此我们可以应用经典力学来研究其动态行为。牛顿第二运动定律：\n",
    "\n",
    "$$\\mathbf{f} = m\\mathbf{a}$$\n",
    "\n",
    "其中$\\mathbf{f}$是质量为$m$的原子上受到的合外力，其加速度为$\\mathbf{a}$。\n",
    "\n",
    "任意两个粒子之间的力相互作用力$\\mathbf{f}$，可以从相互作用能量$E(r)$中找到。\n",
    "\n",
    "$$f = \\dfrac{-\\partial E(r)}{\\partial r}$$\n",
    "\n",
    "这就是说，力是能量相对于粒子位置的一阶导数的负数。我们将使用前面创建的函数，从Lennard-Jones势中计算出力。"
   ]
  },
  {
   "cell_type": "markdown",
   "id": "38c1c7a7-83df-462c-b92e-5a021559680a",
   "metadata": {},
   "source": [
    "#### Lennard-Jones truncated & shifted (LJTS) potential\n",
    "\n",
    "在实际运算中，出于计算效率的考虑，可以忽略Lennard-Jones的长程作用，将其在特定距离上进行截断，从而得到LJTS势。最常用的截断距离是平衡距离的2.5倍。"
   ]
  },
  {
   "cell_type": "code",
   "execution_count": 8,
   "id": "9e5922e7-f520-4228-a0c3-aa8333297cad",
   "metadata": {},
   "outputs": [],
   "source": [
    "import numpy as np\n",
    "\n",
    "def LJ_shifted_potential(r, epsilon, sigma):\n",
    "        \"\"\"\n",
    "        :param float r: Distance between particles (Å)\n",
    "        :param float epsilon: Potential energy at the equilibrium distance (eV)\n",
    "        :param float sigma: Distance at which the potential energy is zero (Å)\n",
    "        :returns: Lennard-Jones potential (eV)\n",
    "        \"\"\"\n",
    "        r_cutoff = 2.5 * sigma\n",
    "        r_cutoffm_6 = np.power(sigma/r_cutoff, 6)\n",
    "        potential_shift = 4 * epsilon * r_cutoffm_6**2 - 4 * epsilon * r_cutoffm_6\n",
    "        rm_6 = np.power(sigma/r, 6)\n",
    "        LJ_shifted_potential = 4 * epsilon * rm_6**2 - 4 * epsilon * rm_6\n",
    "        return LJ_shifted_potential - potential_shift"
   ]
  },
  {
   "cell_type": "code",
   "execution_count": 9,
   "id": "f8a0ab99-d0d7-404c-82a9-a63ac69e33ae",
   "metadata": {},
   "outputs": [
    {
     "data": {
      "text/plain": [
       "<matplotlib.lines.Line2D at 0x7f2c05173700>"
      ]
     },
     "execution_count": 9,
     "metadata": {},
     "output_type": "execute_result"
    },
    {
     "data": {
      "image/png": "[encoded data removed]",
      "text/plain": [
       "<Figure size 576x432 with 1 Axes>"
      ]
     },
     "metadata": {
      "needs_background": "light"
     },
     "output_type": "display_data"
    }
   ],
   "source": [
    "%matplotlib inline\n",
    "import matplotlib.pyplot as plt\n",
    "\n",
    "r = np.linspace(2, 10, 100)\n",
    "epsilon = 0.013\n",
    "sigma = 3.4\n",
    "fig, ax = plt.subplots(figsize=(8, 6))\n",
    "ax.plot(r, LJ_potential(r, epsilon, sigma), 'r', alpha=0.8)\n",
    "ax.plot(r, LJ_shifted_potential(r, epsilon, sigma), 'b', alpha=0.8)\n",
    "ax.set_ylim(-0.015, 0.005)\n",
    "ax.set_xlabel(r'$r$ (Å)', fontsize=14)\n",
    "ax.set_ylabel(r'$E$ (eV)', fontsize=14, color=\"red\")\n",
    "ax.axhline(0, ls=\"--\")\n",
    "ax.axvline(sigma, ls=\"--\")\n",
    "ax.axvline(2.5 * sigma, ls=\"--\")"
   ]
  },
  {
   "cell_type": "markdown",
   "id": "8403eeb8-dbc8-4b74-b515-a1a14decf195",
   "metadata": {},
   "source": [
    "### 2. 数值积分\n",
    "\n",
    "牛顿运动方程是一个二阶微分方程，虽然我们无法使用解析方法处理描述所有粒子运动的微分方程组，但是我们可以借助因变量离散化思想，使用数值方法求解其轨迹方程。\n",
    "\n",
    "$$\\mathbf{x}_i(t + \\Delta t) = \\mathbf{x}_i(t) + \\mathbf{v}_i(t)\\Delta t + \\dfrac{1}{2} \\mathbf{a}_i(t)\\Delta t^2$$\n",
    "$$\\mathbf{v}_i(t + \\Delta t) = \\mathbf{v}_i(t) + \\dfrac{1}{2}\\big[\\mathbf{a}_i(t) + \\mathbf{a}_i(t+\\Delta t)\\big]\\Delta t$$\n",
    "\n",
    "其中，$\\Delta t$是时间步长（时间的增量），$\\mathbf{x}_i$是粒子位置，$\\mathbf{v}_i$是速度，$\\mathbf{a}_i$是加速度。这对方程被称为Velocity-Verlet算法，其基本流程为：\n",
    "1. 计算粒子上的力（得到加速度）\n",
    "2. 计算某个时间段后粒子的位置\n",
    "3. 在新位置上计算新的力和新的加速度\n",
    "4. 根据旧位置和新位置的平均加速度，确定粒子的新速度\n",
    "5. 重复以上步骤"
   ]
  },
  {
   "cell_type": "code",
   "execution_count": 10,
   "id": "4e405f7d-7b94-40c4-8625-99b940f14c1b",
   "metadata": {},
   "outputs": [],
   "source": [
    "import numpy as np\n",
    "from scipy.spatial.distance import pdist, squareform\n",
    "from scipy.constants import Avogadro, elementary_charge\n",
    "\n",
    "class MDsimulation:\n",
    "\n",
    "    def __init__(self, pos, vel, box_size, m=39.948, epsilon=0.0103, sigma=3.4, pbc=True):\n",
    "        \"\"\"\n",
    "        Initialize the simulation with identical particles of mass m.\n",
    "        The intermolecular interactions are described using Lennard-Jones potential.\n",
    "        The n x 2 state arrays pos and vel hold the n particles'\n",
    "        positions in their rows as (x_i, y_i) and (vx_i, vy_i).\n",
    "        \"\"\"\n",
    "        self.pos = np.array(pos, dtype=float)  # Å\n",
    "        self.vel = np.array(vel, dtype=float)  # Å/fs\n",
    "        self.box_size = box_size  # Å\n",
    "        self.n = self.pos.shape[0]\n",
    "        self.m = m / Avogadro / elementary_charge * 1e7  # amu to eVfs^2/Å^2\n",
    "        self.epsilon = epsilon  # eV\n",
    "        self.sigma = sigma  # Å\n",
    "        self.r_cutoff = 2.5 * sigma  # Å\n",
    "        self.pbc = pbc\n",
    "        self.force = self.update_force(pos)  # eV/Å, Å\n",
    "        self.t = 0  # femtosecond\n",
    "\n",
    "    def LJ_shifted_potential(self, r):\n",
    "        \"\"\"\n",
    "        Lennard-Jones truncated & shifted (LJTS) potential\n",
    "        :param float r: Distance between particles (Å)\n",
    "        :param float epsilon: Potential energy at the equilibrium distance (eV)\n",
    "        :param float sigma: Distance at which the potential energy is zero (Å)\n",
    "        :returns: Lennard-Jones potential (eV)\n",
    "        \"\"\"\n",
    "        r_cutoffm_6 = np.power(self.sigma/self.r_cutoff, 6)\n",
    "        potential_shift = 4 * self.epsilon * r_cutoffm_6**2 - 4 * self.epsilon * r_cutoffm_6\n",
    "        rm_6 = np.power(self.sigma/r, 6)\n",
    "        LJ_potential = 4 * self.epsilon * rm_6**2 - 4 * self.epsilon * rm_6\n",
    "        return LJ_potential - potential_shift\n",
    "\n",
    "    def LJ_shifted_force(self, r):\n",
    "        \"\"\"\n",
    "        Calculate force (eV/Å) using Lennard-Jones truncated & shifted (LJTS) potential\n",
    "        \"\"\"\n",
    "        rm_6 = np.power(self.sigma/r, 6)\n",
    "        LJ_force = 48 * self.epsilon * rm_6**2 / r - 24 * self.epsilon * rm_6 / r\n",
    "        r_cutoffm_6 = np.power(self.sigma/self.r_cutoff, 6)\n",
    "        LJ_shifted_force = 48 * self.epsilon * r_cutoffm_6**2 / r - 24 * self.epsilon * r_cutoffm_6 / r\n",
    "        return LJ_force - LJ_shifted_force\n",
    "\n",
    "    def update_force(self, pos):\n",
    "        \"\"\"\n",
    "        Update forces\n",
    "        \"\"\"\n",
    "        force = np.zeros_like(pos)\n",
    "        if self.pbc is True:\n",
    "            pos_left = pos[pos[:,0] < self.r_cutoff] + [self.box_size[0],0]\n",
    "            pos_right = pos[pos[:,0] > (self.box_size[0] - self.r_cutoff)] - [self.box_size[0],0]\n",
    "            pos_extended = np.concatenate((pos, pos_left, pos_right))\n",
    "            pos_top =  pos[pos[:,1] < self.r_cutoff] + [0, self.box_size[1]]\n",
    "            pos_bottom =  pos[pos[:,1] > (self.box_size[1] - self.r_cutoff)] - [0, self.box_size[1]]\n",
    "            self.pos_extended = np.concatenate((pos_extended, pos_top, pos_bottom))\n",
    "        else:\n",
    "            self.pos_extended = pos\n",
    "        self.dist = squareform(pdist(self.pos_extended))\n",
    "        iarr, jarr = np.where(self.dist < self.r_cutoff)\n",
    "        for i, j in zip(iarr, jarr):\n",
    "            if i == j: continue\n",
    "            if i >= self.n: continue\n",
    "            r = self.dist[i, j]\n",
    "            force[i] += self.LJ_shifted_force(r) * (self.pos_extended[i] - self.pos_extended[j]) / r\n",
    "        return force\n",
    "\n",
    "    def advance(self, dt):\n",
    "        \"\"\"\n",
    "        Advance the simulation by dt femtosecond.\n",
    "        \"\"\"\n",
    "        self.t += dt\n",
    "        # Update the particles' positions and velocities using Velocity-Verlet algorithm\n",
    "        a_0 = self.force / self.m\n",
    "        self.pos += self.vel * dt + 0.5 * a_0 * dt**2\n",
    "        self.force = self.update_force(self.pos)\n",
    "        a_1 = self.force / self.m\n",
    "        self.vel += 0.5 * (a_0 + a_1) * dt\n",
    "        if self.pbc is True:\n",
    "            self.pos = self.pos % self.box_size\n",
    "        else:\n",
    "            # Bounce the particles off the walls by reflecting their velocity vectors\n",
    "            hit_left_wall = self.pos[:, 0] < 0\n",
    "            hit_right_wall = self.pos[:, 0] > self.box_size[0]\n",
    "            hit_bottom_wall = self.pos[:, 1] < 0\n",
    "            hit_top_wall = self.pos[:, 1] > self.box_size[1]\n",
    "            self.vel[hit_left_wall | hit_right_wall, 0] *= -1\n",
    "            self.vel[hit_bottom_wall | hit_top_wall, 1] *= -1\n",
    "\n",
    "    def get_potential_energy(self):\n",
    "        \"\"\"\n",
    "        :param float vel: Positions of particles (Å)\n",
    "        :returns: Total potential_energy (eV)\n",
    "        \"\"\"\n",
    "        potential_energy = 0.0\n",
    "        iarr, jarr = np.where(self.dist > 0.1)\n",
    "        for i, j in zip(iarr, jarr):\n",
    "            if i >= j or i >= self.n: continue\n",
    "            r = self.dist[i, j]\n",
    "            potential_energy += self.LJ_shifted_potential(r)\n",
    "        return potential_energy\n",
    "\n",
    "    def get_kinetic_energy(self):\n",
    "        \"\"\"Returns the total kinetic_energy (eV) \"\"\"\n",
    "        return np.sum(0.5 * self.m * np.sum((self.vel)**2, axis=1))\n",
    "\n",
    "    def get_temperature(self):\n",
    "        \"\"\"Returns the temperature (K)\"\"\"\n",
    "        mean_kinetic_energy = self.get_kinetic_energy() / self.n\n",
    "        return mean_kinetic_energy * elementary_charge / Boltzmann\n",
    "\n",
    "    def get_pressure(self):\n",
    "        \"\"\"Returns the pressure (eV/Å^2)\"\"\"\n",
    "        mean_kinetic_energy = self.get_kinetic_energy() \n",
    "        volume = np.prod(self.box_size)\n",
    "        return mean_kinetic_energy / volume"
   ]
  },
  {
   "cell_type": "markdown",
   "id": "f9b0dbca-944e-447f-b080-19baa16fb22f",
   "metadata": {},
   "source": [
    "上述过程是单步数值积分，Velocity-Verlet算法是我们使用的积分器。\n",
    "\n",
    "这个算法对于两个以上的粒子是高度非线性的，其只对非常小的$\\Delta t$有效，如果使用较大的时间步长，计算出的加速度将不准确，因为原子所受外力在该时间间隔内可能发生很大变化。\n",
    "\n",
    "时间步长的通常选择是$10^{-15}$秒（飞秒）。因此，为了模拟一纳秒的 \"实时 \"分子动力学，必须使用上述算法进行一百万次迭代。这对于大型的系统（例如生物分子）来说可能是非常缓慢的。"
   ]
  },
  {
   "cell_type": "markdown",
   "id": "01eec478-53f2-4412-98aa-a415ff7166e7",
   "metadata": {
    "tags": []
   },
   "source": [
    "### 3. 模型初始化\n",
    "\n",
    "在运行分子动力学模拟之前，我们还需要设置系统的初始状态：$t=0$时粒子的位置和速度。\n",
    "\n",
    "粒子的位置可以从结构数据库（例如蛋白质结构数据库或者晶体学数据库）获取，或者基于对系统的认识自行构建（例如，具有面心立方结构的CaF2的表面模型）。这个初始结构的重要性怎么强调都不为过。如果初始结构不能代表平衡结构，可能需要很长时间才能得到平衡结构，或者永远无法获得合理结构。\n",
    "\n",
    "对粒子速度进行初始化的过程更为普通。因为系统的总动能$E_K$取决于模拟的温度$T$。\n",
    "\n",
    "$$E_K = \\sum_{i=1}^N \\dfrac{m_i|v_i|^2}{2} = \\dfrac{3}{2}Nk_BT$$\n",
    "\n",
    "其中，$m_i$是粒子i的质量，N是粒子的数量，$k_B$是玻尔兹曼常数。\n",
    "\n",
    "对于我们将要模拟的二维系统，粒子总动能和温度的关系为：\n",
    "\n",
    "$$E_K = Nk_BT$$"
   ]
  },
  {
   "cell_type": "code",
   "execution_count": 11,
   "id": "1f2eceaa-f2e4-4938-979c-02f6ae144221",
   "metadata": {},
   "outputs": [
    {
     "name": "stdout",
     "output_type": "stream",
     "text": [
      "The root mean square velocity of Ar at 300K is 0.0035 Å/fs\n"
     ]
    }
   ],
   "source": [
    "from scipy.constants import Boltzmann, Avogadro\n",
    "\n",
    "def initial_velocity(T, mass):\n",
    "    \"\"\"\n",
    "    :param float T: Temprature (K)\n",
    "    :param float T: Mass of particle (amu)\n",
    "    :returns: root mean square velocity of particles (Å/fs)\n",
    "    \"\"\"\n",
    "    mass_Kg = mass / 1e3 / Avogadro\n",
    "    knetic_energy_joules = Boltzmann * T\n",
    "    velocity = np.sqrt(2*knetic_energy_joules/mass_Kg)  # m/s\n",
    "    return velocity / 1e5  # convert to Å/fs\n",
    "\n",
    "amu_Ar = 39.948\n",
    "epsilon = 0.0103\n",
    "sigma = 3.4\n",
    "\n",
    "# RMS Veocity at room temprature\n",
    "rms_velocity = initial_velocity(300, amu_Ar)\n",
    "print('The root mean square velocity of Ar at 300K is %.4f Å/fs' %(rms_velocity))"
   ]
  },
  {
   "cell_type": "markdown",
   "id": "6d512c4f-5e26-4cd9-9f81-49963082d37d",
   "metadata": {},
   "source": [
    "我们将使用如下参数对模型进行初始化：\n",
    "1. 系统的尺寸为10 nm × 10 nm\n",
    "2. 粒子的初始位置为随机值，最小间距为3 Å\n",
    "2. 系统的初始温度为300 K，对应于粒子的初始速率为0.0035 Å/fs\n",
    "3. 粒子的初始运动方向为随机值\n",
    "4. 使用NVE系综（孤立系统），即粒子数、系统尺寸和系统总能量保持不变"
   ]
  },
  {
   "cell_type": "code",
   "execution_count": 12,
   "id": "d717db8c-5e5d-4a7b-8622-799c2dcd0e09",
   "metadata": {},
   "outputs": [],
   "source": [
    "n = 64\n",
    "box_size = np.array([100, 100])\n",
    "pos = np.random.random((n, 2)) * (box_size - sigma) + sigma/2 \n",
    "while np.min(pdist(pos)) < 3:\n",
    "    pos = np.random.random((n, 2)) * (box_size - sigma) + sigma/2\n",
    "\n",
    "vel_dir = np.random.random((n, 2))-0.5\n",
    "vel = rms_velocity * vel_dir / np.atleast_2d(np.linalg.norm(vel_dir, axis=1)).T"
   ]
  },
  {
   "cell_type": "code",
   "execution_count": 13,
   "id": "04d541d6-1fee-4bc7-b9df-1b3f5828e543",
   "metadata": {},
   "outputs": [
    {
     "data": {
      "text/plain": [
       "<matplotlib.collections.PathCollection at 0x7f2c050d52b0>"
      ]
     },
     "execution_count": 13,
     "metadata": {},
     "output_type": "execute_result"
    },
    {
     "data": {
      "image/png": "[encoded data removed]",
      "text/plain": [
       "<Figure size 576x576 with 1 Axes>"
      ]
     },
     "metadata": {
      "needs_background": "light"
     },
     "output_type": "display_data"
    }
   ],
   "source": [
    "%matplotlib inline\n",
    "import matplotlib.pyplot as plt\n",
    "\n",
    "sim = MDsimulation(pos, vel, box_size)\n",
    "\n",
    "fig, ax = plt.subplots(figsize=(8, 8))\n",
    "ax.set_aspect(1)\n",
    "ax.scatter(sim.pos[:,0], sim.pos[:,1], s=100)"
   ]
  },
  {
   "cell_type": "markdown",
   "id": "d978736e-18c9-4e8e-b482-e1a0654bd5bb",
   "metadata": {
    "tags": []
   },
   "source": [
    "### 4. 粒子的动能和势能\n",
    "\n",
    "系统的总能包括动能和势能。动能项和势能会相互转换，因此体系的温度（粒子动能）会变化或者波动。"
   ]
  },
  {
   "cell_type": "code",
   "execution_count": 14,
   "id": "4acad4d8-098b-4614-915a-c6b75a6a008c",
   "metadata": {},
   "outputs": [
    {
     "name": "stdout",
     "output_type": "stream",
     "text": [
      "The initial temperature is 300.000 K\n",
      "The initial kinetic energy is 1.655 eV\n",
      "The initial potential energy is 0.461 eV\n",
      "The initial total energy is 2.115 eV\n"
     ]
    }
   ],
   "source": [
    "print('The initial temperature is %.3f K' %(sim.get_temperature()))\n",
    "print('The initial kinetic energy is %.3f eV' %(sim.get_kinetic_energy()))\n",
    "print('The initial potential energy is %.3f eV' %(sim.get_potential_energy()))\n",
    "print('The initial total energy is %.3f eV' %(sim.get_kinetic_energy()\n",
    "                                              + sim.get_potential_energy()))"
   ]
  },
  {
   "cell_type": "markdown",
   "id": "9f5384f5-f596-405c-9ab4-22ac26af0bfa",
   "metadata": {},
   "source": [
    "### 5. 模拟开始"
   ]
  },
  {
   "cell_type": "code",
   "execution_count": 15,
   "id": "197b5801-0529-4ce6-90c8-5ab84151f433",
   "metadata": {},
   "outputs": [
    {
     "name": "stdout",
     "output_type": "stream",
     "text": [
      "Simulation Time    10.000  ps\n",
      "Temperature        293.596  K\n",
      "Kinetic energy     1.619  eV\n",
      "Potential energy   0.465  eV\n",
      "Total energy       2.084  eV\n",
      "1.37 s ± 0 ns per loop (mean ± std. dev. of 1 run, 1 loop each)\n"
     ]
    }
   ],
   "source": [
    "%%timeit -n 1 -r 1\n",
    "run_time = 1e4  #  10 ps\n",
    "dt = 10\n",
    "for i in range(int(run_time/dt)):\n",
    "    sim.advance(dt)\n",
    "\n",
    "print('Simulation Time    %.3f  ps' %(sim.t/1000))\n",
    "print('Temperature        %.3f  K' %(sim.get_temperature()))\n",
    "print('Kinetic energy     %.3f  eV' %(sim.get_kinetic_energy()))\n",
    "print('Potential energy   %.3f  eV' %(sim.get_potential_energy()))\n",
    "print('Total energy       %.3f  eV' %(sim.get_kinetic_energy() \n",
    "                                      + sim.get_potential_energy()))"
   ]
  },
  {
   "cell_type": "code",
   "execution_count": 16,
   "id": "816fc848-d9b7-4fa7-a9a5-9db7ea0686bd",
   "metadata": {},
   "outputs": [
    {
     "data": {
      "text/plain": [
       "<matplotlib.collections.PathCollection at 0x7f2c040ada90>"
      ]
     },
     "execution_count": 16,
     "metadata": {},
     "output_type": "execute_result"
    },
    {
     "data": {
      "image/png": "[encoded data removed]",
      "text/plain": [
       "<Figure size 576x576 with 1 Axes>"
      ]
     },
     "metadata": {
      "needs_background": "light"
     },
     "output_type": "display_data"
    }
   ],
   "source": [
    "%matplotlib inline\n",
    "import matplotlib.pyplot as plt\n",
    "\n",
    "fig, ax = plt.subplots(figsize=(8, 8))\n",
    "ax.set_aspect(1)\n",
    "vel_norm = np.linalg.norm(sim.vel, axis=1)\n",
    "colors = [plt.cm.rainbow(p) for p in vel_norm/vel_norm.max()]\n",
    "ax.scatter(sim.pos[:,0], sim.pos[:,1], c=colors, s=100)"
   ]
  },
  {
   "cell_type": "markdown",
   "id": "fe3d85b7-3073-4d1f-93c7-89cf397b01a4",
   "metadata": {},
   "source": [
    "### 6. 可视化\n",
    "\n",
    "我们使用不用的颜色标记不同速度的粒子，红色表示高速，蓝色表示低速。"
   ]
  },
  {
   "cell_type": "code",
   "execution_count": 17,
   "id": "cc59c0fe-3ec8-49bc-9816-42c2ea477c7e",
   "metadata": {},
   "outputs": [
    {
     "data": {
      "application/vnd.jupyter.widget-view+json": {
       "model_id": "387f5e4107104c7a939be584810e7dc2",
       "version_major": 2,
       "version_minor": 0
      },
      "text/html": [
       "\n",
       "            <div style=\"display: inline-block;\">\n",
       "                <div class=\"jupyter-widgets widget-label\" style=\"text-align: center;\">\n",
       "                    Figure\n",
       "                </div>\n",
       "                <img src='data:image/png;base64,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' width=576.0/>\n",
       "            </div>\n",
       "        "
      ],
      "text/plain": [
       "Canvas(toolbar=Toolbar(toolitems=[('Home', 'Reset original view', 'home', 'home'), ('Back', 'Back to previous …"
      ]
     },
     "metadata": {},
     "output_type": "display_data"
    }
   ],
   "source": [
    "%matplotlib widget\n",
    "from matplotlib import pyplot as plt\n",
    "from matplotlib.animation import FuncAnimation\n",
    "\n",
    "fig = plt.figure(figsize=(8, 8))\n",
    "ax = fig.add_subplot(111, aspect='equal', autoscale_on=False)\n",
    "ax.set_xlim(0, sim.box_size[0])\n",
    "ax.set_ylim(0, sim.box_size[1])\n",
    "ax.set_xticks([])\n",
    "ax.set_yticks([])\n",
    "\n",
    "vel_norm = np.linalg.norm(sim.vel, axis=1)\n",
    "colors = [plt.cm.rainbow(p) for p in vel_norm/vel_norm.max()]\n",
    "particles = ax.scatter(sim.pos[:,0], sim.pos[:,1], c=colors, s=100)\n",
    "label = ax.text(0.05 * sim.box_size[0], 0.05 * sim.box_size[1], '$time$ = {:.2f} ps and $temperature$ = {:.1f} K'.format(0, 0), size=12)\n",
    "\n",
    "def animate(i):\n",
    "    dt = 10\n",
    "    for nsteps in range(50):  # plot every 0.5 ps\n",
    "        sim.advance(dt)\n",
    "    particles.set_offsets(sim.pos)\n",
    "    vel_norm = np.linalg.norm(sim.vel, axis=1)\n",
    "    colors = [plt.cm.rainbow(p) for p in vel_norm/vel_norm.max()]\n",
    "    particles.set_color(colors)\n",
    "    label.set_text('$time$ = {:.1f} ps and $temperature$ = {:.1f} K'.format(sim.t/1000, sim.get_temperature()))\n",
    "    return particles, label\n",
    "\n",
    "anim = FuncAnimation(fig, animate, frames=200, interval=100, repeat=False, blit=False)\n",
    "\n",
    "#anim.save('Ar_gas_LJ.gif', writer='imagemagick', fps=10)"
   ]
  },
  {
   "cell_type": "markdown",
   "id": "0ea1d5ac-d357-468d-a74c-ee5f5ec2dfa9",
   "metadata": {},
   "source": [
    "### 7. 平衡态和相变\n",
    "\n",
    "模拟的系统趋于平衡的一个特征就是宏观物理量（例如温度）趋于稳定。\n",
    "\n",
    "除非关注的是非平衡过程，一般情况下分子动力学模拟需要在平衡态下进行统计数据采集。"
   ]
  },
  {
   "cell_type": "markdown",
   "id": "7ad4af2f-8639-4337-8b61-d776dc9cae1f",
   "metadata": {},
   "source": [
    "对粒子的速度进行比例缩小，可以降低体系的瞬时温度，同时使体系短暂脱离平衡态。体系恢复到平衡态后，一部分势能会转换成动能，导致温度会有一定回升。"
   ]
  },
  {
   "cell_type": "code",
   "execution_count": 18,
   "id": "c016536a-fe78-4398-85db-ad03cdf35ec3",
   "metadata": {},
   "outputs": [
    {
     "name": "stdout",
     "output_type": "stream",
     "text": [
      "The instaneous temperature is 81.424 K\n"
     ]
    }
   ],
   "source": [
    "sim.vel /= 2\n",
    "\n",
    "print('The instaneous temperature is %.3f K' %(sim.get_temperature()))"
   ]
  },
  {
   "cell_type": "code",
   "execution_count": 19,
   "id": "41f59527-d706-4d34-ae20-30063bdf7282",
   "metadata": {},
   "outputs": [
    {
     "name": "stdout",
     "output_type": "stream",
     "text": [
      "The instaneous temperature is 92.560 K\n"
     ]
    }
   ],
   "source": [
    "run_time = 1e4  # 10 ps\n",
    "dt = 10\n",
    "\n",
    "for i in range(int(run_time/dt)):\n",
    "    sim.advance(dt)\n",
    "\n",
    "print('The instaneous temperature is %.3f K' %(sim.get_temperature()))"
   ]
  },
  {
   "cell_type": "markdown",
   "id": "0e397db5-8f22-4d1f-9483-e42bb252ea68",
   "metadata": {},
   "source": [
    "Ar的沸点是87.3K，融点是83.8K。逐步降低温度，可以得到密堆排列的分子晶体。"
   ]
  },
  {
   "cell_type": "code",
   "execution_count": 20,
   "id": "40afd38b-1d47-4911-b1b9-13f1e1a2c0c5",
   "metadata": {},
   "outputs": [
    {
     "name": "stdout",
     "output_type": "stream",
     "text": [
      "The instaneous temperature is 42.320 K\n",
      "The instaneous temperature is 24.396 K\n"
     ]
    },
    {
     "data": {
      "text/plain": [
       "<matplotlib.collections.PathCollection at 0x7f3d00048220>"
      ]
     },
     "execution_count": 20,
     "metadata": {},
     "output_type": "execute_result"
    },
    {
     "data": {
      "image/png": "[encoded data removed]",
      "text/plain": [
       "<Figure size 576x576 with 1 Axes>"
      ]
     },
     "metadata": {
      "needs_background": "light"
     },
     "output_type": "display_data"
    }
   ],
   "source": [
    "%matplotlib inline\n",
    "import matplotlib.pyplot as plt\n",
    "\n",
    "run_time = 2e4  # 20 ps\n",
    "sim.vel /= 2\n",
    "for i in range(int(run_time/dt)):\n",
    "    sim.advance(dt)\n",
    "\n",
    "print('The instaneous temperature is %.3f K' %(sim.get_temperature()))\n",
    "\n",
    "run_time = 2e4  # 20 ps\n",
    "sim.vel /= 2\n",
    "for i in range(int(run_time/dt)):\n",
    "    sim.advance(dt)\n",
    "\n",
    "print('The instaneous temperature is %.3f K' %(sim.get_temperature()))\n",
    "\n",
    "fig, ax = plt.subplots(figsize=(8, 8))\n",
    "ax.set_aspect(1)\n",
    "vel_norm = np.linalg.norm(sim.vel, axis=1)\n",
    "colors = [plt.cm.rainbow(p) for p in vel_norm/vel_norm.max()]\n",
    "ax.scatter(sim.pos[:,0], sim.pos[:,1], c=colors, s=100)"
   ]
  },
  {
   "cell_type": "markdown",
   "id": "dc305e0a-e684-4ef5-a062-c7ddeda74973",
   "metadata": {},
   "source": [
    "## 系综\n",
    "---\n",
    "\n",
    "在统计物理中，系综（ensemble）代表一定条件下一个体系的大量可能状态的集合。也就是说，系综是系统状态的一个概率分布。具有相同宏观性质（例如温度）的体系，其微观状态（例如粒子的位置和速度）仍然可以大不相同。实际上，对于一个宏观体系，所有可能的微观状态数是天文数字。\n",
    "\n",
    "统计物理的一个原理（各态历经原理）是：对于一个处于平衡的体系，物理量的时间平均，等于对对应系综里所有体系进行平均的结果。体系的平衡态的物理性质可以对不同的微观状态求和来得到。\n",
    "\n",
    "前面介绍的分子动力学模拟示例使用了NVE系综或微正则系综（microcanonical ensemble），其中粒子数（N）、系统体积（V）和系统能量（E）都保持不变。\n",
    "\n",
    "常用的系综还有：\n",
    "* NVT系综或正则系综（canonical  ensemble），其中粒子数（N）、系统体积（V）和系统温度（T）都保持不变，系综内各体系可以和外界交换能量。\n",
    "* NPT系综或等温等压系综（isothermal-isobaric ensemble）：正则系综的推广，各体系可以和外界环境交换能量和体积，但系综内各个体系有相同的温度和压强。"
   ]
  },
  {
   "cell_type": "markdown",
   "id": "f9d63628-f6b4-4951-bb00-e1faf95ace9c",
   "metadata": {},
   "source": [
    "### 恒温器\n",
    "\n",
    "对于这些系综，有必要确定一种方法来调节系统的温度。最简单（不一定最合理）的方法，是速度缩放，使整个系统的动能更准确地符合所需温度的要求。系统的瞬时温度$T_{\\text{inst}}$被定义为：\n",
    "\n",
    "$$T_{\\text{inst}} = \\frac{\\sum^N_{i=0}{m_i v_i^2}}{2Nk_B}$$\n",
    "\n",
    "其中，N是粒子的数量，$m_i$是粒子i的质量，$v_i$是粒子i的速度，$k_B$是玻尔兹曼常数。\n",
    "\n",
    "这意味着，粒子的速度可以通过以下关系来重新分配:\n",
    "\n",
    "$$v_i = v_i \\sqrt{\\dfrac{T_{\\text{target}}}{\\bar{T}}}$$\n",
    "\n",
    "其中$T_{\\text{target}}$是恒温器的目标温度，$\\bar{T}$是平均模拟温度。\n",
    "\n",
    "还有其他各种恒温方法，如Anderson、Nosé-Hoover或Berendsen方法。\n",
    "\n",
    "为了实现NPT系综，除了恒温器之外，还必须使用限流器。限流器用于控制系统的体积变化，从而使压力在整个模拟过程中保持不变。"
   ]
  },
  {
   "cell_type": "code",
   "execution_count": 85,
   "id": "a150c501-50f8-4359-93a5-b5b21aad9e5b",
   "metadata": {},
   "outputs": [],
   "source": [
    "class MD_NVT(MDsimulation):\n",
    "\n",
    "    def thermostat(self, target_T, Q=5):\n",
    "        '''\n",
    "        Thermostat\n",
    "        '''\n",
    "        kinetic_energy = self.get_kinetic_energy() / self.n\n",
    "        target_kinetic_energy = Boltzmann * target_T / elementary_charge\n",
    "        return -(kinetic_energy - target_kinetic_energy) / Q * self.vel\n",
    "\n",
    "    def advance(self, dt, target_T=None):\n",
    "        '''\n",
    "        Advance the simulation by dt femtosecond.\n",
    "        '''\n",
    "        self.t += dt\n",
    "        # Update the particles' positions and velocities using Velocity-Verlet algorithm\n",
    "        a_0 = self.force / self.m\n",
    "        if target_T is not None:\n",
    "            a_0 += self.thermostat(target_T)\n",
    "        self.pos += self.vel * dt + 0.5 * a_0 * dt**2\n",
    "        self.force = self.update_force(self.pos)\n",
    "        a_1 = self.force / self.m\n",
    "        self.vel += 0.5 * (a_0 + a_1) * dt\n",
    "        if self.pbc is True:\n",
    "            self.pos = self.pos % self.box_size\n",
    "        else:\n",
    "            # Bounce the particles off the walls by reflecting their velocity vectors\n",
    "            hit_left_wall = self.pos[:, 0] < 0\n",
    "            hit_right_wall = self.pos[:, 0] > self.box_size[0]\n",
    "            hit_bottom_wall = self.pos[:, 1] < 0\n",
    "            hit_top_wall = self.pos[:, 1] > self.box_size[1]\n",
    "            self.vel[hit_left_wall | hit_right_wall, 0] *= -1\n",
    "            self.vel[hit_bottom_wall | hit_top_wall, 1] *= -1"
   ]
  },
  {
   "cell_type": "markdown",
   "id": "4d675742-e5f4-4de1-86f9-47c16781f194",
   "metadata": {},
   "source": [
    "我们直接使用前面示例中的粒子位置和速度。"
   ]
  },
  {
   "cell_type": "code",
   "execution_count": 86,
   "id": "40dec3d1-d969-4912-922f-fa0e81a677fb",
   "metadata": {},
   "outputs": [
    {
     "name": "stdout",
     "output_type": "stream",
     "text": [
      "The instaneous temperature is 24.396 K\n"
     ]
    }
   ],
   "source": [
    "sim_NVT = MD_NVT(sim.pos, sim.vel, sim.box_size)\n",
    "\n",
    "print('The instaneous temperature is %.3f K' %(sim_NVT.get_temperature()))"
   ]
  },
  {
   "cell_type": "code",
   "execution_count": 87,
   "id": "1bc82533-3304-4aa8-a81a-4e6e0510114f",
   "metadata": {},
   "outputs": [
    {
     "data": {
      "application/vnd.jupyter.widget-view+json": {
       "model_id": "e2feb916e2e64847ba1bc4d416630c12",
       "version_major": 2,
       "version_minor": 0
      },
      "text/html": [
       "\n",
       "            <div style=\"display: inline-block;\">\n",
       "                <div class=\"jupyter-widgets widget-label\" style=\"text-align: center;\">\n",
       "                    Figure\n",
       "                </div>\n",
       "                <img src='data:image/png;base64,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' width=576.0/>\n",
       "            </div>\n",
       "        "
      ],
      "text/plain": [
       "Canvas(toolbar=Toolbar(toolitems=[('Home', 'Reset original view', 'home', 'home'), ('Back', 'Back to previous …"
      ]
     },
     "metadata": {},
     "output_type": "display_data"
    }
   ],
   "source": [
    "%matplotlib widget\n",
    "from matplotlib import pyplot as plt\n",
    "from matplotlib.animation import FuncAnimation\n",
    "\n",
    "fig = plt.figure(figsize=(8, 8))\n",
    "ax = fig.add_subplot(111, aspect='equal', autoscale_on=False)\n",
    "ax.set_xlim(0, sim_NVT.box_size[0])\n",
    "ax.set_ylim(0, sim_NVT.box_size[1])\n",
    "ax.set_xticks([])\n",
    "ax.set_yticks([])\n",
    "\n",
    "vel_norm = np.linalg.norm(sim_NVT.vel, axis=1)\n",
    "colors = [plt.cm.rainbow(p) for p in vel_norm/vel_norm.max()]\n",
    "particles = ax.scatter(sim_NVT.pos[:,0], sim_NVT.pos[:,1], c=colors, s=100)\n",
    "label = ax.text(0.05 * sim_NVT.box_size[0], 0.05 * sim_NVT.box_size[1], '$time$ = {:.2f} ps and $temperature$ = {:.1f} K'.format(0, 0), size=12)\n",
    "\n",
    "target_T = 300\n",
    "dt = 10\n",
    "def animate_NVT(i):\n",
    "    for nsteps in range(50):  # plot every 0.5 ps\n",
    "        sim_NVT.advance(dt, target_T)\n",
    "    particles.set_offsets(sim_NVT.pos)\n",
    "    vel_norm = np.linalg.norm(sim_NVT.vel, axis=1)\n",
    "    colors = [plt.cm.rainbow(p) for p in vel_norm/vel_norm.max()]\n",
    "    particles.set_color(colors)\n",
    "    label.set_text('$time$ = {:.1f} ps and $temperature$ = {:.1f} K'.format(sim_NVT.t/1000, sim_NVT.get_temperature()))\n",
    "    return particles, label\n",
    "\n",
    "anim_NVT = FuncAnimation(fig, animate_NVT, frames=200, interval=100, repeat=False, blit=False)\n",
    "\n",
    "#anim.save('Ar_gas_NVT.gif', writer='imagemagick', fps=10)"
   ]
  },
  {
   "cell_type": "code",
   "execution_count": null,
   "id": "0e7bd218-e744-41f2-b3af-478975ccb566",
   "metadata": {},
   "outputs": [],
   "source": []
  }
 ],
 "metadata": {
  "kernelspec": {
   "display_name": "Python 3 (ipykernel)",
   "language": "python",
   "name": "python3"
  },
  "language_info": {
   "codemirror_mode": {
    "name": "ipython",
    "version": 3
   },
   "file_extension": ".py",
   "mimetype": "text/x-python",
   "name": "python",
   "nbconvert_exporter": "python",
   "pygments_lexer": "ipython3",
   "version": "3.9.7"
  }
 },
 "nbformat": 4,
 "nbformat_minor": 5
}
