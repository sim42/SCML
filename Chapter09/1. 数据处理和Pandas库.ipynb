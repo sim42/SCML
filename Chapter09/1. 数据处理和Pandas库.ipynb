{
 "cells": [
  {
   "cell_type": "markdown",
   "id": "0e7ec724-c5dc-4efc-9a7e-0dd2de898841",
   "metadata": {},
   "source": [
    "# 数据处理和Pandas库\n",
    "---"
   ]
  },
  {
   "cell_type": "code",
   "execution_count": null,
   "id": "0e5f5cce-b9e5-4e98-8505-1e9d0d6c9db9",
   "metadata": {},
   "outputs": [],
   "source": []
  }
 ],
 "metadata": {
  "kernelspec": {
   "display_name": "Python 3 (ipykernel)",
   "language": "python",
   "name": "python3"
  },
  "language_info": {
   "codemirror_mode": {
    "name": "ipython",
    "version": 3
   },
   "file_extension": ".py",
   "mimetype": "text/x-python",
   "name": "python",
   "nbconvert_exporter": "python",
   "pygments_lexer": "ipython3",
   "version": "3.9.7"
  }
 },
 "nbformat": 4,
 "nbformat_minor": 5
}
