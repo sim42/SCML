{
 "cells": [
  {
   "cell_type": "markdown",
   "id": "f78fe1f6-5a1a-4684-8d1b-eb0e226c7d24",
   "metadata": {},
   "source": [
    "# 基于神经网络的手写数字识别\n",
    "---"
   ]
  },
  {
   "cell_type": "markdown",
   "id": "fc77935c-cb1b-4aca-80e7-2ce8f0bf9a21",
   "metadata": {
    "tags": []
   },
   "source": [
    "## MNIST数据库\n",
    "---\n",
    "\n",
    "<img src=\"https://upload.wikimedia.org/wikipedia/commons/2/27/MnistExamples.png\" style=\"width: 40%;\"/>\n",
    "\n",
    "MNIST（Modified National Institute of Standards and Technology）是一个大型的手写数字数据库。该数据库还广泛用于机器学习领域的训练和测试。MNIST 数据库包含 60,000 张训练图像和 10,000 张测试图像，均为28像素乘28像素的灰度图。"
   ]
  },
  {
   "cell_type": "markdown",
   "id": "b4a26cb3-dd5a-44b4-a4c1-6320863dd917",
   "metadata": {},
   "source": [
    "安装tensorflow后，可以通过`keras.datasets`子模块载入MNIST数据库"
   ]
  },
  {
   "cell_type": "code",
   "execution_count": 3,
   "id": "07b59f9d-4071-4f72-bafa-89bb719d1b92",
   "metadata": {},
   "outputs": [],
   "source": [
    "from tensorflow.keras.datasets import mnist\n",
    "\n",
    "(X_train, y_train), (X_test, y_test) = mnist.load_data()"
   ]
  },
  {
   "cell_type": "markdown",
   "id": "327a261d-b977-42b5-aa73-57521b87330a",
   "metadata": {},
   "source": [
    "也可以使用Numpy直接读取存放在本地的mnist.npz文件。"
   ]
  },
  {
   "cell_type": "code",
   "execution_count": 5,
   "id": "ebd4ea22-9f25-49f1-a03d-8fea9e8ab0f8",
   "metadata": {},
   "outputs": [],
   "source": [
    "import numpy as np\n",
    "\n",
    "f = np.load('mnist.npz')\n",
    "X_train, y_train = f['x_train'], f['y_train']\n",
    "X_test, y_test = f['x_test'], f['y_test'] \n",
    "f.close()"
   ]
  },
  {
   "cell_type": "markdown",
   "id": "459871a3-ce19-4426-a025-1ab6839d5b83",
   "metadata": {},
   "source": [
    "样本为长度为764的Numpy Array，可以将其转换为二维数组进行可视化。"
   ]
  },
  {
   "cell_type": "code",
   "execution_count": 7,
   "id": "63863c29-9279-42b8-8f05-f12215729b7b",
   "metadata": {},
   "outputs": [
    {
     "data": {
      "text/plain": [
       "<matplotlib.image.AxesImage at 0x7f117991c640>"
      ]
     },
     "execution_count": 7,
     "metadata": {},
     "output_type": "execute_result"
    },
    {
     "data": {
      "image/png": "[encoded data removed]",
      "text/plain": [
       "<Figure size 432x288 with 1 Axes>"
      ]
     },
     "metadata": {
      "needs_background": "light"
     },
     "output_type": "display_data"
    }
   ],
   "source": [
    "import matplotlib.pyplot as plt\n",
    "\n",
    "plt.imshow(X_test[0].reshape(28,28), cmap='gray')"
   ]
  },
  {
   "cell_type": "markdown",
   "id": "e11ace59-df1f-44c4-916f-0102b9f6adbd",
   "metadata": {},
   "source": [
    "### 基于机器学习的手写数字识别\n",
    "---\n",
    "\n",
    "手写字识别是一个数据分类问题。MNIST数据集提供的训练样本已经进行了人工标记，我们可以选择一种分类器进行监督学习，例如scikl-learn库中提供的线性分类器、支持向量机、K-最近邻、决策树、随机森林等，可以得到不错的模型准确率（>98%）。\n",
    "\n",
    "神经网络作为一种更为强大的工具，可以实现更高的分类准确率。"
   ]
  },
  {
   "cell_type": "markdown",
   "id": "7ac98588-1c05-42fb-bb56-fa70cd14dcb6",
   "metadata": {},
   "source": [
    "## 作业\n",
    "---\n",
    "\n",
    "我们提供了多层感知机（MLP）和卷积神经网络（CNN）的示例Python代码。基于这些示例代码，搭建一个自选结构的神经网络，并使用MNIST数据集训练一个手写数字识别模型。\n",
    "\n",
    "**要求**\n",
    "1. 模型准确率要求大于98.5%。考试成绩取决于准确率的数值。\n",
    "2. 不允许使用Tensorflow、PyTorch等高级机器学习库，只可以使用Numpy等底层库手动实现特定算法。\n",
    "3. 当前实例中将训练后的神经网络实例保存为.pkl文件，该文件要求和存有程序代码的.py文件"
   ]
  },
  {
   "cell_type": "code",
   "execution_count": null,
   "id": "1cc77b11-09f6-40ab-9efa-382ffba278bf",
   "metadata": {},
   "outputs": [],
   "source": []
  }
 ],
 "metadata": {
  "kernelspec": {
   "display_name": "Python 3 (ipykernel)",
   "language": "python",
   "name": "python3"
  },
  "language_info": {
   "codemirror_mode": {
    "name": "ipython",
    "version": 3
   },
   "file_extension": ".py",
   "mimetype": "text/x-python",
   "name": "python",
   "nbconvert_exporter": "python",
   "pygments_lexer": "ipython3",
   "version": "3.9.7"
  }
 },
 "nbformat": 4,
 "nbformat_minor": 5
}
